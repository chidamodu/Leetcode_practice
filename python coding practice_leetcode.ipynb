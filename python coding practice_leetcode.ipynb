{
 "cells": [
  {
   "cell_type": "code",
   "execution_count": null,
   "metadata": {},
   "outputs": [],
   "source": [
    "# Length of Last Word"
   ]
  },
  {
   "cell_type": "code",
   "execution_count": 210,
   "metadata": {},
   "outputs": [],
   "source": [
    "#note: split splits a string into list elements. Can specify a separator but the default one is a whitespace\n",
    "def lengthOfLastWord(s):\n",
    "    split=s.split()\n",
    "    print(split)\n",
    "    if len(split)>0:\n",
    "        return len(split[-1])\n",
    "    else:\n",
    "        return 0\n",
    "        \n",
    "\n",
    "Runtime: 28 ms, faster than 59.86% of Python3 online submissions for Length of Last Word.\n",
    "Memory Usage: 12.9 MB, less than 100.00% of Python3 online submissions for Length of Last Word.\n",
    "        "
   ]
  },
  {
   "cell_type": "code",
   "execution_count": 280,
   "metadata": {},
   "outputs": [],
   "source": [
    "def reverseWords(s):\n",
    "    res=s.split()\n",
    "    answer=''\n",
    "    print(res)\n",
    "   \n",
    "    for i in res:\n",
    "        answer+=i[::-1]+' '\n",
    "        \n",
    "        \n",
    "        \n",
    "    return answer.rstrip()\n",
    "    \n",
    "\n",
    "# Yay! My code yo!\n",
    "# Runtime: 28 ms, faster than 86.80% of Python3 online submissions for Reverse Words in a String III.\n",
    "# Memory Usage: 13.3 MB, less than 96.15% of Python3 online submissions for Reverse Words in a String III.\n"
   ]
  },
  {
   "cell_type": "code",
   "execution_count": 281,
   "metadata": {},
   "outputs": [
    {
     "name": "stdout",
     "output_type": "stream",
     "text": [
      "[\"Let's\", 'take', 'LeetCode', 'contest']\n"
     ]
    },
    {
     "data": {
      "text/plain": [
       "\"s'teL ekat edoCteeL tsetnoc\""
      ]
     },
     "execution_count": 281,
     "metadata": {},
     "output_type": "execute_result"
    }
   ],
   "source": [
    "reverseWords(\"Let's take LeetCode contest\")"
   ]
  },
  {
   "cell_type": "code",
   "execution_count": 360,
   "metadata": {},
   "outputs": [
    {
     "data": {
      "text/plain": [
       "1"
      ]
     },
     "execution_count": 360,
     "metadata": {},
     "output_type": "execute_result"
    }
   ],
   "source": [
    "10**0"
   ]
  },
  {
   "cell_type": "code",
   "execution_count": 358,
   "metadata": {},
   "outputs": [],
   "source": [
    "def plusOne(digits):\n",
    "    n=1\n",
    "    N=len(digits)\n",
    "    res=0\n",
    "    ans=''\n",
    "    for i in range(N-1, -1, -1):\n",
    "        if i==N-1:\n",
    "            res+=digits[i]+1\n",
    "        else:\n",
    "            res+=(10**(len(digits[i:])-1))*digits[i]\n",
    "\n",
    "        \n",
    "    return [','.join(i) for i in str(res)]\n",
    "        \n",
    "Runtime: 36 ms, faster than 7.39% of Python3 online submissions for Plus One.\n",
    "Memory Usage: 12.9 MB, less than 98.72% of Python3 online submissions for Plus One.   "
   ]
  },
  {
   "cell_type": "code",
   "execution_count": 359,
   "metadata": {},
   "outputs": [
    {
     "data": {
      "text/plain": [
       "['1', '2', '4']"
      ]
     },
     "execution_count": 359,
     "metadata": {},
     "output_type": "execute_result"
    }
   ],
   "source": [
    "plusOne([1,2,3])"
   ]
  },
  {
   "cell_type": "code",
   "execution_count": 367,
   "metadata": {},
   "outputs": [],
   "source": [
    "Yay my code rocks. I simplified the solution from the cell aboveto this one here.\n",
    "def plusOne(digits):\n",
    "    N=len(digits)\n",
    "    res=1\n",
    "    c=0\n",
    "    for i in range(N-1, -1, -1):\n",
    "        res+=(10**(c)*digits[i])\n",
    "        c+=1\n",
    "        \n",
    "    return [','.join(i) for i in str(res)]\n",
    "\n",
    "\n",
    "Runtime: 36 ms, faster than 7.39% of Python3 online submissions for Plus One.\n",
    "Memory Usage: 12.9 MB, less than 100.00% of Python3 online submissions for Plus One."
   ]
  },
  {
   "cell_type": "code",
   "execution_count": 368,
   "metadata": {},
   "outputs": [
    {
     "data": {
      "text/plain": [
       "'4322'"
      ]
     },
     "execution_count": 368,
     "metadata": {},
     "output_type": "execute_result"
    }
   ],
   "source": [
    "plusOne([4,3,2,1])"
   ]
  },
  {
   "cell_type": "code",
   "execution_count": null,
   "metadata": {},
   "outputs": [],
   "source": [
    "I also got the score improved!\n",
    "class Solution:\n",
    "    def plusOne(self, digits: List[int]) -> List[int]:\n",
    "        N=len(digits)\n",
    "        res=1\n",
    "        c=0\n",
    "        for i in range(N-1, -1, -1):\n",
    "            res+=(10**(c)*digits[i])\n",
    "            c+=1\n",
    "        \n",
    "        return str(res)\n",
    "    \n",
    "    \n",
    "Runtime: 32 ms, faster than 47.38% of Python3 online submissions for Plus One.\n",
    "Memory Usage: 12.9 MB, less than 100.00% of Python3 online submissions for Plus One.\n"
   ]
  },
  {
   "cell_type": "code",
   "execution_count": 427,
   "metadata": {},
   "outputs": [],
   "source": [
    "\n",
    "#Python automatically sorts lists of lists by the first element. \n",
    "\n",
    "\n",
    "def merge(intervals):\n",
    "    intervals=sorted(intervals)\n",
    "    ind=1\n",
    "    while ind<len(intervals):\n",
    "        if intervals[ind][0]<=intervals[ind-1][1]:\n",
    "            intervals[ind-1][1]=max(intervals[ind][1], intervals[ind-1][1])\n",
    "            intervals.pop(ind)\n",
    "            \n",
    "        else:\n",
    "            ind+=1\n",
    "            \n",
    "    return intervals\n",
    "        \n",
    "        \n",
    "Runtime: 100 ms, faster than 16.18% of Python3 online submissions for Merge Intervals.\n",
    "Memory Usage: 15.7 MB, less than 6.52% of Python3 online submissions for Merge Intervals.\n",
    "           \n",
    "            "
   ]
  },
  {
   "cell_type": "code",
   "execution_count": 428,
   "metadata": {},
   "outputs": [
    {
     "data": {
      "text/plain": [
       "[[1, 6], [8, 10], [15, 18]]"
      ]
     },
     "execution_count": 428,
     "metadata": {},
     "output_type": "execute_result"
    }
   ],
   "source": [
    "merge([[1,3],[2,6],[8,10],[15,18]])"
   ]
  },
  {
   "cell_type": "code",
   "execution_count": 441,
   "metadata": {},
   "outputs": [],
   "source": [
    "#Spiral Matrix\n",
    "\n",
    "def spiralOrder(matrix):\n",
    "    print(len(matrix))\n",
    "    \n",
    "#     shortest=matrix[0][0]+matrix[1][1]+matrix[2][2]\n",
    "#     print(shortest)"
   ]
  },
  {
   "cell_type": "code",
   "execution_count": 442,
   "metadata": {},
   "outputs": [
    {
     "name": "stdout",
     "output_type": "stream",
     "text": [
      "3\n"
     ]
    }
   ],
   "source": [
    "spiralOrder([\n",
    "  [1,3,1],\n",
    "  [1,5,1],\n",
    "  [4,2,1]\n",
    "])"
   ]
  },
  {
   "cell_type": "code",
   "execution_count": 443,
   "metadata": {},
   "outputs": [
    {
     "data": {
      "text/plain": [
       "'0b1'"
      ]
     },
     "execution_count": 443,
     "metadata": {},
     "output_type": "execute_result"
    }
   ],
   "source": [
    "bin(1)"
   ]
  },
  {
   "cell_type": "code",
   "execution_count": 444,
   "metadata": {},
   "outputs": [
    {
     "data": {
      "text/plain": [
       "'0b1011'"
      ]
     },
     "execution_count": 444,
     "metadata": {},
     "output_type": "execute_result"
    }
   ],
   "source": [
    "bin(11)"
   ]
  },
  {
   "cell_type": "code",
   "execution_count": 445,
   "metadata": {},
   "outputs": [
    {
     "data": {
      "text/plain": [
       "'0b1111110100'"
      ]
     },
     "execution_count": 445,
     "metadata": {},
     "output_type": "execute_result"
    }
   ],
   "source": [
    "bin(1012)"
   ]
  },
  {
   "cell_type": "code",
   "execution_count": 446,
   "metadata": {},
   "outputs": [
    {
     "data": {
      "text/plain": [
       "3"
      ]
     },
     "execution_count": 446,
     "metadata": {},
     "output_type": "execute_result"
    }
   ],
   "source": [
    "int('11', 2)"
   ]
  },
  {
   "cell_type": "code",
   "execution_count": 447,
   "metadata": {},
   "outputs": [
    {
     "data": {
      "text/plain": [
       "1"
      ]
     },
     "execution_count": 447,
     "metadata": {},
     "output_type": "execute_result"
    }
   ],
   "source": [
    "int('1', 2)"
   ]
  },
  {
   "cell_type": "code",
   "execution_count": 450,
   "metadata": {},
   "outputs": [
    {
     "data": {
      "text/plain": [
       "'100'"
      ]
     },
     "execution_count": 450,
     "metadata": {},
     "output_type": "execute_result"
    }
   ],
   "source": [
    "bin(4)[2:]"
   ]
  },
  {
   "cell_type": "code",
   "execution_count": 451,
   "metadata": {},
   "outputs": [],
   "source": [
    "# Add Binary\n",
    "\n",
    "\n",
    "def addBinary(a, b):\n",
    "    return bin(int(a,2) + int(b,2))[2:]\n",
    "       \n",
    "    \n",
    "Runtime: 32 ms, faster than 60.69% of Python3 online submissions for Add Binary.\n",
    "Memory Usage: 12.9 MB, less than 100.00% of Python3 online submissions for Add Binary.\n"
   ]
  },
  {
   "cell_type": "code",
   "execution_count": 452,
   "metadata": {},
   "outputs": [
    {
     "data": {
      "text/plain": [
       "'10101'"
      ]
     },
     "execution_count": 452,
     "metadata": {},
     "output_type": "execute_result"
    }
   ],
   "source": [
    "addBinary(\"1010\", \"1011\")"
   ]
  },
  {
   "cell_type": "code",
   "execution_count": 453,
   "metadata": {},
   "outputs": [
    {
     "data": {
      "text/plain": [
       "6"
      ]
     },
     "execution_count": 453,
     "metadata": {},
     "output_type": "execute_result"
    }
   ],
   "source": [
    "min(6,6)"
   ]
  },
  {
   "cell_type": "code",
   "execution_count": null,
   "metadata": {},
   "outputs": [],
   "source": [
    "Minimum Path Sum\n",
    "\n",
    "class Solution:\n",
    "    def minPathSum(self, grid: List[List[int]]) -> int:\n",
    "        for c in range(1, len(grid[0])):\n",
    "            grid[0][c] += grid[0][c - 1]\n",
    "        \n",
    "        for r in range(1, len(grid)):\n",
    "            grid[r][0] += grid[r - 1][0]\n",
    "            for c in range(1, len(grid[0])):\n",
    "                grid[r][c] += min(grid[r][c - 1], grid[r - 1][c])\n",
    "                \n",
    "        return grid[-1][-1]\n",
    "\n",
    "\n",
    "\n",
    "\n",
    "\n",
    "\n",
    "Runtime: 104 ms, faster than 55.48% of Python3 online submissions for Minimum Path Sum.\n",
    "Memory Usage: 15.3 MB, less than 22.81% of Python3 online submissions for Minimum Path Sum.\n",
    "    \n",
    "    \n",
    "    \n",
    "Problem description:\n",
    "    \n",
    "Given a m x n grid filled with non-negative numbers, find a path from top left to bottom right which minimizes the sum of all numbers along its path.\n",
    "\n",
    "Note: You can only move either down or right at any point in time.\n",
    "\n",
    "Example:\n",
    "\n",
    "Input:\n",
    "[\n",
    "  [1,3,1],\n",
    "  [1,5,1],\n",
    "  [4,2,1]\n",
    "]\n",
    "Output: 7\n",
    "Explanation: Because the path 1→3→1→1→1 minimizes the sum.\n"
   ]
  }
 ],
 "metadata": {
  "kernelspec": {
   "display_name": "Python 3",
   "language": "python",
   "name": "python3"
  },
  "language_info": {
   "codemirror_mode": {
    "name": "ipython",
    "version": 3
   },
   "file_extension": ".py",
   "mimetype": "text/x-python",
   "name": "python",
   "nbconvert_exporter": "python",
   "pygments_lexer": "ipython3",
   "version": "3.7.4"
  }
 },
 "nbformat": 4,
 "nbformat_minor": 2
}
