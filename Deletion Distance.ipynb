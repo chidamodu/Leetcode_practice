{
 "cells": [
  {
   "cell_type": "code",
   "execution_count": 3,
   "metadata": {},
   "outputs": [],
   "source": [
    "def longest_substring(s1, s2):\n",
    "    dp = [[0 for x in range(len(s2)+1)] for y in range(len(s1)+1)]\n",
    "    print(dp)"
   ]
  },
  {
   "cell_type": "code",
   "execution_count": 4,
   "metadata": {},
   "outputs": [
    {
     "name": "stdout",
     "output_type": "stream",
     "text": [
      "[[0, 0, 0, 0], [0, 0, 0, 0], [0, 0, 0, 0], [0, 0, 0, 0], [0, 0, 0, 0], [0, 0, 0, 0]]\n"
     ]
    }
   ],
   "source": [
    "longest_substring(\"abcde\", \"abc\")"
   ]
  },
  {
   "cell_type": "code",
   "execution_count": null,
   "metadata": {},
   "outputs": [],
   "source": [
    "the following is what the interviewer provided as rules to solve the Deletion Distance\n",
    "\n",
    "'''\n",
    "dgo frog\n",
    "\n",
    "\"ball\" \"all\"\n",
    "\n",
    "bal ; all\n",
    "\n",
    "bl    ; l  \n",
    "'''\n",
    "\n",
    "'bal' '' 3\n",
    "'ba' 'a' 1\n",
    "''''\n",
    "'' '' b a l l\n",
    "'' 0  1 2 3 4\n",
    "a  1  \n",
    "l  2\n",
    "l  3        1\n",
    "\n",
    "''''''\n",
    "RULES\n",
    "\n",
    "strings a and b\n",
    "if a[i] == b[j]:\n",
    "  matrix[i][j] = matrix[i - 1][j - 1]\n",
    "  >> if the chars are the same, use the prev computed value from if the chars were not in the string\n",
    "else:\n",
    "  matrix[i][j] = min(matrix[i - 1][j], matrix[i][j - 1]) + 1\n",
    "  >> else, use the min of these two computed values\n",
    "   >> the string a without the current a[i] compared with the whole b upto [j] this point\n",
    "    >> the string b without the current b[j] compared with the whole a upto [i]\n",
    "'''\n",
    "\n",
    "\n",
    "  \n",
    "    \n",
    "    \n",
    "\n",
    "  \n",
    "\n"
   ]
  },
  {
   "cell_type": "code",
   "execution_count": 5,
   "metadata": {},
   "outputs": [],
   "source": [
    "def deletion_distance(str1, str2):\n",
    "    dp = [[0 for x in range(len(str2)+1)] for y in range(len(str1)+1)]\n",
    "    for i in range(len(str1)):\n",
    "        for j in range(len(str2)):\n",
    "            if str1[i] == str2[j]:\n",
    "                dp[i+1][j+1] = dp[i][j] + 1\n",
    "            else:\n",
    "                dp[i+1][j+1] = max(dp[i][j+1], dp[i+1][j])\n",
    "    return (len(str1)-dp[-1][-1]) + (len(str2)-dp[-1][-1])\n",
    "  \n",
    "\n"
   ]
  },
  {
   "cell_type": "code",
   "execution_count": null,
   "metadata": {},
   "outputs": [],
   "source": [
    "Test Case #1\n",
    "Input:\n",
    " \n",
    "\"\", \"\"\n",
    "Expected:\n",
    " \n",
    "0\n",
    "Actual:\n",
    " \n",
    "0\n",
    "Test Case #2\n",
    "Input: \"\", \"hit\",Expected: 3,Actual: 3\n",
    "\n",
    "Test Case #3\n",
    "Input: \"neat\", \"\",Expected: 4,Actual: 4\n",
    "Test Case #4\n",
    "Input: \"heat\", \"hit\",Expected: 3,Actual: 3\n",
    "Test Case #5\n",
    "Input: \"hot\", \"not\",Expected: 2,Actual: 2\n",
    "Test Case #6\n",
    "Input: \"some\", \"thing\",Expected: 9,Actual: 9\n",
    "Test Case #7\n",
    "Input: \"abc\", \"adbc\",Expected: 1,Actual: 1\n",
    "Test Case #8\n",
    "Input: \"awesome\", \"awesome\",Expected: 0,Actual: 0\n",
    "Test Case #9\n",
    "Input: \"ab\", \"ba\",Expected: 2,Actual: 2\n",
    "RUN CODE\n",
    "RUN TESTS"
   ]
  }
 ],
 "metadata": {
  "kernelspec": {
   "display_name": "Python 3",
   "language": "python",
   "name": "python3"
  },
  "language_info": {
   "codemirror_mode": {
    "name": "ipython",
    "version": 3
   },
   "file_extension": ".py",
   "mimetype": "text/x-python",
   "name": "python",
   "nbconvert_exporter": "python",
   "pygments_lexer": "ipython3",
   "version": "3.7.4"
  }
 },
 "nbformat": 4,
 "nbformat_minor": 2
}
