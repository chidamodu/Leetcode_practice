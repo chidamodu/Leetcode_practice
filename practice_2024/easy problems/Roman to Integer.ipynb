{
 "cells": [
  {
   "cell_type": "code",
   "execution_count": 49,
   "id": "98665e72-d3bd-42de-831c-677ac4b93214",
   "metadata": {},
   "outputs": [],
   "source": [
    "\n",
    "import re\n"
   ]
  },
  {
   "cell_type": "markdown",
   "id": "488abd12-8ec4-487a-a496-5aa30f485c63",
   "metadata": {},
   "source": [
    "\n",
    "## This solution has worked, but can we do better, especially with runtime\n",
    "Runtime 72 ms\n",
    "Beats 8.89% of users with Python3\n",
    "\n",
    "Memory 16.52 MB\n",
    "Beats 64.76% of users with Python3\n"
   ]
  },
  {
   "cell_type": "code",
   "execution_count": 160,
   "id": "48b37855-7b30-4d83-a4e7-9c6e749e8d17",
   "metadata": {},
   "outputs": [],
   "source": [
    "\n",
    "def romanToInt(s):\n",
    "    d = {\"IV\":4, \"IX\":9, \"XL\":40, \"XC\":90, \"CD\":400, \"CM\":900, \"I\":1, \"V\":5, \"X\":10, \"L\":50, \"C\":100, \"D\":500, \"M\":1000}\n",
    "    double_split = 2\n",
    "    single_split = 1\n",
    "    ignore_val = []\n",
    "    total_sum = 0\n",
    "    results = [s]\n",
    "    temp = ''\n",
    "    \n",
    "    for i in range(len(s)):\n",
    "        double_char = s[i:i+double_split]\n",
    "        if ((len(double_char) == 2) and (double_char in d)):\n",
    "            ignore_val.append(double_char)\n",
    "            total_sum += d[double_char]\n",
    "\n",
    "    for i in ignore_val:\n",
    "        temp_results = []\n",
    "        for part in results:\n",
    "            split_parts = part.split(i)\n",
    "            temp_results.extend([sp for sp in split_parts if sp])\n",
    "        results = temp_results\n",
    "\n",
    "\n",
    "    if results:\n",
    "        for r in results:\n",
    "            temp += r    \n",
    "        for i in range(len(temp)):\n",
    "            single_ch = temp[i:i+single_split]\n",
    "            print(single_ch)\n",
    "            if single_ch in d:\n",
    "                total_sum += d[single_ch]\n",
    "          \n",
    "    return total_sum\n",
    "   "
   ]
  },
  {
   "cell_type": "code",
   "execution_count": 161,
   "id": "fd0ae7f2-6eb8-44a8-b068-810acedd2062",
   "metadata": {},
   "outputs": [
    {
     "name": "stdout",
     "output_type": "stream",
     "text": [
      "['III']\n",
      "I\n",
      "I\n",
      "I\n"
     ]
    },
    {
     "data": {
      "text/plain": [
       "3"
      ]
     },
     "execution_count": 161,
     "metadata": {},
     "output_type": "execute_result"
    }
   ],
   "source": [
    "\n",
    "romanToInt(\"III\")\n"
   ]
  },
  {
   "cell_type": "markdown",
   "id": "4dde1e8f-4cce-495c-8eba-894da24d41f2",
   "metadata": {},
   "source": [
    "\n",
    "With the below solution we have achieved a little better runtime:\n",
    "Runtime\n",
    "53 ms\n",
    "Beats 39.37% of users with Python3\n",
    "\n",
    "Memory \n",
    "16.65 MB\n",
    "Beats 56.19% of users with Python3\n"
   ]
  },
  {
   "cell_type": "code",
   "execution_count": 170,
   "id": "78f53f48-71d4-4be0-a1d2-11a3a531c2bc",
   "metadata": {},
   "outputs": [],
   "source": [
    "\n",
    "def romanToInt(s):\n",
    "    d = {\"IV\":4, \"IX\":9, \"XL\":40, \"XC\":90, \"CD\":400, \"CM\":900, \"I\":1, \"V\":5, \"X\":10, \"L\":50, \"C\":100, \"D\":500, \"M\":1000}\n",
    "    double_split = 2\n",
    "    single_split = 1\n",
    "    ignore_val = []\n",
    "    total_sum = 0\n",
    "    results = s\n",
    "    temp = ''\n",
    "    \n",
    "    for i in range(len(s)):\n",
    "        double_char = s[i:i+double_split]\n",
    "        if ((len(double_char) == 2) and (double_char in d)):\n",
    "            ignore_val.append(double_char)\n",
    "            total_sum += d[double_char]\n",
    "\n",
    "    if ignore_val:\n",
    "        for i in ignore_val:\n",
    "            temp_results = []\n",
    "            for part in results:\n",
    "                split_parts = part.split(i)\n",
    "                temp_results.extend([sp for sp in split_parts if sp])\n",
    "            results = temp_results\n",
    "\n",
    "    for r in results:\n",
    "        temp += r    \n",
    "    for i in range(len(temp)):\n",
    "        single_ch = temp[i:i+single_split]\n",
    "        if single_ch in d:\n",
    "            total_sum += d[single_ch]\n",
    "          \n",
    "    return total_sum\n",
    "   \n"
   ]
  },
  {
   "cell_type": "code",
   "execution_count": 171,
   "id": "3350e716-edfc-4630-adb0-6fbbdd8f886f",
   "metadata": {},
   "outputs": [
    {
     "data": {
      "text/plain": [
       "58"
      ]
     },
     "execution_count": 171,
     "metadata": {},
     "output_type": "execute_result"
    }
   ],
   "source": [
    "\n",
    "romanToInt(\"LVIII\")\n"
   ]
  },
  {
   "cell_type": "code",
   "execution_count": null,
   "id": "e5eb9a4e-00a3-439d-a52f-2208fe79c855",
   "metadata": {},
   "outputs": [],
   "source": [
    "\n",
    "The below solution did great with regards to runtime\n",
    "Runtime 35 ms\n",
    "Beats 97.96% of users with Python3\n",
    "\n",
    "Memory\n",
    "16.63 MB\n",
    "Beats 56.19% of users with Python3\n"
   ]
  },
  {
   "cell_type": "code",
   "execution_count": 299,
   "id": "86aba2c0-4d6f-482d-8bf3-91c36ee054cc",
   "metadata": {},
   "outputs": [],
   "source": [
    "\n",
    "def romanToInt(s):\n",
    "    d = {\"IV\": 4, \"IX\": 9, \"XL\": 40, \"XC\": 90, \"CD\": 400, \"CM\": 900, \"I\": 1, \"V\": 5, \n",
    "        \"X\": 10, \"L\": 50, \"C\": 100, \"D\": 500, \"M\": 1000}\n",
    "    total_sum = 0\n",
    "    i = 0\n",
    "\n",
    "    while i < len(s):\n",
    "        # Check if the current and next character form a valid Roman numeral\n",
    "        if i + 1 < len(s) and s[i:i + 2] in d:\n",
    "            total_sum += d[s[i:i + 2]]\n",
    "            i += 2\n",
    "        else:\n",
    "            total_sum += d[s[i]]\n",
    "            i += 1\n",
    "    return total_sum\n"
   ]
  },
  {
   "cell_type": "code",
   "execution_count": 300,
   "id": "41bbca4e-2f53-46e3-a16a-c24e8e9f5e45",
   "metadata": {},
   "outputs": [
    {
     "data": {
      "text/plain": [
       "58"
      ]
     },
     "execution_count": 300,
     "metadata": {},
     "output_type": "execute_result"
    }
   ],
   "source": [
    "\n",
    "romanToInt(\"LVIII\")\n"
   ]
  },
  {
   "cell_type": "code",
   "execution_count": 293,
   "id": "c984f0a9-2464-45fb-85dc-978d08fa76d7",
   "metadata": {},
   "outputs": [],
   "source": [
    "\n",
    "del romanToInt\n"
   ]
  },
  {
   "cell_type": "code",
   "execution_count": 288,
   "id": "0646faa1-5d23-4a52-b2e5-a0debe3521c0",
   "metadata": {},
   "outputs": [],
   "source": [
    "Reverse order - trial - did not work\n",
    "\n",
    "def romanToInt(s):\n",
    "    d = {\"IV\": 4, \"IX\": 9, \"XL\": 40, \"XC\": 90, \"CD\": 400, \"CM\": 900, \"I\": 1, \"V\": 5, \n",
    "        \"X\": 10, \"L\": 50, \"C\": 100, \"D\": 500, \"M\": 1000}\n",
    "    total_sum = 0\n",
    "    \n",
    "    # for i in reversed(s):\n",
    "    #     print(i)\n",
    "    for i in range(len(s), 0, -1):\n",
    "        print(s[i-2:i])\n",
    "        \n",
    "        if s[i-2:i] in d:\n",
    "            \n",
    "            total_sum += d[s[i-2:i]]\n",
    "\n",
    "        else:\n",
    "            print(s[i-1])\n",
    "            total_sum += d[s[i-1]]\n",
    "\n",
    "\n",
    "    return total_sum\n",
    "            \n",
    "            \n",
    "        \n",
    "\n",
    "   "
   ]
  },
  {
   "cell_type": "code",
   "execution_count": 289,
   "id": "68881804-e4fd-4d3b-a54b-c5c042879dc5",
   "metadata": {},
   "outputs": [
    {
     "name": "stdout",
     "output_type": "stream",
     "text": [
      "IV\n",
      "CI\n",
      "I\n",
      "XC\n",
      "MX\n",
      "X\n",
      "CM\n",
      "MC\n",
      "C\n",
      "\n",
      "M\n"
     ]
    },
    {
     "data": {
      "text/plain": [
       "2105"
      ]
     },
     "execution_count": 289,
     "metadata": {},
     "output_type": "execute_result"
    }
   ],
   "source": [
    "\n",
    "romanToInt(\"MCMXCIV\")\n"
   ]
  },
  {
   "cell_type": "markdown",
   "id": "23d0e155-7f13-492a-952b-7278a347e1a0",
   "metadata": {},
   "source": [
    "\n",
    "## Reversed order\n",
    "\n",
    "The reversed order solution did achieve big with re to runtime.\n",
    "\n",
    "Runtime\n",
    "34 ms\n",
    "Beats 98.54% of users with Python3\n",
    "\n",
    "Memory\n",
    "16.63 MB\n",
    "Beats 56.19% of users with Python3\n",
    "\n"
   ]
  },
  {
   "cell_type": "code",
   "execution_count": 301,
   "id": "f4380e9d-03a4-4b0d-b553-d9ce8d1e0c14",
   "metadata": {},
   "outputs": [],
   "source": [
    "\n",
    "def romanToIntReversed(s):\n",
    "    d = {\"I\": 1, \"V\": 5, \"X\": 10, \"L\": 50, \"C\": 100, \"D\": 500, \"M\": 1000}\n",
    "    total_sum = 0\n",
    "    last_value = 0\n",
    "\n",
    "    for i in range(len(s) - 1, -1, -1):\n",
    "        current_value = d[s[i]]\n",
    "        if current_value < last_value:\n",
    "            total_sum -= current_value\n",
    "        else:\n",
    "            total_sum += current_value\n",
    "        last_value = current_value\n",
    "\n",
    "    return total_sum\n",
    "\n"
   ]
  },
  {
   "cell_type": "code",
   "execution_count": 302,
   "id": "f03d49e5-94ea-4638-925d-4cbe30692e39",
   "metadata": {},
   "outputs": [
    {
     "data": {
      "text/plain": [
       "1994"
      ]
     },
     "execution_count": 302,
     "metadata": {},
     "output_type": "execute_result"
    }
   ],
   "source": [
    "\n",
    "romanToIntReversed(\"MCMXCIV\")\n"
   ]
  }
 ],
 "metadata": {
  "kernelspec": {
   "display_name": "Python 3 (ipykernel)",
   "language": "python",
   "name": "python3"
  },
  "language_info": {
   "codemirror_mode": {
    "name": "ipython",
    "version": 3
   },
   "file_extension": ".py",
   "mimetype": "text/x-python",
   "name": "python",
   "nbconvert_exporter": "python",
   "pygments_lexer": "ipython3",
   "version": "3.9.6"
  }
 },
 "nbformat": 4,
 "nbformat_minor": 5
}
