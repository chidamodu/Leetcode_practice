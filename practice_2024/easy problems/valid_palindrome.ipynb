{
 "cells": [
  {
   "cell_type": "markdown",
   "id": "8deedd2f-68d6-43ab-afeb-6e4419fbddef",
   "metadata": {},
   "source": [
    "\n",
    "A phrase is a palindrome if, after converting all uppercase letters into lowercase letters and removing all non-alphanumeric characters, it reads the same forward and backward. Alphanumeric characters include letters and numbers.\n",
    "\n",
    "Given a string s, return true if it is a palindrome, or false otherwise.\n",
    "\n",
    "Example 1:\n",
    "Input: s = \"A man, a plan, a canal: Panama\"\n",
    "Output: true\n",
    "Explanation: \"amanaplanacanalpanama\" is a palindrome.\n",
    "\n",
    "Example 2:\n",
    "Input: s = \"race a car\"\n",
    "Output: false\n",
    "Explanation: \"raceacar\" is not a palindrome.\n",
    "\n",
    "Example 3:\n",
    "Input: s = \" \"\n",
    "Output: true\n",
    "Explanation: s is an empty string \"\" after removing non-alphanumeric characters.\n",
    "Since an empty string reads the same forward and backward, it is a palindrome.\n",
    " \n",
    "Constraints:\n",
    "1 <= s.length <= 2 * 105\n",
    "s consists only of printable ASCII characters.\n"
   ]
  },
  {
   "cell_type": "code",
   "execution_count": 19,
   "id": "6b08f9f3-beef-4150-b7b3-9a76651d5a34",
   "metadata": {},
   "outputs": [],
   "source": [
    "import re\n",
    "def isPalindrome(s):\n",
    "    s = re.sub(r'[^a-zA-Z0-9]', '', s)\n",
    "    s = s.strip()\n",
    "    s = s.lower()\n",
    "    if s[::-1] == s:\n",
    "        return True\n",
    "    return False\n",
    "   \n",
    "Runtime\n",
    "7 ms Beats 81.35%\n",
    "\n",
    "Memory\n",
    "18.74 MB Beats 18.34%\n",
    "    \n",
    "    "
   ]
  },
  {
   "cell_type": "code",
   "execution_count": 20,
   "id": "6a5f757a-ef12-446f-a807-807e11a59229",
   "metadata": {},
   "outputs": [
    {
     "data": {
      "text/plain": [
       "True"
      ]
     },
     "execution_count": 20,
     "metadata": {},
     "output_type": "execute_result"
    }
   ],
   "source": [
    "\n",
    "s = \" \"\n",
    "isPalindrome(s)\n"
   ]
  },
  {
   "cell_type": "code",
   "execution_count": null,
   "id": "7248ab87-9abc-4cb0-b4a3-7ca43814996a",
   "metadata": {},
   "outputs": [],
   "source": []
  }
 ],
 "metadata": {
  "kernelspec": {
   "display_name": "Python 3 (ipykernel)",
   "language": "python",
   "name": "python3"
  },
  "language_info": {
   "codemirror_mode": {
    "name": "ipython",
    "version": 3
   },
   "file_extension": ".py",
   "mimetype": "text/x-python",
   "name": "python",
   "nbconvert_exporter": "python",
   "pygments_lexer": "ipython3",
   "version": "3.9.6"
  }
 },
 "nbformat": 4,
 "nbformat_minor": 5
}
