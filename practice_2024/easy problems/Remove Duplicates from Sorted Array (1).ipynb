{
 "cells": [
  {
   "cell_type": "code",
   "execution_count": 8,
   "id": "dde2cddd-0d77-4a37-a1ac-31c6e67649b9",
   "metadata": {},
   "outputs": [],
   "source": [
    "\n",
    "import gc\n"
   ]
  },
  {
   "cell_type": "code",
   "execution_count": 38,
   "id": "f03a40fd-d651-48dc-b6ea-c4535b7f0ee8",
   "metadata": {},
   "outputs": [
    {
     "data": {
      "text/plain": [
       "2360"
      ]
     },
     "execution_count": 38,
     "metadata": {},
     "output_type": "execute_result"
    }
   ],
   "source": [
    "\n",
    "del removeDuplicates\n",
    "gc.collect()\n"
   ]
  },
  {
   "cell_type": "code",
   "execution_count": 44,
   "id": "a90eb8f7-629c-4bad-86ba-e8de375ed512",
   "metadata": {},
   "outputs": [],
   "source": [
    "# I do not understand this solution. Did not understand the problem explanation well either.\n",
    "\n",
    "This solution here is for me to understand what happens to nums but the actual solution only returns the number of unique values in the nums.\n",
    "Check the solution below the Logic below\n",
    "\n",
    "def removeDuplicates(nums):\n",
    "    j = 1\n",
    "    for i in range(1, len(nums)):\n",
    "        if nums[i] != nums[i - 1]:\n",
    "            nums[j] = nums[i]\n",
    "            j += 1\n",
    "    return j, nums\n"
   ]
  },
  {
   "cell_type": "code",
   "execution_count": 45,
   "id": "597e907e-32c9-458e-9f1e-05e0da3abadd",
   "metadata": {},
   "outputs": [
    {
     "data": {
      "text/plain": [
       "(5, [0, 1, 2, 3, 4, 2, 2, 3, 3, 4])"
      ]
     },
     "execution_count": 45,
     "metadata": {},
     "output_type": "execute_result"
    }
   ],
   "source": [
    "\n",
    "removeDuplicates([0,0,1,1,1,2,2,3,3,4])\n"
   ]
  },
  {
   "cell_type": "markdown",
   "id": "0d54a7ba-a769-46cf-b564-2b90f71386bc",
   "metadata": {},
   "source": [
    "Logic for the above solution that I did not understand\n",
    "\n",
    "1. detect next unique value \n",
    "2. move it to the end of deduplicated array\n",
    "3. update the size of deduplicated array\n"
   ]
  },
  {
   "cell_type": "code",
   "execution_count": null,
   "id": "e2b87834-7900-433e-b102-22e44960f73b",
   "metadata": {},
   "outputs": [],
   "source": [
    "O(N) runtime and O(1) space\n",
    "\n",
    "class Solution:\n",
    "    def removeDuplicates(self, nums: List[int], k = 1) -> int:\n",
    "        for i in range(1,len(nums)):\n",
    "            if nums[i] != nums[i-1]:            # detect next unique value \n",
    "                nums[k] = nums[i]               # move it to the end of deduplicated array\n",
    "                k += 1                          # update the size of deduplicated array\n",
    "        return k\n"
   ]
  },
  {
   "cell_type": "code",
   "execution_count": 42,
   "id": "ba1ff957-aba9-4dd2-823d-b6b3e53c220f",
   "metadata": {},
   "outputs": [],
   "source": [
    "\n",
    "def removeDuplicates(nums):\n",
    "    for i in reversed(range(1,len(nums))):\n",
    "        if nums[i] == nums[i-1]:\n",
    "            nums.pop(i)\n",
    "    return nums, len(nums)\n",
    "\n"
   ]
  },
  {
   "cell_type": "code",
   "execution_count": 43,
   "id": "945cbea8-a756-4501-937f-9116245a2bbb",
   "metadata": {},
   "outputs": [
    {
     "data": {
      "text/plain": [
       "([0, 1, 2, 3, 4], 5)"
      ]
     },
     "execution_count": 43,
     "metadata": {},
     "output_type": "execute_result"
    }
   ],
   "source": [
    "\n",
    "removeDuplicates([0,0,1,1,1,2,2,3,3,4])\n"
   ]
  },
  {
   "cell_type": "code",
   "execution_count": null,
   "id": "53b178b7-9c5f-4695-9464-b3cf7d4b5c76",
   "metadata": {},
   "outputs": [],
   "source": [
    "#Final solution submitted\n",
    "O(N*N) runtime (because of the use of pop) and O(1) space\n",
    "\n",
    "class Solution:\n",
    "    def removeDuplicates(self, nums: List[int]) -> int:\n",
    "        for i in reversed(range(1,len(nums))):\n",
    "            if nums[i] == nums[i-1]:\n",
    "                nums.pop(i)\n",
    "        return len(nums)\n",
    "\n"
   ]
  },
  {
   "cell_type": "code",
   "execution_count": null,
   "id": "6f36c519-5ea6-42e9-9d76-abd3b5ad49dc",
   "metadata": {},
   "outputs": [],
   "source": [
    "The final solution did well with runtime\n",
    "\n",
    "Runtime\n",
    "78 ms\n",
    "Beats 65.02% of users with Python3\n",
    "\n",
    "Memory\n",
    "17.97 MB\n",
    "Beats 81.10% of users with Python3\n"
   ]
  }
 ],
 "metadata": {
  "kernelspec": {
   "display_name": "Python 3 (ipykernel)",
   "language": "python",
   "name": "python3"
  },
  "language_info": {
   "codemirror_mode": {
    "name": "ipython",
    "version": 3
   },
   "file_extension": ".py",
   "mimetype": "text/x-python",
   "name": "python",
   "nbconvert_exporter": "python",
   "pygments_lexer": "ipython3",
   "version": "3.9.6"
  }
 },
 "nbformat": 4,
 "nbformat_minor": 5
}
