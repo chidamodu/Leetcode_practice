{
 "cells": [
  {
   "cell_type": "code",
   "execution_count": 56,
   "id": "39e7569a-0f04-4575-b3c2-1d539009dc86",
   "metadata": {},
   "outputs": [],
   "source": [
    "import gc\n"
   ]
  },
  {
   "cell_type": "code",
   "execution_count": 54,
   "id": "622c7b03-6c04-4d01-b83d-dd9d5bc5071d",
   "metadata": {},
   "outputs": [],
   "source": [
    "\n",
    "\n",
    "def longestCommonPrefix(strs):\n",
    "    min_length = len(strs[0])\n",
    "    result = ''\n",
    "\n",
    "    for i in strs[1:]:\n",
    "        if len(i) < min_length:\n",
    "            min_length = len(i)\n",
    "    for i in range(min_length):\n",
    "        d = []\n",
    "        for string in strs:\n",
    "            d.extend((string[i]))\n",
    "        if len(set(d)) == 1:\n",
    "            result += str(list(set(d))[0])\n",
    "        else:\n",
    "            break;\n",
    "    return result\n",
    "            \n",
    "\n"
   ]
  },
  {
   "cell_type": "code",
   "execution_count": 55,
   "id": "bb93ed9e-d20c-4f02-8b0f-83518cea18b7",
   "metadata": {},
   "outputs": [
    {
     "data": {
      "text/plain": [
       "'c'"
      ]
     },
     "execution_count": 55,
     "metadata": {},
     "output_type": "execute_result"
    }
   ],
   "source": [
    "\n",
    "strs = [\"cir\",\"car\"]\n",
    "longestCommonPrefix(strs)\n"
   ]
  },
  {
   "cell_type": "code",
   "execution_count": null,
   "id": "1dd5b8b9-d9b2-4d40-bac2-16773babe6fc",
   "metadata": {},
   "outputs": [],
   "source": [
    "\n",
    "Accepted solution\n",
    "\n",
    "class Solution:\n",
    "    def longestCommonPrefix(self, strs: List[str]) -> str:\n",
    "        min_length = len(strs[0])\n",
    "        result = ''\n",
    "        for i in strs[1:]:\n",
    "            if len(i) < min_length:\n",
    "                min_length = len(i)\n",
    "        for i in range(min_length):\n",
    "            d = []\n",
    "            for string in strs:\n",
    "                d.extend((string[i]))\n",
    "            if len(set(d)) == 1:\n",
    "                result += str(list(set(d))[0])\n",
    "            else:\n",
    "                break;\n",
    "        return result\n",
    "\n"
   ]
  },
  {
   "cell_type": "markdown",
   "id": "9abef7ac-0e4c-42e1-a48a-4e960b333758",
   "metadata": {},
   "source": [
    "\n",
    "## Runtime\n"
   ]
  },
  {
   "cell_type": "code",
   "execution_count": null,
   "id": "b2fa687a-cb1a-4bff-ae8c-e63835e4ef14",
   "metadata": {},
   "outputs": [],
   "source": [
    "\n",
    "Runtime\n",
    "34 ms\n",
    "Beats 88.99% of users with Python3\n"
   ]
  },
  {
   "cell_type": "markdown",
   "id": "b5be03b3-d144-460b-84dc-5d220f224fba",
   "metadata": {},
   "source": [
    "\n",
    "## Using Binary Search concept\n"
   ]
  },
  {
   "cell_type": "code",
   "execution_count": 208,
   "id": "0dda3c93-c998-481a-a5dd-d89683237a43",
   "metadata": {},
   "outputs": [],
   "source": [
    "\n",
    "def check_string(strs, length):\n",
    "    string_lookup = strs[0][:length]\n",
    "    for i in range(1, len(strs)):\n",
    "        if (not strs[i].startswith(string_lookup)):\n",
    "            return False\n",
    "    return True\n",
    "       \n",
    "\n",
    "def longestCommonPrefix(strs):\n",
    "    if len(strs) == 0:\n",
    "        return \"\"\n",
    "    strs.sort(key=len)\n",
    "    left, right = 1, len(strs[0])\n",
    "    \n",
    "    while left <= right:\n",
    "        mid = (left + right) // 2      \n",
    "        if check_string(strs, mid):\n",
    "            left = mid + 1  \n",
    "        else:\n",
    "            right = mid - 1\n",
    "            \n",
    "    str_pos = (left+right) // 2\n",
    "    return strs[0][:str_pos]\n",
    "            \n",
    "            \n",
    " "
   ]
  },
  {
   "cell_type": "code",
   "execution_count": 209,
   "id": "b8d85f27-adea-466e-9bd2-d19d0d656118",
   "metadata": {},
   "outputs": [
    {
     "data": {
      "text/plain": [
       "''"
      ]
     },
     "execution_count": 209,
     "metadata": {},
     "output_type": "execute_result"
    }
   ],
   "source": [
    "strs = [\"floor\", \"clr\", 'caaf', 'saif']\n",
    "\n",
    "longestCommonPrefix(strs)\n"
   ]
  },
  {
   "cell_type": "code",
   "execution_count": null,
   "id": "7473e9c5-c5c1-42db-8c47-4f13ff1d4542",
   "metadata": {},
   "outputs": [],
   "source": [
    "Leetcode final submission for longestCommonPrefix using Binary Search algorithm\n",
    "\n",
    "\n",
    "class Solution:\n",
    "    def longestCommonPrefix(self, strs: List[str]) -> str:\n",
    "        if len(strs) == 0:\n",
    "            return \"\"\n",
    "        strs.sort(key=len)\n",
    "        left, right = 1, len(strs[0])\n",
    "        while left <= right:\n",
    "            mid = (left + right) // 2      \n",
    "            if check_string(strs, mid):\n",
    "                left = mid + 1  \n",
    "            else:\n",
    "                right = mid - 1  \n",
    "        str_pos = (left+right) // 2\n",
    "        return strs[0][:str_pos]\n",
    "\n",
    "def check_string(strs, length):\n",
    "    string_lookup = strs[0][:length]\n",
    "    for i in range(1, len(strs)):\n",
    "        if (not strs[i].startswith(string_lookup)):\n",
    "            return False\n",
    "    return True\n",
    "    \n",
    "\n",
    "Runtime\n",
    "40 ms\n",
    "Beats 58.70% of users with Python3\n",
    "\n",
    "\n",
    "Memory\n",
    "16.51 MB\n",
    "Beats 64.30% of users with Python3\n",
    "\n"
   ]
  }
 ],
 "metadata": {
  "kernelspec": {
   "display_name": "Python 3 (ipykernel)",
   "language": "python",
   "name": "python3"
  },
  "language_info": {
   "codemirror_mode": {
    "name": "ipython",
    "version": 3
   },
   "file_extension": ".py",
   "mimetype": "text/x-python",
   "name": "python",
   "nbconvert_exporter": "python",
   "pygments_lexer": "ipython3",
   "version": "3.9.6"
  }
 },
 "nbformat": 4,
 "nbformat_minor": 5
}
