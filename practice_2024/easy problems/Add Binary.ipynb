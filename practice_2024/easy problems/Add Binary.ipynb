{
 "cells": [
  {
   "cell_type": "code",
   "execution_count": 18,
   "id": "a84259b3-7cfe-4685-ad38-73686e0366f6",
   "metadata": {},
   "outputs": [],
   "source": [
    "\n",
    "Given two binary strings a and b, return their sum as a binary string.\n",
    "\n",
    "Example 1:\n",
    "Input: a = \"11\", b = \"1\"\n",
    "Output: \"100\"\n",
    "\n",
    "Example 2:\n",
    "Input: a = \"1010\", b = \"1011\"\n",
    "Output: \"10101\"\n",
    " \n",
    "\n",
    "Constraints:\n",
    "1 <= a.length, b.length <= 104\n",
    "a and b consist only of '0' or '1' characters.\n",
    "Each string does not contain leading zeros except for the zero itself.\n"
   ]
  },
  {
   "cell_type": "code",
   "execution_count": null,
   "id": "d2b7f61d-d176-48a3-b7e0-7d6ed86a69b3",
   "metadata": {},
   "outputs": [],
   "source": [
    "\n",
    "def addBinary(a, b):\n",
    "    return bin(int(a, 2) + int(b, 2))[2:]\n",
    "    \n"
   ]
  },
  {
   "cell_type": "code",
   "execution_count": 19,
   "id": "c5d204eb-dc5a-4fa7-91f4-4a2b3fbd00c6",
   "metadata": {},
   "outputs": [
    {
     "data": {
      "text/plain": [
       "'100'"
      ]
     },
     "execution_count": 19,
     "metadata": {},
     "output_type": "execute_result"
    }
   ],
   "source": [
    "\n",
    "a = \"11\"\n",
    "b = \"1\"\n",
    "addBinary(a, b)\n"
   ]
  },
  {
   "cell_type": "code",
   "execution_count": 20,
   "id": "72fa8205-3be6-4548-a25b-fdc21c336b06",
   "metadata": {},
   "outputs": [
    {
     "data": {
      "text/plain": [
       "'10101'"
      ]
     },
     "execution_count": 20,
     "metadata": {},
     "output_type": "execute_result"
    }
   ],
   "source": [
    "\n",
    "a = \"1010\"\n",
    "b = \"1011\"\n",
    "addBinary(a, b)\n"
   ]
  },
  {
   "cell_type": "code",
   "execution_count": null,
   "id": "550433a7-0e99-4864-aa43-328475d59955",
   "metadata": {},
   "outputs": [],
   "source": [
    "\n",
    "Runtime\n",
    "39 ms\n",
    "Beats 45.59% of users with Python3\n",
    "\n",
    "Memory\n",
    "16.71 MB\n",
    "Beats 17.96% of users with Python3\n"
   ]
  }
 ],
 "metadata": {
  "kernelspec": {
   "display_name": "Python 3 (ipykernel)",
   "language": "python",
   "name": "python3"
  },
  "language_info": {
   "codemirror_mode": {
    "name": "ipython",
    "version": 3
   },
   "file_extension": ".py",
   "mimetype": "text/x-python",
   "name": "python",
   "nbconvert_exporter": "python",
   "pygments_lexer": "ipython3",
   "version": "3.9.6"
  }
 },
 "nbformat": 4,
 "nbformat_minor": 5
}
