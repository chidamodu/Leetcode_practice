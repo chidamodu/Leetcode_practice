{
 "cells": [
  {
   "cell_type": "markdown",
   "id": "d7abf766-cda5-4509-bac7-30dbb20ab8be",
   "metadata": {},
   "source": [
    "\n",
    "Given a sentence that consists of some words separated by a single space, and a searchWord, check if searchWord is a prefix of any word in a sentence.\n",
    "\n",
    "Return the index of the word in sentence (1-indexed) where searchWord is a prefix of this word. If searchWord is a prefix of more than one word, return the index of the first word (minimum index). If there is no such word return -1.\n",
    "\n",
    "A prefix of a string s is any leading contiguous substring of s.\n",
    "\n",
    "Example 1:\n",
    "Input: sentence = \"i love eating burger\", searchWord = \"burg\"\n",
    "Output: 4\n",
    "Explanation: \"burg\" is prefix of \"burger\" which is the 4th word in the sentence.\n",
    "\n",
    "Example 2:\n",
    "Input: sentence = \"this problem is an easy problem\", searchWord = \"pro\"\n",
    "Output: 2\n",
    "Explanation: \"pro\" is prefix of \"problem\" which is the 2nd and the 6th word in the sentence, but we return 2 as it's the minimal index.\n",
    "\n",
    "Example 3:\n",
    "Input: sentence = \"i am tired\", searchWord = \"you\"\n",
    "Output: -1\n",
    "Explanation: \"you\" is not a prefix of any word in the sentence.\n",
    " \n",
    "Constraints:\n",
    "1 <= sentence.length <= 100\n",
    "1 <= searchWord.length <= 10\n",
    "sentence consists of lowercase English letters and spaces.\n",
    "searchWord consists of lowercase English letters.\n"
   ]
  },
  {
   "cell_type": "code",
   "execution_count": null,
   "id": "660dab94-5cd3-4865-88fb-c5a5f0c78d74",
   "metadata": {},
   "outputs": [],
   "source": [
    "\n",
    "class Solution:\n",
    "    def isPrefixOfWord(self, sentence: str, searchWord: str) -> int:\n",
    "        prefix = len(searchWord)\n",
    "        words = sentence.split()\n",
    "        for i in range(len(words)):\n",
    "            if words[i][:prefix] == searchWord:\n",
    "                return i + 1\n",
    "        return -1\n",
    "\n",
    "Runtime\n",
    "0 ms\n",
    "Beats 100.00%\n",
    "\n",
    "Memory\n",
    "17.15 MB\n",
    "Beats 80.82%\n",
    "\n"
   ]
  }
 ],
 "metadata": {
  "kernelspec": {
   "display_name": "Python 3 (ipykernel)",
   "language": "python",
   "name": "python3"
  },
  "language_info": {
   "codemirror_mode": {
    "name": "ipython",
    "version": 3
   },
   "file_extension": ".py",
   "mimetype": "text/x-python",
   "name": "python",
   "nbconvert_exporter": "python",
   "pygments_lexer": "ipython3",
   "version": "3.9.6"
  }
 },
 "nbformat": 4,
 "nbformat_minor": 5
}
