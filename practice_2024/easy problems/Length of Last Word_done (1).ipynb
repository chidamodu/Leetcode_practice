{
 "cells": [
  {
   "cell_type": "code",
   "execution_count": 7,
   "id": "04aae53a-9e67-4354-8b98-80ad58b2a79f",
   "metadata": {},
   "outputs": [],
   "source": [
    "\n",
    "Runtime: O(N)\n",
    "\n",
    "def lengthOfLastWord(s):\n",
    "    tot = 0\n",
    "    result = ''\n",
    "    s_new = s.split(\" \")\n",
    "    for i in s_new[::-1]:\n",
    "        if i != '':\n",
    "            result += i\n",
    "            break;\n",
    "    return len(result)\n",
    " \n",
    "   \n",
    "        \n",
    "            \n"
   ]
  },
  {
   "cell_type": "code",
   "execution_count": 8,
   "id": "70bdfc57-3fd1-4226-8cef-c64c65c3e117",
   "metadata": {},
   "outputs": [
    {
     "data": {
      "text/plain": [
       "4"
      ]
     },
     "execution_count": 8,
     "metadata": {},
     "output_type": "execute_result"
    }
   ],
   "source": [
    "\n",
    "s = \"   fly me   to   the moon  \"\n",
    "lengthOfLastWord(s)\n"
   ]
  },
  {
   "cell_type": "code",
   "execution_count": null,
   "id": "88fc3092-fe09-4c89-916e-cf5eb518975e",
   "metadata": {},
   "outputs": [],
   "source": [
    "The above solution has achieved the following performance\n",
    " \n",
    "Runtime\n",
    "40 ms\n",
    "Beats 20.95% of users with Python3\n",
    "\n",
    "Memory\n",
    "16.51 MB\n",
    "Beats 87.07% of users with Python3\n"
   ]
  },
  {
   "cell_type": "code",
   "execution_count": 31,
   "id": "d16f0d90-a5e0-4932-aa08-11c1d88db0da",
   "metadata": {},
   "outputs": [],
   "source": [
    "\n",
    "O(N) runtime\n",
    "def lengthOfLastWord(s):\n",
    "    d = {}\n",
    "    for index, i in enumerate(s.split(\" \")):\n",
    "        if i != '':\n",
    "            d[index] = i\n",
    "    return len(d[max(d.keys())])\n",
    "   \n",
    "\n",
    "Runtime\n",
    "41 ms\n",
    "Beats 16.27% of users with Python3\n",
    "\n",
    "Memory\n",
    "16.84 MB\n",
    "Beats 24.16% of users with Python3\n"
   ]
  },
  {
   "cell_type": "code",
   "execution_count": 32,
   "id": "8d8337ce-be98-46ba-83c2-a98819ae07a7",
   "metadata": {},
   "outputs": [
    {
     "name": "stdout",
     "output_type": "stream",
     "text": [
      "6\n"
     ]
    }
   ],
   "source": [
    "\n",
    "s = \"luffy is still joyboy   \"\n",
    "lengthOfLastWord(s)\n"
   ]
  },
  {
   "cell_type": "code",
   "execution_count": 60,
   "id": "80a13aff-7bb2-4e8a-ae31-d55883ef8e53",
   "metadata": {},
   "outputs": [],
   "source": [
    "\n",
    "\n",
    "def lengthOfLastWord(s):\n",
    "    d = []\n",
    "    for index, i in enumerate(s.split(\" \")):\n",
    "        if i != '':\n",
    "            d.append((index, i))\n",
    "    return len(d[-1][1])\n",
    "    \n",
    "Runtime\n",
    "40 ms\n",
    "Beats 20.83% of users with Python3\n",
    "\n",
    "Memory\n",
    "16.60 MB\n",
    "Beats 86.74% of users with Python3\n"
   ]
  },
  {
   "cell_type": "code",
   "execution_count": 61,
   "id": "af5660e5-c193-4c56-a291-6a0237e25b66",
   "metadata": {},
   "outputs": [
    {
     "data": {
      "text/plain": [
       "5"
      ]
     },
     "execution_count": 61,
     "metadata": {},
     "output_type": "execute_result"
    }
   ],
   "source": [
    "\n",
    "s = \"Hello World\"\n",
    "lengthOfLastWord(s)\n"
   ]
  },
  {
   "cell_type": "code",
   "execution_count": 84,
   "id": "1f349c43-459a-4363-a2d6-6acf8af4efbe",
   "metadata": {},
   "outputs": [],
   "source": [
    "Although the runtime still is O(N) this solution here is a little faster \n",
    "\n",
    "def lengthOfLastWord(s):\n",
    "    s = s.strip().split()\n",
    "    return len(s[-1])\n",
    "  \n",
    "    \n",
    "Runtime\n",
    "34 ms\n",
    "Beats 63.60% of users with Python3\n",
    "\n",
    "Memory\n",
    "16.72 MB\n",
    "Beats 28.43% of users with Python3\n"
   ]
  },
  {
   "cell_type": "code",
   "execution_count": 85,
   "id": "63566810-c639-4ade-97e5-55af1f6308bb",
   "metadata": {},
   "outputs": [
    {
     "name": "stdout",
     "output_type": "stream",
     "text": [
      "6\n"
     ]
    }
   ],
   "source": [
    "\n",
    "s = \"luffy is still joyboy   \"\n",
    "lengthOfLastWord(s)\n"
   ]
  },
  {
   "cell_type": "code",
   "execution_count": 98,
   "id": "45fa14fb-520d-4e4a-a0bf-fc69dc4f5f8e",
   "metadata": {},
   "outputs": [],
   "source": [
    "\n",
    "def lengthOfLastWord(s):\n",
    "        s = s.split()\n",
    "        print(s)\n"
   ]
  },
  {
   "cell_type": "code",
   "execution_count": 99,
   "id": "2019b1ef-ffa6-40ab-9a34-e97e87758620",
   "metadata": {},
   "outputs": [
    {
     "name": "stdout",
     "output_type": "stream",
     "text": [
      "['luffy', 'is', 'still', 'joyboy']\n"
     ]
    }
   ],
   "source": [
    "\n",
    "s = \"luffy   is   still joyboy   \"\n",
    "lengthOfLastWord(s)\n"
   ]
  },
  {
   "cell_type": "code",
   "execution_count": null,
   "id": "7e850de6-b60d-440c-981e-0525826c6568",
   "metadata": {},
   "outputs": [],
   "source": [
    "\n",
    "def lengthOfLastWord(self, s: str) -> int:\n",
    "        s = s.split()\n",
    "        return len(s[-1])\n",
    "\n",
    "\n",
    "Runtime\n",
    "34 ms\n",
    "Beats 63.60% of users with Python3\n",
    "\n",
    "Memory\n",
    "16.52 MB\n",
    "Beats 86.74% of users with Python3\n"
   ]
  }
 ],
 "metadata": {
  "kernelspec": {
   "display_name": "Python 3 (ipykernel)",
   "language": "python",
   "name": "python3"
  },
  "language_info": {
   "codemirror_mode": {
    "name": "ipython",
    "version": 3
   },
   "file_extension": ".py",
   "mimetype": "text/x-python",
   "name": "python",
   "nbconvert_exporter": "python",
   "pygments_lexer": "ipython3",
   "version": "3.9.6"
  }
 },
 "nbformat": 4,
 "nbformat_minor": 5
}
