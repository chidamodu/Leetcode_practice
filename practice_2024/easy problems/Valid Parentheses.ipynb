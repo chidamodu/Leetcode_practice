{
 "cells": [
  {
   "cell_type": "code",
   "execution_count": 137,
   "id": "f3e9aebe-74ae-438b-bbef-f69c793e3329",
   "metadata": {},
   "outputs": [],
   "source": [
    "\n",
    "\n",
    "def isValid(s):  \n",
    "    # d = {')':'(', '}':'{', ']':'['}\n",
    "    d = {'(':')', '{':'}', '[':']'}\n",
    "    stack = []\n",
    "    for i in s:\n",
    "        if i in d:\n",
    "            stack.append(i)\n",
    "        else:\n",
    "            if not stack:\n",
    "                return False\n",
    "            else:\n",
    "                if d[stack.pop()] != i:\n",
    "                    return False \n",
    "                else:\n",
    "                    continue\n",
    "    if stack:\n",
    "        return False\n",
    "    return True\n"
   ]
  },
  {
   "cell_type": "code",
   "execution_count": 138,
   "id": "a85251db-8215-4a97-9519-e0573b863897",
   "metadata": {},
   "outputs": [
    {
     "data": {
      "text/plain": [
       "False"
      ]
     },
     "execution_count": 138,
     "metadata": {},
     "output_type": "execute_result"
    }
   ],
   "source": [
    "\n",
    "isValid(\"({}]\")\n"
   ]
  },
  {
   "cell_type": "code",
   "execution_count": null,
   "id": "5f27e709-2796-4828-8303-86e71bf0e1cb",
   "metadata": {},
   "outputs": [],
   "source": [
    "Final submission\n",
    "\n",
    "class Solution:\n",
    "    def isValid(self, s: str) -> bool:\n",
    "        d = {'(':')', '{':'}', '[':']'}\n",
    "        stack = []\n",
    "        for i in s:\n",
    "            if i in d:\n",
    "                stack.append(i)\n",
    "            else:\n",
    "                if not stack:\n",
    "                    return False\n",
    "                else:\n",
    "                    if d[stack.pop()] != i:\n",
    "                        return False \n",
    "                    else:\n",
    "                        continue\n",
    "        if stack:\n",
    "            return False\n",
    "        return True"
   ]
  },
  {
   "cell_type": "code",
   "execution_count": null,
   "id": "75a2c817-292b-41c1-916b-6a1a5416a398",
   "metadata": {},
   "outputs": [],
   "source": [
    "\n",
    "The final submission did great with runtime\n",
    "\n",
    "Runtime\n",
    "29 ms\n",
    "Beats 93.89% of users with Python3\n",
    "\n",
    "Memory\n",
    "16.66 MB\n",
    "Beats 58.67% of users with Python3\n"
   ]
  }
 ],
 "metadata": {
  "kernelspec": {
   "display_name": "Python 3 (ipykernel)",
   "language": "python",
   "name": "python3"
  },
  "language_info": {
   "codemirror_mode": {
    "name": "ipython",
    "version": 3
   },
   "file_extension": ".py",
   "mimetype": "text/x-python",
   "name": "python",
   "nbconvert_exporter": "python",
   "pygments_lexer": "ipython3",
   "version": "3.9.6"
  }
 },
 "nbformat": 4,
 "nbformat_minor": 5
}
