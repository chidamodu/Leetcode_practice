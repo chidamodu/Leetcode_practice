{
 "cells": [
  {
   "cell_type": "code",
   "execution_count": 41,
   "id": "f4bd10fc-8ecf-4839-adc7-784c8475dcb0",
   "metadata": {},
   "outputs": [],
   "source": [
    "\n",
    "def removeElement(nums, val):\n",
    "    i = 0\n",
    "    while i < len(nums):\n",
    "        if nums[i] == val:\n",
    "            nums[i] = \"_\"\n",
    "            nums.append(nums.pop(i))\n",
    "        else:\n",
    "            i += 1\n",
    "    count_int = 0\n",
    "    for element in nums:\n",
    "        if isinstance(element, int):\n",
    "            count_int += 1\n",
    "    return count_int\n",
    "    \n"
   ]
  },
  {
   "cell_type": "code",
   "execution_count": 42,
   "id": "164e10af-3975-4df2-9779-63ce8c2f0d2d",
   "metadata": {},
   "outputs": [
    {
     "name": "stdout",
     "output_type": "stream",
     "text": [
      "[2, 2, '_', '_']\n"
     ]
    },
    {
     "data": {
      "text/plain": [
       "2"
      ]
     },
     "execution_count": 42,
     "metadata": {},
     "output_type": "execute_result"
    }
   ],
   "source": [
    "\n",
    "# nums = [0,1,2,2,3,0,4,2] \n",
    "# val = 2\n",
    "nums = [3,2,2,3]\n",
    "val = 3\n",
    "removeElement(nums, val)\n"
   ]
  },
  {
   "cell_type": "code",
   "execution_count": null,
   "id": "3b0aeab9-9aef-4f26-8321-f97887ad4d70",
   "metadata": {},
   "outputs": [],
   "source": [
    "Final submission\n",
    "\n",
    "class Solution:\n",
    "    def removeElement(self, nums: List[int], val: int) -> int:\n",
    "        i = 0\n",
    "        while i < len(nums):\n",
    "            if nums[i] == val:\n",
    "                nums[i] = \"_\"\n",
    "                nums.append(nums.pop(i))\n",
    "            else:\n",
    "                i += 1\n",
    "        count_int = 0\n",
    "        for element in nums:\n",
    "            if isinstance(element, int):\n",
    "                count_int += 1\n",
    "        return count_int\n"
   ]
  },
  {
   "cell_type": "code",
   "execution_count": null,
   "id": "5e0c7d5e-5fba-45a8-b1f7-308e761eb006",
   "metadata": {},
   "outputs": [],
   "source": [
    "The final submission has achieved the following results\n",
    "\n",
    "Runtime\n",
    "29 ms\n",
    "Beats 95.45% of users with Python3\n",
    "\n",
    "Memory\n",
    "16.58 MB\n",
    "Beats 71.16% of users with Python3\n",
    "\n"
   ]
  },
  {
   "cell_type": "code",
   "execution_count": 48,
   "id": "335561db-1dd9-45a8-8611-a95237806974",
   "metadata": {},
   "outputs": [],
   "source": [
    "\n",
    "del removeElement\n"
   ]
  },
  {
   "cell_type": "code",
   "execution_count": 46,
   "id": "8bf17817-7e9c-45dd-99d5-d40dd8ce1929",
   "metadata": {},
   "outputs": [],
   "source": [
    "Alternative solution from the solution pool - a nice one\n",
    "\n",
    "def removeElement(nums, val):\n",
    "    index = 0\n",
    "    for i in nums:\n",
    "        if i != val:\n",
    "            nums[index] = i\n",
    "            print(nums)\n",
    "            index += 1        \n",
    "    return index\n"
   ]
  },
  {
   "cell_type": "code",
   "execution_count": 47,
   "id": "ece35c5d-396a-4178-9589-555f16ac834d",
   "metadata": {},
   "outputs": [
    {
     "name": "stdout",
     "output_type": "stream",
     "text": [
      "[2, 2, 2, 3]\n",
      "[2, 2, 2, 3]\n"
     ]
    },
    {
     "data": {
      "text/plain": [
       "2"
      ]
     },
     "execution_count": 47,
     "metadata": {},
     "output_type": "execute_result"
    }
   ],
   "source": [
    "\n",
    "nums = [3,2,2,3]\n",
    "val = 3\n",
    "removeElement(nums, val)\n"
   ]
  }
 ],
 "metadata": {
  "kernelspec": {
   "display_name": "Python 3 (ipykernel)",
   "language": "python",
   "name": "python3"
  },
  "language_info": {
   "codemirror_mode": {
    "name": "ipython",
    "version": 3
   },
   "file_extension": ".py",
   "mimetype": "text/x-python",
   "name": "python",
   "nbconvert_exporter": "python",
   "pygments_lexer": "ipython3",
   "version": "3.9.6"
  }
 },
 "nbformat": 4,
 "nbformat_minor": 5
}
