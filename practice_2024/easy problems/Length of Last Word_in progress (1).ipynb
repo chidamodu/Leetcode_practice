{
 "cells": [
  {
   "cell_type": "code",
   "execution_count": 85,
   "id": "04aae53a-9e67-4354-8b98-80ad58b2a79f",
   "metadata": {},
   "outputs": [],
   "source": [
    "\n",
    "def lengthOfLastWord(s):\n",
    "    tot = 0\n",
    "    result = ''\n",
    "    s_new = s.split(\" \")\n",
    "    for i in s_new[::-1]:\n",
    "        if i != '':\n",
    "            result += i\n",
    "            break;\n",
    "    return len(result)\n",
    " \n",
    "   \n",
    "        \n",
    "            \n"
   ]
  },
  {
   "cell_type": "code",
   "execution_count": 86,
   "id": "70bdfc57-3fd1-4226-8cef-c64c65c3e117",
   "metadata": {},
   "outputs": [
    {
     "data": {
      "text/plain": [
       "6"
      ]
     },
     "execution_count": 86,
     "metadata": {},
     "output_type": "execute_result"
    }
   ],
   "source": [
    "\n",
    "s = \"luffy is still joyboy\"\n",
    "lengthOfLastWord(s)\n"
   ]
  },
  {
   "cell_type": "code",
   "execution_count": null,
   "id": "88fc3092-fe09-4c89-916e-cf5eb518975e",
   "metadata": {},
   "outputs": [],
   "source": [
    "The above solution has achieved the following performance\n",
    "\n",
    "Runtime\n",
    "40 ms\n",
    "Beats 20.95% of users with Python3\n",
    "\n",
    "Memory\n",
    "16.51 MB\n",
    "Beats 87.07% of users with Python3\n"
   ]
  }
 ],
 "metadata": {
  "kernelspec": {
   "display_name": "Python 3 (ipykernel)",
   "language": "python",
   "name": "python3"
  },
  "language_info": {
   "codemirror_mode": {
    "name": "ipython",
    "version": 3
   },
   "file_extension": ".py",
   "mimetype": "text/x-python",
   "name": "python",
   "nbconvert_exporter": "python",
   "pygments_lexer": "ipython3",
   "version": "3.9.6"
  }
 },
 "nbformat": 4,
 "nbformat_minor": 5
}
