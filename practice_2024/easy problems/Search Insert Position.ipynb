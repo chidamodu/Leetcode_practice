{
 "cells": [
  {
   "cell_type": "code",
   "execution_count": 34,
   "id": "00cc059f-9731-473b-b83a-401dd55d0dbd",
   "metadata": {},
   "outputs": [],
   "source": [
    "Did not work!\n",
    "\n",
    "def searchInsert(nums, target):\n",
    "    d = {}\n",
    "    to_insert = []\n",
    "    for i, n in enumerate(nums):\n",
    "        d[n] = i\n",
    "    \n",
    "    if target in d:\n",
    "        return d[target]\n",
    "\n",
    "    for k, v in d.items():\n",
    "        if target < k:\n",
    "            to_insert.append(v - 1)\n",
    "        elif target > k:\n",
    "            to_insert.append(v + 1)\n",
    "\n",
    "    print(to_insert)\n",
    "    # if sorted(to_insert)[0] < 0:\n",
    "    #     return 0\n",
    "    # else:\n",
    "    #     return sorted(to_insert)\n",
    "\n",
    "\n",
    "        \n",
    "\n"
   ]
  },
  {
   "cell_type": "code",
   "execution_count": 27,
   "id": "2f1e2559-f022-4e6d-b15b-c869cca903d9",
   "metadata": {},
   "outputs": [
    {
     "data": {
      "text/plain": [
       "2"
      ]
     },
     "execution_count": 27,
     "metadata": {},
     "output_type": "execute_result"
    }
   ],
   "source": [
    "\n",
    "nums = [1,3,5,6]\n",
    "target = 5\n",
    "searchInsert(nums, target)\n"
   ]
  },
  {
   "cell_type": "code",
   "execution_count": 35,
   "id": "c34bc816-268d-4f82-ab31-bde8ac50778f",
   "metadata": {},
   "outputs": [
    {
     "name": "stdout",
     "output_type": "stream",
     "text": [
      "{1: 0, 3: 1, 5: 2, 6: 3}\n",
      "[1, 0, 1, 2]\n"
     ]
    }
   ],
   "source": [
    "\n",
    "nums = [1,3,5,6]\n",
    "target = 2\n",
    "searchInsert(nums, target)\n",
    "\n"
   ]
  },
  {
   "cell_type": "code",
   "execution_count": 94,
   "id": "4ab97738-3603-447c-972c-27dbd7651093",
   "metadata": {},
   "outputs": [],
   "source": [
    "\n",
    "Did not work!\n",
    "\n",
    "def searchInsert(nums, target):\n",
    "    d = {}\n",
    "\n",
    "    for i, n in enumerate(nums):\n",
    "        d[n] = i\n",
    "\n",
    "    if target in d:\n",
    "        return d[target]\n",
    "   \n",
    "    right = 0\n",
    "    \n",
    "    while right < len(nums)-1:\n",
    "        \n",
    "        if target > nums[right] and target < nums[right+1]:\n",
    "            to_insert = right + 1\n",
    "        elif target < nums[right]:\n",
    "            to_insert = right\n",
    "        elif target > nums[right] and target > nums[right+1] and right+1 == len(nums)-1:\n",
    "            to_insert = len(nums)\n",
    "            \n",
    "\n",
    "        right += 1\n",
    "\n",
    "    return to_insert\n"
   ]
  },
  {
   "cell_type": "code",
   "execution_count": 95,
   "id": "5a8fdabe-6a8b-4275-8554-09cf909c3f77",
   "metadata": {},
   "outputs": [
    {
     "data": {
      "text/plain": [
       "2"
      ]
     },
     "execution_count": 95,
     "metadata": {},
     "output_type": "execute_result"
    }
   ],
   "source": [
    "\n",
    "nums = [1,3,5,6]\n",
    "target = 0\n",
    "searchInsert(nums, target)\n"
   ]
  },
  {
   "cell_type": "code",
   "execution_count": 116,
   "id": "9d8a2569-8952-4eda-ab02-e736e45a68f6",
   "metadata": {},
   "outputs": [],
   "source": [
    "Yay this solution won it!\n",
    "\n",
    "def searchInsert(nums, target):\n",
    "    d = {}\n",
    "    for i, n in enumerate(nums):\n",
    "        d[n] = i\n",
    "    if target in d:\n",
    "        return d[target] \n",
    "    right = 0\n",
    "    if target < nums[0]:\n",
    "        to_insert = 0\n",
    "    elif target > nums[-1]:\n",
    "        to_insert = len(nums)\n",
    "    else:\n",
    "        while right < len(nums)-1:\n",
    "            if target > nums[right] and target < nums[right+1]:\n",
    "                to_insert = right + 1\n",
    "            right += 1\n",
    "    return to_insert\n",
    "\n",
    "\n"
   ]
  },
  {
   "cell_type": "code",
   "execution_count": 117,
   "id": "3bfefd1f-c6bd-4c62-b8cb-8ee31b141822",
   "metadata": {},
   "outputs": [
    {
     "data": {
      "text/plain": [
       "1"
      ]
     },
     "execution_count": 117,
     "metadata": {},
     "output_type": "execute_result"
    }
   ],
   "source": [
    "\n",
    "nums = [1,3,5,6]\n",
    "target = 2\n",
    "searchInsert(nums, target)\n"
   ]
  },
  {
   "cell_type": "code",
   "execution_count": null,
   "id": "57c674c3-3717-4b71-883a-e39e9e596d28",
   "metadata": {},
   "outputs": [],
   "source": [
    "Final submission on Leetcode - in O(N) runtime complexity and not O(log N) as asked in the problem\n",
    "\n",
    "class Solution:\n",
    "    def searchInsert(self, nums: List[int], target: int) -> int:\n",
    "        d = {}\n",
    "        for i, n in enumerate(nums):\n",
    "            d[n] = i\n",
    "        if target in d:\n",
    "            return d[target] \n",
    "        right = 0\n",
    "        if target < nums[0]:\n",
    "            to_insert = 0\n",
    "        elif target > nums[-1]:\n",
    "            to_insert = len(nums)\n",
    "        else:\n",
    "            while right < len(nums)-1:\n",
    "                if target > nums[right] and target < nums[right+1]:\n",
    "                    to_insert = right + 1\n",
    "                right += 1\n",
    "        return to_insert\n"
   ]
  },
  {
   "cell_type": "code",
   "execution_count": null,
   "id": "377a57a9-8946-4e55-aab4-1760a3586816",
   "metadata": {},
   "outputs": [],
   "source": [
    "\n",
    "The final submission achieved the following performance:\n",
    "\n",
    "Runtime\n",
    "45 ms\n",
    "Beats 84.86% of users with Python3\n",
    "\n",
    "Memory\n",
    "17.71 MB\n",
    "Beats 42.89% of users with Python3\n"
   ]
  },
  {
   "cell_type": "markdown",
   "id": "487868cc-30d5-4e1c-ab4c-e0437b128f6c",
   "metadata": {},
   "source": [
    "\n",
    "## Let's try some alternative solutions\n",
    "\n",
    "Whenever you see a sorted list, the problem is searching/inserting/deleting values at indexes or finding indexes; you must think of a Binary Search Algorithm. That's one of the default optimal solutions out there. The runtime complexity suggested in the problem is O(log N), which should hint Binary Search algorithms or similar ones.\n"
   ]
  },
  {
   "cell_type": "code",
   "execution_count": 180,
   "id": "dfc2639c-c12f-4428-9555-ae6ca692efe4",
   "metadata": {},
   "outputs": [],
   "source": [
    "#Binary Search Algorithm\n",
    "\n",
    "def searchInsert(nums, target):\n",
    "    left = 0\n",
    "    right = len(nums) - 1\n",
    "\n",
    "    while left <= right:\n",
    "        mid = (left + right) // 2\n",
    " \n",
    "        if target < nums[mid]:\n",
    "            right = mid - 1\n",
    "            \n",
    "        elif target > nums[mid]:\n",
    "            left = mid + 1\n",
    "\n",
    "        else:\n",
    "            return mid\n",
    "\n",
    "    return left\n",
    "\n"
   ]
  },
  {
   "cell_type": "code",
   "execution_count": 181,
   "id": "f1302b0a-b3fe-45e2-8f6a-8806d60895f5",
   "metadata": {},
   "outputs": [
    {
     "data": {
      "text/plain": [
       "4"
      ]
     },
     "execution_count": 181,
     "metadata": {},
     "output_type": "execute_result"
    }
   ],
   "source": [
    "\n",
    "nums = [1,3,5,6]\n",
    "target = 7\n",
    "searchInsert(nums, target)\n"
   ]
  },
  {
   "cell_type": "markdown",
   "id": "760cb036-1785-4990-b88b-a268e69169c5",
   "metadata": {},
   "source": [
    "# Awesome explanation for why it takes O(log N) when we use Binary search logic to solve the Search Insert Position problem\n",
    "\n",
    "If we simply iterated over the entire array to find the target, the algorithm would run in O(n) time. We can improve this by using binary search instead to find the element, which runs in O(log n) time (see the video for a review of binary search).\n",
    "\n",
    "Now, why does binary search run in O(log n) time? Well, with each iteration, we eliminate around half of the array. So now the question is: how many iterations does it take to converge on a single element? In other words, how many times do we need to divide n by 2 until we reach 1?\n",
    "\n",
    "If k is the number of times we need to divide n by 2 to reach 1, then the equation is:\n",
    "\n",
    "n / 2^k = 1\n",
    "\n",
    "n = 2^k   (multiply both sides by 2^k)\n",
    "\n",
    "log2n = k   (definition of logarithms)\n",
    "\n",
    "So we know that it takes log2n steps in the worst case to find the element. But in Big O notation, we drop the base, so this ends up running in O(log n) time.\n",
    "\n"
   ]
  }
 ],
 "metadata": {
  "kernelspec": {
   "display_name": "Python 3 (ipykernel)",
   "language": "python",
   "name": "python3"
  },
  "language_info": {
   "codemirror_mode": {
    "name": "ipython",
    "version": 3
   },
   "file_extension": ".py",
   "mimetype": "text/x-python",
   "name": "python",
   "nbconvert_exporter": "python",
   "pygments_lexer": "ipython3",
   "version": "3.9.6"
  }
 },
 "nbformat": 4,
 "nbformat_minor": 5
}
