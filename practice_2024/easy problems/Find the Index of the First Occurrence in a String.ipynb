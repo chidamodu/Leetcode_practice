{
 "cells": [
  {
   "cell_type": "code",
   "execution_count": 7,
   "id": "d0433369-8b75-423b-b567-7bfe2b3df65b",
   "metadata": {},
   "outputs": [],
   "source": [
    "\n",
    "def strStr(haystack, needle):\n",
    "    search_len = len(needle)\n",
    "    for i in range(len(haystack)):\n",
    "        if haystack[i:i+search_len] == needle:\n",
    "            return i\n",
    "    return -1\n",
    "            \n",
    "            \n"
   ]
  },
  {
   "cell_type": "code",
   "execution_count": 8,
   "id": "79c639bf-bf8b-4412-8e59-80094b5ac756",
   "metadata": {},
   "outputs": [
    {
     "data": {
      "text/plain": [
       "-1"
      ]
     },
     "execution_count": 8,
     "metadata": {},
     "output_type": "execute_result"
    }
   ],
   "source": [
    "\n",
    "# haystack = \"sadbutsad\"\n",
    "# needle = \"sad\"\n",
    "\n",
    "haystack = \"leetcode\"\n",
    "needle = \"leeto\"\n",
    "\n",
    "strStr(haystack, needle)\n"
   ]
  },
  {
   "cell_type": "markdown",
   "id": "8f285869-7c43-428f-92e0-2af44fb89497",
   "metadata": {},
   "source": [
    "The above solution achieves the following result:\n",
    "\n",
    "Runtime\n",
    "37 ms\n",
    "Beats 51.64% of users with Python3\n",
    "\n",
    "Memory\n",
    "16.50 MB\n",
    "Beats 68.03% of users with Python3\n"
   ]
  }
 ],
 "metadata": {
  "kernelspec": {
   "display_name": "Python 3 (ipykernel)",
   "language": "python",
   "name": "python3"
  },
  "language_info": {
   "codemirror_mode": {
    "name": "ipython",
    "version": 3
   },
   "file_extension": ".py",
   "mimetype": "text/x-python",
   "name": "python",
   "nbconvert_exporter": "python",
   "pygments_lexer": "ipython3",
   "version": "3.9.6"
  }
 },
 "nbformat": 4,
 "nbformat_minor": 5
}
