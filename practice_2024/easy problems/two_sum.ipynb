{
 "cells": [
  {
   "cell_type": "markdown",
   "id": "309697f8-41db-4874-9f83-f02f947b7bb7",
   "metadata": {},
   "source": [
    "## Problem statement\n",
    "\n",
    "Given an array of integers nums and an integer target, return indices of the two numbers such that they add up to target.\n",
    "\n",
    "You may assume that each input would have exactly one solution, and you may not use the same element twice.\n",
    "\n",
    "You can return the answer in any order.\n",
    "\n",
    "Example 1:\n",
    "Input: nums = [2,7,11,15], target = 9\n",
    "Output: [0,1]\n",
    "Explanation: Because nums[0] + nums[1] == 9, we return [0, 1].\n",
    "\n",
    "Example 2:\n",
    "Input: nums = [3,2,4], target = 6\n",
    "Output: [1,2]\n",
    "\n",
    "Example 3:\n",
    "Input: nums = [3,3], target = 6\n",
    "Output: [0,1]\n",
    " \n",
    "Constraints:\n",
    "2 <= nums.length <= 104\n",
    "-109 <= nums[i] <= 109\n",
    "-109 <= target <= 109\n",
    "Only one valid answer exists.\n",
    " \n",
    "Follow-up: Can you develop an algorithm with less than O(n2) time complexity?\n"
   ]
  },
  {
   "cell_type": "markdown",
   "id": "2f8649a5-d344-4611-ae4f-fb219ef814fc",
   "metadata": {},
   "source": [
    "\n",
    "Logic:\n",
    "1. Create a dictionary with indexes of array values as keys and the actual array values as values by iterating the array. Use enumerate.\n",
    "2. Iterate through the array. If the result of subtracting a value in the array from the target can be found in the dictionary, then get the appropriate key value, i.e., its index.\n",
    "3. Return a list of indexes as a solution.\n",
    "4. If no indexes are present, then return an empty list.\n",
    "\n",
    "    \n"
   ]
  },
  {
   "cell_type": "code",
   "execution_count": 46,
   "id": "0dfc7b57-233a-44ec-8428-28f46056fbad",
   "metadata": {},
   "outputs": [],
   "source": [
    "\n",
    "def twoSum(nums, target):\n",
    "    d = {}\n",
    "    result = []\n",
    "    for ind, val in enumerate(nums):\n",
    "        d[val] = ind\n",
    "    print(d)\n",
    "    for i in range(len(nums)):\n",
    "        if target - nums[i] in nums[i+1:]:\n",
    "            result.extend((i, d[target - nums[i]]))\n",
    "\n",
    "            \n",
    "    return result\n",
    "            \n",
    "    "
   ]
  },
  {
   "cell_type": "code",
   "execution_count": 47,
   "id": "f9efbf0a-67d4-468b-b31c-1381673a1f14",
   "metadata": {},
   "outputs": [
    {
     "name": "stdout",
     "output_type": "stream",
     "text": [
      "{0: 0, 1: 1, 2: 2}\n"
     ]
    },
    {
     "data": {
      "text/plain": [
       "[]"
      ]
     },
     "execution_count": 47,
     "metadata": {},
     "output_type": "execute_result"
    }
   ],
   "source": [
    "\n",
    "nums = [0,1,2]\n",
    "target = 6\n",
    "twoSum(nums, target)\n"
   ]
  },
  {
   "cell_type": "markdown",
   "id": "6cc5389b-3395-43fb-b234-0d23863f12e5",
   "metadata": {},
   "source": [
    "## Combining the above 2 for-loops as one"
   ]
  },
  {
   "cell_type": "code",
   "execution_count": 52,
   "id": "cfc2b45c-abab-420a-8f81-0c9420baa5cb",
   "metadata": {},
   "outputs": [],
   "source": [
    "\n",
    "def twoSum(nums, target):\n",
    "    d = {}\n",
    "    result = []\n",
    "    for ind, val in enumerate(nums):  \n",
    "        if target - val in d:   \n",
    "            return[ind, d[target - val]]\n",
    "        d[val] = ind       \n",
    "    return []\n"
   ]
  },
  {
   "cell_type": "code",
   "execution_count": 53,
   "id": "82cb5deb-0419-4e8b-94af-bd3d414ee798",
   "metadata": {},
   "outputs": [
    {
     "data": {
      "text/plain": [
       "[1, 0]"
      ]
     },
     "execution_count": 53,
     "metadata": {},
     "output_type": "execute_result"
    }
   ],
   "source": [
    "nums = [2,7,11,15]\n",
    "target = 9\n",
    "\n",
    "twoSum(nums, target)"
   ]
  }
 ],
 "metadata": {
  "kernelspec": {
   "display_name": "Python 3 (ipykernel)",
   "language": "python",
   "name": "python3"
  },
  "language_info": {
   "codemirror_mode": {
    "name": "ipython",
    "version": 3
   },
   "file_extension": ".py",
   "mimetype": "text/x-python",
   "name": "python",
   "nbconvert_exporter": "python",
   "pygments_lexer": "ipython3",
   "version": "3.9.6"
  }
 },
 "nbformat": 4,
 "nbformat_minor": 5
}
