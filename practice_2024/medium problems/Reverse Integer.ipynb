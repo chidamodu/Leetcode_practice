{
 "cells": [
  {
   "cell_type": "code",
   "execution_count": 74,
   "id": "956e58fd-4675-460a-a46e-da2b552f7a6b",
   "metadata": {},
   "outputs": [],
   "source": [
    "\n",
    "def reverse(x):\n",
    "    reverse_result = ''\n",
    "    if x < 1:\n",
    "        reverse_result += '-'\n",
    "        if str(x)[1:]:\n",
    "            x = int(str(x)[1:])\n",
    "        else:\n",
    "            return 0\n",
    "    while x:    \n",
    "        reverse_result += str(x % 10)\n",
    "        x = x // 10\n",
    "    return int(reverse_result) if -2**31 <= int(reverse_result) <= 2**31 - 1 else 0\n",
    "    \n",
    "\n"
   ]
  },
  {
   "cell_type": "code",
   "execution_count": 75,
   "id": "5ba49f74-7d0c-4940-b7f9-f7f47873702a",
   "metadata": {},
   "outputs": [
    {
     "data": {
      "text/plain": [
       "0"
      ]
     },
     "execution_count": 75,
     "metadata": {},
     "output_type": "execute_result"
    }
   ],
   "source": [
    "\n",
    "reverse(-0)\n"
   ]
  },
  {
   "cell_type": "code",
   "execution_count": 55,
   "id": "8a1e77b8-7977-42c8-a80b-c0d09931a909",
   "metadata": {},
   "outputs": [],
   "source": [
    "del x"
   ]
  },
  {
   "cell_type": "code",
   "execution_count": 51,
   "id": "4f35c5d9-fda3-44c5-b521-9793383d871c",
   "metadata": {},
   "outputs": [
    {
     "data": {
      "text/plain": [
       "9"
      ]
     },
     "execution_count": 51,
     "metadata": {},
     "output_type": "execute_result"
    }
   ],
   "source": [
    "del x\n",
    "x = 456\n",
    "x.bit_length()\n"
   ]
  },
  {
   "cell_type": "code",
   "execution_count": null,
   "id": "5e367602-d4ef-4452-81c3-747946bbe660",
   "metadata": {},
   "outputs": [],
   "source": [
    "Final submission problem\n",
    "\n",
    "class Solution:\n",
    "    def reverse(self, x: int) -> int:\n",
    "        reverse_result = ''\n",
    "        if x < 1:\n",
    "            reverse_result += '-'\n",
    "            if str(x)[1:]:\n",
    "                x = int(str(x)[1:])\n",
    "            else:\n",
    "                return 0\n",
    "        while x:    \n",
    "            reverse_result += str(x % 10)\n",
    "            x = x // 10\n",
    "        return int(reverse_result) if -2**31 <= int(reverse_result) <= 2**31 - 1 else 0\n",
    "\n",
    "\n"
   ]
  },
  {
   "cell_type": "code",
   "execution_count": null,
   "id": "841242dd-3215-4129-afdb-57c4f0a352e9",
   "metadata": {},
   "outputs": [],
   "source": [
    "The above final submission problem has achieved the following result:\n",
    "\n",
    "Runtime\n",
    "38 ms\n",
    "Beats 56.40% of users with Python3\n",
    "\n",
    "Memory\n",
    "16.60 MB\n",
    "Beats 53.81% of users with Python3\n"
   ]
  },
  {
   "cell_type": "code",
   "execution_count": null,
   "id": "34563e54-b25b-408e-8236-6abec58c7fac",
   "metadata": {},
   "outputs": [],
   "source": [
    "Interesting solutions I found on Leetcode by other coders\n",
    "\n",
    "class Solution:\n",
    "    def reverse(self, x: int) -> int:\n",
    "        x_mag_reversed = int(str(abs(x))[::-1])\n",
    "        limit = 2**31\n",
    "        if x < 0 and x_mag_reversed <= limit:\n",
    "            return - x_mag_reversed\n",
    "        if x > 0 and x_mag_reversed < limit:\n",
    "            return x_mag_reversed\n",
    "        return 0\n",
    "\n",
    "\n",
    "class Solution:\n",
    "    def reverse(self, x: int) -> int: \n",
    "            x = str(x)                       # turn to string\n",
    "            x = x[::-1]                      # reverse it \n",
    "            if len(x) == 1:# if number is itself, no need to reverse\n",
    "                return int(x)\n",
    "            if x[-1] == \"-\": #if it was negative, has a minus in the end\n",
    "                x = x.replace(\"-\" , \"\") #REMOVE THE MINUS\n",
    "                x = \"-\" + x             #Add the minus in the start\n",
    "            if  -2**31 < int(x) < 2**31 - 1 : \n",
    "                return int(x)\n",
    "            return 0 \n"
   ]
  }
 ],
 "metadata": {
  "kernelspec": {
   "display_name": "Python 3 (ipykernel)",
   "language": "python",
   "name": "python3"
  },
  "language_info": {
   "codemirror_mode": {
    "name": "ipython",
    "version": 3
   },
   "file_extension": ".py",
   "mimetype": "text/x-python",
   "name": "python",
   "nbconvert_exporter": "python",
   "pygments_lexer": "ipython3",
   "version": "3.9.6"
  }
 },
 "nbformat": 4,
 "nbformat_minor": 5
}
