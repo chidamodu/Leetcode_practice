{
 "cells": [
  {
   "cell_type": "markdown",
   "id": "da35a2f6-d7cb-4ab8-94ad-c55777e7fed4",
   "metadata": {},
   "source": [
    "\n",
    "Given an array nums of n integers, return an array of all the unique quadruplets [nums[a], nums[b], nums[c], nums[d]] such that:\n",
    "\n",
    "0 <= a, b, c, d < n\n",
    "a, b, c, and d are distinct.\n",
    "nums[a] + nums[b] + nums[c] + nums[d] == target\n",
    "You may return the answer in any order.\n",
    "\n",
    " \n",
    "Example 1:\n",
    "Input: nums = [1,0,-1,0,-2,2], target = 0\n",
    "Output: [[-2,-1,1,2],[-2,0,0,2],[-1,0,0,1]]\n",
    "\n",
    "Example 2:\n",
    "Input: nums = [2,2,2,2,2], target = 8\n",
    "Output: [[2,2,2,2]]\n",
    " \n",
    "\n",
    "Constraints:\n",
    "1 <= nums.length <= 200\n",
    "-109 <= nums[i] <= 109\n",
    "-109 <= target <= 109\n"
   ]
  },
  {
   "cell_type": "code",
   "execution_count": 5,
   "id": "f903c82a-0306-48f8-bd6c-409927dc6279",
   "metadata": {},
   "outputs": [],
   "source": [
    "First try\n",
    "\n",
    "def fourSum(nums, target):\n",
    "    result = set()\n",
    "    nums = sorted(nums)\n",
    "    for i in range(len(nums)):\n",
    "        l = i + 1\n",
    "        r = len(nums)-1\n",
    "        while (l < r) and (r-1 != l):\n",
    "            total = nums[i] + nums[l] + nums[r] + nums[r-1]\n",
    "            if total == target:\n",
    "                print(\"yes\")\n",
    "                result.add((nums[i], nums[l], nums[r], nums[r-1]))\n",
    "                l += 1\n",
    "                # r -= 1\n",
    "            elif total < 0:\n",
    "                l += 1\n",
    "            else:\n",
    "                r -= 1\n",
    "        return result\n",
    "    \n"
   ]
  },
  {
   "cell_type": "code",
   "execution_count": 6,
   "id": "012f7531-490b-4ced-8a3d-b4c01a9ff981",
   "metadata": {},
   "outputs": [
    {
     "name": "stdout",
     "output_type": "stream",
     "text": [
      "yes\n"
     ]
    },
    {
     "data": {
      "text/plain": [
       "{(-2, -1, 2, 1)}"
      ]
     },
     "execution_count": 6,
     "metadata": {},
     "output_type": "execute_result"
    }
   ],
   "source": [
    "# nums = [2,2,2,2,2]\n",
    "# target = 8\n",
    "\n",
    "\n",
    "nums = [1,0,-1,0,-2,2]\n",
    "target = 0\n",
    "fourSum(nums, target)\n"
   ]
  },
  {
   "cell_type": "code",
   "execution_count": null,
   "id": "12ef8145-de16-44ef-a039-85c2a9c9dd90",
   "metadata": {},
   "outputs": [],
   "source": [
    "\n",
    "[1,0,-1,0,-2,2]\n",
    "\n",
    "-2, -1, 0, 0, 1, 2\n",
    "\n",
    "[[-2,-1,1,2],[-2,0,0,2],[-1,0,0,1]]\n",
    "\n",
    "\n",
    "target = 0\n",
    "\n",
    "brute force: O(N^4)\n",
    "for i in nums:\n",
    "    for j in nums[i+1:]:\n",
    "        for k in nums[j+1:]:\n",
    "            for l in nums[k+1:]:\n",
    "        \n",
    "        \n",
    "i = -2\n",
    "for j in [-1, 0, 0, 1, 2]:\n",
    "    for k in [0, 0, 1, 2]:\n",
    "        for l in [0, 1, 2]:\n",
    "\n",
    "-----------------------------------\n",
    "\n",
    "-2, -1, 0, 0, 1, 2\n",
    "\n",
    "for i in...\n",
    "for j in ...\n",
    "l\n",
    "r\n",
    "\n",
    "i = -2\n",
    "j = -1\n",
    "l = 0\n",
    "r = 2\n",
    "\n",
    "result = -1 so l = 0, r = 2\n",
    "-2, -1, 0, 2 = -1\n",
    "l = 1, r = 2\n",
    "-2, -1, 1, 2 == 0\n",
    "\n",
    "-------------------\n",
    "i = -2\n",
    "j = 0\n",
    "l = 0, r = 2\n",
    "-2, 0, 0, 2 == 0\n",
    "\n",
    "-------------------\n",
    "\n",
    "i = -2\n",
    "j = 0\n",
    "l = 1, r = 2\n",
    "\n",
    "-2, 0, 1, 2 == 1\n",
    "r+=1\n",
    "\n",
    "-------------------\n",
    "\n",
    "\n",
    "\n",
    "\n",
    "\n",
    "\n",
    "\n",
    "\n",
    "\n",
    "\n"
   ]
  },
  {
   "cell_type": "code",
   "execution_count": 95,
   "id": "a3ef7a39-15e3-4d79-aab5-685e605b60f9",
   "metadata": {},
   "outputs": [],
   "source": [
    "\n",
    "def fourSum(nums, target):\n",
    "    result = set()\n",
    "    nums = sorted(nums)\n",
    "    for i in range(len(nums)):\n",
    "        for j in range(i+1, len(nums)-2):\n",
    "            l = j + 1\n",
    "            r = len(nums)-1\n",
    "            while l < r:\n",
    "                total = nums[i] + nums[j] + nums[l] + nums[r]\n",
    "                if total == target:\n",
    "                    result.add((nums[i], nums[j], nums[l], nums[r]))\n",
    "                    l += 1\n",
    "                    r -= 1\n",
    "                elif total < 0:\n",
    "                    l += 1    \n",
    "                else:\n",
    "                    r -= 1  \n",
    "    return result\n",
    "    \n",
    "# -2, -1, 0, 0, 1, 2\n",
    "\n"
   ]
  },
  {
   "cell_type": "code",
   "execution_count": 96,
   "id": "878e4d32-c650-4835-b447-117db536cbcf",
   "metadata": {},
   "outputs": [
    {
     "data": {
      "text/plain": [
       "set()"
      ]
     },
     "execution_count": 96,
     "metadata": {},
     "output_type": "execute_result"
    }
   ],
   "source": [
    "\n",
    "nums = [-3,-1,0,2,4,5]\n",
    "target = 2\n",
    "\n",
    "# nums = [2,2,2,2,2]\n",
    "# target = 8\n",
    "\n",
    "fourSum(nums, target)\n"
   ]
  },
  {
   "cell_type": "code",
   "execution_count": null,
   "id": "88b8d700-59de-4dff-81f5-35eaeeac13e9",
   "metadata": {},
   "outputs": [],
   "source": [
    "\n",
    "-2, -1, 0, 0, 1, 2\n",
    "\n"
   ]
  },
  {
   "cell_type": "code",
   "execution_count": 120,
   "id": "bd02707e-1089-4670-8738-304742bd0d1d",
   "metadata": {},
   "outputs": [],
   "source": [
    "\n",
    "def fourSum(nums, target):\n",
    "    result = set()\n",
    "    nums = sorted(nums)\n",
    "    for i in range(len(nums) - 3):  # Adjust the range to ensure there are 4 elements to consider\n",
    "        \n",
    "        if i > 0 and nums[i] == nums[i-1]:  # Skip duplicate for i\n",
    "            print(\"the indexes for i is {}\".format(i))\n",
    "            continue\n",
    "            \n",
    "        for j in range(i + 1, len(nums) - 2):  # Start from i + 1 to ensure distinctness\n",
    "        \n",
    "            \n",
    "            if j > i + 1 and nums[j] == nums[j-1]:  # Skip duplicate for j\n",
    "                print(\"the indexes for j is {}\".format(j))\n",
    "                continue\n",
    "                \n",
    "            l, r = j + 1, len(nums) - 1\n",
    "            while l < r:\n",
    "                total = nums[i] + nums[j] + nums[l] + nums[r]\n",
    "                if total == target:\n",
    "                    result.add((nums[i], nums[j], nums[l], nums[r]))\n",
    "                    l += 1\n",
    "                    r -= 1\n",
    "                    while l < r and nums[l] == nums[l-1]:  # Skip duplicates for l\n",
    "                        l += 1\n",
    "                    while l < r and nums[r] == nums[r+1]:  # Skip duplicates for r\n",
    "                        r -= 1\n",
    "                elif total < target:  # Compare with target, not 0\n",
    "                    l += 1    \n",
    "                else:\n",
    "                    r -= 1\n",
    "              \n",
    "    return list(result)  # Convert the set to a list for the result\n"
   ]
  },
  {
   "cell_type": "code",
   "execution_count": 121,
   "id": "c4af74aa-8aea-4dba-953b-77d5d3dba467",
   "metadata": {},
   "outputs": [
    {
     "name": "stdout",
     "output_type": "stream",
     "text": [
      "the indexes for j is 3\n",
      "the indexes for j is 3\n"
     ]
    },
    {
     "data": {
      "text/plain": [
       "[(-2, -1, 1, 2), (-1, 0, 0, 1), (-2, 0, 0, 2)]"
      ]
     },
     "execution_count": 121,
     "metadata": {},
     "output_type": "execute_result"
    }
   ],
   "source": [
    "\n",
    "# nums = [-3,-1,0,2,4,5]\n",
    "# target = 2\n",
    "\n",
    "# nums = [2,2,2,2,2]\n",
    "# target = 8\n",
    "\n",
    "nums = [1,0,-1,0,-2,2]\n",
    "target = 0\n",
    "\n",
    "fourSum(nums, target)\n"
   ]
  },
  {
   "cell_type": "code",
   "execution_count": null,
   "id": "4b4503d1-995d-4998-8be9-35bdbef47566",
   "metadata": {},
   "outputs": [],
   "source": [
    "\n",
    "The above code achieved the following performance:\n",
    "Runtime\n",
    "459 ms\n",
    "Beats 46.42% of users with Python3\n",
    "\n",
    "Memory\n",
    "16.70 MB\n",
    "Beats 36.88% of users with Python3\n"
   ]
  }
 ],
 "metadata": {
  "kernelspec": {
   "display_name": "Python 3 (ipykernel)",
   "language": "python",
   "name": "python3"
  },
  "language_info": {
   "codemirror_mode": {
    "name": "ipython",
    "version": 3
   },
   "file_extension": ".py",
   "mimetype": "text/x-python",
   "name": "python",
   "nbconvert_exporter": "python",
   "pygments_lexer": "ipython3",
   "version": "3.9.6"
  }
 },
 "nbformat": 4,
 "nbformat_minor": 5
}
