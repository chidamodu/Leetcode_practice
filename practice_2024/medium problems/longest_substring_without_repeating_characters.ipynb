{
 "cells": [
  {
   "cell_type": "code",
   "execution_count": 20,
   "id": "c1fcfe4a-8ff4-422b-aa68-be7bdfce32b2",
   "metadata": {},
   "outputs": [],
   "source": [
    "\n",
    "def lengthOfLongestSubstring(s):\n",
    "    result = 0\n",
    "    if len(s) == 0:\n",
    "        return 0\n",
    "    for i in range(len(s)):\n",
    "        cluster = s[i]\n",
    "        left = i + 1\n",
    "        while left < len(s):\n",
    "            if s[left] not in cluster:\n",
    "                cluster += s[left]\n",
    "                left += 1\n",
    "            else:\n",
    "                result = max(result, len(cluster))\n",
    "                break;    \n",
    "        result = max(result, len(cluster))\n",
    "    print(result)\n",
    "    return result\n",
    "\n"
   ]
  },
  {
   "cell_type": "code",
   "execution_count": 21,
   "id": "38340135-9535-4baf-89a2-6c74425371ca",
   "metadata": {},
   "outputs": [
    {
     "name": "stdout",
     "output_type": "stream",
     "text": [
      "2\n"
     ]
    },
    {
     "data": {
      "text/plain": [
       "2"
      ]
     },
     "execution_count": 21,
     "metadata": {},
     "output_type": "execute_result"
    }
   ],
   "source": [
    "\n",
    "lengthOfLongestSubstring(\"au\")\n"
   ]
  },
  {
   "cell_type": "code",
   "execution_count": null,
   "id": "a815998f-fc83-49fb-b423-27b25d95233b",
   "metadata": {},
   "outputs": [],
   "source": [
    "first draft - it was not great from runtime perspective\n",
    "\n",
    "class Solution:\n",
    "    def lengthOfLongestSubstring(self, s: str) -> int:\n",
    "        result = 0\n",
    "        if len(s) == 0:\n",
    "            return 0\n",
    "        for i in range(len(s)):\n",
    "            cluster = s[i]\n",
    "            left = i + 1\n",
    "            while left < len(s):\n",
    "                if s[left] not in cluster:\n",
    "                    cluster += s[left]\n",
    "                    left += 1\n",
    "                else:\n",
    "                    result = max(result, len(cluster))\n",
    "                    break;\n",
    "            result = max(result, len(cluster))\n",
    "        return result\n"
   ]
  },
  {
   "cell_type": "code",
   "execution_count": 47,
   "id": "1168277d-69e3-4948-9b2a-3d60bc03c161",
   "metadata": {},
   "outputs": [],
   "source": [
    "Had the idea of left and right but could not implement it correctly\n",
    "\n",
    "def lengthOfLongestSubstring(s):\n",
    "    result = 0\n",
    "    left = 0\n",
    "    right = 0\n",
    "    max_length = 0\n",
    "    \n",
    "    if len(s) == 0:\n",
    "        return 0\n",
    "    \n",
    "    while right < len(s):\n",
    "        if s[right] == s[left]:\n",
    "            # print(left, right)\n",
    "            max_length = max(max_length, len(s[left:right]))\n",
    "            # print(max_length)\n",
    "            left = right\n",
    "            right += 1\n",
    "        else:\n",
    "            right += 1\n",
    "            print(left)\n",
    "    \n",
    "        max_length = max(max_length, len(s[left:right]))\n",
    "    # print(max_length)\n",
    "    return max_length      \n",
    "            "
   ]
  },
  {
   "cell_type": "code",
   "execution_count": 48,
   "id": "aa9bcf40-3422-40c8-9b5b-4c4cc7796541",
   "metadata": {},
   "outputs": [
    {
     "name": "stdout",
     "output_type": "stream",
     "text": [
      "0\n",
      "0\n",
      "3\n",
      "3\n",
      "3\n",
      "3\n"
     ]
    },
    {
     "data": {
      "text/plain": [
       "5"
      ]
     },
     "execution_count": 48,
     "metadata": {},
     "output_type": "execute_result"
    }
   ],
   "source": [
    "\n",
    "lengthOfLongestSubstring(\"abcabcbb\")\n"
   ]
  },
  {
   "cell_type": "code",
   "execution_count": null,
   "id": "33a054cc-e5fc-4abc-87b6-68ad96170650",
   "metadata": {},
   "outputs": [],
   "source": [
    "This solution here optimizes for better runtime performance, meaning you dont have to start finding the substring from every i in a string s. \n",
    "Can optimize by moving past the characters that had been seen already.\n",
    "\n",
    "def lengthOfLongestSubstring(s):\n",
    "    d = {}\n",
    "    left = 0\n",
    "    result = 0\n",
    "    for right in range(len(s)):\n",
    "        if s[right] in d and d[s[right]] >= left:\n",
    "            left = d[s[right]] + 1\n",
    "        d[s[right]] = right\n",
    "        result = max(result, right-left+1)\n",
    "    return result\n",
    "            \n",
    "            \n",
    "Runtime\n",
    "15 ms Beats 80.88%\n",
    "\n",
    "Memory\n",
    "17.39 MB Beats 13.14%\n",
    "\n"
   ]
  },
  {
   "cell_type": "code",
   "execution_count": null,
   "id": "b18effde-0e0d-41c5-8b77-5140ac861afb",
   "metadata": {},
   "outputs": [],
   "source": [
    "Another version\n",
    "\n",
    "def lengthOfLongestSubstring(s):\n",
    "    if len(s) == 0:\n",
    "        return 0\n",
    "    seen = {} \n",
    "    left, right = 0, 0\n",
    "    longest = 1\n",
    "    while right < len(s):\n",
    "        if s[right] in seen:\n",
    "            left = max(left, seen[s[right]]+1)\n",
    "        longest = max(longest, right - left + 1)\n",
    "        seen[s[right]] = right\n",
    "        right += 1\n",
    "    return longest\n"
   ]
  }
 ],
 "metadata": {
  "kernelspec": {
   "display_name": "Python 3 (ipykernel)",
   "language": "python",
   "name": "python3"
  },
  "language_info": {
   "codemirror_mode": {
    "name": "ipython",
    "version": 3
   },
   "file_extension": ".py",
   "mimetype": "text/x-python",
   "name": "python",
   "nbconvert_exporter": "python",
   "pygments_lexer": "ipython3",
   "version": "3.9.6"
  }
 },
 "nbformat": 4,
 "nbformat_minor": 5
}
