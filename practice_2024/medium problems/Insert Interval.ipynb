{
 "cells": [
  {
   "cell_type": "markdown",
   "id": "3e8cd864-01f0-4069-bd65-74432f5e667e",
   "metadata": {},
   "source": [
    "Problem:\n",
    "\n",
    "You are given an array of non-overlapping intervals intervals where intervals[i] = [starti, endi] represent the start and the end of the ith interval and intervals is sorted in ascending order by starti. You are also given an interval newInterval = [start, end] that represents the start and end of another interval.\n",
    "\n",
    "Insert newInterval into intervals such that intervals is still sorted in ascending order by starti and intervals still does not have any overlapping intervals (merge overlapping intervals if necessary).\n",
    "\n",
    "Return intervals after the insertion.\n",
    "\n",
    "Note that you don't need to modify intervals in-place. You can make a new array and return it.\n",
    " \n",
    "Example 1:\n",
    "Input: intervals = [[1,3],[6,9]], newInterval = [2,5]\n",
    "Output: [[1,5],[6,9]]\n",
    "\n",
    "Example 2:\n",
    "Input: intervals = [[1,2],[3,5],[6,7],[8,10],[12,16]], newInterval = [4,8]\n",
    "Output: [[1,2],[3,10],[12,16]]\n",
    "Explanation: Because the new interval [4,8] overlaps with [3,5],[6,7],[8,10].\n",
    " \n",
    "Constraints:\n",
    "0 <= intervals.length <= 104\n",
    "intervals[i].length == 2\n",
    "0 <= starti <= endi <= 105\n",
    "intervals is sorted by starti in ascending order.\n",
    "newInterval.length == 2\n",
    "0 <= start <= end <= 105\n"
   ]
  },
  {
   "cell_type": "markdown",
   "id": "b996be7d-0592-473e-a912-3ce49cdcc24a",
   "metadata": {},
   "source": [
    "\n",
    "## My initial trial\n"
   ]
  },
  {
   "cell_type": "code",
   "execution_count": 101,
   "id": "b8cc5e27-a6b9-4d33-9dbe-5ff2d95d7e4a",
   "metadata": {},
   "outputs": [],
   "source": [
    "\n",
    "\n",
    "def insert(intervals, newInterval):\n",
    "    result_start = 0\n",
    "    result_end = 0\n",
    "    for i in range(len(intervals)):\n",
    "        l = 0\n",
    "        r = len(intervals)\n",
    "        \n",
    "        if (newInterval[0] >= intervals[i][0]) and (newInterval[0] <= intervals[i][1]):\n",
    "            result_start = i\n",
    "\n",
    "        if newInterval[1] >= intervals[i-1][1] and newInterval[1] <= intervals[i][1]:\n",
    "            result_end = i \n",
    "\n",
    "        # if (newInterval[0] >= intervals[i][1]) and (newInterval[0] <= intervals[i+1][0]):\n",
    "        #     result_start = i+1\n",
    "\n",
    "    \n",
    "       \n",
    "    return result_start, result_end\n",
    "        \n",
    "\n"
   ]
  },
  {
   "cell_type": "code",
   "execution_count": 102,
   "id": "9db24038-4c81-438c-9c84-7b507adc0966",
   "metadata": {},
   "outputs": [
    {
     "data": {
      "text/plain": [
       "(0, 1)"
      ]
     },
     "execution_count": 102,
     "metadata": {},
     "output_type": "execute_result"
    }
   ],
   "source": [
    "\n",
    "# intervals = [[1,2],[3,5],[6,7],[8,10],[12,16]]\n",
    "# newInterval = [4,8]\n",
    "\n",
    "# intervals = [[1,3],[6,9]]\n",
    "# newInterval = [2,5]\n",
    "\n",
    "intervals = [[1,3],[9,12]]\n",
    "newInterval = [4,7]\n",
    "\n",
    "insert(intervals, newInterval)\n"
   ]
  },
  {
   "cell_type": "markdown",
   "id": "0add10c7-643e-40a8-93fd-b2b2eb64f82d",
   "metadata": {},
   "source": [
    "## Trials"
   ]
  },
  {
   "cell_type": "code",
   "execution_count": 122,
   "id": "0acd6e9e-38da-42ce-a93c-add6056d1dbb",
   "metadata": {},
   "outputs": [],
   "source": [
    "\n",
    "def insert(intervals, newInterval):\n",
    "    result = []\n",
    "    for i in range(len(intervals)):\n",
    "        if newInterval[1] < intervals[i][0]:\n",
    "            print(\"newinterval completely before\")\n",
    "            \n",
    "\n",
    "        elif newInterval[0] > intervals[i][1]:\n",
    "            print(\"newinterval completely after\")\n",
    "\n",
    "        elif (newInterval[0] >= intervals[i][0] and newInterval[0] <= intervals[i][1]) or (newInterval[1] >= intervals[i][0] and newInterval[1] <= intervals[i][1]):\n",
    "            print(\"merge necessary\")\n",
    "            \n",
    "    "
   ]
  },
  {
   "cell_type": "code",
   "execution_count": 123,
   "id": "991b4224-b2d3-4160-915f-81e18a66e405",
   "metadata": {},
   "outputs": [
    {
     "name": "stdout",
     "output_type": "stream",
     "text": [
      "merge necessary\n",
      "merge necessary\n"
     ]
    }
   ],
   "source": [
    "\n",
    "intervals = [[4, 7],[9,12]]\n",
    "newInterval = [5, 10]\n",
    "\n",
    "insert(intervals, newInterval)\n",
    "\n"
   ]
  },
  {
   "cell_type": "markdown",
   "id": "0c8af8db-dff8-47e5-b373-4525afe2955a",
   "metadata": {},
   "source": [
    "\n",
    "## Final submisison solution\n"
   ]
  },
  {
   "cell_type": "code",
   "execution_count": 135,
   "id": "54562982-d095-44e6-a84b-c9bc29ef712f",
   "metadata": {},
   "outputs": [],
   "source": [
    "\n",
    "\n",
    "def insert(intervals, newInterval):\n",
    "    result = []\n",
    "    i = 0\n",
    "    while i < len(intervals) and newInterval[0] > intervals[i][1]:\n",
    "        result.append(intervals[i])\n",
    "        i += 1\n",
    "    \n",
    "    while i < len(intervals) and newInterval[1] >= intervals[i][0]:\n",
    "        newInterval = [min(newInterval[0], intervals[i][0]), max(newInterval[1], intervals[i][1])]\n",
    "        i += 1   \n",
    "    result.append(newInterval)\n",
    "        \n",
    "    while i < len(intervals):\n",
    "        result.append(intervals[i])\n",
    "        i += 1\n",
    "    \n",
    "    return result\n",
    "            "
   ]
  },
  {
   "cell_type": "code",
   "execution_count": 136,
   "id": "0973c1e5-ab4c-4ec4-8dfd-98b3a5306d6a",
   "metadata": {},
   "outputs": [
    {
     "data": {
      "text/plain": [
       "[[1, 2], [3, 10], [12, 16]]"
      ]
     },
     "execution_count": 136,
     "metadata": {},
     "output_type": "execute_result"
    }
   ],
   "source": [
    "\n",
    "\n",
    "# intervals = [[4, 7],[9,12]]\n",
    "# newInterval = [5, 10]\n",
    "\n",
    "intervals = [[1,2],[3,5],[6,7],[8,10],[12,16]]\n",
    "newInterval = [4,8]\n",
    "\n",
    "# intervals = [[1,3],[6,9]]\n",
    "# newInterval = [2,5]\n",
    "\n",
    "insert(intervals, newInterval)\n"
   ]
  },
  {
   "cell_type": "markdown",
   "id": "89aeb022-e54f-4377-b5c8-72d71a2f6042",
   "metadata": {},
   "source": [
    "\n",
    "The above solution achieves the following performance\n",
    "\n",
    "Runtime\n",
    "77 ms\n",
    "Beats 47.45% of users with Python3\n",
    "\n",
    "Memory\n",
    "19.98 MB\n",
    "Beats 38.31% of users with Python3\n",
    "\n"
   ]
  },
  {
   "cell_type": "markdown",
   "id": "930d8f49-4145-428c-a89a-950728528a46",
   "metadata": {},
   "source": [
    "\n",
    "## Interesting solution by other coders\n"
   ]
  },
  {
   "cell_type": "code",
   "execution_count": 137,
   "id": "4c28bd98-7fe9-44ec-ac25-b38d31a842ef",
   "metadata": {},
   "outputs": [],
   "source": [
    "\n",
    "def insert(intervals,newInterval):\n",
    "    ans = []\n",
    "    start, end = newInterval\n",
    "    \n",
    "    inserted = False\n",
    "    for inv in intervals:\n",
    "        cstart, cend = inv\n",
    "        \n",
    "        if cend < start or inserted:\n",
    "            ans.append([cstart, cend])\n",
    "            continue\n",
    "        \n",
    "        start = min(start, cstart)\n",
    "        if end < cstart:\n",
    "            ans.append([start, end])\n",
    "            ans.append([cstart, cend])\n",
    "            inserted = True\n",
    "            continue\n",
    "        \n",
    "        if end <= cend:\n",
    "            ans.append([start, cend])\n",
    "            inserted = True\n",
    "    \n",
    "    if not inserted:\n",
    "        ans.append([start, end])\n",
    "    \n",
    "    return ans\n"
   ]
  },
  {
   "cell_type": "markdown",
   "id": "00cd3921-63a2-4279-a1af-8d63885f2424",
   "metadata": {},
   "source": [
    "## Asked ChatGPT regarding how to think about the alternative solution above\n",
    "\n",
    "This solution for inserting a new interval into a list of non-overlapping intervals sorted by their start times cleverly manages the insertion and potential merging of intervals through iteration and conditional logic. Here's how to think through this solution:\n",
    "\n",
    "# Step 1: Initialize Variables\n",
    "1. ans: A list to hold the final list of intervals after insertion.\n",
    "2. start, end: The start and end points of newInterval.\n",
    "3. inserted: A flag to keep track of whether newInterval has been inserted into and.\n",
    "\n",
    "# Step 2: Iterate Through Existing Intervals\n",
    "1. The function iterates through each interval inv in intervals.\n",
    "2. For each inv, it extracts the current start and end (cstart, cend).\n",
    "\n",
    "# Step 3: Handle Non-overlapping and Already Inserted Cases\n",
    "1. If the current interval ends before newInterval starts (cend < start) or if newInterval has already been inserted, it adds the current interval to ans and continues to the next iteration.\n",
    "2. This efficiently skips intervals that are clearly before newInterval or continues adding remaining intervals after newInterval has been inserted.\n",
    "\n",
    "# Step 4: Merge or Insert newInterval\n",
    "The function then enters a merging logic:\n",
    "1. If newInterval ends before the current interval starts (end < cstart), it means newInterval is positioned between the previous and current interval without any overlap. It adds newInterval and the current interval to ans, marks newInterval as inserted, and continues.\n",
    "2. If newInterval's end is within the current interval (end <= cend), it merges newInterval with the current interval by creating a new interval from the minimum start (start) and the current interval's end (cend), adds this merged interval to ans, and marks newInterval as inserted.\n",
    "\n",
    "# Step 5: Add newInterval if Not Inserted\n",
    "After iterating through all intervals, if newInterval hasn't been inserted (not inserted), it means newInterval should be added at the end. The function then adds newInterval to and.\n",
    "\n",
    "# How to Think Through This Solution:\n",
    "1. Initialization and Preparation: Prepare variables to track the process and result.\n",
    "2. Iteration with Conditions: Iterate through existing intervals and decide based on their relation to newInterval—whether to add them as is, merge with newInterval, or insert newInterval before them.\n",
    "3. Flag Usage: Use a flag (inserted) to track whether newInterval has been dealt with, optimizing the process by avoiding unnecessary checks or merges after insertion.\n",
    "4. Post-iteration Check: Ensure newInterval is added if it wasn't inserted during iteration, accounting for cases where newInterval falls after all existing intervals.\n"
   ]
  }
 ],
 "metadata": {
  "kernelspec": {
   "display_name": "Python 3 (ipykernel)",
   "language": "python",
   "name": "python3"
  },
  "language_info": {
   "codemirror_mode": {
    "name": "ipython",
    "version": 3
   },
   "file_extension": ".py",
   "mimetype": "text/x-python",
   "name": "python",
   "nbconvert_exporter": "python",
   "pygments_lexer": "ipython3",
   "version": "3.9.6"
  }
 },
 "nbformat": 4,
 "nbformat_minor": 5
}
