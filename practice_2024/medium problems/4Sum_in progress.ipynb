{
 "cells": [
  {
   "cell_type": "code",
   "execution_count": null,
   "id": "5cc2f2ab-4bf9-4e74-98a9-6971bc01086b",
   "metadata": {},
   "outputs": [],
   "source": []
  },
  {
   "cell_type": "code",
   "execution_count": 44,
   "id": "f903c82a-0306-48f8-bd6c-409927dc6279",
   "metadata": {},
   "outputs": [],
   "source": [
    "\n",
    "def fourSum(nums, target):\n",
    "    result = set()\n",
    "    # nums = sorted(nums)\n",
    "    for i in range(len(nums)):\n",
    "        l = i + 1\n",
    "        r = len(nums)-1\n",
    "        while (l < r) and (r-1 != l):\n",
    "            total = nums[i] + nums[l] + nums[r] + nums[r-1]\n",
    "            if total == target:\n",
    "                print(\"yes\")\n",
    "                result.add((nums[i], nums[l], nums[r], nums[r-1]))\n",
    "                l += 1\n",
    "                # r -= 1\n",
    "            elif total < 0:\n",
    "                l += 1\n",
    "            else:\n",
    "                r -= 1\n",
    "        return result\n",
    "    \n"
   ]
  },
  {
   "cell_type": "code",
   "execution_count": 45,
   "id": "012f7531-490b-4ced-8a3d-b4c01a9ff981",
   "metadata": {},
   "outputs": [
    {
     "name": "stdout",
     "output_type": "stream",
     "text": [
      "yes\n",
      "yes\n"
     ]
    },
    {
     "data": {
      "text/plain": [
       "{(2, 2, 2, 2)}"
      ]
     },
     "execution_count": 45,
     "metadata": {},
     "output_type": "execute_result"
    }
   ],
   "source": [
    "nums = [2,2,2,2,2]\n",
    "target = 8\n",
    "\n",
    "\n",
    "# nums = [1,0,-1,0,-2,2]\n",
    "# target = 0\n",
    "fourSum(nums, target)\n"
   ]
  },
  {
   "cell_type": "code",
   "execution_count": null,
   "id": "12ef8145-de16-44ef-a039-85c2a9c9dd90",
   "metadata": {},
   "outputs": [],
   "source": [
    "\n",
    "[1,0,-1,0,-2,2]\n",
    "\n",
    "1\n",
    "val of l=0\n",
    "val of r=2\n",
    "1+0+2-2 = 1\n",
    "\n",
    "val of r=-2\n",
    "1+0-2+0=-1\n",
    "val of l=-1\n",
    "\n",
    "1-1+0-2=-2\n",
    "val of l=0\n",
    "\n",
    "\n",
    "\n",
    "\n",
    "\n",
    "\n",
    "\n"
   ]
  }
 ],
 "metadata": {
  "kernelspec": {
   "display_name": "Python 3 (ipykernel)",
   "language": "python",
   "name": "python3"
  },
  "language_info": {
   "codemirror_mode": {
    "name": "ipython",
    "version": 3
   },
   "file_extension": ".py",
   "mimetype": "text/x-python",
   "name": "python",
   "nbconvert_exporter": "python",
   "pygments_lexer": "ipython3",
   "version": "3.9.6"
  }
 },
 "nbformat": 4,
 "nbformat_minor": 5
}
