{
 "cells": [
  {
   "cell_type": "code",
   "execution_count": 204,
   "id": "0d26e626-9ada-437f-a6d5-8af1541dfcc8",
   "metadata": {},
   "outputs": [],
   "source": [
    "\n",
    "This code is flawed and does not work!\n",
    "\n",
    "def intToRoman(num):\n",
    "    d = {4: \"IV\", 9: \"IX\", 40: \"XL\", 90: \"XC\", 400: \"CD\", 900: \"CM\", 1: \"I\", 5: \"V\", \n",
    "        10: \"X\", 50: \"L\", 100: \"C\", 500: \"D\", 1000: \"M\"}\n",
    "    \n",
    "    result = ''\n",
    "\n",
    "    while num > 0:\n",
    "        if len(str(num)) > 1:\n",
    "            value = 10 ** (len(str(num)) - 1)\n",
    "        else:\n",
    "            value = 10 ** (len(str(num)))\n",
    "    \n",
    "        rem = num % value\n",
    "\n",
    "        if num - rem in d:\n",
    "            result += d[num - rem]\n",
    "        \n",
    "        num = rem\n",
    "    \n",
    "    \n",
    "    \n",
    "        \n",
    "    print(num)\n",
    "\n",
    "    for k, v in d.items():\n",
    "        while num >= k:\n",
    "            result += v\n",
    "            num -= k\n",
    "        \n",
    "        \n",
    "    return result\n",
    "        \n",
    "    \n",
    "\n",
    "        \n",
    "    \n",
    "\n",
    "    \n"
   ]
  },
  {
   "cell_type": "code",
   "execution_count": 205,
   "id": "5b9c30fd-d37c-4993-a400-26c8a7dbe279",
   "metadata": {},
   "outputs": [
    {
     "ename": "KeyboardInterrupt",
     "evalue": "",
     "output_type": "error",
     "traceback": [
      "\u001b[0;31m---------------------------------------------------------------------------\u001b[0m",
      "\u001b[0;31mKeyboardInterrupt\u001b[0m                         Traceback (most recent call last)",
      "Cell \u001b[0;32mIn[205], line 1\u001b[0m\n\u001b[0;32m----> 1\u001b[0m \u001b[43mintToRoman\u001b[49m\u001b[43m(\u001b[49m\u001b[38;5;241;43m58\u001b[39;49m\u001b[43m)\u001b[49m\n",
      "Cell \u001b[0;32mIn[204], line 11\u001b[0m, in \u001b[0;36mintToRoman\u001b[0;34m(num)\u001b[0m\n\u001b[1;32m      9\u001b[0m     value \u001b[38;5;241m=\u001b[39m \u001b[38;5;241m10\u001b[39m \u001b[38;5;241m*\u001b[39m\u001b[38;5;241m*\u001b[39m (\u001b[38;5;28mlen\u001b[39m(\u001b[38;5;28mstr\u001b[39m(num)) \u001b[38;5;241m-\u001b[39m \u001b[38;5;241m1\u001b[39m)\n\u001b[1;32m     10\u001b[0m \u001b[38;5;28;01melse\u001b[39;00m:\n\u001b[0;32m---> 11\u001b[0m     value \u001b[38;5;241m=\u001b[39m \u001b[38;5;241m10\u001b[39m \u001b[38;5;241m*\u001b[39m\u001b[38;5;241m*\u001b[39m (\u001b[38;5;28mlen\u001b[39m(\u001b[38;5;28;43mstr\u001b[39;49m\u001b[43m(\u001b[49m\u001b[43mnum\u001b[49m\u001b[43m)\u001b[49m))\n\u001b[1;32m     13\u001b[0m rem \u001b[38;5;241m=\u001b[39m num \u001b[38;5;241m%\u001b[39m value\n\u001b[1;32m     15\u001b[0m \u001b[38;5;28;01mif\u001b[39;00m num \u001b[38;5;241m-\u001b[39m rem \u001b[38;5;129;01min\u001b[39;00m d:\n",
      "\u001b[0;31mKeyboardInterrupt\u001b[0m: "
     ]
    }
   ],
   "source": [
    "\n",
    "intToRoman(58)\n"
   ]
  },
  {
   "cell_type": "code",
   "execution_count": 150,
   "id": "56f7bc36-83dd-4ccc-806d-120a1b45eec5",
   "metadata": {},
   "outputs": [],
   "source": [
    "\n",
    "def intToRoman(num):\n",
    "    Roman = \"\"\n",
    "    d = [[1000, \"M\"], [900, \"CM\"], [500, \"D\"], [400, \"CD\"], [100, \"C\"], [90, \"XC\"], [50, \"L\"], [40, \"XL\"], [10, \"X\"], [9, \"IX\"], [5, \"V\"], [4, \"IV\"], [1, \"I\"]]\n",
    "    for i in range(len(d)):\n",
    "        while num >= d[i][0]:\n",
    "            Roman += d[i][1]\n",
    "            num -= d[i][0]\n",
    "    return Roman\n",
    "\n"
   ]
  },
  {
   "cell_type": "code",
   "execution_count": 151,
   "id": "8162f69a-3600-44d2-85d4-b27814d825c1",
   "metadata": {},
   "outputs": [
    {
     "data": {
      "text/plain": [
       "'LVIII'"
      ]
     },
     "execution_count": 151,
     "metadata": {},
     "output_type": "execute_result"
    }
   ],
   "source": [
    "\n",
    "intToRoman(58)\n"
   ]
  },
  {
   "cell_type": "code",
   "execution_count": null,
   "id": "3db0ce5c-2cd7-4f0e-af8e-a4e01c513a5b",
   "metadata": {},
   "outputs": [],
   "source": [
    "Final submission\n",
    "\n",
    "class Solution:\n",
    "    def intToRoman(self, num: int) -> str:\n",
    "        Roman = \"\"\n",
    "        d = [[1000, \"M\"], [900, \"CM\"], [500, \"D\"], [400, \"CD\"], [100, \"C\"], [90, \"XC\"], [50, \"L\"], [40, \"XL\"], [10, \"X\"], [9, \"IX\"], [5, \"V\"], [4, \"IV\"], [1, \"I\"]]\n",
    "        for i in range(len(d)):\n",
    "            while num >= d[i][0]:\n",
    "                Roman += d[i][1]\n",
    "                num -= d[i][0]\n",
    "        return Roman\n"
   ]
  },
  {
   "cell_type": "code",
   "execution_count": null,
   "id": "2fb9e3bd-adad-435f-ac62-0320f2aab628",
   "metadata": {},
   "outputs": [],
   "source": [
    "\n",
    "The final submission has achieved the following result:\n",
    "\n",
    "Runtime\n",
    "51 ms\n",
    "Beats 40.56% of users with Python3\n",
    "\n",
    "Memory\n",
    "16.60 MB\n",
    "Beats 76.94% of users with Python3\n"
   ]
  }
 ],
 "metadata": {
  "kernelspec": {
   "display_name": "Python 3 (ipykernel)",
   "language": "python",
   "name": "python3"
  },
  "language_info": {
   "codemirror_mode": {
    "name": "ipython",
    "version": 3
   },
   "file_extension": ".py",
   "mimetype": "text/x-python",
   "name": "python",
   "nbconvert_exporter": "python",
   "pygments_lexer": "ipython3",
   "version": "3.9.6"
  }
 },
 "nbformat": 4,
 "nbformat_minor": 5
}
