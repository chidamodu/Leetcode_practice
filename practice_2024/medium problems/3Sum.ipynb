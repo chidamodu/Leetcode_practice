{
 "cells": [
  {
   "cell_type": "code",
   "execution_count": 102,
   "id": "71fd8fb7-3d40-43be-8eca-a0497629b25f",
   "metadata": {},
   "outputs": [],
   "source": [
    "\n",
    "def threeSum(nums):\n",
    "    nums = sorted(nums)\n",
    "    l = 0\n",
    "    r = len(nums)-1\n",
    "    triplet = []\n",
    "    \n",
    "    while l < r:\n",
    "        for i in range(len(nums)):\n",
    "            total = nums[i]+nums[l]+nums[r]\n",
    "            if total == 0 and [nums[i], nums[l], nums[r]] not in triplet:\n",
    "                triplet.append([nums[i], nums[l], nums[r]])\n",
    "                l += 1\n",
    "                r -= 1 \n",
    "            elif total < 0:\n",
    "                l += 1\n",
    "            else:\n",
    "                r -= 1\n",
    "            \n",
    "            \n",
    "    return triplet\n",
    "                \n",
    "                \n",
    "                \n",
    "            \n",
    "        \n"
   ]
  },
  {
   "cell_type": "code",
   "execution_count": 103,
   "id": "8a862ab0-0ffd-4feb-8e9b-57c82436cb75",
   "metadata": {},
   "outputs": [
    {
     "data": {
      "text/plain": [
       "[[-1, -1, 2]]"
      ]
     },
     "execution_count": 103,
     "metadata": {},
     "output_type": "execute_result"
    }
   ],
   "source": [
    "\n",
    "nums = [-1,0,1,2,-1,-4]\n",
    "threeSum(nums)\n"
   ]
  },
  {
   "cell_type": "code",
   "execution_count": 240,
   "id": "302e4629-4e98-467f-acb2-78533abe6934",
   "metadata": {},
   "outputs": [],
   "source": [
    "\n",
    "def threeSum(nums):\n",
    "    nums = sorted(nums)\n",
    "    # triplet = {}\n",
    "    triplet = []\n",
    "\n",
    "     \n",
    "    for i in range(len(nums)):\n",
    "        l = i+1\n",
    "        r = len(nums)-1\n",
    "        while l < r:\n",
    "            # if nums[l] > 0 or nums[r] < 0: when I added this condition here solution did not work for all test cases\n",
    "            #     break;\n",
    "            total = nums[i]+nums[l]+nums[r]\n",
    "            \n",
    "            if total == 0:\n",
    "                # triplet[(nums[i], nums[l], nums[r])] = 1\n",
    "                triplet.append([nums[i], nums[l], nums[r]])\n",
    "                l += 1\n",
    "                r -= 1\n",
    "      \n",
    "            elif total < 0:\n",
    "                l += 1\n",
    "            else:\n",
    "                r -= 1\n",
    "\n",
    "            \n",
    "    # list(triplet.keys())       \n",
    "    return triplet\n"
   ]
  },
  {
   "cell_type": "code",
   "execution_count": 241,
   "id": "abde8a5a-75b5-4558-af62-0f65d32721b6",
   "metadata": {},
   "outputs": [
    {
     "data": {
      "text/plain": [
       "[[-1, -1, 2], [-1, 0, 1], [-1, 0, 1]]"
      ]
     },
     "execution_count": 241,
     "metadata": {},
     "output_type": "execute_result"
    }
   ],
   "source": [
    "\n",
    "nums = [-1,0,1,2,-1,-4]\n",
    "threeSum(nums)\n"
   ]
  },
  {
   "cell_type": "code",
   "execution_count": null,
   "id": "22c1bd10-58b2-4227-9e10-92c0fe8214e1",
   "metadata": {},
   "outputs": [],
   "source": [
    "Final submission solution\n",
    "\n",
    "class Solution:\n",
    "    def threeSum(self, nums: List[int]) -> List[List[int]]:\n",
    "        nums = sorted(nums)\n",
    "        triplet = {}\n",
    "        for i in range(len(nums)):\n",
    "            l = i+1\n",
    "            r = len(nums)-1\n",
    "            while l < r:\n",
    "                total = nums[i]+nums[l]+nums[r]\n",
    "                if total == 0:\n",
    "                    triplet[(nums[i], nums[l], nums[r])] = 1\n",
    "                    l += 1\n",
    "                elif total < 0:\n",
    "                    l += 1\n",
    "                else:\n",
    "                    r -= 1   \n",
    "    return list(triplet.keys())\n",
    "\n"
   ]
  },
  {
   "cell_type": "code",
   "execution_count": null,
   "id": "fc3c01c4-7ee6-4956-bc46-5e71f17311b3",
   "metadata": {},
   "outputs": [],
   "source": [
    "The above solution achieved the following performance\n",
    "\n",
    "Runtime\n",
    "2109 ms\n",
    "Beats 6.29% of users with Python3\n",
    "\n",
    "\n",
    "Memory\n",
    "20.18 MB\n",
    "Beats 93.73% of users with Python3\n"
   ]
  },
  {
   "cell_type": "code",
   "execution_count": 229,
   "id": "6f1c98d7-2793-4d43-9979-d45048458cdf",
   "metadata": {},
   "outputs": [],
   "source": [
    "del threeSum"
   ]
  },
  {
   "cell_type": "code",
   "execution_count": null,
   "id": "18e8dfca-8a7f-47bf-b384-0b193d991055",
   "metadata": {},
   "outputs": [],
   "source": [
    "\n",
    "If you add r -= 1 under the condition if total == 0, then the performance improves a bit more.\n",
    "\n",
    "class Solution:\n",
    "    def threeSum(self, nums: List[int]) -> List[List[int]]:\n",
    "        nums = sorted(nums)\n",
    "        triplet = {}\n",
    "        for i in range(len(nums)):\n",
    "            l = i+1\n",
    "            r = len(nums)-1\n",
    "            while l < r:\n",
    "                total = nums[i]+nums[l]+nums[r]\n",
    "                if total == 0:\n",
    "                    triplet[(nums[i], nums[l], nums[r])] = 1\n",
    "                    l += 1\n",
    "                    r -= 1\n",
    "                elif total < 0:\n",
    "                    l += 1\n",
    "                else:\n",
    "                    r -= 1 \n",
    "        return list(triplet.keys())\n"
   ]
  },
  {
   "cell_type": "code",
   "execution_count": null,
   "id": "daed3a0d-5087-4243-92be-049dca46cddb",
   "metadata": {},
   "outputs": [],
   "source": [
    "\n",
    "Runtime\n",
    "1554 ms\n",
    "Beats 16.06% of users with Python3\n",
    "\n",
    "Memory\n",
    "20.16 MB\n",
    "Beats 93.73% of users with Python3\n"
   ]
  },
  {
   "cell_type": "code",
   "execution_count": null,
   "id": "73bd7a85-b953-47f8-82bd-fe6e598c7a7a",
   "metadata": {},
   "outputs": [],
   "source": [
    "If I only decrement r instead of incrementing l then the solution achieves the following performance\n",
    "\n",
    "class Solution:\n",
    "    def threeSum(self, nums: List[int]) -> List[List[int]]:\n",
    "        nums = sorted(nums)\n",
    "        triplet = {}\n",
    "        for i in range(len(nums)):\n",
    "            l = i+1\n",
    "            r = len(nums)-1\n",
    "            while l < r:\n",
    "                total = nums[i]+nums[l]+nums[r]\n",
    "                if total == 0:\n",
    "                    triplet[(nums[i], nums[l], nums[r])] = 1\n",
    "                    # l += 1\n",
    "                    r -= 1\n",
    "                elif total < 0:\n",
    "                    l += 1\n",
    "                else:\n",
    "                    r -= 1 \n",
    "        return list(triplet.keys())\n",
    "\n"
   ]
  },
  {
   "cell_type": "code",
   "execution_count": null,
   "id": "ad0acd78-65bf-4929-8032-9ef1bc75051c",
   "metadata": {},
   "outputs": [],
   "source": [
    "\n",
    "Runtime\n",
    "2125 ms\n",
    "Beats 6.08% of users with Python3\n",
    "\n",
    "\n",
    "Memory\n",
    "20.16 MB\n",
    "Beats 93.73% of users with Python3\n"
   ]
  }
 ],
 "metadata": {
  "kernelspec": {
   "display_name": "Python 3 (ipykernel)",
   "language": "python",
   "name": "python3"
  },
  "language_info": {
   "codemirror_mode": {
    "name": "ipython",
    "version": 3
   },
   "file_extension": ".py",
   "mimetype": "text/x-python",
   "name": "python",
   "nbconvert_exporter": "python",
   "pygments_lexer": "ipython3",
   "version": "3.9.6"
  }
 },
 "nbformat": 4,
 "nbformat_minor": 5
}
