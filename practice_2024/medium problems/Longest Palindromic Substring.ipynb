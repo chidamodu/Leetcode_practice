{
 "cells": [
  {
   "cell_type": "code",
   "execution_count": 33,
   "id": "c1cfd9bd-ef5b-4237-a4f9-e74591eec24f",
   "metadata": {},
   "outputs": [],
   "source": [
    "\n",
    "def findLongestPalindrome(s):\n",
    "    def expandAroundCenter(left, right):\n",
    "        while left >= 0 and right < len(s) and s[left] == s[right]:\n",
    "            left -= 1\n",
    "            right += 1\n",
    "            \n",
    "        return s[left+1:right]  # Return the palindrome substring\n",
    "\n",
    "    longestPalindrome = \"\"\n",
    "    for i in range(len(s)):\n",
    "        # Check for odd-length palindromes\n",
    "        oddPalindrome = expandAroundCenter(i, i)\n",
    "        print(\"odd index at {} and outcome is {}\".format(i, oddPalindrome))\n",
    "        if len(oddPalindrome) > len(longestPalindrome):\n",
    "            longestPalindrome = oddPalindrome\n",
    "        \n",
    "        # Check for even-length palindromes\n",
    "        evenPalindrome = expandAroundCenter(i, i + 1)\n",
    "        print(evenPalindrome)\n",
    "        if len(evenPalindrome) > len(longestPalindrome):\n",
    "            longestPalindrome = evenPalindrome\n",
    "\n",
    "    return longestPalindrome\n"
   ]
  },
  {
   "cell_type": "code",
   "execution_count": 34,
   "id": "6ab42227-2073-4527-8207-6412dfeac638",
   "metadata": {},
   "outputs": [
    {
     "name": "stdout",
     "output_type": "stream",
     "text": [
      "odd index at 0 and outcome is b\n",
      "\n",
      "odd index at 1 and outcome is bab\n",
      "\n",
      "odd index at 2 and outcome is aba\n",
      "\n",
      "odd index at 3 and outcome is a\n",
      "\n",
      "odd index at 4 and outcome is d\n",
      "\n"
     ]
    },
    {
     "data": {
      "text/plain": [
       "'bab'"
      ]
     },
     "execution_count": 34,
     "metadata": {},
     "output_type": "execute_result"
    }
   ],
   "source": [
    "\n",
    "findLongestPalindrome(\"babad\")\n"
   ]
  },
  {
   "cell_type": "code",
   "execution_count": 35,
   "id": "34e36052-cead-436f-a482-5d835f9d0198",
   "metadata": {},
   "outputs": [
    {
     "data": {
      "text/plain": [
       "'cb'"
      ]
     },
     "execution_count": 35,
     "metadata": {},
     "output_type": "execute_result"
    }
   ],
   "source": [
    "\n",
    "s = \"cbbd\"\n",
    "s[0:2]\n"
   ]
  },
  {
   "cell_type": "code",
   "execution_count": null,
   "id": "a833776e-f80c-439c-966e-dd45497f5315",
   "metadata": {},
   "outputs": [],
   "source": [
    "Final submission\n",
    "\n",
    "class Solution:\n",
    "    def longestPalindrome(self, s: str) -> str:\n",
    "        def expandAroundCenter(left, right):\n",
    "            while left >= 0 and right < len(s) and s[left] == s[right]:\n",
    "                left -= 1\n",
    "                right += 1\n",
    "            return s[left + 1:right]  # Return the palindrome substring\n",
    "\n",
    "        longestPalindrome = \"\"\n",
    "        for i in range(len(s)):\n",
    "            # Check for odd-length palindromes\n",
    "            oddPalindrome = expandAroundCenter(i, i)\n",
    "            if len(oddPalindrome) > len(longestPalindrome):\n",
    "                longestPalindrome = oddPalindrome\n",
    "            \n",
    "            # Check for even-length palindromes\n",
    "            evenPalindrome = expandAroundCenter(i, i + 1)\n",
    "            if len(evenPalindrome) > len(longestPalindrome):\n",
    "                longestPalindrome = evenPalindrome\n",
    "\n",
    "        return longestPalindrome\n",
    "        \n"
   ]
  },
  {
   "cell_type": "code",
   "execution_count": null,
   "id": "1623e50f-2f28-44e5-b57c-181992ac4312",
   "metadata": {},
   "outputs": [],
   "source": [
    "The above solution has achieved the below performance:\n",
    "\n",
    "Runtime\n",
    "272 ms\n",
    "Beats 85.67% of users with Python3\n",
    "\n",
    "Memory\n",
    "16.44 MB\n",
    "Beats 98.83% of users with Python3\n",
    "\n"
   ]
  }
 ],
 "metadata": {
  "kernelspec": {
   "display_name": "Python 3 (ipykernel)",
   "language": "python",
   "name": "python3"
  },
  "language_info": {
   "codemirror_mode": {
    "name": "ipython",
    "version": 3
   },
   "file_extension": ".py",
   "mimetype": "text/x-python",
   "name": "python",
   "nbconvert_exporter": "python",
   "pygments_lexer": "ipython3",
   "version": "3.9.6"
  }
 },
 "nbformat": 4,
 "nbformat_minor": 5
}
