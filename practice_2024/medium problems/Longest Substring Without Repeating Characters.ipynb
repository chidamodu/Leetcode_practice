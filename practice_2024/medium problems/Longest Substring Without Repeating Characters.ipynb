{
 "cells": [
  {
   "cell_type": "code",
   "execution_count": 327,
   "id": "78ef72a7-ce26-4435-aa24-689a7d2ae0c8",
   "metadata": {},
   "outputs": [],
   "source": [
    "\n",
    "\n",
    "def lengthOfLongestSubstring(s):\n",
    "    result = []\n",
    "    for i in range(len(s)):\n",
    "        j = i + 1\n",
    "        while j < len(s):\n",
    "            if s[j] not in s[i:j]:\n",
    "                j += 1   \n",
    "            else: \n",
    "                break;\n",
    "        result.append((s[i:j]))\n",
    "        print(s[i:j])\n",
    "    if result:\n",
    "        return len(max(result, key=len))\n",
    "    return len(s)\n",
    "      \n"
   ]
  },
  {
   "cell_type": "code",
   "execution_count": 328,
   "id": "fdfff424-70d6-492a-8926-e6520301af6e",
   "metadata": {},
   "outputs": [
    {
     "name": "stdout",
     "output_type": "stream",
     "text": [
      "xyzabc\n",
      "yzabc\n",
      "zabc\n",
      "abc\n",
      "bca\n",
      "cab\n",
      "abc\n",
      "bc\n",
      "cb\n",
      "b\n",
      "b\n"
     ]
    },
    {
     "data": {
      "text/plain": [
       "6"
      ]
     },
     "execution_count": 328,
     "metadata": {},
     "output_type": "execute_result"
    }
   ],
   "source": [
    "\n",
    "lengthOfLongestSubstring(\"xyzabcabcbb\")\n",
    "\n",
    "# \"abcabcbb\"\n",
    "# \"abcaklmnop\"\n"
   ]
  },
  {
   "cell_type": "markdown",
   "id": "b4d5ebcc-f05c-4e4e-9ab2-3631f67358cb",
   "metadata": {},
   "source": [
    "## Not the greatest from a runtime perspective. We can do better. But I am happy that I solved the problem in the first place. That's something. Yay! Proud of myself\n",
    "\n",
    "Runtime\n",
    "338 ms\n",
    "Beats 9.48% of users with Python3\n",
    "\n",
    "21.24 MB\n",
    "Beats 8.30% of users with Python3\n"
   ]
  },
  {
   "cell_type": "code",
   "execution_count": 442,
   "id": "844017b2-4005-43e8-b4eb-bb8591124146",
   "metadata": {},
   "outputs": [],
   "source": [
    "\n",
    "def lengthOfLongestSubstring(s):\n",
    "    result = []\n",
    "    left = 0\n",
    "    right = 0\n",
    "    d = {}\n",
    "    \n",
    "    while right < len(s):\n",
    "        if s[right] in d:\n",
    "            print(d)\n",
    "            # left = right + 1\n",
    "            left = d[s[right]]+1\n",
    "            # left = max(left, d[s[right]]+1)\n",
    "            print(left)\n",
    "        d[s[right]] = right\n",
    "        right += 1\n",
    "    print(d)\n",
    "        \n",
    "\n",
    "    \n",
    "            \n",
    "            \n",
    "       "
   ]
  },
  {
   "cell_type": "code",
   "execution_count": 443,
   "id": "9c2da442-f824-4523-86ea-bb55880ce01b",
   "metadata": {},
   "outputs": [
    {
     "name": "stdout",
     "output_type": "stream",
     "text": [
      "{'x': 0, 'y': 1, 'z': 2, 'a': 3, 'b': 4, 'c': 5, 'd': 6, 'e': 7, 'f': 8, 'g': 9, 'h': 10, 'i': 11, 'j': 12, 'k': 13}\n",
      "4\n",
      "{'x': 0, 'y': 1, 'z': 2, 'a': 14, 'b': 4, 'c': 5, 'd': 6, 'e': 7, 'f': 8, 'g': 9, 'h': 10, 'i': 11, 'j': 12, 'k': 13}\n",
      "5\n",
      "{'x': 0, 'y': 1, 'z': 2, 'a': 14, 'b': 15, 'c': 5, 'd': 6, 'e': 7, 'f': 8, 'g': 9, 'h': 10, 'i': 11, 'j': 12, 'k': 13}\n",
      "6\n",
      "{'x': 0, 'y': 1, 'z': 2, 'a': 14, 'b': 15, 'c': 16, 'd': 6, 'e': 7, 'f': 8, 'g': 9, 'h': 10, 'i': 11, 'j': 12, 'k': 13}\n",
      "16\n",
      "{'x': 0, 'y': 1, 'z': 2, 'a': 14, 'b': 17, 'c': 16, 'd': 6, 'e': 7, 'f': 8, 'g': 9, 'h': 10, 'i': 11, 'j': 12, 'k': 13}\n",
      "18\n",
      "{'x': 0, 'y': 1, 'z': 2, 'a': 14, 'b': 18, 'c': 16, 'd': 6, 'e': 7, 'f': 8, 'g': 9, 'h': 10, 'i': 11, 'j': 12, 'k': 13}\n"
     ]
    }
   ],
   "source": [
    "\n",
    "lengthOfLongestSubstring(\"xyzabcdefghijkabcbb\")\n",
    "# 13\n",
    "# 16\n",
    "# 17\n"
   ]
  },
  {
   "cell_type": "code",
   "execution_count": 441,
   "id": "30ecd2a6-9a14-45a9-8c56-2fb5e9bd1149",
   "metadata": {},
   "outputs": [],
   "source": [
    "\n",
    "del lengthOfLongestSubstring\n"
   ]
  },
  {
   "cell_type": "code",
   "execution_count": 363,
   "id": "cbd98ba5-5df1-4cc0-8bf3-7cee1ea2ea0d",
   "metadata": {},
   "outputs": [],
   "source": [
    "\n",
    "def lengthOfLongestSubstring(s):\n",
    "        seen = {} \n",
    "        left, right = 0, 0\n",
    "        longest = 1\n",
    "        print(\"left before is {}, right before is {}\".format(left, right))\n",
    "        while right < len(s):\n",
    "            if s[right] in seen:\n",
    "                left = max(left, seen[s[right]]+1)\n",
    "                # print(\"left is {}, right is {}\".format(left, right))\n",
    "                # print(s[left:right+1])\n",
    "            longest = max(longest, right - left + 1)\n",
    "            seen[s[right]] = right\n",
    "            right += 1\n",
    "            # print(left, right, longest)\n",
    "        return longest\n"
   ]
  },
  {
   "cell_type": "code",
   "execution_count": 364,
   "id": "96892ba4-fba0-4293-a670-0499e49b1b53",
   "metadata": {},
   "outputs": [
    {
     "name": "stdout",
     "output_type": "stream",
     "text": [
      "left before is 0, right before is 0\n",
      "left is 1, right is 1\n",
      "x\n",
      "left is 5, right is 7\n",
      "bca\n",
      "left is 6, right is 8\n",
      "cab\n",
      "left is 7, right is 9\n",
      "abc\n",
      "left is 9, right is 10\n",
      "cb\n",
      "left is 11, right is 11\n",
      "b\n"
     ]
    },
    {
     "data": {
      "text/plain": [
       "6"
      ]
     },
     "execution_count": 364,
     "metadata": {},
     "output_type": "execute_result"
    }
   ],
   "source": [
    "\n",
    "lengthOfLongestSubstring(\"xxyzabcabcbb\")\n",
    "\n"
   ]
  },
  {
   "cell_type": "code",
   "execution_count": null,
   "id": "b51f1e78-5ee2-4b5d-b604-48864c7d39f4",
   "metadata": {},
   "outputs": [],
   "source": [
    "#Final submission solution\n",
    "\n",
    "class Solution:\n",
    "    def lengthOfLongestSubstring(self, s: str) -> int:\n",
    "        if len(s) == 0:\n",
    "            return 0\n",
    "        seen = {} \n",
    "        left, right = 0, 0\n",
    "        longest = 1\n",
    "        while right < len(s):\n",
    "            if s[right] in seen:\n",
    "                left = max(left, seen[s[right]]+1)\n",
    "            longest = max(longest, right - left + 1)\n",
    "            seen[s[right]] = right\n",
    "            right += 1\n",
    "        return longest\n"
   ]
  },
  {
   "cell_type": "code",
   "execution_count": null,
   "id": "6911f40f-94e1-4ff9-92c4-5f388d5c64f2",
   "metadata": {},
   "outputs": [],
   "source": [
    "\n",
    "The final solution above has achieved the following:\n",
    "\n",
    "Runtime\n",
    "62 ms\n",
    "Beats 46.12% of users with Python3\n",
    "\n",
    "Memory\n",
    "16.66 MB\n",
    "Beats 69.41% of users with Python3\n"
   ]
  }
 ],
 "metadata": {
  "kernelspec": {
   "display_name": "Python 3 (ipykernel)",
   "language": "python",
   "name": "python3"
  },
  "language_info": {
   "codemirror_mode": {
    "name": "ipython",
    "version": 3
   },
   "file_extension": ".py",
   "mimetype": "text/x-python",
   "name": "python",
   "nbconvert_exporter": "python",
   "pygments_lexer": "ipython3",
   "version": "3.9.6"
  }
 },
 "nbformat": 4,
 "nbformat_minor": 5
}
