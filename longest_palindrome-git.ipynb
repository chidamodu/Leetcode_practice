{
 "cells": [
  {
   "cell_type": "code",
   "execution_count": null,
   "metadata": {
    "collapsed": true
   },
   "outputs": [],
   "source": [
    "Given a string s, find the longest palindromic substring in s. You may assume that the maximum length of s is 1000.\n",
    "Input: \"babad\"\n",
    "Output: \"bab\"\n",
    "Note: \"aba\" is also a valid answer.\n",
    "    \n",
    "Input: \"cbbd\"\n",
    "Output: \"bb\"\n",
    "\n",
    "assume when there is no palindrome substring return empty string\n",
    "another assumption is that the given string is not a reversible one\n",
    "\n",
    "pseudo:\n",
    "set the maximum limit: while len(s) <= 1000\n",
    "loop through the length of the string\n",
    "slice until every element, reverse, and verify\n",
    "find the length if the reversed equals the unreversed version\n",
    "keep iterating until the end of the length\n",
    "\n",
    "\n",
    "\n"
   ]
  },
  {
   "cell_type": "code",
   "execution_count": 1,
   "metadata": {
    "collapsed": true
   },
   "outputs": [],
   "source": [
    "class Solution:\n",
    "    def longestPalindrome(self, s):\n",
    "        start=0\n",
    "        maxlen=1\n",
    "        n=len(s)\n",
    "        dm=[[False]*n for _ in range(n)]\n",
    "        for i in range(n):\n",
    "            dm[i][i]=True\n",
    "        \n",
    "        for i in range(n-1):\n",
    "            if s[i]==s[i+1]:\n",
    "                dm[i][i+1]=True\n",
    "                maxlen=2\n",
    "        \n",
    "        \n",
    "        l=3\n",
    "        while l <= n:\n",
    "            for i in range(n-l-1):\n",
    "                j=i+l-1\n",
    "                if dm[i+1][j-1] and s[i]==s[j]:\n",
    "                    dm[i][j]=True\n",
    "                    start=i\n",
    "                    maxlen=3\n",
    "            l+=1\n",
    "        \n",
    "        \n",
    "        return maxlen\n",
    "        "
   ]
  },
  {
   "cell_type": "code",
   "execution_count": 2,
   "metadata": {
    "collapsed": true
   },
   "outputs": [],
   "source": [
    "leo=Solution()\n"
   ]
  },
  {
   "cell_type": "code",
   "execution_count": 3,
   "metadata": {
    "scrolled": true
   },
   "outputs": [
    {
     "data": {
      "text/plain": [
       "3"
      ]
     },
     "execution_count": 3,
     "metadata": {},
     "output_type": "execute_result"
    }
   ],
   "source": [
    "leo.longestPalindrome(\"babad\")"
   ]
  }
 ],
 "metadata": {
  "kernelspec": {
   "display_name": "Python [conda root]",
   "language": "python",
   "name": "conda-root-py"
  },
  "language_info": {
   "codemirror_mode": {
    "name": "ipython",
    "version": 3
   },
   "file_extension": ".py",
   "mimetype": "text/x-python",
   "name": "python",
   "nbconvert_exporter": "python",
   "pygments_lexer": "ipython3",
   "version": "3.5.4"
  }
 },
 "nbformat": 4,
 "nbformat_minor": 2
}
