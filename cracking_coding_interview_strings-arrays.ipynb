{
 "cells": [
  {
   "cell_type": "code",
   "execution_count": 3,
   "metadata": {
    "collapsed": true
   },
   "outputs": [],
   "source": [
    "# Implement an algorithm to determine if a string has all unique characters. What\n",
    "# if you cannot use additional data structures?\n",
    "\n",
    "def unique_string(s):\n",
    "    if len(s)==len(set(s)):\n",
    "        return True\n",
    "    return False"
   ]
  },
  {
   "cell_type": "code",
   "execution_count": 4,
   "metadata": {},
   "outputs": [
    {
     "data": {
      "text/plain": [
       "True"
      ]
     },
     "execution_count": 4,
     "metadata": {},
     "output_type": "execute_result"
    }
   ],
   "source": [
    "unique_string(\"hel\")"
   ]
  },
  {
   "cell_type": "code",
   "execution_count": 56,
   "metadata": {},
   "outputs": [],
   "source": [
    "\n",
    "# ideas:\n",
    "# 1.have two counters: start and end and move the start counter from the beginning and end counter from the last part and check whether two characters are equal\n",
    "# pros:it might be efficient in terms of time complexity but the algorithm wont check all the characters in the string. so it wont work\n",
    "# 2.use binary search algorithm:it wont work\n",
    "# 3.use two loops: outer loop will loop through the length of the string and the inner loop will go over the length of the string -1.\n",
    "# meaning:if the outer loop starts with one character, leave the character out and loop through from the next character till the end of the string\n",
    "# pros:this method will check all the characters. cons:time complexity will be: for outer loop it is O(n) and for inner loop it is O(n-1) so it will be O(n)*O(n-1)\n",
    "# the goal is to code in a way to reduce the time complexity in the option:3 dictionary is an option! because the loop-up in a dictionary will always leads to O(1)\n",
    "\n",
    "# pseudo:\n",
    "# set a dict and a counter\n",
    "# check whether a character already exists in the dict. if yes increment the counter. if not add 0 as the value\n",
    "#try to loop through the values in a dictionary and check whether any value is more than 1 if yes return False\n",
    "\n",
    "def unique_str(s):#this function is not done yet. The next step is to iterate through the values and check if any of the values has more than one. If yes, then return True else return False \n",
    "    d={}\n",
    "    c=0\n",
    "    for item in s:\n",
    "        d[item]=d.get(item, c)+1\n",
    "\n",
    "    return d\n",
    "    \n",
    "#         if v > 1:\n",
    "#             return False\n",
    "#         else:\n",
    "#             return True\n",
    "        \n",
    "#             print(d[k])\n",
    "#             return False\n",
    "#         else:\n",
    "#             return True\n",
    "        \n",
    "    "
   ]
  },
  {
   "cell_type": "code",
   "execution_count": 57,
   "metadata": {},
   "outputs": [
    {
     "data": {
      "text/plain": [
       "{'e': 1, 'h': 1, 'l': 2, 'o': 1}"
      ]
     },
     "execution_count": 57,
     "metadata": {},
     "output_type": "execute_result"
    }
   ],
   "source": [
    "unique_str(\"hello\")"
   ]
  },
  {
   "cell_type": "code",
   "execution_count": 64,
   "metadata": {},
   "outputs": [
    {
     "data": {
      "text/plain": [
       "'\\x00lleh'"
      ]
     },
     "execution_count": 64,
     "metadata": {},
     "output_type": "execute_result"
    }
   ],
   "source": [
    "sfg=\"hell\\0\"\n",
    "sfg[::-1]"
   ]
  },
  {
   "cell_type": "code",
   "execution_count": 86,
   "metadata": {
    "collapsed": true
   },
   "outputs": [],
   "source": [
    "#Given two strings, write a method to decide if one is a permutation of the other.\n",
    "# pseudo:\n",
    "# loop through the length of the string and subtract 1 form the length as the counter gets incremented moving on to the nextitem in the string\n",
    "# whatever num you specify, subtract the same num from the length of the string to avoid the index getting out of range\n",
    "\n",
    "\n",
    "def string_permute(s1, s2):\n",
    "    s2_len=len(s2)\n",
    "    print(len(s2))\n",
    "    for i in range(len(s1)-s2_len):\n",
    "        if s1[i:s2_len] == s2:\n",
    "            print(s1[i:s2_len])\n",
    "            i+=1\n",
    "            return True\n",
    "            \n",
    "        else:\n",
    "            return False\n",
    "       "
   ]
  },
  {
   "cell_type": "code",
   "execution_count": 87,
   "metadata": {},
   "outputs": [
    {
     "name": "stdout",
     "output_type": "stream",
     "text": [
      "2\n"
     ]
    },
    {
     "data": {
      "text/plain": [
       "False"
      ]
     },
     "execution_count": 87,
     "metadata": {},
     "output_type": "execute_result"
    }
   ],
   "source": [
    "string_permute(\"hello\", \"ll\")"
   ]
  },
  {
   "cell_type": "code",
   "execution_count": 65,
   "metadata": {},
   "outputs": [
    {
     "data": {
      "text/plain": [
       "'he'"
      ]
     },
     "execution_count": 65,
     "metadata": {},
     "output_type": "execute_result"
    }
   ],
   "source": [
    "l='hello'\n",
    "l[:2]"
   ]
  },
  {
   "cell_type": "code",
   "execution_count": 89,
   "metadata": {},
   "outputs": [
    {
     "data": {
      "text/plain": [
       "[('h', 'e'),\n",
       " ('h', 'l'),\n",
       " ('h', 'l'),\n",
       " ('h', 'o'),\n",
       " ('e', 'h'),\n",
       " ('e', 'l'),\n",
       " ('e', 'l'),\n",
       " ('e', 'o'),\n",
       " ('l', 'h'),\n",
       " ('l', 'e'),\n",
       " ('l', 'l'),\n",
       " ('l', 'o'),\n",
       " ('l', 'h'),\n",
       " ('l', 'e'),\n",
       " ('l', 'l'),\n",
       " ('l', 'o'),\n",
       " ('o', 'h'),\n",
       " ('o', 'e'),\n",
       " ('o', 'l'),\n",
       " ('o', 'l')]"
      ]
     },
     "execution_count": 89,
     "metadata": {},
     "output_type": "execute_result"
    }
   ],
   "source": [
    "from itertools import permutations\n",
    "list(permutations(\"hello\", 2))"
   ]
  },
  {
   "cell_type": "code",
   "execution_count": 100,
   "metadata": {
    "collapsed": true
   },
   "outputs": [],
   "source": [
    "#brilliant!#Given two strings, write a method to decide if one is a permutation of the other.\n",
    "import collections\n",
    "def same_permutation(a, b):\n",
    "    d = collections.defaultdict(int)\n",
    "    for x in a:\n",
    "        d[x] += 1\n",
    "        print(d)\n",
    "    for x in b:\n",
    "        d[x] -= 1\n",
    "    return not any(d.values())\n"
   ]
  },
  {
   "cell_type": "code",
   "execution_count": 101,
   "metadata": {},
   "outputs": [
    {
     "name": "stdout",
     "output_type": "stream",
     "text": [
      "defaultdict(<class 'int'>, {'6': 1})\n",
      "defaultdict(<class 'int'>, {'6': 1, '4': 1})\n",
      "defaultdict(<class 'int'>, {'6': 1, '4': 1, '3': 1})\n"
     ]
    },
    {
     "data": {
      "text/plain": [
       "True"
      ]
     },
     "execution_count": 101,
     "metadata": {},
     "output_type": "execute_result"
    }
   ],
   "source": [
    "same_permutation(['6', '4', '3'], ['4', '3', '6'])"
   ]
  },
  {
   "cell_type": "code",
   "execution_count": 102,
   "metadata": {},
   "outputs": [
    {
     "data": {
      "text/plain": [
       "5"
      ]
     },
     "execution_count": 102,
     "metadata": {},
     "output_type": "execute_result"
    }
   ],
   "source": [
    "g=\"jug  \"\n",
    "len(g)"
   ]
  },
  {
   "cell_type": "code",
   "execution_count": 110,
   "metadata": {},
   "outputs": [],
   "source": [
    "# Write a method to replace all spaces in a string with'%20'. You may assume that\n",
    "# the string has sufficient space at the end of the string to hold the additional\n",
    "# characters, and that you are given the \"true\" length of the string. (Note: if implementing\n",
    "# in Java, please use a character array so that you can perform this operation\n",
    "# in place.)\n",
    "# EXAMPLE\n",
    "# Input: \"Mr John Smith\n",
    "# Output: \"Mr%20Dohn%20Smith\"\n",
    "\n",
    "def replace_str(s):\n",
    "    res=''\n",
    "    for i in range(len(s)):\n",
    "        if s[i] ==\" \":\n",
    "            res+=\"%20\"\n",
    "        else:\n",
    "            res+=s[i]\n",
    "    return res"
   ]
  },
  {
   "cell_type": "code",
   "execution_count": 111,
   "metadata": {},
   "outputs": [
    {
     "data": {
      "text/plain": [
       "'h%20kl%20%20'"
      ]
     },
     "execution_count": 111,
     "metadata": {},
     "output_type": "execute_result"
    }
   ],
   "source": [
    "replace_str(\"h kl  \")"
   ]
  },
  {
   "cell_type": "code",
   "execution_count": 103,
   "metadata": {},
   "outputs": [
    {
     "data": {
      "text/plain": [
       "'h%20kl%20%20'"
      ]
     },
     "execution_count": 103,
     "metadata": {},
     "output_type": "execute_result"
    }
   ],
   "source": [
    "s=\"h kl  \"\n",
    "s.replace(\" \", \"%20\")"
   ]
  },
  {
   "cell_type": "code",
   "execution_count": 281,
   "metadata": {
    "collapsed": true
   },
   "outputs": [],
   "source": [
    "# Implement a method to perform basic string compression using the counts\n",
    "# of repeated characters. For example, the string aabcccccaaa would become\n",
    "# a2blc5a3. If the \"compressed\" string would not become smaller than the original\n",
    "# string, your method should return the original string.\n",
    "\n",
    "\n",
    "# pseudo:\n",
    "# loop through the length of the string\n",
    "# as long as the next character is same as the previous one continue by incrementing the counter\n",
    "# if not, set the counter to 0 and start over again\n",
    "\n",
    "def ctring_compression(stg):#did not get the required outcome but it works\n",
    "    res=''\n",
    "    c=1\n",
    "    start=0#use start only for slicing\n",
    "    for i in range(0, len(stg)-1):\n",
    "        if stg[i]==stg[i+1]:\n",
    "            c+=1\n",
    "            i+=1    \n",
    "        else:\n",
    "            #res+=((set(stg[:i]), str(c)))\n",
    "            res+=''.join((str(set(stg[start:i+1])), str(c)))\n",
    "            \n",
    "            start=i+1\n",
    "            i+=1\n",
    "            c=1   \n",
    "    res+=''.join((str(set((stg[start:i+1]))), str(c)))\n",
    "    \n",
    "    return res\n",
    "        \n",
    "        \n",
    "        \n",
    "        \n",
    "        \n",
    "       \n",
    "            \n",
    "            \n",
    "        \n"
   ]
  },
  {
   "cell_type": "code",
   "execution_count": 282,
   "metadata": {},
   "outputs": [
    {
     "data": {
      "text/plain": [
       "\"{'a'}3{'h'}3{'a'}3{'j'}3{'a'}2\""
      ]
     },
     "execution_count": 282,
     "metadata": {},
     "output_type": "execute_result"
    }
   ],
   "source": [
    "ctring_compression('aaahhhaaajjjaa')"
   ]
  },
  {
   "cell_type": "code",
   "execution_count": 147,
   "metadata": {},
   "outputs": [
    {
     "data": {
      "text/plain": [
       "{'b'}"
      ]
     },
     "execution_count": 147,
     "metadata": {},
     "output_type": "execute_result"
    }
   ],
   "source": [
    "dfg=\"aabcccccaaa\"\n",
    "set(dfg[2:3])"
   ]
  },
  {
   "cell_type": "code",
   "execution_count": 285,
   "metadata": {},
   "outputs": [],
   "source": [
    "#another way of string compression\n",
    "def compressed_str(s):\n",
    "    from itertools import groupby\n",
    "    result=''.join(k+str(sum(1 for x in g)) for k, g in groupby(s))\n",
    "    if len(result)<len(s):\n",
    "        return result\n",
    "    return s\n"
   ]
  },
  {
   "cell_type": "code",
   "execution_count": 286,
   "metadata": {},
   "outputs": [
    {
     "data": {
      "text/plain": [
       "'aahj'"
      ]
     },
     "execution_count": 286,
     "metadata": {},
     "output_type": "execute_result"
    }
   ],
   "source": [
    "compressed_str('aahj')"
   ]
  },
  {
   "cell_type": "code",
   "execution_count": 245,
   "metadata": {},
   "outputs": [
    {
     "name": "stdout",
     "output_type": "stream",
     "text": [
      "['a', 'a', 'a']\n",
      "['h', 'h', 'h']\n",
      "['a', 'a', 'a']\n",
      "['j', 'j', 'j']\n",
      "['a', 'a']\n"
     ]
    }
   ],
   "source": [
    "for k, g in groupby(s):\n",
    "    print(list(g))"
   ]
  },
  {
   "cell_type": "code",
   "execution_count": 254,
   "metadata": {
    "scrolled": true
   },
   "outputs": [
    {
     "data": {
      "text/plain": [
       "'a'"
      ]
     },
     "execution_count": 254,
     "metadata": {},
     "output_type": "execute_result"
    }
   ],
   "source": [
    "set(\"aaaa\")\n",
    "''.join((set(\"aaaa\")))"
   ]
  },
  {
   "cell_type": "code",
   "execution_count": 270,
   "metadata": {
    "scrolled": true
   },
   "outputs": [
    {
     "data": {
      "text/plain": [
       "'aaa'"
      ]
     },
     "execution_count": 270,
     "metadata": {},
     "output_type": "execute_result"
    }
   ],
   "source": [
    "dfg=\"aabcccccaaa\"\n",
    "dfg[8:11]"
   ]
  },
  {
   "cell_type": "code",
   "execution_count": 290,
   "metadata": {
    "collapsed": true
   },
   "outputs": [],
   "source": [
    "#to reverse a C-style string in-place. we do not have the concept in python as strings are immutable in python so value allocation is not allowed\n",
    "def reverse_cstring(p):\n",
    "    start=0\n",
    "    end=len(p)-1\n",
    "    peet=\"     \"\n",
    "    while start<end:\n",
    "        t=p[start]\n",
    "        p[start]=p[end]\n",
    "        p[end]=p[start]\n",
    "        start+=1\n",
    "        end-=1\n",
    "    return ''.join(p)\n",
    "    "
   ]
  },
  {
   "cell_type": "code",
   "execution_count": 362,
   "metadata": {},
   "outputs": [
    {
     "data": {
      "text/plain": [
       "array([[2, 4],\n",
       "       [1, 3]])"
      ]
     },
     "execution_count": 362,
     "metadata": {},
     "output_type": "execute_result"
    }
   ],
   "source": [
    "#to rotate a matrix 90 degrees using numpy\n",
    "import numpy as np\n",
    "m=np.array([[1, 2],[3, 4]])\n",
    "np.rot90(m)#not sure why np.rot9 gives a different outcome than zip(*m[::-1])? shouldn't both be the same if both of them are rotating the given matrix 90 degrees"
   ]
  },
  {
   "cell_type": "code",
   "execution_count": 340,
   "metadata": {},
   "outputs": [
    {
     "data": {
      "text/plain": [
       "[(3, 1), (4, 2)]"
      ]
     },
     "execution_count": 340,
     "metadata": {},
     "output_type": "execute_result"
    }
   ],
   "source": [
    "# Given an image represented by an NxN matrix, where each pixel in the image is\n",
    "# 4 bytes, write a method to rotate the image by 90 degrees. Can you do this in\n",
    "# place?\n",
    "m=np.array([[1, 2],[3, 4]])\n",
    "rotated = list(zip(*m[::-1]))\n",
    "rotated"
   ]
  },
  {
   "cell_type": "code",
   "execution_count": 358,
   "metadata": {},
   "outputs": [],
   "source": [
    "# Write an algorithm such that if an element in an MxN matrix is 0, its entire row\n",
    "# and column are set to 0.\n",
    "\n",
    "def get_row_col_zero(m):\n",
    "    N = len(m)#when just len of the given matrix is calculated then it returns the number of rows\n",
    "    M = len(m[0])#this returns the number of columns of the matrix\n",
    "    row=set()\n",
    "    col=set()\n",
    "    for i in range(N):\n",
    "        for j in range(M):\n",
    "            if m[i][j]==0:\n",
    "                row.add(i)\n",
    "                col.add(j)\n",
    "\n",
    "    for i in range(N):\n",
    "        for j in range(M):\n",
    "            if i in row or j in col:#whichever row or column has zero values\n",
    "                m[i][j]=0#get the values in those rows and columns zero\n",
    "    return m\n",
    "            \n",
    "            \n"
   ]
  },
  {
   "cell_type": "code",
   "execution_count": 359,
   "metadata": {},
   "outputs": [
    {
     "data": {
      "text/plain": [
       "[[0, 0, 0], [3, 4, 0]]"
      ]
     },
     "execution_count": 359,
     "metadata": {},
     "output_type": "execute_result"
    }
   ],
   "source": [
    "get_row_col_zero([[1, 2, 0],[3, 4, 6]])"
   ]
  },
  {
   "cell_type": "code",
   "execution_count": 322,
   "metadata": {},
   "outputs": [
    {
     "data": {
      "text/plain": [
       "0"
      ]
     },
     "execution_count": 322,
     "metadata": {},
     "output_type": "execute_result"
    }
   ],
   "source": [
    "#to check whether any values equal to zero in the rows of the given matrix\n",
    "m=np.array([[8, 9],[1, 0]])\n",
    "row, col=np.where(m.any(axis=1))[0]\n",
    "row"
   ]
  },
  {
   "cell_type": "code",
   "execution_count": 381,
   "metadata": {},
   "outputs": [],
   "source": [
    "# Assume you have a method isSubstring which checks if one word is a\n",
    "# substring of another. Given two strings, si and s2, write code to check if s2 is\n",
    "# a rotation of si using only one call to isSubstring (e.g.,\"waterbottle\"is a rotation\n",
    "# of \"erbottlewat\").\n",
    "\n",
    "#In case of rotation, a length of characters are displaced either in the left or in the right. That can be done defining some length of characters, slicing, and finally concatenating to check whether the given substring is same as the concatenated string\n",
    "\n",
    "#this code in here doesn't deal with rotation of the given string. It uses the strind.find option to check whether the substring exists as part of the given string\n",
    "def check(string, sub_str):\n",
    "    if (string.find(sub_str) == -1):\n",
    "        return False\n",
    "    else:\n",
    "        return True"
   ]
  },
  {
   "cell_type": "code",
   "execution_count": 382,
   "metadata": {},
   "outputs": [
    {
     "data": {
      "text/plain": [
       "True"
      ]
     },
     "execution_count": 382,
     "metadata": {},
     "output_type": "execute_result"
    }
   ],
   "source": [
    "check(\"geeksforgeeks\", 'ksfor')"
   ]
  }
 ],
 "metadata": {
  "kernelspec": {
   "display_name": "Python [conda root]",
   "language": "python",
   "name": "conda-root-py"
  },
  "language_info": {
   "codemirror_mode": {
    "name": "ipython",
    "version": 3
   },
   "file_extension": ".py",
   "mimetype": "text/x-python",
   "name": "python",
   "nbconvert_exporter": "python",
   "pygments_lexer": "ipython3",
   "version": "3.5.4"
  }
 },
 "nbformat": 4,
 "nbformat_minor": 2
}
