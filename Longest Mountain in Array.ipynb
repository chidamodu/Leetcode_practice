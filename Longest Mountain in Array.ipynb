{
 "cells": [
  {
   "cell_type": "code",
   "execution_count": 36,
   "metadata": {},
   "outputs": [],
   "source": [
    "def longestMountain(A):\n",
    "\n",
    "    result=[]\n",
    "    for i in range(1,len(A)-1):\n",
    "        if A[i-1]<A[i] and A[i]>A[i+1]:#the peak point\n",
    "            right=i+1\n",
    "            left=i-1\n",
    "            rightlen=1\n",
    "            leftlen=1\n",
    "            while left>=1 and A[left-1]<A[left]:\n",
    "                leftlen+=1\n",
    "                left-=1\n",
    "            while right<len(A)-1 and A[right]>A[right+1]:\n",
    "                rightlen+=1\n",
    "                right+=1\n",
    "            \n",
    "            result.append(rightlen+leftlen+1)\n",
    "            \n",
    "#             print(result)\n",
    "    if result:\n",
    "        return max(result)\n",
    "    else:\n",
    "        return 0\n",
    "                \n",
    "\n",
    "            \n",
    "            \n",
    "                \n",
    "                \n",
    "\n",
    "       "
   ]
  },
  {
   "cell_type": "code",
   "execution_count": 37,
   "metadata": {},
   "outputs": [
    {
     "data": {
      "text/plain": [
       "0"
      ]
     },
     "execution_count": 37,
     "metadata": {},
     "output_type": "execute_result"
    }
   ],
   "source": [
    "longestMountain([2,2,2])"
   ]
  },
  {
   "cell_type": "code",
   "execution_count": null,
   "metadata": {},
   "outputs": [],
   "source": [
    "Result\n",
    "Runtime: 196 ms, faster than 69.53% of Python3 online submissions for Longest Mountain in Array.\n"
   ]
  }
 ],
 "metadata": {
  "kernelspec": {
   "display_name": "Python 3",
   "language": "python",
   "name": "python3"
  },
  "language_info": {
   "codemirror_mode": {
    "name": "ipython",
    "version": 3
   },
   "file_extension": ".py",
   "mimetype": "text/x-python",
   "name": "python",
   "nbconvert_exporter": "python",
   "pygments_lexer": "ipython3",
   "version": "3.7.4"
  }
 },
 "nbformat": 4,
 "nbformat_minor": 2
}
