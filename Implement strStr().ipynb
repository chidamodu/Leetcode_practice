{
 "cells": [
  {
   "cell_type": "code",
   "execution_count": null,
   "metadata": {},
   "outputs": [],
   "source": [
    "Input: haystack = \"hello\", needle = \"ll\"\n",
    "Output: 2"
   ]
  },
  {
   "cell_type": "code",
   "execution_count": 26,
   "metadata": {},
   "outputs": [],
   "source": [
    "def find_needle_haystack(h, n):\n",
    "    if h==\"\" and n==\"\":\n",
    "        return 0\n",
    "    elif h!=\"\" and n==\"\":\n",
    "        return -1\n",
    "    \n",
    "    else:\n",
    "        first=list(n)[0]\n",
    "        if first in h:\n",
    "            return h.index(first)\n",
    "        else:\n",
    "            return -1"
   ]
  },
  {
   "cell_type": "code",
   "execution_count": 27,
   "metadata": {},
   "outputs": [
    {
     "data": {
      "text/plain": [
       "0"
      ]
     },
     "execution_count": 27,
     "metadata": {},
     "output_type": "execute_result"
    }
   ],
   "source": [
    "find_needle_haystack(\"aaa\", \"aaaa\")"
   ]
  },
  {
   "cell_type": "code",
   "execution_count": 1,
   "metadata": {},
   "outputs": [
    {
     "name": "stdout",
     "output_type": "stream",
     "text": [
      "a\n",
      "a\n",
      "a\n",
      "a\n",
      "a\n"
     ]
    }
   ],
   "source": [
    "haystack = \"aaaaa\"\n",
    "for i in haystack:\n",
    "    print(i)"
   ]
  },
  {
   "cell_type": "code",
   "execution_count": 4,
   "metadata": {},
   "outputs": [
    {
     "data": {
      "text/plain": [
       "'a'"
      ]
     },
     "execution_count": 4,
     "metadata": {},
     "output_type": "execute_result"
    }
   ],
   "source": [
    "#to separate a string into its individual elements\n",
    "list(haystack)[0]"
   ]
  },
  {
   "cell_type": "code",
   "execution_count": 11,
   "metadata": {},
   "outputs": [
    {
     "data": {
      "text/plain": [
       "[]"
      ]
     },
     "execution_count": 11,
     "metadata": {},
     "output_type": "execute_result"
    }
   ],
   "source": [
    "list(\"\")"
   ]
  },
  {
   "cell_type": "code",
   "execution_count": null,
   "metadata": {},
   "outputs": [],
   "source": [
    "#unit tests\n",
    "\n",
    "Input:\n",
    "\"\"\n",
    "\"\"\n",
    "Output:\n",
    "-1\n",
    "Expected:\n",
    "0\n",
    "\n",
    "\n",
    "-----------------------------------------------\n",
    "\n",
    "\n",
    "Input:\n",
    "\"aaaaa\"\n",
    "\"bba\"\n",
    "Output:\n",
    "None\n",
    "Expected:\n",
    "-1\n",
    "\n",
    "-----------------------------------------------\n",
    "\n",
    "Input:\n",
    "\"a\"\n",
    "\"\"\n",
    "Output:\n",
    "-1\n",
    "Expected:\n",
    "0"
   ]
  },
  {
   "cell_type": "code",
   "execution_count": null,
   "metadata": {},
   "outputs": [],
   "source": [
    "correct solution and leetcode submission\n",
    "\n",
    "class Solution:\n",
    "    def strStr(self, haystack: str, needle: str) -> int:\n",
    "        window_size = len(haystack) - len(needle)\n",
    "        if needle == \"\":\n",
    "            return 0\n",
    "        \n",
    "        for i in range(0, window_size + 1):\n",
    "            if haystack[i: i + len(needle)] == needle:\n",
    "                return i\n",
    "        \n",
    "        return -1\n",
    "        "
   ]
  },
  {
   "cell_type": "code",
   "execution_count": null,
   "metadata": {},
   "outputs": [],
   "source": [
    "Leetcode outcome\n",
    "\n",
    "Details \n",
    "Runtime: 28 ms, faster than 99.12% of Python3 online submissions for Implement strStr().\n",
    "Memory Usage: 14 MB, less than 12.31% of Python3 online submissions for Implement strStr()."
   ]
  }
 ],
 "metadata": {
  "kernelspec": {
   "display_name": "Python 3",
   "language": "python",
   "name": "python3"
  },
  "language_info": {
   "codemirror_mode": {
    "name": "ipython",
    "version": 3
   },
   "file_extension": ".py",
   "mimetype": "text/x-python",
   "name": "python",
   "nbconvert_exporter": "python",
   "pygments_lexer": "ipython3",
   "version": "3.7.4"
  }
 },
 "nbformat": 4,
 "nbformat_minor": 2
}
