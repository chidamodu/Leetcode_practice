{
 "cells": [
  {
   "cell_type": "code",
   "execution_count": 64,
   "metadata": {},
   "outputs": [],
   "source": [
    "Tried the divide and conquer method but not sure how to loop and break left and right further down to calculate the max sum\n",
    "def maxSubArray(nums):\n",
    "    max_sum=0\n",
    "    if len(nums)==1:\n",
    "        return nums\n",
    "    else:\n",
    "        ind=(len(nums)//2)+1\n",
    "        left=nums[:ind]\n",
    "        right=nums[ind:]\n",
    "#     print(right)\n",
    "        left_sum=sum(left)\n",
    "        right_sum=sum(right)\n",
    "        cross_sum=sum(left+right)\n",
    "    \n",
    "    \n",
    "    if left or right:\n",
    "        max_sum=max(max_sum, max(left_sum, right_sum, cross_sum))\n",
    "        \n",
    "    \n",
    "        \n",
    "        \n",
    "#     cross_sum=sum(left+right)\n",
    "    \n",
    "    \n",
    "    "
   ]
  },
  {
   "cell_type": "code",
   "execution_count": 65,
   "metadata": {},
   "outputs": [
    {
     "name": "stdout",
     "output_type": "stream",
     "text": [
      "2\n"
     ]
    }
   ],
   "source": [
    "maxSubArray([-2,1,-3,4,-1,2,1,-5,4])"
   ]
  },
  {
   "cell_type": "code",
   "execution_count": 74,
   "metadata": {},
   "outputs": [],
   "source": [
    "An alternative that works great actually: this also provided by Leetcode\n",
    "    \n",
    "Runtime: 80 ms, faster than 50.64% of Python3 online submissions for Maximum Subarray.\n",
    "Memory Usage: 14.5 MB, less than 5.69% of Python3 online submissions for Maximum Subarray.\n",
    "    \n",
    "    \n",
    "Approach 2: Greedy\n",
    "\n",
    "Intuition\n",
    "\n",
    "The problem to find maximum (or minimum) element (or sum) with a single array as the input is a good candidate to be solved by the greedy approach in linear time. One can find the examples of linear time greedy solutions in our articles of\n",
    "Super Washing Machines, and Gas Problem.\n",
    "\n",
    "Pick the locally optimal move at each step, and that will lead to the globally optimal solution.\n",
    "The algorithm is general and straightforward: iterate over the array and update at each step the standard set for such problems:\n",
    "\n",
    "current element\n",
    "\n",
    "current local maximum sum (at this given point)\n",
    "\n",
    "global maximum sum seen so far.\n",
    "\n",
    "   \n",
    "def maxSubArray(nums):\n",
    "    curr_sum=nums[0]\n",
    "    max_sum=nums[0]\n",
    "    n=len(nums)\n",
    "    for i in range(1, n):\n",
    "        curr_sum=max(nums[i], curr_sum+nums[i])\n",
    "        max_sum=max(max_sum, curr_sum)\n",
    "        \n",
    "    return max_sum"
   ]
  },
  {
   "cell_type": "code",
   "execution_count": 75,
   "metadata": {},
   "outputs": [
    {
     "data": {
      "text/plain": [
       "6"
      ]
     },
     "execution_count": 75,
     "metadata": {},
     "output_type": "execute_result"
    }
   ],
   "source": [
    "maxSubArray([-2,1,-3,4,-1,2,1,-5,4])"
   ]
  },
  {
   "cell_type": "code",
   "execution_count": null,
   "metadata": {},
   "outputs": [],
   "source": [
    "Solution provided by Leetcode\n",
    "Runtime: 188 ms, faster than 5.22% of Python3 online submissions for Maximum Subarray.\n",
    "Memory Usage: 14.7 MB, less than 5.69% of Python3 online submissions for Maximum Subarray.\n",
    "\n",
    "class Solution:\n",
    "    def cross_sum(self, nums, left, right, p): \n",
    "            if left == right:\n",
    "                return nums[left]\n",
    "\n",
    "            left_subsum = float('-inf')\n",
    "            curr_sum = 0\n",
    "            for i in range(p, left - 1, -1):\n",
    "                curr_sum += nums[i]\n",
    "                left_subsum = max(left_subsum, curr_sum)\n",
    "\n",
    "            right_subsum = float('-inf')\n",
    "            curr_sum = 0\n",
    "            for i in range(p + 1, right + 1):\n",
    "                curr_sum += nums[i]\n",
    "                right_subsum = max(right_subsum, curr_sum)\n",
    "\n",
    "            return left_subsum + right_subsum   \n",
    "    \n",
    "    def helper(self, nums, left, right): \n",
    "        if left == right:\n",
    "            return nums[left]\n",
    "        \n",
    "        p = (left + right) // 2\n",
    "            \n",
    "        left_sum = self.helper(nums, left, p)\n",
    "        right_sum = self.helper(nums, p + 1, right)\n",
    "        cross_sum = self.cross_sum(nums, left, right, p)\n",
    "        \n",
    "        return max(left_sum, right_sum, cross_sum)\n",
    "        \n",
    "    def maxSubArray(self, nums: 'List[int]') -> 'int':\n",
    "        return self.helper(nums, 0, len(nums) - 1)"
   ]
  }
 ],
 "metadata": {
  "kernelspec": {
   "display_name": "Python 3",
   "language": "python",
   "name": "python3"
  },
  "language_info": {
   "codemirror_mode": {
    "name": "ipython",
    "version": 3
   },
   "file_extension": ".py",
   "mimetype": "text/x-python",
   "name": "python",
   "nbconvert_exporter": "python",
   "pygments_lexer": "ipython3",
   "version": "3.7.4"
  }
 },
 "nbformat": 4,
 "nbformat_minor": 2
}
