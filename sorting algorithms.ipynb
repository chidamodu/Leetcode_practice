{
 "cells": [
  {
   "cell_type": "code",
   "execution_count": 58,
   "metadata": {},
   "outputs": [],
   "source": [
    "Absolute Value Sort from Pramp\n",
    "def absSort(arr):\n",
    "    result=[]\n",
    "    d ={}\n",
    "    for i in range(len(arr)):\n",
    "        if abs(arr[i]) in d:\n",
    "            d[abs(arr[i])].append(arr[i])\n",
    "            print(d)\n",
    "            \n",
    "            \n",
    "        else:\n",
    "            d[abs(arr[i])]=d.get(abs(arr[i]), [arr[i]])\n",
    "      \n",
    "    for k, v in sorted(d.items()):\n",
    "        result.extend(sorted(v))\n",
    "        print(result)\n",
    "\n",
    "    return result\n",
    "    "
   ]
  },
  {
   "cell_type": "code",
   "execution_count": 59,
   "metadata": {},
   "outputs": [
    {
     "name": "stdout",
     "output_type": "stream",
     "text": [
      "{2: [2, -2], 7: [-7]}\n",
      "{2: [2, -2, -2], 7: [-7]}\n",
      "[0]\n",
      "[0, -2, -2, 2]\n",
      "[0, -2, -2, 2, -7]\n"
     ]
    },
    {
     "data": {
      "text/plain": [
       "[0, -2, -2, 2, -7]"
      ]
     },
     "execution_count": 59,
     "metadata": {},
     "output_type": "execute_result"
    }
   ],
   "source": [
    "absSort([2, -7, -2, -2, 0])"
   ]
  },
  {
   "cell_type": "code",
   "execution_count": null,
   "metadata": {},
   "outputs": [],
   "source": [
    "def sortArray(nums):\n",
    "    min_val=min(nums)\n",
    "    max_val=max(nums)\n",
    "    \n",
    "    while :\n",
    "        for i in nums"
   ]
  },
  {
   "cell_type": "code",
   "execution_count": 20,
   "metadata": {},
   "outputs": [],
   "source": [
    "time limit exceeded on leetcode\n",
    "def ins_sort(k):\n",
    "    for i in range(1,len(k)):    #since we want to swap an item with previous one, we start from 1\n",
    "        j = i                    #bcoz reducing i directly will mess our for loop, so we reduce its copy j instead\n",
    "        temp = k[j]              #temp will be used for comparison with previous items, and sent to the place it belongs\n",
    "        while j > 0 and temp < k[j-1]: #j>0 bcoz no point going till k[0] since there is no seat available on its left, for temp\n",
    "            k[j] = k[j-1] #Move the bigger item 1 step right to make room for temp\n",
    "            j=j-1 #take k[j] all the way left to the place where it has a smaller/no value to its left.\n",
    "        k[j] = temp\n",
    "    return k"
   ]
  },
  {
   "cell_type": "code",
   "execution_count": 21,
   "metadata": {},
   "outputs": [
    {
     "data": {
      "text/plain": [
       "[1, 2, 3, 5]"
      ]
     },
     "execution_count": 21,
     "metadata": {},
     "output_type": "execute_result"
    }
   ],
   "source": [
    "ins_sort([5,2,3,1])"
   ]
  },
  {
   "cell_type": "code",
   "execution_count": 18,
   "metadata": {},
   "outputs": [],
   "source": [
    "from khan academy - is not working for all test cases!\n",
    "def insertion_sort(nums):\n",
    "    for i in range(len(nums)):\n",
    "        value=nums[i]\n",
    "        ind=i-1\n",
    "        while ind>=0:\n",
    "            if value < nums[ind]:\n",
    "                nums[ind+1]=nums[ind]\n",
    "                nums[ind]=value\n",
    "            else:\n",
    "                break\n",
    "                \n",
    "    return nums"
   ]
  },
  {
   "cell_type": "code",
   "execution_count": 19,
   "metadata": {},
   "outputs": [
    {
     "data": {
      "text/plain": [
       "[2, 3, 1, 5]"
      ]
     },
     "execution_count": 19,
     "metadata": {},
     "output_type": "execute_result"
    }
   ],
   "source": [
    "insertion_sort([5,2,3,1])"
   ]
  }
 ],
 "metadata": {
  "kernelspec": {
   "display_name": "Python 3",
   "language": "python",
   "name": "python3"
  },
  "language_info": {
   "codemirror_mode": {
    "name": "ipython",
    "version": 3
   },
   "file_extension": ".py",
   "mimetype": "text/x-python",
   "name": "python",
   "nbconvert_exporter": "python",
   "pygments_lexer": "ipython3",
   "version": "3.7.4"
  }
 },
 "nbformat": 4,
 "nbformat_minor": 2
}
