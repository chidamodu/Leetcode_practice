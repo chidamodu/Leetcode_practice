{
 "cells": [
  {
   "cell_type": "code",
   "execution_count": null,
   "metadata": {},
   "outputs": [],
   "source": [
    "class Solution:\n",
    "    def minDistance(self, word1: str, word2: str) -> int:\n",
    "        dp=[[0 for x in range(len(word2)+1)] for y in range(len(word1)+1)]\n",
    "        for i in range(len(word1)):\n",
    "            for j in range(len(word2)):\n",
    "                if word1[i]==word2[j]:\n",
    "                    dp[i+1][j+1]=dp[i][j]+1\n",
    "                else:\n",
    "                    dp[i+1][j+1]=max(dp[i][j+1], dp[i+1][j])\n",
    "                    \n",
    "        return (len(word1)-dp[-1][-1])+(len(word2)-dp[-1][-1])\n",
    "                    \n",
    "                \n",
    "Runtime: 304 ms, faster than 55.96% of Python3 online submissions for Delete Operation for Two Strings.\n",
    "Memory Usage: 14.5 MB, less than 88.89% of Python3 online submissions for Delete Operation for Two Strings.        "
   ]
  }
 ],
 "metadata": {
  "kernelspec": {
   "display_name": "Python 3",
   "language": "python",
   "name": "python3"
  },
  "language_info": {
   "codemirror_mode": {
    "name": "ipython",
    "version": 3
   },
   "file_extension": ".py",
   "mimetype": "text/x-python",
   "name": "python",
   "nbconvert_exporter": "python",
   "pygments_lexer": "ipython3",
   "version": "3.7.4"
  }
 },
 "nbformat": 4,
 "nbformat_minor": 2
}
