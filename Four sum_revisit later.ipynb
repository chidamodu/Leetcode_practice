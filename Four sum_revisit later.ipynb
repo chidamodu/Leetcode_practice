{
 "cells": [
  {
   "cell_type": "code",
   "execution_count": 13,
   "metadata": {},
   "outputs": [],
   "source": [
    "def fourSum(nums, target):\n",
    "    d={}\n",
    "    c=0\n",
    "    ans=0\n",
    "    res=[]\n",
    "    for i in range(len(nums)):\n",
    "        d[nums[i]]=d.get(nums[i], 0)+1\n",
    "        \n",
    "#     return d\n",
    "        \n",
    "    for k, v in d.items():\n",
    "        if len(res)==4:\n",
    "            c+=v\n",
    "            res.append(k)\n",
    "            print(res)\n",
    "        \n",
    "        else:\n",
    "            c=0\n",
    "            \n",
    "            \n",
    "    return res\n",
    "        \n",
    "        \n",
    "        \n",
    "        "
   ]
  },
  {
   "cell_type": "code",
   "execution_count": 14,
   "metadata": {},
   "outputs": [
    {
     "data": {
      "text/plain": [
       "[]"
      ]
     },
     "execution_count": 14,
     "metadata": {},
     "output_type": "execute_result"
    }
   ],
   "source": [
    "fourSum([1, 0, -1, 0, -2, 2], 0)"
   ]
  }
 ],
 "metadata": {
  "kernelspec": {
   "display_name": "Python 3",
   "language": "python",
   "name": "python3"
  },
  "language_info": {
   "codemirror_mode": {
    "name": "ipython",
    "version": 3
   },
   "file_extension": ".py",
   "mimetype": "text/x-python",
   "name": "python",
   "nbconvert_exporter": "python",
   "pygments_lexer": "ipython3",
   "version": "3.7.4"
  }
 },
 "nbformat": 4,
 "nbformat_minor": 2
}
