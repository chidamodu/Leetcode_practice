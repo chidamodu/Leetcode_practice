{
 "cells": [
  {
   "cell_type": "code",
   "execution_count": 62,
   "metadata": {},
   "outputs": [],
   "source": [
    "Yay, my code rocks!\n",
    "\n",
    "def reverseWords(s):\n",
    "    s=s.rstrip(\" \").lstrip(\" \").split(\" \")\n",
    "    result=''\n",
    "\n",
    "    for i in range(len(s), 0, -1):\n",
    "        result+=' '+s[i-1]\n",
    "        \n",
    "        \n",
    "    return ' '.join(result.split())\n",
    "\n",
    "Runtime: 36 ms, faster than 78.18% of Python3 online submissions for Reverse Words in a String.\n",
    "Memory Usage: 14.4 MB, less than 8.70% of Python3 online submissions for Reverse Words in a String.\n"
   ]
  },
  {
   "cell_type": "code",
   "execution_count": 63,
   "metadata": {},
   "outputs": [
    {
     "data": {
      "text/plain": [
       "'example good a'"
      ]
     },
     "execution_count": 63,
     "metadata": {},
     "output_type": "execute_result"
    }
   ],
   "source": [
    "reverseWords(\"a good   example\")"
   ]
  },
  {
   "cell_type": "code",
   "execution_count": 13,
   "metadata": {},
   "outputs": [
    {
     "data": {
      "text/plain": [
       "15"
      ]
     },
     "execution_count": 13,
     "metadata": {},
     "output_type": "execute_result"
    }
   ],
   "source": [
    "len(\"the sky is blue\")"
   ]
  },
  {
   "cell_type": "code",
   "execution_count": 70,
   "metadata": {},
   "outputs": [
    {
     "name": "stdout",
     "output_type": "stream",
     "text": [
      "['the', 'sky', 'is', 'blue']\n"
     ]
    }
   ],
   "source": [
    "what does split() do? It splits a sentence into individual words. when you put quotes inside split then it is necessary\n",
    "to mention the type of separator you are trying to split the sentence based on\n",
    "\n",
    "fog=\"the sky    is blue\"\n",
    "print(fog.split())"
   ]
  },
  {
   "cell_type": "code",
   "execution_count": 73,
   "metadata": {},
   "outputs": [
    {
     "data": {
      "text/plain": [
       "'the sky is blue'"
      ]
     },
     "execution_count": 73,
     "metadata": {},
     "output_type": "execute_result"
    }
   ],
   "source": [
    "Here, what we are dpoing is that after splitting the sentence into words in the above cell, we are joining the words \n",
    "using a single space between the words\n",
    "\n",
    "' '.join(fog.split())"
   ]
  },
  {
   "cell_type": "code",
   "execution_count": 97,
   "metadata": {},
   "outputs": [],
   "source": [
    "def reverseWords(s):\n",
    "    s=s.rstrip(\" \").lstrip(\" \").split(\" \")\n",
    "    result=''\n",
    "    print(len(s))\n",
    "\n",
    "    for i in range(len(s), 0, -1):\n",
    "        print(i, s[i-1]) #finally I understood why we add i-1 in s[i-1] instead of s[i]. although I am reverse looping\n",
    "        #s the actual indexing will start form 0 to len(s) which is 0 to 4 rather than 5. So that is why when I did\n",
    "        #s[i], I received an error: index out of range\n",
    "        result+=' '+s[i-1]\n",
    "        \n",
    "        \n",
    "    return ' '.join(result.split())"
   ]
  },
  {
   "cell_type": "code",
   "execution_count": 98,
   "metadata": {},
   "outputs": [
    {
     "name": "stdout",
     "output_type": "stream",
     "text": [
      "5\n",
      "5 example\n",
      "4 \n",
      "3 \n",
      "2 good\n",
      "1 a\n"
     ]
    },
    {
     "data": {
      "text/plain": [
       "'example good a'"
      ]
     },
     "execution_count": 98,
     "metadata": {},
     "output_type": "execute_result"
    }
   ],
   "source": [
    "reverseWords(\"a good   example\")"
   ]
  }
 ],
 "metadata": {
  "kernelspec": {
   "display_name": "Python 3",
   "language": "python",
   "name": "python3"
  },
  "language_info": {
   "codemirror_mode": {
    "name": "ipython",
    "version": 3
   },
   "file_extension": ".py",
   "mimetype": "text/x-python",
   "name": "python",
   "nbconvert_exporter": "python",
   "pygments_lexer": "ipython3",
   "version": "3.7.4"
  }
 },
 "nbformat": 4,
 "nbformat_minor": 2
}
