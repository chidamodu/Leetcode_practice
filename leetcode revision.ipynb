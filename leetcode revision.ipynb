{
 "cells": [
  {
   "cell_type": "code",
   "execution_count": 30,
   "metadata": {},
   "outputs": [],
   "source": [
    "#Search Insert Position\n",
    "\n",
    "def searchInsert(nums, target):\n",
    "    if target in nums:\n",
    "        return nums.index(target)\n",
    "    else:\n",
    "        for k, v in enumerate([n>target for n in nums]):\n",
    "            if v:\n",
    "                return k\n",
    "            else:\n",
    "                return len(nums)"
   ]
  },
  {
   "cell_type": "code",
   "execution_count": 31,
   "metadata": {},
   "outputs": [
    {
     "data": {
      "text/plain": [
       "4"
      ]
     },
     "execution_count": 31,
     "metadata": {},
     "output_type": "execute_result"
    }
   ],
   "source": [
    "searchInsert([1,3,5,6], 2)"
   ]
  },
  {
   "cell_type": "code",
   "execution_count": null,
   "metadata": {},
   "outputs": [],
   "source": [
    "class Solution:\n",
    "    def threeSumClosest(self, nums: List[int], target: int) -> int:\n",
    "        nums=sorted(nums)\n",
    "        mindiff=1000000\n",
    "        res=0\n",
    "        for i in range(len(nums)):\n",
    "            left=i+1; right=len(nums)-1\n",
    "            while left < right:\n",
    "                s=nums[i]+nums[left]+nums[right]\n",
    "                diff=abs(s-target) \n",
    "                if diff<mindiff: mindiff=diff; res=s\n",
    "                if s==target:\n",
    "                    return s\n",
    "                elif s<target:\n",
    "                    left+=1\n",
    "                else:\n",
    "                    right-=1\n",
    "        return res"
   ]
  },
  {
   "cell_type": "code",
   "execution_count": 39,
   "metadata": {},
   "outputs": [],
   "source": [
    "#insertions sort:\n",
    "\n",
    "def insertion_sort(nums):\n",
    "    last_num=len(nums)-1\n",
    "    for i in range(last_num):\n",
    "        position=last_num\n",
    "        while position>0:\n",
    "            if nums[position-1]>nums[position]:\n",
    "                temp=nums[position-1]\n",
    "                nums[position-1]=nums[position]\n",
    "                nums[position]=temp\n",
    "            position-=1\n",
    "            \n",
    "    print(nums)\n",
    "            \n",
    "        \n",
    "If we take a closer look at the insertion sort code, we can notice that every iteration of while loop reduces one \n",
    "inversion. The while loop executes only if i > j and arr[i] < arr[j]. Therefore total number of while loop iterations \n",
    "(For all values of i) is same as number of inversions. Therefore overall time complexity of the insertion sort is\n",
    "O(n + f(n)) where f(n) is inversion count. If the inversion count is O(n), then the time complexity of insertion sort \n",
    "is O(n). In worst case, there can be n*(n-1)/2 inversions. The worst case occurs when the array is sorted in reverse \n",
    "order. So the worst case time complexity of insertion sort is O(n2)."
   ]
  },
  {
   "cell_type": "code",
   "execution_count": 40,
   "metadata": {},
   "outputs": [
    {
     "name": "stdout",
     "output_type": "stream",
     "text": [
      "[1, 2, 3, 4, 5]\n"
     ]
    }
   ],
   "source": [
    "insertion_sort([4,1,2,5,3])"
   ]
  },
  {
   "cell_type": "code",
   "execution_count": 41,
   "metadata": {},
   "outputs": [
    {
     "data": {
      "text/plain": [
       "'cbaaaaaaa'"
      ]
     },
     "execution_count": 41,
     "metadata": {},
     "output_type": "execute_result"
    }
   ],
   "source": [
    "A = \"aaaaaaabc\"\n",
    "A[::-1]"
   ]
  },
  {
   "cell_type": "code",
   "execution_count": 93,
   "metadata": {},
   "outputs": [],
   "source": [
    "This considers only one test case\n",
    "\n",
    "def buddyStrings(A, B):\n",
    "    ind=[]\n",
    " \n",
    "        \n",
    "    for i in range(len(A)):\n",
    "        if A[i]==B[i]:\n",
    "            continue\n",
    "        else:\n",
    "            ind.append(i)\n",
    "            \n",
    "    if len(ind)>2 or len(ind)<2:\n",
    "        return False\n",
    "    else:\n",
    "        if A[ind[0]:][::-1]==B[ind[0]:]:\n",
    "            return True\n",
    "    \n",
    "            \n",
    "    \n",
    "                \n",
    "#                  enumerate(B)"
   ]
  },
  {
   "cell_type": "code",
   "execution_count": 94,
   "metadata": {},
   "outputs": [
    {
     "data": {
      "text/plain": [
       "True"
      ]
     },
     "execution_count": 94,
     "metadata": {},
     "output_type": "execute_result"
    }
   ],
   "source": [
    "buddyStrings(\"aa\",\"aa\")"
   ]
  },
  {
   "cell_type": "code",
   "execution_count": 64,
   "metadata": {},
   "outputs": [],
   "source": [
    "def buddyStrings(A, B):\n",
    "    print(list(A))"
   ]
  },
  {
   "cell_type": "code",
   "execution_count": 65,
   "metadata": {},
   "outputs": [
    {
     "name": "stdout",
     "output_type": "stream",
     "text": [
      "['a', 'a', 'a', 'a', 'a', 'a', 'a', 'b', 'c']\n"
     ]
    }
   ],
   "source": [
    "buddyStrings(\"aaaaaaabc\",\"aaaaaaacb\")"
   ]
  },
  {
   "cell_type": "code",
   "execution_count": 66,
   "metadata": {},
   "outputs": [
    {
     "data": {
      "text/plain": [
       "'cb'"
      ]
     },
     "execution_count": 66,
     "metadata": {},
     "output_type": "execute_result"
    }
   ],
   "source": [
    "'bc'[::-1]"
   ]
  },
  {
   "cell_type": "code",
   "execution_count": 111,
   "metadata": {},
   "outputs": [],
   "source": [
    "def buddyStrings(A, B):\n",
    "    diff=[]\n",
    "    #two length:\n",
    "    if len(A)==2 and len(B)==2:\n",
    "        if A[0]==B[1] and A[1]==B[0]:\n",
    "            return True\n",
    "        else:\n",
    "            return False\n",
    "    \n",
    "    if len(A)!=len(B) or (len(A)==0 or len(B)==0):\n",
    "        return False\n",
    "        \n",
    "    #diff\n",
    "    for i, j in zip(A, B):\n",
    "        if i!=j:\n",
    "            diff.append((i, j))\n",
    "            \n",
    "    if len(diff)>2 or len(diff)<2:\n",
    "        return False\n",
    "    \n",
    "    elif len(diff)==2 and (diff[0][0]==diff[1][1] and diff[0][1]==diff[1][0]):\n",
    "        return True\n",
    "    \n",
    "    \n",
    "    #same length and equal to each other, example: \"aa\"\n",
    "    \n",
    "    if len(diff)==0:\n",
    "        if A==B:\n",
    "            return True\n",
    "        \n",
    "    return False\n",
    "    \n",
    "            \n",
    "        "
   ]
  },
  {
   "cell_type": "code",
   "execution_count": 112,
   "metadata": {},
   "outputs": [
    {
     "data": {
      "text/plain": [
       "False"
      ]
     },
     "execution_count": 112,
     "metadata": {},
     "output_type": "execute_result"
    }
   ],
   "source": [
    "buddyStrings(\"aaaaaaa\",\"aaaaaaa\")"
   ]
  },
  {
   "cell_type": "code",
   "execution_count": 117,
   "metadata": {},
   "outputs": [
    {
     "name": "stdout",
     "output_type": "stream",
     "text": [
      "aaaaaa\n",
      "0\n",
      "aaaaa\n",
      "0\n",
      "aaaa\n",
      "0\n",
      "aaa\n",
      "0\n",
      "aa\n",
      "0\n",
      "a\n",
      "0\n"
     ]
    }
   ],
   "source": [
    "A1=\"aaaaaaa\"\n",
    "for i,a in enumerate(A1[:-1]):\n",
    "    print(A1[i+1:])\n",
    "    print(A1[i+1:].find(a))\n"
   ]
  },
  {
   "cell_type": "code",
   "execution_count": 119,
   "metadata": {},
   "outputs": [],
   "source": [
    "def buddyStrings(A, B):\n",
    "    if len(A)!=len(B):\n",
    "        return false\n",
    "    \n",
    "    if A==B:\n",
    "        return len(A) > len(set(A))\n",
    "    else:\n",
    "        diff=[]\n",
    "        for i, j in zip(A, B):\n",
    "            if i!=j:\n",
    "                diff.append((i, j))\n",
    "                \n",
    "            if len(diff)>2:\n",
    "                return False\n",
    "        \n",
    "        return len(diff)==2 and diff[0]==diff[1][::-1]\n",
    "            \n",
    "    \n",
    "    \n",
    "    "
   ]
  },
  {
   "cell_type": "code",
   "execution_count": 121,
   "metadata": {},
   "outputs": [],
   "source": [
    "def buddyStrings(A, B):\n",
    "    if len(A) != len(B): return False \n",
    "    if A == B:\n",
    "        return len(A) > len(set(A))\n",
    "    else:\n",
    "        pairs = []\n",
    "        for a, b in zip(A, B):\n",
    "            if a != b: pairs.append((a, b))\n",
    "            print(pairs)\n",
    "            if len(pairs) > 2: return False #it's significantly important to understand that this if statement\n",
    "            #is inside the for loop. so if you try to add the condition len(pairs)<2 then return false then it will \n",
    "            #return a wrong solution. As u know when u use return the program is going to immediately return and end\n",
    "        return len(pairs) == 2 and pairs[0] == pairs[1][::-1]\n"
   ]
  },
  {
   "cell_type": "code",
   "execution_count": 122,
   "metadata": {},
   "outputs": [
    {
     "name": "stdout",
     "output_type": "stream",
     "text": [
      "[('a', 'b')]\n",
      "[('a', 'b'), ('b', 'a')]\n"
     ]
    },
    {
     "data": {
      "text/plain": [
       "True"
      ]
     },
     "execution_count": 122,
     "metadata": {},
     "output_type": "execute_result"
    }
   ],
   "source": [
    "buddyStrings(\"ab\", \"ba\")"
   ]
  },
  {
   "cell_type": "code",
   "execution_count": 147,
   "metadata": {},
   "outputs": [],
   "source": [
    "def inverse_integer(s):\n",
    "    res=0\n",
    "    l=len(str(s))\n",
    "\n",
    "    while s:\n",
    "        r=s%10\n",
    "        res+=r*(10**l)\n",
    "        s-=r\n",
    "        l-=1\n",
    "        \n",
    "    return res\n",
    "    "
   ]
  },
  {
   "cell_type": "code",
   "execution_count": 148,
   "metadata": {},
   "outputs": [
    {
     "ename": "KeyboardInterrupt",
     "evalue": "",
     "output_type": "error",
     "traceback": [
      "\u001b[0;31m---------------------------------------------------------------------------\u001b[0m",
      "\u001b[0;31mKeyboardInterrupt\u001b[0m                         Traceback (most recent call last)",
      "\u001b[0;32m<ipython-input-148-d27e5c2db48d>\u001b[0m in \u001b[0;36m<module>\u001b[0;34m\u001b[0m\n\u001b[0;32m----> 1\u001b[0;31m \u001b[0minverse_integer\u001b[0m\u001b[0;34m(\u001b[0m\u001b[0;36m134\u001b[0m\u001b[0;34m)\u001b[0m\u001b[0;34m\u001b[0m\u001b[0;34m\u001b[0m\u001b[0m\n\u001b[0m",
      "\u001b[0;32m<ipython-input-147-06e76255e6fc>\u001b[0m in \u001b[0;36minverse_integer\u001b[0;34m(s)\u001b[0m\n\u001b[1;32m      6\u001b[0m         \u001b[0mr\u001b[0m\u001b[0;34m=\u001b[0m\u001b[0ms\u001b[0m\u001b[0;34m%\u001b[0m\u001b[0;36m10\u001b[0m\u001b[0;34m\u001b[0m\u001b[0;34m\u001b[0m\u001b[0m\n\u001b[1;32m      7\u001b[0m         \u001b[0mres\u001b[0m\u001b[0;34m+=\u001b[0m\u001b[0mr\u001b[0m\u001b[0;34m*\u001b[0m\u001b[0;34m(\u001b[0m\u001b[0;36m10\u001b[0m\u001b[0;34m**\u001b[0m\u001b[0ml\u001b[0m\u001b[0;34m)\u001b[0m\u001b[0;34m\u001b[0m\u001b[0;34m\u001b[0m\u001b[0m\n\u001b[0;32m----> 8\u001b[0;31m         \u001b[0ms\u001b[0m\u001b[0;34m-=\u001b[0m\u001b[0mr\u001b[0m\u001b[0;34m\u001b[0m\u001b[0;34m\u001b[0m\u001b[0m\n\u001b[0m\u001b[1;32m      9\u001b[0m         \u001b[0ml\u001b[0m\u001b[0;34m-=\u001b[0m\u001b[0;36m1\u001b[0m\u001b[0;34m\u001b[0m\u001b[0;34m\u001b[0m\u001b[0m\n\u001b[1;32m     10\u001b[0m \u001b[0;34m\u001b[0m\u001b[0m\n",
      "\u001b[0;31mKeyboardInterrupt\u001b[0m: "
     ]
    }
   ],
   "source": [
    "inverse_integer(134)"
   ]
  },
  {
   "cell_type": "code",
   "execution_count": 133,
   "metadata": {},
   "outputs": [
    {
     "data": {
      "text/plain": [
       "59049"
      ]
     },
     "execution_count": 133,
     "metadata": {},
     "output_type": "execute_result"
    }
   ],
   "source": [
    "3**10"
   ]
  },
  {
   "cell_type": "code",
   "execution_count": 146,
   "metadata": {},
   "outputs": [
    {
     "data": {
      "text/plain": [
       "4"
      ]
     },
     "execution_count": 146,
     "metadata": {},
     "output_type": "execute_result"
    }
   ],
   "source": [
    "134%10"
   ]
  },
  {
   "cell_type": "code",
   "execution_count": null,
   "metadata": {},
   "outputs": [],
   "source": [
    "whether the given interger is a palindrome or reverse the integer without converting it into a string\n",
    "def isPalindrome(x):\n",
    "    ori=x\n",
    "    res=0\n",
    "    if x<0:\n",
    "        return False\n",
    "    while x > 0:\n",
    "        res = (res*10)+ (x % 10)\n",
    "        x//=10\n",
    "    if res == ori:\n",
    "        return True\n",
    "    return False"
   ]
  },
  {
   "cell_type": "code",
   "execution_count": 156,
   "metadata": {},
   "outputs": [],
   "source": [
    "import re\n",
    "def isPalindrome(s):\n",
    "    s=re.sub(r'[^\\w\\s]+','',s).replace(\" \", \"\").lower()\n",
    "    print(s)\n",
    "    res=re.sub(r'[^\\w\\s]+','',s).replace(\" \", \"\").lower()\n",
    "    if res[::-1]==s:\n",
    "        return True\n",
    "    else:\n",
    "        return False"
   ]
  },
  {
   "cell_type": "code",
   "execution_count": 157,
   "metadata": {},
   "outputs": [
    {
     "name": "stdout",
     "output_type": "stream",
     "text": [
      "race\n"
     ]
    },
    {
     "data": {
      "text/plain": [
       "False"
      ]
     },
     "execution_count": 157,
     "metadata": {},
     "output_type": "execute_result"
    }
   ],
   "source": [
    "isPalindrome(\"   rac   e\")"
   ]
  },
  {
   "cell_type": "code",
   "execution_count": null,
   "metadata": {},
   "outputs": [],
   "source": []
  }
 ],
 "metadata": {
  "kernelspec": {
   "display_name": "Python 3",
   "language": "python",
   "name": "python3"
  },
  "language_info": {
   "codemirror_mode": {
    "name": "ipython",
    "version": 3
   },
   "file_extension": ".py",
   "mimetype": "text/x-python",
   "name": "python",
   "nbconvert_exporter": "python",
   "pygments_lexer": "ipython3",
   "version": "3.7.4"
  }
 },
 "nbformat": 4,
 "nbformat_minor": 2
}
