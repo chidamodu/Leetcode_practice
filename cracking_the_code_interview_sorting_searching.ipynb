{
 "cells": [
  {
   "cell_type": "code",
   "execution_count": 149,
   "metadata": {
    "collapsed": true
   },
   "outputs": [],
   "source": [
    "# You are given two sorted arrays, A and B, where A has a large enough buffer at\n",
    "# the end to hold B. Write a method to merge B into A in sorted order.\n",
    "\n",
    "# pseudo:\n",
    "# iterate through B\n",
    "# iterate through A\n",
    "# check every element of B is greater than A if yes then get the index of the particular element in A and add 1 then insert the element in B\n",
    "# now the important thing is to set the iterator of A to the current index of the inserted element and increment the iterator of B to the next element\n",
    "# O(n^2) complexity\n",
    "\n",
    "\n",
    "def merge_arrays(A, B):\n",
    "    for i in range(len(B)):\n",
    "        for j in range(len(A)):\n",
    "            if B[i] <= A[j]:\n",
    "                ind=A.index(A[j])\n",
    "                A.insert(ind, B[i])\n",
    "                j=ind\n",
    "                i+=1\n",
    "                \n",
    "            else:\n",
    "                continue\n",
    "                \n",
    "    return A\n",
    "                \n",
    "                \n",
    "                \n",
    "                \n",
    "            "
   ]
  },
  {
   "cell_type": "code",
   "execution_count": 150,
   "metadata": {},
   "outputs": [
    {
     "data": {
      "text/plain": [
       "[1, 4, 7, 7, 9, 10, 12]"
      ]
     },
     "execution_count": 150,
     "metadata": {},
     "output_type": "execute_result"
    }
   ],
   "source": [
    "#not the output I want. not done with this yet.\n",
    "merge_arrays([4,9,12], [1,7,10])"
   ]
  },
  {
   "cell_type": "code",
   "execution_count": 74,
   "metadata": {
    "collapsed": true
   },
   "outputs": [],
   "source": [
    "# Write a method to sort an array of strings so that all the anagrams are next to\n",
    "# each other\n",
    "\n",
    "def anagram(s):\n",
    "    result=[]\n",
    "    from itertools import groupby\n",
    "    for k, v in groupby(s, key=sorted):\n",
    "        result.append(list(v))\n",
    "    return result"
   ]
  },
  {
   "cell_type": "code",
   "execution_count": 75,
   "metadata": {},
   "outputs": [
    {
     "data": {
      "text/plain": [
       "[['dog', 'god'], ['pencil']]"
      ]
     },
     "execution_count": 75,
     "metadata": {},
     "output_type": "execute_result"
    }
   ],
   "source": [
    "anagram([\"dog\", \"god\", \"pencil\"])"
   ]
  },
  {
   "cell_type": "code",
   "execution_count": 76,
   "metadata": {
    "collapsed": true
   },
   "outputs": [],
   "source": [
    "#the same anagram problem using list comprehension\n",
    "def anagram(s):\n",
    "    from itertools import groupby\n",
    "    result=[list(v) for k, v in groupby(s, key=sorted)]\n",
    "    return result"
   ]
  },
  {
   "cell_type": "code",
   "execution_count": 77,
   "metadata": {},
   "outputs": [
    {
     "data": {
      "text/plain": [
       "[['dog', 'god'], ['pencil']]"
      ]
     },
     "execution_count": 77,
     "metadata": {},
     "output_type": "execute_result"
    }
   ],
   "source": [
    "anagram([\"dog\", \"god\", \"pencil\"])"
   ]
  },
  {
   "cell_type": "code",
   "execution_count": 99,
   "metadata": {},
   "outputs": [
    {
     "data": {
      "text/plain": [
       "1"
      ]
     },
     "execution_count": 99,
     "metadata": {},
     "output_type": "execute_result"
    }
   ],
   "source": [
    "#using mergesort and binary search\n",
    "# idea is to apply merge sort first to sort the input array and use binary search to find the index of the input number\n",
    "# Given a sorted array of n integers that has been rotated an unknown number of\n",
    "# times, write code to find an element in the array. You may assume that the array\n",
    "# was originally sorted in increasing order.\n",
    "# EXAMPLE\n",
    "# Input: find 5 in {15, 16, 19, 20, 25, 1, 3, 4, 5, 7, 10, 14}\n",
    "# Output: 8 (the index of 5 in the array\n",
    "\n",
    "def msort3(x):#The complexity of merge sort is O(nlogn) and NOT O(logn).\n",
    "    result = []\n",
    "    if len(x) < 2:\n",
    "        return x\n",
    "    mid = int(len(x) / 2)\n",
    "    y = msort3(x[:mid])\n",
    "    z = msort3(x[mid:])\n",
    "    i = 0\n",
    "    j = 0\n",
    "    while i < len(y) and j < len(z):\n",
    "        if y[i] > z[j]:\n",
    "            result.append(z[j])\n",
    "            j += 1\n",
    "        else:\n",
    "            result.append(y[i])\n",
    "            i += 1\n",
    "\n",
    "    result += z[j:]#have to figure why it works with these two lines here\n",
    "    result += y[i:]\n",
    "    return result\n",
    "\n",
    "#now on to binary search to find the index of the input number in the sorted array from the above function\n",
    "def binarySearch(arr, x):#the input to a binary search algorithm is a sorted array!\n",
    "    #Binary search runs in at worst logarithmic time, making O(log n) comparisons, where n is the number of elements in the array, the O is Big O notation, and log is the logarithm.\n",
    "    #Binary search takes constant (O(1)) space, meaning that the space taken by the algorithm is the same for any number of elements in the array.\n",
    "    l=0#is the left most index-beginning of the input array but it gets updated during the process\n",
    "    r=len(arr)-1#right most index but gets updated \n",
    "    \n",
    "    while l <= r: \n",
    "        mid = int(l + (r - l)/2)#the mid has to be here otherwise it doesn't get updated (if left outside the while-loop)\n",
    "        # Check if x is present at mid\n",
    "        if arr[mid] == x:\n",
    "            return mid\n",
    "\n",
    "        # If x is greater, ignore left half\n",
    "        elif arr[mid] < x:\n",
    "            l = mid + 1\n",
    "\n",
    "        # If x is smaller, ignore right half\n",
    "        else:\n",
    "            r = mid - 1\n",
    "    \n",
    "    # If we reach here, then the element\n",
    "    # was not present\n",
    "    return -1\n",
    "           \n",
    "\n",
    "binarySearch(msort3([1, 3, 4, 5, 7, 10, 14, 15, 16, 19, 20, 25]), 3)"
   ]
  },
  {
   "cell_type": "code",
   "execution_count": 77,
   "metadata": {},
   "outputs": [
    {
     "data": {
      "text/plain": [
       "[1, 3, 4, 5, 7, 10, 14, 15, 16, 19, 20, 25]"
      ]
     },
     "execution_count": 77,
     "metadata": {},
     "output_type": "execute_result"
    }
   ],
   "source": [
    "msort3([15, 16, 19, 20, 25, 1, 3, 4, 5, 7, 10, 14])"
   ]
  },
  {
   "cell_type": "code",
   "execution_count": null,
   "metadata": {
    "collapsed": true
   },
   "outputs": [],
   "source": [
    "# Imagine you have a 20 GB file with one string per line. Explain how you would\n",
    "# sort the file.\n",
    "\n",
    "questions:\n",
    "what does sorting mean here? like sort the strings alphabetically?(looks like it!)\n",
    "\n",
    "An external sorting algorithm can help here. It is an algorithm to sort data that does not usually not fit into memory(RAM) and so they are stored in external hard disk\n",
    "the idea is to split the data into chunks of different sizes and sort them individually. And finally merge all the chunks into one file\n",
    "\n"
   ]
  },
  {
   "cell_type": "code",
   "execution_count": null,
   "metadata": {
    "collapsed": true
   },
   "outputs": [],
   "source": [
    "Given a sorted array of strings which is interspersed with empty strings, write a\n",
    "method to find the location of a given string.\n",
    "EXAMPLE\n",
    "Input: find \"ball\" in {\"at\", \"\", \"\", \"\", \"ball\", \"\", \"\", \"car\",\"\",\"\",\"dad\",\"\",\"\"}\n",
    "Output: 4\n",
    "    \n"
   ]
  },
  {
   "cell_type": "code",
   "execution_count": 13,
   "metadata": {},
   "outputs": [
    {
     "data": {
      "text/plain": [
       "4"
      ]
     },
     "execution_count": 13,
     "metadata": {},
     "output_type": "execute_result"
    }
   ],
   "source": [
    "fg=[\"at\", \"\", \"\", \"\", \"ball\", \"\", \"\", \"car\",\"\",\"\",\"dad\",\"\",\"\"]\n",
    "fg.index(\"ball\")"
   ]
  },
  {
   "cell_type": "code",
   "execution_count": 44,
   "metadata": {},
   "outputs": [],
   "source": [
    "def find_index(s, e):\n",
    "    result=[]\n",
    "    m=int(len(s)/2)\n",
    "    l=s[:m]\n",
    "    r=s[m:]\n",
    "    ind=len(l)\n",
    "    if s[m]==e:\n",
    "        return m\n",
    "    else:\n",
    "        for i in range(len(l)):\n",
    "            if s[i]==e:\n",
    "                result.append(i)\n",
    "            else:\n",
    "                continue\n",
    "        for j in range(len(r), ind):\n",
    "            if s[j]==e:\n",
    "                result.append(j)\n",
    "            else:\n",
    "                continue\n",
    "    return result\n",
    "    \n",
    "#     print(l)\n",
    "#     print(r)"
   ]
  },
  {
   "cell_type": "code",
   "execution_count": 45,
   "metadata": {},
   "outputs": [
    {
     "data": {
      "text/plain": [
       "[]"
      ]
     },
     "execution_count": 45,
     "metadata": {},
     "output_type": "execute_result"
    }
   ],
   "source": [
    "find_index(fg, \"dad\")"
   ]
  },
  {
   "cell_type": "code",
   "execution_count": 60,
   "metadata": {},
   "outputs": [
    {
     "data": {
      "text/plain": [
       "(1, 0)"
      ]
     },
     "execution_count": 60,
     "metadata": {},
     "output_type": "execute_result"
    }
   ],
   "source": [
    "Given an M x N matrix in which each row and each column is sorted in ascending\n",
    "order, write a method to find an element.\n",
    "\n",
    "def find_index(mat, n, value):\n",
    "    i=0\n",
    "    j=n-1\n",
    "    while i < n and j>=0:#A loop or recursion that runs a constant number of times is also considered as O(1)\n",
    "        if mat[i][j]==value:\n",
    "            return (i,j)\n",
    "        \n",
    "        elif mat[i][j] > value:\n",
    "            j-=1\n",
    "        else:\n",
    "            i+=1\n",
    "            \n",
    "    return 0\n",
    "        \n",
    "teer=[[1,2,4],[5,6,9],[3, 8, 345]]    \n",
    "    \n",
    "find_index(teer, 3, 5)    "
   ]
  },
  {
   "cell_type": "code",
   "execution_count": 126,
   "metadata": {},
   "outputs": [
    {
     "data": {
      "text/plain": [
       "([(56, 1700), (60, 95), (65, 100), (68, 110), (70, 150), (75, 190)], 6)"
      ]
     },
     "execution_count": 126,
     "metadata": {},
     "output_type": "execute_result"
    }
   ],
   "source": [
    "A circus is designing a tower routine consisting of people standing atop one\n",
    "another's shoulders. For practical and aesthetic reasons, each person must be\n",
    "both shorter and lighter than the person below him or her. Given the heights\n",
    "and weights of each person in the circus, write a method to compute the largest\n",
    "possible number of people in such a tower.\n",
    "EXAMPLE:\n",
    "Input (ht,wt): (65, 100) (70, 150) (56, 90) (75, 190) (60, 95)\n",
    "(68, 110)\n",
    "Output:The longest tower is length 6 and includes from top to bottom:\n",
    "(56, 90) (60,95) (65,100) (68,110) (70,150) (75,190)\n",
    "\n",
    "\n",
    "def sort_tuples(london):\n",
    "    from operator import itemgetter\n",
    "    london.sort(key=itemgetter(0,1))\n",
    "    return london, len(london)\n",
    "sort_tuples([(65, 100), (70, 150), (56, 1700), (75, 190), (60, 95), (68, 110)])"
   ]
  },
  {
   "cell_type": "code",
   "execution_count": 121,
   "metadata": {
    "collapsed": true
   },
   "outputs": [],
   "source": [
    "#itemgetter function from python document\n",
    "def itemgetter(*items):\n",
    "    if len(items) == 1:\n",
    "        item = items[0]\n",
    "        def g(obj):\n",
    "            return obj[item]\n",
    "    else:\n",
    "        def g(obj):\n",
    "            return tuple(obj[item] for item in items)\n",
    "    return g"
   ]
  },
  {
   "cell_type": "code",
   "execution_count": 145,
   "metadata": {},
   "outputs": [
    {
     "data": {
      "text/plain": [
       "{1, 3, 4}"
      ]
     },
     "execution_count": 145,
     "metadata": {},
     "output_type": "execute_result"
    }
   ],
   "source": [
    "Imagine you are reading in a stream of integers. Periodically, you wish to be able\n",
    "to look up the rank of a number x (the number of values less than or equal tox).\n",
    "Implement the data structures and algorithms to support these operations.That\n",
    "is, implement the method track(int x), which is called when each number\n",
    "is generated, and the method getRankOfNumber(int x), which returns the\n",
    "number of values less than or equal to x (not including x itself).\n",
    "EXAMPLE\n",
    "Stream (in order of appearance): 5, 1, 4, 4, 5, 9, 7, 13, 3\n",
    "getRankOfNumber(l) = 0\n",
    "getRankOfNumber(3) = 1\n",
    "getRankOfNumber(4) = 3\n",
    "\n",
    "gh=[5, 1, 4, 4, 5, 9, 7, 13, 3]\n",
    "\n",
    "def stream_rank(gh, temp_val):\n",
    "    num=[]\n",
    "    getRankOfNumber=[(), ()]\n",
    "    for i in range(len(gh)):\n",
    "        if gh[i] < temp_val:\n",
    "            num.append(gh[i]) \n",
    "    \n",
    "#     getRankOfNumber.append((i, set(num)))\n",
    "   \n",
    "    return set(num)\n",
    "stream_rank([5, 1, 4, 4, 5, 9, 7, 13, 3], 5)"
   ]
  },
  {
   "cell_type": "code",
   "execution_count": 146,
   "metadata": {},
   "outputs": [
    {
     "data": {
      "text/plain": [
       "{1, 3, 4}"
      ]
     },
     "execution_count": 146,
     "metadata": {},
     "output_type": "execute_result"
    }
   ],
   "source": [
    "#The above problem: stream of data but using generator expression and list comprehension\n",
    "\n",
    "def GetNextHighTemp(temp, templist):\n",
    "    templist = (int(t) for t in templist if t != '')\n",
    "    temper = [t for t in templist if t < int(temp)]\n",
    "    if temper: return set(temper)\n",
    "    else: return None\n",
    "\n",
    "GetNextHighTemp(5, [5, 1, 4, 4, 5, 9, 7, 13, 3])"
   ]
  },
  {
   "cell_type": "code",
   "execution_count": 95,
   "metadata": {
    "collapsed": true
   },
   "outputs": [],
   "source": [
    "def binarySearch(arr, x):#the input to a binary search algorithm is a sorted array!\n",
    "    l=0#is the left most index-beginning of the input array but it gets updated during the process\n",
    "    r=len(arr)-1#right most index but gets updated \n",
    "    \n",
    "    while l <= r: \n",
    "        mid = int(l + (r - l)/2)#the mid has to be here otherwise it doesn't get updated (if left outside the while-loop)\n",
    "        # Check if x is present at mid\n",
    "        if arr[mid] == x:\n",
    "            return mid\n",
    "\n",
    "        # If x is greater, ignore left half\n",
    "        elif arr[mid] < x:\n",
    "            l = mid + 1\n",
    "\n",
    "        # If x is smaller, ignore right half\n",
    "        else:\n",
    "            r = mid - 1\n",
    "    \n",
    "    # If we reach here, then the element\n",
    "    # was not present\n",
    "    return -1"
   ]
  },
  {
   "cell_type": "code",
   "execution_count": 94,
   "metadata": {},
   "outputs": [
    {
     "data": {
      "text/plain": [
       "0"
      ]
     },
     "execution_count": 94,
     "metadata": {},
     "output_type": "execute_result"
    }
   ],
   "source": [
    "arr = [ 2, 3, 4, 10, 40 ]\n",
    "\n",
    "binarySearch(arr, 2)"
   ]
  }
 ],
 "metadata": {
  "kernelspec": {
   "display_name": "Python [conda root]",
   "language": "python",
   "name": "conda-root-py"
  },
  "language_info": {
   "codemirror_mode": {
    "name": "ipython",
    "version": 3
   },
   "file_extension": ".py",
   "mimetype": "text/x-python",
   "name": "python",
   "nbconvert_exporter": "python",
   "pygments_lexer": "ipython3",
   "version": "3.5.4"
  }
 },
 "nbformat": 4,
 "nbformat_minor": 2
}
