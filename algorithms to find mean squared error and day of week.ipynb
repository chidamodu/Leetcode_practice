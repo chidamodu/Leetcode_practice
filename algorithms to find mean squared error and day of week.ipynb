{
 "cells": [
  {
   "cell_type": "code",
   "execution_count": 1,
   "metadata": {},
   "outputs": [],
   "source": [
    "from sklearn.metrics import mean_squared_error\n",
    "from math import sqrt\n",
    "\n"
   ]
  },
  {
   "cell_type": "code",
   "execution_count": 2,
   "metadata": {},
   "outputs": [],
   "source": [
    "def solution(predicted, observed):\n",
    "    rms = sqrt(mean_squared_error(observed, predicted))\n",
    "    return rms\n",
    "    "
   ]
  },
  {
   "cell_type": "code",
   "execution_count": 3,
   "metadata": {},
   "outputs": [
    {
     "data": {
      "text/plain": [
       "2.5"
      ]
     },
     "execution_count": 3,
     "metadata": {},
     "output_type": "execute_result"
    }
   ],
   "source": [
    "solution(predicted = [4, 25,  0.75, 11], observed  = [3, 21, -1.25, 13])"
   ]
  },
  {
   "cell_type": "code",
   "execution_count": 7,
   "metadata": {},
   "outputs": [],
   "source": [
    "import numpy as np\n",
    "def solution(predicted, observed):\n",
    "    return np.sqrt(((np.array(predicted) - np.array(observed)) ** 2).mean())"
   ]
  },
  {
   "cell_type": "code",
   "execution_count": 8,
   "metadata": {},
   "outputs": [
    {
     "data": {
      "text/plain": [
       "2.5"
      ]
     },
     "execution_count": 8,
     "metadata": {},
     "output_type": "execute_result"
    }
   ],
   "source": [
    "solution(predicted = [4, 25,  0.75, 11], observed  = [3, 21, -1.25, 13])"
   ]
  },
  {
   "cell_type": "code",
   "execution_count": 19,
   "metadata": {},
   "outputs": [],
   "source": [
    "have to think about the range of length of either of the lists and the range within each element in the lists should be\n",
    "\n",
    "def solution(predicted, observed):\n",
    "    s1, s2=0,0\n",
    "    \n",
    "    for i in range(len(predicted)):\n",
    "        s1+=(predicted[i]-observed[i])**2\n",
    "        \n",
    "    return (s1/len(predicted))**(0.5)\n",
    "        \n",
    "        \n",
    "        "
   ]
  },
  {
   "cell_type": "code",
   "execution_count": 20,
   "metadata": {},
   "outputs": [
    {
     "data": {
      "text/plain": [
       "2.5"
      ]
     },
     "execution_count": 20,
     "metadata": {},
     "output_type": "execute_result"
    }
   ],
   "source": [
    "predicted=[4, 25, 0.75, 11]\n",
    "observed=[3, 21, -1.25, 13]\n",
    "solution(predicted, observed)"
   ]
  },
  {
   "cell_type": "code",
   "execution_count": 17,
   "metadata": {},
   "outputs": [],
   "source": [
    "def solution(s, k):\n",
    "    d={\"Mon\":1, \"Tue\":2, \"Wed\":3, \"Thu\":4, \"Fri\":5, \"Sat\":6, \"Sun\":7}\n",
    "    if s in d:\n",
    "        val=(d[s]+k)%7\n",
    "        \n",
    "    for k, v in d.items():\n",
    "        if v==val:\n",
    "            return k"
   ]
  },
  {
   "cell_type": "code",
   "execution_count": 18,
   "metadata": {},
   "outputs": [
    {
     "data": {
      "text/plain": [
       "'Mon'"
      ]
     },
     "execution_count": 18,
     "metadata": {},
     "output_type": "execute_result"
    }
   ],
   "source": [
    "solution(\"Sat\", 23)"
   ]
  }
 ],
 "metadata": {
  "kernelspec": {
   "display_name": "Python 3",
   "language": "python",
   "name": "python3"
  },
  "language_info": {
   "codemirror_mode": {
    "name": "ipython",
    "version": 3
   },
   "file_extension": ".py",
   "mimetype": "text/x-python",
   "name": "python",
   "nbconvert_exporter": "python",
   "pygments_lexer": "ipython3",
   "version": "3.7.4"
  }
 },
 "nbformat": 4,
 "nbformat_minor": 2
}
