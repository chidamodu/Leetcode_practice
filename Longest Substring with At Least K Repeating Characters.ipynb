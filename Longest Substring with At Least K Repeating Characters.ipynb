{
 "cells": [
  {
   "cell_type": "code",
   "execution_count": null,
   "metadata": {},
   "outputs": [],
   "source": [
    "class Solution:\n",
    "    def longestSubstring(self, s: str, k: int) -> int:\n",
    "        return self.check(s, k)\n",
    "    \n",
    "    def check(self, s, k):\n",
    "        res=0\n",
    "        if len(s) == 0:\n",
    "            return 0\n",
    "        d = {}\n",
    "        for l in s:\n",
    "            try:\n",
    "                d[l] += 1\n",
    "            except:\n",
    "                d[l] = 1\n",
    "        stop = []\n",
    "        for key in d.keys():\n",
    "            \n",
    "            if d[key] < k:\n",
    "                stop.append(key)\n",
    "        \n",
    "        if len(stop) == 0:\n",
    "            return len(s)\n",
    "\t\t\n",
    "        valid_s = []\n",
    "\t\t\n",
    "        start = 0\n",
    "        \n",
    "        for i in range(len(s)):\n",
    "            if s[i] in stop:\n",
    "                valid_s.append(s[start:i])\n",
    "                start = i+1\n",
    "        valid_s.append(s[start:])\n",
    "\t\t\n",
    "        max_v = 0\n",
    "        \n",
    "        for vs in valid_s:\n",
    "            if len(vs) == 0:\n",
    "                continue\n",
    "            \n",
    "            tmp = self.check(vs, k)\n",
    "            if tmp > max_v:\n",
    "                max_v = tmp\n",
    "        return max_v\n",
    "        \n",
    "                \n",
    "Runtime: 32 ms, faster than 96.61% of Python3 online submissions for Longest Substring with At Least K Repeating Characters.\n",
    "Memory Usage: 12.9 MB, less than 100.00% of Python3 online submissions for Longest Substring with At Least K Repeating Characters.                \n",
    "        \n",
    "            \n",
    "        "
   ]
  }
 ],
 "metadata": {
  "kernelspec": {
   "display_name": "Python 3",
   "language": "python",
   "name": "python3"
  },
  "language_info": {
   "codemirror_mode": {
    "name": "ipython",
    "version": 3
   },
   "file_extension": ".py",
   "mimetype": "text/x-python",
   "name": "python",
   "nbconvert_exporter": "python",
   "pygments_lexer": "ipython3",
   "version": "3.7.4"
  }
 },
 "nbformat": 4,
 "nbformat_minor": 2
}
