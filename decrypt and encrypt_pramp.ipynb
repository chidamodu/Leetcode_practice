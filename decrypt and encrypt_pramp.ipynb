{
 "cells": [
  {
   "cell_type": "code",
   "execution_count": 51,
   "metadata": {},
   "outputs": [],
   "source": [
    "def decrypt(s):\n",
    "    prev=1\n",
    "\n",
    "    decrypt=''\n",
    "    for i in range(len(s)):\n",
    "        new_ascii=ord(s[i])\n",
    "        new_ascii-=prev\n",
    "        while new_ascii<ord('a'):\n",
    "            new_ascii+=26\n",
    "        decrypt+=chr(new_ascii)\n",
    "        prev+=new_ascii\n",
    "        \n",
    "    return decrypt\n",
    "            \n",
    "            "
   ]
  },
  {
   "cell_type": "code",
   "execution_count": 52,
   "metadata": {},
   "outputs": [
    {
     "data": {
      "text/plain": [
       "'encyclopedia'"
      ]
     },
     "execution_count": 52,
     "metadata": {},
     "output_type": "execute_result"
    }
   ],
   "source": [
    "decrypt(\"flgxswdliefy\")"
   ]
  },
  {
   "cell_type": "code",
   "execution_count": null,
   "metadata": {},
   "outputs": [],
   "source": [
    "Encryption part\n",
    "def encrypt(s):\n",
    "    result=[]\n",
    "    for i in range(len(s)):\n",
    "        if i ==0:\n",
    "            result.append((ord(s[i])+1))\n",
    "        else:\n",
    "            result.append((ord(s[i])+result[i-1]))\n",
    "    for i in range(1, len(result)):\n",
    "        while (i>97) and (i<122):\n",
    "            result[i]-=26\n",
    "    \n",
    "    return(result)\n",
    "      \n",
    "      \n",
    "# print(encrypt(\"crime\"))\n",
    "\n",
    "\n",
    "\n"
   ]
  }
 ],
 "metadata": {
  "kernelspec": {
   "display_name": "Python 3",
   "language": "python",
   "name": "python3"
  },
  "language_info": {
   "codemirror_mode": {
    "name": "ipython",
    "version": 3
   },
   "file_extension": ".py",
   "mimetype": "text/x-python",
   "name": "python",
   "nbconvert_exporter": "python",
   "pygments_lexer": "ipython3",
   "version": "3.7.4"
  }
 },
 "nbformat": 4,
 "nbformat_minor": 2
}
