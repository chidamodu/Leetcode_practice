{
 "cells": [
  {
   "cell_type": "code",
   "execution_count": null,
   "metadata": {},
   "outputs": [],
   "source": [
    "This is what I tried but did not work\n",
    "def merge_sorted(a1, a2):\n",
    "    m=length(a1)\n",
    "    n=length(a2)\n",
    "    k=m+n-1\n",
    "    while n:\n",
    "        if :\n",
    "        if a2[i] in a1:\n",
    "            a1.insert(a1.index(a2[i]), a2[i])\n",
    "        \n",
    "        elif a2[i] \n",
    "            "
   ]
  },
  {
   "cell_type": "code",
   "execution_count": 1,
   "metadata": {},
   "outputs": [
    {
     "data": {
      "text/plain": [
       "[1, 22, 2, 3]"
      ]
     },
     "execution_count": 1,
     "metadata": {},
     "output_type": "execute_result"
    }
   ],
   "source": [
    "a=[1,2,3]\n",
    "a.insert(1, 22)\n",
    "a"
   ]
  },
  {
   "cell_type": "code",
   "execution_count": 30,
   "metadata": {},
   "outputs": [],
   "source": [
    " \"\"\"\n",
    "        Do not return anything, modify nums1 in-place instead.\n",
    "        \"\"\"\n",
    "\n",
    "def merge(nums1, nums2, m, n):\n",
    "    k =  + n - 1\n",
    "    i = m - 1\n",
    "    j = n - 1\n",
    "    while k >= 0:\n",
    "        if i >= 0 and (j < 0 or nums1[i] > nums2[j]):\n",
    "            nums1[k] = nums1[i]\n",
    "            i -= 1\n",
    "#             print(nums1)\n",
    "        else:\n",
    "           \n",
    "            assert(j >= 0)\n",
    "            nums1[k] = nums2[j]\n",
    "            j -= 1\n",
    "#         print(nums1)    \n",
    "        k -= 1\n",
    "    \n",
    "    return nums1"
   ]
  },
  {
   "cell_type": "code",
   "execution_count": 31,
   "metadata": {},
   "outputs": [
    {
     "data": {
      "text/plain": [
       "[6, 6, 6, 0, 0, 0]"
      ]
     },
     "execution_count": 31,
     "metadata": {},
     "output_type": "execute_result"
    }
   ],
   "source": [
    "merge([1,2,3,0,0,0], [2,5,6], 3, 3)"
   ]
  }
 ],
 "metadata": {
  "kernelspec": {
   "display_name": "Python 3",
   "language": "python",
   "name": "python3"
  },
  "language_info": {
   "codemirror_mode": {
    "name": "ipython",
    "version": 3
   },
   "file_extension": ".py",
   "mimetype": "text/x-python",
   "name": "python",
   "nbconvert_exporter": "python",
   "pygments_lexer": "ipython3",
   "version": "3.7.4"
  }
 },
 "nbformat": 4,
 "nbformat_minor": 2
}
