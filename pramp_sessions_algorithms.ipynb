{
 "cells": [
  {
   "cell_type": "code",
   "execution_count": 10,
   "metadata": {},
   "outputs": [],
   "source": [
    "def absSort(arr):\n",
    "    result=[]\n",
    "    d ={}\n",
    "    for i in range(len(arr)):\n",
    "        if abs(arr[i]) in d:\n",
    "            d[abs(arr[i])].append(arr[i])\n",
    "\n",
    "            \n",
    "            \n",
    "        else:\n",
    "            d[abs(arr[i])]=d.get(abs(arr[i]), [arr[i]])\n",
    "      \n",
    "    print(sorted(d.items()))\n",
    "    for k, v in sorted(d.items()):\n",
    "        \n",
    "        result.extend(sorted(v))\n",
    "\n",
    "\n",
    "    return result\n",
    "    "
   ]
  },
  {
   "cell_type": "code",
   "execution_count": 11,
   "metadata": {},
   "outputs": [
    {
     "name": "stdout",
     "output_type": "stream",
     "text": [
      "[(0, [0]), (2, [2, -2, -2]), (7, [-7])]\n"
     ]
    },
    {
     "data": {
      "text/plain": [
       "[0, -2, -2, 2, -7]"
      ]
     },
     "execution_count": 11,
     "metadata": {},
     "output_type": "execute_result"
    }
   ],
   "source": [
    "absSort([2, -7, -2, -2, 0])"
   ]
  },
  {
   "cell_type": "code",
   "execution_count": 50,
   "metadata": {},
   "outputs": [],
   "source": [
    "def array_of_array_products(arr):\n",
    "    d={}\n",
    "    result=[]\n",
    "    p=1\n",
    "    for i in range(len(arr)):\n",
    "        arr[i]=p\n",
    "        result[i]=\n",
    "        \n",
    "    \n",
    "#     for k, v in d.items():\n",
    "#         result[k]=[1*j for j in v]\n"
   ]
  },
  {
   "cell_type": "code",
   "execution_count": 51,
   "metadata": {},
   "outputs": [
    {
     "name": "stdout",
     "output_type": "stream",
     "text": [
      "[]\n",
      "[6]\n",
      "[8]\n",
      "[]\n"
     ]
    }
   ],
   "source": [
    "array_of_array_products([2, 7, 3, 4])"
   ]
  },
  {
   "cell_type": "code",
   "execution_count": 52,
   "metadata": {},
   "outputs": [],
   "source": [
    "from numpy import prod\n",
    "def array_of_array_products(arr):\n",
    "    if len(arr)==0 or len(arr)==1:\n",
    "        return []\n",
    "    res=[]\n",
    "    for i in range(len(arr)):\n",
    "        res.append(int(prod(arr[:i])*prod(arr[i+1:])))\n",
    "    return res"
   ]
  },
  {
   "cell_type": "code",
   "execution_count": 53,
   "metadata": {},
   "outputs": [
    {
     "data": {
      "text/plain": [
       "[84, 24, 56, 42]"
      ]
     },
     "execution_count": 53,
     "metadata": {},
     "output_type": "execute_result"
    }
   ],
   "source": [
    "array_of_array_products([2, 7, 3, 4])"
   ]
  },
  {
   "cell_type": "code",
   "execution_count": 56,
   "metadata": {},
   "outputs": [],
   "source": [
    "def absSort(arr):\n",
    "    result=[]\n",
    "    d ={}\n",
    "    for i in range(len(arr)):\n",
    "        if abs(arr[i]) in d:\n",
    "            d[abs(arr[i])].append(arr[i])\n",
    "     \n",
    "        else:\n",
    "            d[abs(arr[i])]=d.get(abs(arr[i]), [arr[i]])\n",
    "            \n",
    "    return d\n",
    "      \n",
    "#     for k, v in sorted(d.items()):\n",
    "#         result.extend(sorted(v))\n",
    "\n",
    "\n",
    "#     return result\n",
    "    "
   ]
  },
  {
   "cell_type": "code",
   "execution_count": 57,
   "metadata": {},
   "outputs": [
    {
     "data": {
      "text/plain": [
       "{2: [2, -2, -2], 7: [-7], 0: [0]}"
      ]
     },
     "execution_count": 57,
     "metadata": {},
     "output_type": "execute_result"
    }
   ],
   "source": [
    "absSort([2, -7, -2, -2, 0])"
   ]
  },
  {
   "cell_type": "code",
   "execution_count": null,
   "metadata": {},
   "outputs": [],
   "source": []
  }
 ],
 "metadata": {
  "kernelspec": {
   "display_name": "Python 3",
   "language": "python",
   "name": "python3"
  },
  "language_info": {
   "codemirror_mode": {
    "name": "ipython",
    "version": 3
   },
   "file_extension": ".py",
   "mimetype": "text/x-python",
   "name": "python",
   "nbconvert_exporter": "python",
   "pygments_lexer": "ipython3",
   "version": "3.7.4"
  }
 },
 "nbformat": 4,
 "nbformat_minor": 2
}
