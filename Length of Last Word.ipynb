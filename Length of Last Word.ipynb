{
 "cells": [
  {
   "cell_type": "code",
   "execution_count": null,
   "metadata": {},
   "outputs": [],
   "source": [
    "Tried this the last week. It worked but had issues for a few test cases.\n",
    "\n",
    "def lengthOfLastWord(self, s: str) -> int:\n",
    "        ind=defaultdict(list)\n",
    "        for i, j in enumerate(s):\n",
    "            ind[j].append(i)\n",
    "        \n",
    "        if len(ind)>=1:\n",
    "            if \" \" not in ind:\n",
    "                return len(s)\n",
    "        \n",
    "        \n",
    "            for k, v in ind.items():    \n",
    "                if k==\" \" in ind:                \n",
    "                    return len(s[v[-1]+1:]) if s[v[-1]:]!=\" \" else len(s[:v[-1]+1].strip())\n",
    "            \n",
    "        else:\n",
    "            return 0\n",
    "            \n",
    "            \n",
    "        "
   ]
  },
  {
   "cell_type": "code",
   "execution_count": 121,
   "metadata": {},
   "outputs": [],
   "source": [
    "My code worked awesome - faster than 90% of submissions online, Yay!!!\n",
    "def lengthOfLastWord(s):\n",
    "    d={}\n",
    "    for i, j in list(enumerate((s.rstrip(' ').lstrip(' ')).split(' '))):\n",
    "        d[i]=j\n",
    "        \n",
    "\n",
    "        \n",
    "    for k, v in d.items():\n",
    "        if d[max(d)] != \" \":\n",
    "            return len(d[max(d)])\n",
    "\n",
    "        else:\n",
    "            return 0\n",
    "\n",
    "        \n",
    "\n",
    "        \n"
   ]
  },
  {
   "cell_type": "code",
   "execution_count": 122,
   "metadata": {},
   "outputs": [
    {
     "data": {
      "text/plain": [
       "2"
      ]
     },
     "execution_count": 122,
     "metadata": {},
     "output_type": "execute_result"
    }
   ],
   "source": [
    "lengthOfLastWord(\"Hello Wor ld    \")"
   ]
  },
  {
   "cell_type": "code",
   "execution_count": 73,
   "metadata": {},
   "outputs": [],
   "source": [
    "Tried looping in the reverse order but did not get an idea of how to get the element of the string as I moved from\n",
    "backwards\n",
    "\n",
    "def lengthOfLastWord(s):\n",
    "    d={}\n",
    "    for i in range(len(s.split(\" \")), -1, -1):\n",
    "        print(i)"
   ]
  },
  {
   "cell_type": "code",
   "execution_count": 74,
   "metadata": {},
   "outputs": [
    {
     "name": "stdout",
     "output_type": "stream",
     "text": [
      "3\n",
      "2\n",
      "1\n",
      "0\n"
     ]
    }
   ],
   "source": [
    "lengthOfLastWord(\"Hello World \")"
   ]
  }
 ],
 "metadata": {
  "kernelspec": {
   "display_name": "Python 3",
   "language": "python",
   "name": "python3"
  },
  "language_info": {
   "codemirror_mode": {
    "name": "ipython",
    "version": 3
   },
   "file_extension": ".py",
   "mimetype": "text/x-python",
   "name": "python",
   "nbconvert_exporter": "python",
   "pygments_lexer": "ipython3",
   "version": "3.7.4"
  }
 },
 "nbformat": 4,
 "nbformat_minor": 2
}
