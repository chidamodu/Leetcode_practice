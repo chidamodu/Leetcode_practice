{
 "cells": [
  {
   "cell_type": "code",
   "execution_count": null,
   "metadata": {},
   "outputs": [],
   "source": [
    "class Solution:\n",
    "    def longestPalindrome(self, string: str) -> int:\n",
    "        \n",
    "        if not string: return 0\n",
    "    \n",
    "        from collections import Counter\n",
    "        c = Counter(string)\n",
    "        \n",
    "        length, flag = 0, False\n",
    "    \n",
    "        for ele in c:\n",
    "            if c[ele]%2==0:\n",
    "                length+=c[ele]\n",
    "                \n",
    "            elif c[ele]%2==1:\n",
    "                length+=c[ele]-1\n",
    "                flag=True\n",
    "                \n",
    "        if flag==True:\n",
    "            return length+1\n",
    "        else:\n",
    "            return length\n",
    "        \n",
    "        \n",
    "Runtime: 20 ms, faster than 99.92% of Python3 online submissions for Longest Palindrome.\n",
    "Memory Usage: 12.8 MB, less than 100.00% of Python3 online submissions for Longest Palindrome."
   ]
  }
 ],
 "metadata": {
  "kernelspec": {
   "display_name": "Python 3",
   "language": "python",
   "name": "python3"
  },
  "language_info": {
   "codemirror_mode": {
    "name": "ipython",
    "version": 3
   },
   "file_extension": ".py",
   "mimetype": "text/x-python",
   "name": "python",
   "nbconvert_exporter": "python",
   "pygments_lexer": "ipython3",
   "version": "3.7.4"
  }
 },
 "nbformat": 4,
 "nbformat_minor": 2
}
