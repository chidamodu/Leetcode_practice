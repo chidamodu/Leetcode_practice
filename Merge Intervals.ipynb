{
 "cells": [
  {
   "cell_type": "code",
   "execution_count": 51,
   "metadata": {},
   "outputs": [],
   "source": [
    "# started at 3.59\n",
    "this approach is very limited\n",
    "def merge(l):\n",
    "    res=[]\n",
    "    for i in range(1, len(l)):\n",
    "        if l[i][0]>l[i-1][1]:\n",
    "            \n",
    "            res.append(l[i])\n",
    "        else:\n",
    "\n",
    "            res.append([l[i-1][0], l[i][1]])    \n",
    "    return res\n",
    "            \n",
    "            "
   ]
  },
  {
   "cell_type": "code",
   "execution_count": 52,
   "metadata": {},
   "outputs": [
    {
     "data": {
      "text/plain": [
       "[[1, 6], [8, 10], [15, 18]]"
      ]
     },
     "execution_count": 52,
     "metadata": {},
     "output_type": "execute_result"
    }
   ],
   "source": [
    "merge([[1,3],[2,6],[8,10],[15,18]])"
   ]
  },
  {
   "cell_type": "code",
   "execution_count": null,
   "metadata": {},
   "outputs": [],
   "source": [
    "[[1,4],[4,5]]\n",
    "\n",
    "\n",
    "[[8,10],[15,18]]"
   ]
  },
  {
   "cell_type": "code",
   "execution_count": 144,
   "metadata": {},
   "outputs": [],
   "source": [
    "def merge(l):\n",
    "    print(l.sort())\n",
    "#     for i in range(0, len(l)-1):\n",
    "#         print(i)\n",
    "#         print(l[i-1][1])\n",
    "#         if l[i-1][1] <= l[i][0]:\n",
    "            \n",
    "#             print(\"yes\")\n",
    "#             l[:i+1]=[[l[i-1][0], l[i][1]]]\n",
    "            \n",
    "#         else:\n",
    "#             continue\n",
    "           \n",
    "#     return l\n",
    "    "
   ]
  },
  {
   "cell_type": "code",
   "execution_count": 145,
   "metadata": {},
   "outputs": [
    {
     "name": "stdout",
     "output_type": "stream",
     "text": [
      "None\n"
     ]
    }
   ],
   "source": [
    "merge([[1,3],[2,6],[8,10],[15,18]])"
   ]
  },
  {
   "cell_type": "code",
   "execution_count": 62,
   "metadata": {},
   "outputs": [
    {
     "data": {
      "text/plain": [
       "0"
      ]
     },
     "execution_count": 62,
     "metadata": {},
     "output_type": "execute_result"
    }
   ],
   "source": [
    "k=[[1,3],[2,6],[8,10],[15,18]]\n",
    "k.index([1,3])"
   ]
  },
  {
   "cell_type": "code",
   "execution_count": 150,
   "metadata": {},
   "outputs": [],
   "source": [
    "But this is what the algorithm in the solution explains, especially the conditions to check\n",
    "def merge(intervals):\n",
    "    res = []\n",
    "    intervals.sort()\n",
    "      \n",
    "    for i in intervals:\n",
    "        if not res:\n",
    "            res.append(i)\n",
    "        else:\n",
    "            a = i[0]\n",
    "            b = i[1]\n",
    "            c = res[-1][0]\n",
    "            d = res[-1][1]\n",
    "                \n",
    "                #Compare current element i = [a, b] to last element of res, res[-1] = [c, d]  \n",
    "                \n",
    "                #if a<=c<=b<=d, merge\n",
    "            if a <= c and c <= b and b <= d:\n",
    "                res[-1][0] = a\n",
    "                 \n",
    "                #if c<=a<=d<=b, merge\n",
    "            elif c <= a and a <= d and d <= b:\n",
    "                res[-1][1] = b \n",
    "                    \n",
    "                #if a<=c<=d<=b, merge\n",
    "            elif a <= c and c <= d and d <= b:\n",
    "                res[-1][0] = a\n",
    "                res[-1][1] = b \n",
    "                \n",
    "                #if c<=a<=b<=d, it means res[-1] is larger than i, so pass it.\n",
    "            elif c <= a and a <= b and b <=d :\n",
    "                continue\n",
    "                    \n",
    "            else:\n",
    "                res.append(i)\n",
    "\n",
    "    return res"
   ]
  },
  {
   "cell_type": "code",
   "execution_count": 151,
   "metadata": {},
   "outputs": [
    {
     "data": {
      "text/plain": [
       "[]"
      ]
     },
     "execution_count": 151,
     "metadata": {},
     "output_type": "execute_result"
    }
   ],
   "source": [
    "merge([])"
   ]
  },
  {
   "cell_type": "code",
   "execution_count": 152,
   "metadata": {},
   "outputs": [],
   "source": [
    "Much simpler solution - interpretation wise\n",
    "def merge(intervals):\n",
    "    result=[]\n",
    "    intervals.sort(key=lambda item:item[0])\n",
    "    if len(intervals)==0:\n",
    "        return result\n",
    "    result.append(intervals[0])\n",
    "        \n",
    "    for index in range(1,len(intervals)):\n",
    "        if intervals[index][0]<=result[-1][1]:\n",
    "            result[-1]=[result[-1][0],max(result[-1][1],intervals[index][1])]\n",
    "        else:\n",
    "            result.append(intervals[index])\n",
    "    return result"
   ]
  },
  {
   "cell_type": "code",
   "execution_count": 153,
   "metadata": {},
   "outputs": [
    {
     "data": {
      "text/plain": [
       "[[1, 6], [8, 10], [15, 18]]"
      ]
     },
     "execution_count": 153,
     "metadata": {},
     "output_type": "execute_result"
    }
   ],
   "source": [
    "merge([[1,3],[2,6],[8,10],[15,18]])"
   ]
  }
 ],
 "metadata": {
  "kernelspec": {
   "display_name": "Python 3",
   "language": "python",
   "name": "python3"
  },
  "language_info": {
   "codemirror_mode": {
    "name": "ipython",
    "version": 3
   },
   "file_extension": ".py",
   "mimetype": "text/x-python",
   "name": "python",
   "nbconvert_exporter": "python",
   "pygments_lexer": "ipython3",
   "version": "3.7.4"
  }
 },
 "nbformat": 4,
 "nbformat_minor": 2
}
