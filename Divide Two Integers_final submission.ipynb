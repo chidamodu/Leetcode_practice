{
 "cells": [
  {
   "cell_type": "code",
   "execution_count": 158,
   "metadata": {},
   "outputs": [],
   "source": [
    "i tried to run this after altering the loop in the accepted solution, but does not work for all the test cases  \n",
    "def divide(dividend, divisor):\n",
    "    c=0\n",
    "    res=0\n",
    "\n",
    "    if dividend == -2147483648 and divisor == -1:\n",
    "        return 2147483647\n",
    "        \n",
    "    if divisor == 1:\n",
    "        return dividend\n",
    "    \n",
    "    negative = (dividend < 0) or (divisor < 0)\n",
    "  \n",
    "\n",
    "\n",
    "    dvd=abs(dividend)\n",
    "    dvsr=abs(divisor)\n",
    "            \n",
    "    \n",
    "    \n",
    "    while dvsr <= dvd:\n",
    "        c+=1\n",
    "        res=dvsr\n",
    "        dvsr<<=1\n",
    "    print(dvsr)\n",
    "            \n",
    "    ans=dvd-res+c\n",
    "\n",
    "            \n",
    "    if not negative:\n",
    "        return ans\n",
    "    else:\n",
    "        return ~ans+1\n",
    "            \n",
    "\n",
    "\n",
    "            \n",
    "\n",
    "\n",
    "            \n",
    "\n",
    "  \n",
    "    \n",
    "    \n",
    "\n"
   ]
  },
  {
   "cell_type": "code",
   "execution_count": 159,
   "metadata": {},
   "outputs": [
    {
     "name": "stdout",
     "output_type": "stream",
     "text": [
      "12\n"
     ]
    },
    {
     "data": {
      "text/plain": [
       "6"
      ]
     },
     "execution_count": 159,
     "metadata": {},
     "output_type": "execute_result"
    }
   ],
   "source": [
    "divide(10, 3)"
   ]
  },
  {
   "cell_type": "code",
   "execution_count": 68,
   "metadata": {},
   "outputs": [],
   "source": [
    "def divide(dividend,divisor):\n",
    "    if dividend == -2147483648 and divisor == -1:\n",
    "        return 2147483647\n",
    "    if divisor == 1:\n",
    "        return dividend\n",
    "    negative = (dividend < 0) ^ (divisor < 0)\n",
    "    dvd = abs(dividend)\n",
    "    dvs = abs(divisor)\n",
    "    res = 0\n",
    "\n",
    "    while dvd >= dvs:\n",
    "        tmp = dvs\n",
    "        m = 1\n",
    "        while (tmp << 1) <= dvd:\n",
    "            tmp <<= 1\n",
    "#             print(tmp)\n",
    "            m <<= 1  # I am doubling m\n",
    "            \n",
    "        dvd -= tmp\n",
    "        print(dvd)\n",
    "        res += m\n",
    "        \n",
    "    if not negative:\n",
    "        return res\n",
    "    else:\n",
    "        return ~res + 1\n"
   ]
  },
  {
   "cell_type": "code",
   "execution_count": 69,
   "metadata": {},
   "outputs": [
    {
     "name": "stdout",
     "output_type": "stream",
     "text": [
      "7\n",
      "3\n",
      "1\n"
     ]
    },
    {
     "data": {
      "text/plain": [
       "11"
      ]
     },
     "execution_count": 69,
     "metadata": {},
     "output_type": "execute_result"
    }
   ],
   "source": [
    "divide(-23,-2)"
   ]
  },
  {
   "cell_type": "code",
   "execution_count": 22,
   "metadata": {},
   "outputs": [
    {
     "data": {
      "text/plain": [
       "0"
      ]
     },
     "execution_count": 22,
     "metadata": {},
     "output_type": "execute_result"
    }
   ],
   "source": [
    "-1^-1"
   ]
  },
  {
   "cell_type": "code",
   "execution_count": 25,
   "metadata": {},
   "outputs": [
    {
     "data": {
      "text/plain": [
       "True"
      ]
     },
     "execution_count": 25,
     "metadata": {},
     "output_type": "execute_result"
    }
   ],
   "source": [
    "False ^ True"
   ]
  },
  {
   "cell_type": "code",
   "execution_count": 31,
   "metadata": {},
   "outputs": [
    {
     "data": {
      "text/plain": [
       "4"
      ]
     },
     "execution_count": 31,
     "metadata": {},
     "output_type": "execute_result"
    }
   ],
   "source": [
    "2**2"
   ]
  },
  {
   "cell_type": "code",
   "execution_count": 32,
   "metadata": {},
   "outputs": [
    {
     "data": {
      "text/plain": [
       "9"
      ]
     },
     "execution_count": 32,
     "metadata": {},
     "output_type": "execute_result"
    }
   ],
   "source": [
    "3**2"
   ]
  },
  {
   "cell_type": "code",
   "execution_count": 33,
   "metadata": {},
   "outputs": [
    {
     "data": {
      "text/plain": [
       "6"
      ]
     },
     "execution_count": 33,
     "metadata": {},
     "output_type": "execute_result"
    }
   ],
   "source": [
    "3*2"
   ]
  },
  {
   "cell_type": "code",
   "execution_count": 103,
   "metadata": {},
   "outputs": [
    {
     "name": "stdout",
     "output_type": "stream",
     "text": [
      "2\n",
      "2\n",
      "2\n",
      "2\n"
     ]
    }
   ],
   "source": [
    "for i in range(0, 4):\n",
    "    m=1\n",
    "    m<<=1\n",
    "    print(m)\n"
   ]
  },
  {
   "cell_type": "code",
   "execution_count": 97,
   "metadata": {},
   "outputs": [],
   "source": [
    "\n",
    "m<<=1"
   ]
  },
  {
   "cell_type": "code",
   "execution_count": 98,
   "metadata": {},
   "outputs": [
    {
     "data": {
      "text/plain": [
       "4"
      ]
     },
     "execution_count": 98,
     "metadata": {},
     "output_type": "execute_result"
    }
   ],
   "source": [
    "m"
   ]
  },
  {
   "cell_type": "code",
   "execution_count": null,
   "metadata": {},
   "outputs": [],
   "source": [
    "leetcode submission-completely understood the solution\n",
    "\n",
    "class Solution:\n",
    "    def divide(self, dividend: int, divisor: int) -> int:\n",
    "        if dividend == -2147483648 and divisor == -1:\n",
    "            return 2147483647\n",
    "        if divisor == 1:\n",
    "            return dividend\n",
    "        negative = (dividend < 0) ^ (divisor < 0)\n",
    "        dvd = abs(dividend)\n",
    "        dvs = abs(divisor)\n",
    "        res = 0\n",
    "\n",
    "        while dvd >= dvs:\n",
    "            tmp = dvs\n",
    "            m = 1\n",
    "            while (tmp << 1) <= dvd:\n",
    "                tmp <<= 1\n",
    "                m <<= 1  # I am doubling m\n",
    "            \n",
    "            dvd -= tmp\n",
    "\n",
    "            res += m\n",
    "        \n",
    "        if not negative:\n",
    "            return res\n",
    "        else:\n",
    "            return ~res + 1\n",
    "        \n",
    "        \n",
    "Runtime: 52 ms, faster than 8.36% of Python3 online submissions for Divide Two Integers.\n",
    "Memory Usage: 13.9 MB, less than 7.41% of Python3 online submissions for Divide Two Integers.\n"
   ]
  }
 ],
 "metadata": {
  "kernelspec": {
   "display_name": "Python 3",
   "language": "python",
   "name": "python3"
  },
  "language_info": {
   "codemirror_mode": {
    "name": "ipython",
    "version": 3
   },
   "file_extension": ".py",
   "mimetype": "text/x-python",
   "name": "python",
   "nbconvert_exporter": "python",
   "pygments_lexer": "ipython3",
   "version": "3.7.4"
  }
 },
 "nbformat": 4,
 "nbformat_minor": 2
}
