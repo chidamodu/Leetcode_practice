{
 "cells": [
  {
   "cell_type": "code",
   "execution_count": 2,
   "metadata": {},
   "outputs": [],
   "source": [
    "# Mergesort from Leetcode - to sory an array in place\n",
    "def merge(left,right):\n",
    "    i =0 \n",
    "    j =0 \n",
    "    if len(left) == 0:\n",
    "        return right \n",
    "    \n",
    "    if len(right) ==0:\n",
    "        return left\n",
    "    \n",
    "    result =[]\n",
    "    \n",
    "    while i <len(left) and j < len(right):\n",
    "        if left[i] < right[j]:\n",
    "            result.append(left[i])\n",
    "            i += 1\n",
    "        else:\n",
    "            result.append(right[j])\n",
    "            j += 1\n",
    "    \n",
    "    print(left[i:])\n",
    "    if len(left[i:])>0:\n",
    "#         print(left[i:])\n",
    "        result.extend(left[i:])\n",
    "        \n",
    "        \n",
    "    if len(right[j:])>0:\n",
    "#         print(right[j:])\n",
    "        result.extend(right[j:])\n",
    "        \n",
    "    return result    \n",
    "\n",
    "def sortArray(nums):\n",
    "    \"\"\"\n",
    "    :type nums: List[int]\n",
    "    :rtype: List[int]\n",
    "    \"\"\"\n",
    "    if len(nums) <=1:\n",
    "        return nums\n",
    "    mid = len(nums)//2\n",
    "   \n",
    "\n",
    "    left = sortArray(nums[:mid])\n",
    "    \n",
    "\n",
    "    \n",
    "    right = sortArray(nums[mid:])\n",
    "\n",
    "\n",
    "    return merge(left,right)"
   ]
  },
  {
   "cell_type": "code",
   "execution_count": 3,
   "metadata": {},
   "outputs": [
    {
     "name": "stdout",
     "output_type": "stream",
     "text": [
      "[5]\n",
      "[3]\n",
      "[5]\n"
     ]
    },
    {
     "data": {
      "text/plain": [
       "[1, 2, 3, 5]"
      ]
     },
     "execution_count": 3,
     "metadata": {},
     "output_type": "execute_result"
    }
   ],
   "source": [
    "sortArray([5,2,3,1])"
   ]
  },
  {
   "cell_type": "code",
   "execution_count": null,
   "metadata": {},
   "outputs": [],
   "source": []
  }
 ],
 "metadata": {
  "kernelspec": {
   "display_name": "Python 3",
   "language": "python",
   "name": "python3"
  },
  "language_info": {
   "codemirror_mode": {
    "name": "ipython",
    "version": 3
   },
   "file_extension": ".py",
   "mimetype": "text/x-python",
   "name": "python",
   "nbconvert_exporter": "python",
   "pygments_lexer": "ipython3",
   "version": "3.7.4"
  }
 },
 "nbformat": 4,
 "nbformat_minor": 2
}
