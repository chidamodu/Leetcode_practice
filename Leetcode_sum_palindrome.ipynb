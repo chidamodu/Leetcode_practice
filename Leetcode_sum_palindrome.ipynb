{
 "cells": [
  {
   "cell_type": "code",
   "execution_count": 184,
   "id": "58047a56-7edc-4893-9352-b532ad68b23a",
   "metadata": {},
   "outputs": [],
   "source": [
    "This worked but runtime was very high as it is O(N^2)\n",
    "\n",
    "def twoSum(nums, target):\n",
    "    result = []\n",
    "    for i in range(len(nums)):\n",
    "        for j in range(i+1, len(nums)):\n",
    "            if nums[i] + nums[j] == target:\n",
    "                result.extend((i, j))\n",
    "                break;\n",
    "    return result\n",
    "                \n",
    "                \n",
    "\n"
   ]
  },
  {
   "cell_type": "code",
   "execution_count": 185,
   "id": "5a2e1b24-fe7c-4cab-9cef-f33f25296171",
   "metadata": {},
   "outputs": [
    {
     "data": {
      "text/plain": [
       "[0, 2]"
      ]
     },
     "execution_count": 185,
     "metadata": {},
     "output_type": "execute_result"
    }
   ],
   "source": [
    "\n",
    "nums = [3,4,3]\n",
    "target = 6\n",
    "twoSum(nums, target)\n"
   ]
  },
  {
   "cell_type": "code",
   "execution_count": 300,
   "id": "c68e74dd-2beb-43f8-93e4-8d19748fc39e",
   "metadata": {},
   "outputs": [],
   "source": [
    "\n",
    "def isPalindrome(x):\n",
    "    result = ''    \n",
    "    \n",
    "    if x > 0:\n",
    "        for i in str(x)[::-1]:\n",
    "            result += i\n",
    "\n",
    "        if result[0] == '0':\n",
    "            return \"false\"\n",
    "\n",
    "        elif int(result) == x:\n",
    "            return \"true\"\n",
    "   \n",
    "    return \"false\"\n",
    "\n",
    "    \n"
   ]
  },
  {
   "cell_type": "code",
   "execution_count": 301,
   "id": "9a7ba332-c5df-42f4-b7fd-de04559fe151",
   "metadata": {},
   "outputs": [
    {
     "data": {
      "text/plain": [
       "'false'"
      ]
     },
     "execution_count": 301,
     "metadata": {},
     "output_type": "execute_result"
    }
   ],
   "source": [
    "\n",
    "isPalindrome(10)\n"
   ]
  },
  {
   "cell_type": "code",
   "execution_count": 57,
   "id": "ca5fb68f-ed46-44ae-82d1-a9e2dca8ba14",
   "metadata": {},
   "outputs": [
    {
     "data": {
      "text/plain": [
       "1"
      ]
     },
     "execution_count": 57,
     "metadata": {},
     "output_type": "execute_result"
    }
   ],
   "source": [
    "int('01')"
   ]
  },
  {
   "cell_type": "code",
   "execution_count": 72,
   "id": "faf5b63e-4dbd-40c7-b5ed-8f6d94c30c04",
   "metadata": {},
   "outputs": [
    {
     "data": {
      "text/plain": [
       "121"
      ]
     },
     "execution_count": 72,
     "metadata": {},
     "output_type": "execute_result"
    }
   ],
   "source": [
    "121%1000"
   ]
  },
  {
   "cell_type": "code",
   "execution_count": 73,
   "id": "974655cb-c6d8-41a7-adec-a28a66dd7d84",
   "metadata": {},
   "outputs": [],
   "source": [
    "\n",
    "s = '001'\n"
   ]
  },
  {
   "cell_type": "code",
   "execution_count": 74,
   "id": "c615b5b5-1d26-4595-be51-b69dcdff1170",
   "metadata": {},
   "outputs": [
    {
     "data": {
      "text/plain": [
       "'0'"
      ]
     },
     "execution_count": 74,
     "metadata": {},
     "output_type": "execute_result"
    }
   ],
   "source": [
    "\n",
    "s[0]\n"
   ]
  },
  {
   "cell_type": "code",
   "execution_count": 325,
   "id": "3a2f0665-dbbf-4484-ad5e-6ea4a225b6c6",
   "metadata": {},
   "outputs": [
    {
     "data": {
      "text/plain": [
       "1"
      ]
     },
     "execution_count": 325,
     "metadata": {},
     "output_type": "execute_result"
    }
   ],
   "source": [
    "\n",
    "numerator = 101\n",
    "numerator%10\n"
   ]
  },
  {
   "cell_type": "code",
   "execution_count": 326,
   "id": "203a8791-95b2-4bf2-9311-cb6b1c051f95",
   "metadata": {},
   "outputs": [
    {
     "data": {
      "text/plain": [
       "10"
      ]
     },
     "execution_count": 326,
     "metadata": {},
     "output_type": "execute_result"
    }
   ],
   "source": [
    "\n",
    "numerator//10\n"
   ]
  },
  {
   "cell_type": "code",
   "execution_count": 321,
   "id": "f0227788-6627-477f-ba74-9f85f1e7eedb",
   "metadata": {},
   "outputs": [
    {
     "name": "stdout",
     "output_type": "stream",
     "text": [
      "10\n",
      "1\n",
      "0\n"
     ]
    }
   ],
   "source": [
    "\n",
    "while numerator != 0:\n",
    "    fin = numerator%10\n",
    "    numerator = numerator//10\n",
    "    print(numerator)\n"
   ]
  },
  {
   "cell_type": "code",
   "execution_count": 357,
   "id": "41ad704f-50e0-485d-9c7e-c658829b9471",
   "metadata": {},
   "outputs": [],
   "source": [
    "This solution worked here but did not work on Leetcode compiler\n",
    "\n",
    "def isPalindrome(x):\n",
    "    new_x = x\n",
    "    result = 0    \n",
    "    \n",
    "    if (new_x % 10 == 0) or (new_x < 0): #change this new_x to x. although with new_x here worked but that did not work on Leetcode\n",
    "        return \"false\"\n",
    "\n",
    "    while new_x != 0:\n",
    "\n",
    "        result *= 10\n",
    "\n",
    "        result += (new_x%10)\n",
    "        \n",
    "        new_x = new_x // 10\n",
    "\n",
    "    if result == x:\n",
    "        return \"true\"\n",
    "         \n",
    "    return \"false\"\n",
    "\n",
    "\n"
   ]
  },
  {
   "cell_type": "code",
   "execution_count": 358,
   "id": "3985a69a-c781-4899-9d93-e0d935ddccae",
   "metadata": {},
   "outputs": [
    {
     "data": {
      "text/plain": [
       "'false'"
      ]
     },
     "execution_count": 358,
     "metadata": {},
     "output_type": "execute_result"
    }
   ],
   "source": [
    "\n",
    "isPalindrome(-10)\n"
   ]
  },
  {
   "cell_type": "code",
   "execution_count": 359,
   "id": "caca4294-71ff-477f-8d8d-a3c8e4221eef",
   "metadata": {},
   "outputs": [
    {
     "data": {
      "text/plain": [
       "0"
      ]
     },
     "execution_count": 359,
     "metadata": {},
     "output_type": "execute_result"
    }
   ],
   "source": [
    "\n",
    "The final solution that passed all the test cases \n",
    "\n",
    "class Solution:\n",
    "    def isPalindrome(self, x: int) -> bool:\n",
    "        new_x = x\n",
    "        result = 0    \n",
    "    \n",
    "        if x < 0:\n",
    "            return False\n",
    "\n",
    "        while new_x > 0:\n",
    "            result *= 10\n",
    "            result += (new_x % 10) \n",
    "            new_x = new_x // 10\n",
    "        if result == x:\n",
    "            return True         \n",
    "        \n",
    "        return False\n",
    "\n",
    "FYI: when I included this (x % 10 == 0) with (x < 0) the code did not work for some test cases during submission.\n"
   ]
  },
  {
   "cell_type": "code",
   "execution_count": 286,
   "id": "567d1d41-48ac-4abe-b700-059a62ec637a",
   "metadata": {},
   "outputs": [],
   "source": [
    "\n",
    "Final solution - optimum solution\n",
    "\n",
    "def twoSum(nums, target):\n",
    "    d = {}    \n",
    "    for ind, val in enumerate(nums):\n",
    "        if target - val in d:\n",
    "            return [d[target - val], ind]\n",
    "        d[val] = ind \n",
    "    return []\n",
    "         \n",
    "\n",
    "\n",
    "\n",
    "         \n",
    "        "
   ]
  },
  {
   "cell_type": "code",
   "execution_count": 287,
   "id": "f3fb89cb-2f08-4dfa-8c73-a1e9bc16c4fa",
   "metadata": {},
   "outputs": [
    {
     "data": {
      "text/plain": [
       "[0, 1]"
      ]
     },
     "execution_count": 287,
     "metadata": {},
     "output_type": "execute_result"
    }
   ],
   "source": [
    "\n",
    "nums = [3, 3]\n",
    "target = 6\n",
    "twoSum(nums, target)\n"
   ]
  }
 ],
 "metadata": {
  "kernelspec": {
   "display_name": "Python 3 (ipykernel)",
   "language": "python",
   "name": "python3"
  },
  "language_info": {
   "codemirror_mode": {
    "name": "ipython",
    "version": 3
   },
   "file_extension": ".py",
   "mimetype": "text/x-python",
   "name": "python",
   "nbconvert_exporter": "python",
   "pygments_lexer": "ipython3",
   "version": "3.9.6"
  }
 },
 "nbformat": 4,
 "nbformat_minor": 5
}
