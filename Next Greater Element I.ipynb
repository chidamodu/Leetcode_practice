{
 "cells": [
  {
   "cell_type": "code",
   "execution_count": 45,
   "metadata": {},
   "outputs": [],
   "source": [
    "This did not work but check the solution in the cell below\n",
    "def greater_num(l1, l2):\n",
    "    from collections import defaultdict\n",
    "    result=[]\n",
    "    d=defaultdict(list)\n",
    "    for i in range(len(l1)):\n",
    "        if l1[i] in l2:\n",
    "            d[l1[i]].extend(l2[(l2.index(l1[i]))+1:])\n",
    "            \n",
    "            \n",
    "    for k,v in d.items():\n",
    "        if len(v)!=0:\n",
    "            for j in v:\n",
    "                if j<k:\n",
    "                    pass    \n",
    "                else:\n",
    "                    result.append(j)\n",
    "                    break\n",
    "                    \n",
    "                    \n",
    "        else:\n",
    "            result.append(-1)\n",
    "                    \n",
    "    return result"
   ]
  },
  {
   "cell_type": "code",
   "execution_count": 46,
   "metadata": {},
   "outputs": [
    {
     "data": {
      "text/plain": [
       "[-1]"
      ]
     },
     "execution_count": 46,
     "metadata": {},
     "output_type": "execute_result"
    }
   ],
   "source": [
    "greater_num([1,3,5,2,4], [5,4,3,2,1])"
   ]
  },
  {
   "cell_type": "code",
   "execution_count": 51,
   "metadata": {},
   "outputs": [],
   "source": [
    "def nextGreaterElement(nums1, nums2):\n",
    "    d={}\n",
    "    stack=[]\n",
    "    for i in nums2:\n",
    "        while stack and stack[-1]<i:\n",
    "            j=stack.pop()\n",
    "            d[j]=i\n",
    "        stack.append(i)\n",
    "    return [d.get(i, -1) for i in nums1]\n",
    "\n",
    "\n",
    "\n",
    "Runtime: 44 ms, faster than 86.37% of Python3 online submissions for Next Greater Element I.\n",
    "Memory Usage: 13.2 MB, less than 77.78% of Python3 online submissions for Next Greater Element I.\n"
   ]
  },
  {
   "cell_type": "code",
   "execution_count": 52,
   "metadata": {},
   "outputs": [
    {
     "data": {
      "text/plain": [
       "[7, 7, 7, 7, 7]"
      ]
     },
     "execution_count": 52,
     "metadata": {},
     "output_type": "execute_result"
    }
   ],
   "source": [
    "nextGreaterElement([1,3,5,2,4], [6,5,4,3,2,1,7])"
   ]
  }
 ],
 "metadata": {
  "kernelspec": {
   "display_name": "Python 3",
   "language": "python",
   "name": "python3"
  },
  "language_info": {
   "codemirror_mode": {
    "name": "ipython",
    "version": 3
   },
   "file_extension": ".py",
   "mimetype": "text/x-python",
   "name": "python",
   "nbconvert_exporter": "python",
   "pygments_lexer": "ipython3",
   "version": "3.7.4"
  }
 },
 "nbformat": 4,
 "nbformat_minor": 2
}
