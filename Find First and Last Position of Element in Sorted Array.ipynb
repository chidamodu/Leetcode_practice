{
 "cells": [
  {
   "cell_type": "code",
   "execution_count": 75,
   "metadata": {},
   "outputs": [],
   "source": [
    "I coded this solution, yay!\n",
    "def searchRange(nums, target):\n",
    "    d={}\n",
    "    for i, j in list(enumerate(nums)):\n",
    "        d[j]=d.get(j, [])+([i])\n",
    "    for k, v in d.items():\n",
    "        if k==target:\n",
    "            if len(v)==1:\n",
    "                return v+v\n",
    "            else:\n",
    "                return [v[0], v[-1]]\n",
    "\n",
    "    return [-1,-1]\n",
    "\n",
    "# first got wrong answer for the follwoing test case, but i fixed it!\n",
    "# [1], 1\n",
    "\n",
    "# Output\n",
    "# [0]\n",
    "\n",
    "# Expected\n",
    "# [0,0]\n",
    "\n",
    "\n",
    "Hooray! I solved it and got the right answer!Yay!\n",
    "\n",
    "Runtime: 672 ms, faster than 6.64% of Python3 online submissions for Find First and Last Position of Element in Sorted Array.\n",
    "Memory Usage: 19.3 MB, less than 5.36% of Python3 online submissions for Find First and Last Position of Element in Sorted Array."
   ]
  },
  {
   "cell_type": "code",
   "execution_count": 76,
   "metadata": {},
   "outputs": [
    {
     "data": {
      "text/plain": [
       "[3, 5]"
      ]
     },
     "execution_count": 76,
     "metadata": {},
     "output_type": "execute_result"
    }
   ],
   "source": [
    "searchRange([5,7,7,8,8,8,10], 8)"
   ]
  },
  {
   "cell_type": "code",
   "execution_count": 89,
   "metadata": {},
   "outputs": [],
   "source": [
    "This one is from Leetcode\n",
    "def searchRange(nums, target):\n",
    "    start, end=0, len(nums)-1\n",
    "    mid=len(nums)//2\n",
    "    \n",
    "    while end-start>0:\n",
    "        if target < nums[mid]:\n",
    "            end=mid-1\n",
    "            mid=start+end//2 \n",
    "            \n",
    "        elif target==nums[mid]:\n",
    "            start=end=mid\n",
    "            \n",
    "        elif target > nums[mid]:\n",
    "            start=mid+1\n",
    "            mid=start+end//2\n",
    "            \n",
    "    if mid<len(nums) and nums[mid]==target:\n",
    "        while end < len(nums) and nums[end]==target:\n",
    "            end+=1\n",
    "        while start>=0 and nums[start]==target:\n",
    "            start-=1 \n",
    "        \n",
    "        return [start+1, end-1]\n",
    "    return [-1,-1]\n",
    "                "
   ]
  },
  {
   "cell_type": "code",
   "execution_count": 90,
   "metadata": {},
   "outputs": [
    {
     "data": {
      "text/plain": [
       "[3, 4]"
      ]
     },
     "execution_count": 90,
     "metadata": {},
     "output_type": "execute_result"
    }
   ],
   "source": [
    "searchRange([5,7,7,8,8,10], 8)"
   ]
  },
  {
   "cell_type": "code",
   "execution_count": 82,
   "metadata": {},
   "outputs": [
    {
     "data": {
      "text/plain": [
       "3"
      ]
     },
     "execution_count": 82,
     "metadata": {},
     "output_type": "execute_result"
    }
   ],
   "source": [
    "7//2"
   ]
  }
 ],
 "metadata": {
  "kernelspec": {
   "display_name": "Python 3",
   "language": "python",
   "name": "python3"
  },
  "language_info": {
   "codemirror_mode": {
    "name": "ipython",
    "version": 3
   },
   "file_extension": ".py",
   "mimetype": "text/x-python",
   "name": "python",
   "nbconvert_exporter": "python",
   "pygments_lexer": "ipython3",
   "version": "3.7.4"
  }
 },
 "nbformat": 4,
 "nbformat_minor": 2
}
