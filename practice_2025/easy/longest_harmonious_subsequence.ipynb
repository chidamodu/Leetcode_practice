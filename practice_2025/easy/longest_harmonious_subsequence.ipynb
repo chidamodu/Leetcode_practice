{
 "cells": [
  {
   "cell_type": "markdown",
   "id": "5ab5c516-da99-49f3-9f41-e65780f54d09",
   "metadata": {},
   "source": [
    "\n",
    "## Longest Harmonious Subsequence\n"
   ]
  },
  {
   "cell_type": "code",
   "execution_count": null,
   "id": "c0e6ebce-a7a8-4b33-b7fe-d989e4a2e5a1",
   "metadata": {},
   "outputs": [],
   "source": [
    "\n",
    "We define a harmonious array as an array where the difference between its maximum value and its minimum value is exactly 1.\n",
    "\n",
    "Given an integer array nums, return the length of its longest harmonious subsequence among all its possible subsequences.\n",
    "\n",
    "Example 1:\n",
    "Input: nums = [1,3,2,2,5,2,3,7]\n",
    "Output: 5\n",
    "Explanation: The longest harmonious subsequence is [3,2,2,2,3].\n",
    "\n",
    "\n",
    "Example 2:\n",
    "Input: nums = [1,2,3,4]\n",
    "Output: 2\n",
    "Explanation: The longest harmonious subsequences are [1,2], [2,3], and [3,4], all of which have a length of 2.\n",
    "\n",
    "Example 3:\n",
    "Input: nums = [1,1,1,1]\n",
    "Output: 0\n",
    "Explanation: No harmonic subsequence exists.\n",
    "\n",
    "Constraints:\n",
    "1 <= nums.length <= 2 * 104\n",
    "-109 <= nums[i] <= 109\n"
   ]
  },
  {
   "cell_type": "code",
   "execution_count": 7,
   "id": "5b424571-e314-4875-ae09-27e5870455f8",
   "metadata": {},
   "outputs": [],
   "source": [
    "This works great\n",
    "\n",
    "from collections import Counter\n",
    "def harmonious_array(nums):\n",
    "    max_val = 0\n",
    "    freq = Counter(nums)\n",
    "    for i in freq:\n",
    "        if i+1 in freq:\n",
    "            max_val = max((freq[i+1] + freq[i]), max_val)\n",
    "    return max_val\n",
    "    \n"
   ]
  },
  {
   "cell_type": "code",
   "execution_count": 8,
   "id": "070d5e40-6f40-498c-8682-0fbf0817696f",
   "metadata": {},
   "outputs": [
    {
     "data": {
      "text/plain": [
       "0"
      ]
     },
     "execution_count": 8,
     "metadata": {},
     "output_type": "execute_result"
    }
   ],
   "source": [
    "\n",
    "harmonious_array([1,1,1,1])\n"
   ]
  },
  {
   "cell_type": "code",
   "execution_count": 66,
   "id": "bdd97f8b-51ca-48e1-a14d-0929540b196f",
   "metadata": {},
   "outputs": [],
   "source": [
    "\n",
    "Although this seems like the same logical style as the solution below, this won't work because of the equality condition, meaning if nums[right] - nums[left] != 1, then you won't calculate the max value and that's why!\n",
    "\n",
    "def harmonious_array(nums):\n",
    "    nums.sort()\n",
    "    left = 0\n",
    "    right = left + 1\n",
    "    max_val = 0\n",
    "    while right < len(nums):\n",
    "        if nums[right] - nums[left] == 1:\n",
    "            max_val = max(max_val, right-left+1)\n",
    "        else:\n",
    "            left += 1\n",
    "        right += 1\n",
    "    return max_val\n"
   ]
  },
  {
   "cell_type": "code",
   "execution_count": null,
   "id": "7b0d9df0-bb25-4a12-8ebb-8a684ae9bd40",
   "metadata": {},
   "outputs": [],
   "source": [
    "\n",
    "# left, right\n",
    "# 0, 1\n",
    "\n",
    "# 1<4: 2\n",
    "\n",
    "\n",
    "\n",
    "1, 1, 2, 2\n"
   ]
  },
  {
   "cell_type": "code",
   "execution_count": 67,
   "id": "e89e033a-42a3-4ee6-b1c1-eeae47aa1b87",
   "metadata": {},
   "outputs": [
    {
     "data": {
      "text/plain": [
       "3"
      ]
     },
     "execution_count": 67,
     "metadata": {},
     "output_type": "execute_result"
    }
   ],
   "source": [
    "harmonious_array([1,2,2,1])"
   ]
  },
  {
   "cell_type": "code",
   "execution_count": 64,
   "id": "79d65c88-0166-4936-890a-4032bfcf2f09",
   "metadata": {},
   "outputs": [],
   "source": [
    "This one here works! - wanted to try without using in-built modules\n",
    "\n",
    "def harmonious_array(nums):\n",
    "    nums.sort()\n",
    "    left = 0\n",
    "    max_val = 0\n",
    "    for right in range(len(nums)):\n",
    "        while nums[right] - nums[left] > 1:\n",
    "            left += 1    \n",
    "        if nums[right] - nums[left] == 1:\n",
    "            max_val = max(max_val, right-left+1)\n",
    "    return max_val\n"
   ]
  },
  {
   "cell_type": "code",
   "execution_count": 65,
   "id": "d56bb6cf-8c8c-4ed1-b334-92127868a35e",
   "metadata": {},
   "outputs": [
    {
     "data": {
      "text/plain": [
       "4"
      ]
     },
     "execution_count": 65,
     "metadata": {},
     "output_type": "execute_result"
    }
   ],
   "source": [
    "harmonious_array([1,2,2,1])"
   ]
  }
 ],
 "metadata": {
  "kernelspec": {
   "display_name": "Python 3 (ipykernel)",
   "language": "python",
   "name": "python3"
  },
  "language_info": {
   "codemirror_mode": {
    "name": "ipython",
    "version": 3
   },
   "file_extension": ".py",
   "mimetype": "text/x-python",
   "name": "python",
   "nbconvert_exporter": "python",
   "pygments_lexer": "ipython3",
   "version": "3.12.0"
  }
 },
 "nbformat": 4,
 "nbformat_minor": 5
}
