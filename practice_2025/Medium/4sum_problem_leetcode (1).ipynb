{
 "cells": [
  {
   "cell_type": "code",
   "execution_count": null,
   "id": "ffc9d506-cc68-403b-9ae6-ea409d4fb130",
   "metadata": {},
   "outputs": [],
   "source": [
    "\n",
    "Given an array nums of n integers, return an array of all the unique quadruplets [nums[a], nums[b], nums[c], nums[d]] such that:\n",
    "0 <= a, b, c, d < n\n",
    "a, b, c, and d are distinct.\n",
    "nums[a] + nums[b] + nums[c] + nums[d] == target\n",
    "You may return the answer in any order.\n",
    "\n",
    "Example 1:\n",
    "\n",
    "Input: nums = [1,0,-1,0,-2,2], target = 0\n",
    "Output: [[-2,-1,1,2],[-2,0,0,2],[-1,0,0,1]]\n",
    "\n",
    "Example 2:\n",
    "Input: nums = [2,2,2,2,2], target = 8\n",
    "Output: [[2,2,2,2]]\n",
    " \n",
    "Constraints:\n",
    "1 <= nums.length <= 200\n",
    "-109 <= nums[i] <= 109\n",
    "-109 <= target <= 109\n"
   ]
  },
  {
   "cell_type": "code",
   "execution_count": 72,
   "id": "e3b284f2-4f0f-4087-bf25-8fdef71f447e",
   "metadata": {},
   "outputs": [],
   "source": [
    "\n",
    "def fourSum(nums, target):\n",
    "    result = []\n",
    "    nums.sort()\n",
    "    for i in range(len(nums)-3):\n",
    "        for j in range(i+1, len(nums)-2):\n",
    "            left = j + 1\n",
    "            right = len(nums)-1\n",
    "            while left < right:\n",
    "                current_sum = nums[i] + nums[j] + nums[left] + nums[right]\n",
    "                if current_sum == target:\n",
    "                    if sorted([nums[i], nums[j], nums[left], nums[right]]) not in result:\n",
    "                        result.append(sorted([nums[i], nums[j], nums[left], nums[right]]))\n",
    "                    left += 1\n",
    "                    right -= 1\n",
    "                elif current_sum < target:\n",
    "                    left += 1\n",
    "                else:\n",
    "                    right -= 1       \n",
    "    return result\n",
    "            \n"
   ]
  },
  {
   "cell_type": "code",
   "execution_count": 73,
   "id": "2332d4aa-8417-45c1-bd8d-c450be1da813",
   "metadata": {},
   "outputs": [
    {
     "data": {
      "text/plain": [
       "[[-2, -1, 1, 2], [-2, 0, 0, 2], [-1, 0, 0, 1]]"
      ]
     },
     "execution_count": 73,
     "metadata": {},
     "output_type": "execute_result"
    }
   ],
   "source": [
    "\n",
    "fourSum([1,0,-1,0,-2,2], 0)\n"
   ]
  },
  {
   "cell_type": "code",
   "execution_count": 92,
   "id": "36f5aa44-574d-4b57-bdfd-6e9c5e9dc311",
   "metadata": {},
   "outputs": [],
   "source": [
    "\n",
    "Originally submitted in the actual coding session during the interview on July 28\n",
    "\n",
    "def fourSum(self, nums, target):\n",
    "    overall_result = []\n",
    "    for i in self.nums:\n",
    "        fixed_num = 0\n",
    "        result = 0\n",
    "        left = i\n",
    "        right = left + 1\n",
    "        while (fixed_num < 4) and (right < len(self.nums)-1) and (left < right):\n",
    "            if result == self.target:\n",
    "                overall_result.extend(self.nums[left:right+1])\n",
    "            result += self.nums[left] + self.nums[right]\n",
    "            fixed_num += 1\n",
    "            right += 1\n",
    "    print(overall_result)\n",
    "    return overall_result\n",
    "\n"
   ]
  },
  {
   "cell_type": "code",
   "execution_count": 93,
   "id": "09f7974d-777d-4952-96a7-82f38be04c5d",
   "metadata": {},
   "outputs": [
    {
     "data": {
      "text/plain": [
       "[]"
      ]
     },
     "execution_count": 93,
     "metadata": {},
     "output_type": "execute_result"
    }
   ],
   "source": [
    "fourSum([2,2,2,2,2], 8)"
   ]
  },
  {
   "cell_type": "code",
   "execution_count": null,
   "id": "f1bc3bcb-9a68-4f33-ab2e-111f0b82c4d5",
   "metadata": {},
   "outputs": [],
   "source": []
  }
 ],
 "metadata": {
  "kernelspec": {
   "display_name": "Python 3 (ipykernel)",
   "language": "python",
   "name": "python3"
  },
  "language_info": {
   "codemirror_mode": {
    "name": "ipython",
    "version": 3
   },
   "file_extension": ".py",
   "mimetype": "text/x-python",
   "name": "python",
   "nbconvert_exporter": "python",
   "pygments_lexer": "ipython3",
   "version": "3.9.6"
  }
 },
 "nbformat": 4,
 "nbformat_minor": 5
}
