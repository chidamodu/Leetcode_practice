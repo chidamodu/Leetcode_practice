{
 "cells": [
  {
   "cell_type": "code",
   "execution_count": null,
   "id": "1465a082-9c2d-4ad7-a3f3-f61006370452",
   "metadata": {},
   "outputs": [],
   "source": [
    "\n",
    "Given an integer n, return the number of trailing zeroes in n!.\n",
    "\n",
    "Note that n! = n * (n - 1) * (n - 2) * ... * 3 * 2 * 1.\n",
    "\n",
    "Example 1:\n",
    "Input: n = 3\n",
    "Output: 0\n",
    "Explanation: 3! = 6, no trailing zero.\n",
    "\n",
    "Example 2:\n",
    "Input: n = 5\n",
    "Output: 1\n",
    "Explanation: 5! = 120, one trailing zero.\n",
    "\n",
    "Example 3:\n",
    "Input: n = 0\n",
    "Output: 0\n",
    " \n",
    "\n",
    "Constraints:\n",
    "0 <= n <= 104\n",
    "\n",
    "Follow up: Could you write a solution that works in logarithmic time complexity?\n"
   ]
  },
  {
   "cell_type": "code",
   "execution_count": 34,
   "id": "61f9c5be-0cfe-4f07-a2d9-0ee4688190c1",
   "metadata": {},
   "outputs": [],
   "source": [
    "Baseline solution - can do better!\n",
    "\n",
    "def trailingZeroes(n):\n",
    "    factorial = 1 * n\n",
    "    result = 0\n",
    "    if factorial != 0:\n",
    "        while n != 1:\n",
    "            factorial *= n-1\n",
    "            n -= 1    \n",
    "    while factorial:\n",
    "        if factorial % 10 == 0:\n",
    "            result += 1\n",
    "            factorial = factorial // 10\n",
    "        else:\n",
    "            break   \n",
    "    return result\n",
    "        \n",
    "   "
   ]
  },
  {
   "cell_type": "code",
   "execution_count": 35,
   "id": "8d91c66e-b1d1-4d7e-bc33-aeecf5384dda",
   "metadata": {},
   "outputs": [
    {
     "data": {
      "text/plain": [
       "2"
      ]
     },
     "execution_count": 35,
     "metadata": {},
     "output_type": "execute_result"
    }
   ],
   "source": [
    "\n",
    "trailingZeroes(10)\n"
   ]
  },
  {
   "cell_type": "code",
   "execution_count": 36,
   "id": "91524f3a-3357-46d2-81fc-9104eb0cfe94",
   "metadata": {},
   "outputs": [],
   "source": [
    "\n",
    "The above solution works but takes long to execute:\n",
    "Runtime 9344 ms\n",
    "Beats 5.01%\n"
   ]
  }
 ],
 "metadata": {
  "kernelspec": {
   "display_name": "Python 3 (ipykernel)",
   "language": "python",
   "name": "python3"
  },
  "language_info": {
   "codemirror_mode": {
    "name": "ipython",
    "version": 3
   },
   "file_extension": ".py",
   "mimetype": "text/x-python",
   "name": "python",
   "nbconvert_exporter": "python",
   "pygments_lexer": "ipython3",
   "version": "3.9.6"
  }
 },
 "nbformat": 4,
 "nbformat_minor": 5
}
