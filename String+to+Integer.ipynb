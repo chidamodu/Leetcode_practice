{
 "cells": [
  {
   "cell_type": "code",
   "execution_count": 64,
   "metadata": {},
   "outputs": [
    {
     "name": "stdout",
     "output_type": "stream",
     "text": [
      "[]\n"
     ]
    }
   ],
   "source": [
    "#This did not work\n",
    "a=\"    -4193 with words\"\n",
    "\n",
    "def string_to_integer(a):\n",
    "    a = a.strip().split()\n",
    "    ind=0\n",
    "    if len(a)==0:\n",
    "        return 0\n",
    "#     if type(a[ind])==str:\n",
    "#         return 0\n",
    "  \n",
    "    if a[ind]=='+' or a[ind]=='-':\n",
    "        ind+=1\n",
    "   \n",
    "    for i in a[ind:]:\n",
    "        if i.isdigit():\n",
    "            ind+=1\n",
    "        else:\n",
    "            break\n",
    "            \n",
    "    result=a[:ind]\n",
    "    print(result)\n",
    "#     result = int(result) if (result != '-' and result != '+' and result) else 0\n",
    "    \n",
    "#     if result > 2147483647:\n",
    "#         result=2147483647\n",
    "#     elif result < -2147483647:\n",
    "#         result=-2147483647\n",
    "#     return result\n",
    "        \n",
    "    \n",
    "string_to_integer(a)   \n",
    "        \n"
   ]
  },
  {
   "cell_type": "code",
   "execution_count": 74,
   "metadata": {},
   "outputs": [
    {
     "data": {
      "text/plain": [
       "-4193"
      ]
     },
     "execution_count": 74,
     "metadata": {},
     "output_type": "execute_result"
    }
   ],
   "source": [
    "Submitted work on Leetcode!\n",
    "import re\n",
    "    \n",
    "def myAtoi(a):\n",
    "    a = a.strip()\n",
    "    exp = re.compile(r\"^\\s*[-+]?\\d+\")#here \\s* matches one or more whitespace characters. So \n",
    "    #it is to say look for any whitespace character combined with digits and signs \n",
    "    found = exp.findall(a)\n",
    "    if len(found) != 0:\n",
    "        num = int(found[0])#the 0 here is to select only the value in a list because regex pattern\n",
    "        #outputs value in a list\n",
    "        if num > 2**31 - 1:\n",
    "            return 2**31 - 1\n",
    "        elif num < -2**31:\n",
    "            return -2**31\n",
    "        else:\n",
    "            return num\n",
    "    else:\n",
    "        return 0\n",
    "    \n",
    "myAtoi(a)"
   ]
  },
  {
   "cell_type": "code",
   "execution_count": 51,
   "metadata": {},
   "outputs": [
    {
     "data": {
      "text/plain": [
       "['+4193']"
      ]
     },
     "execution_count": 51,
     "metadata": {},
     "output_type": "execute_result"
    }
   ],
   "source": [
    "a=\"    -4193 with words\"\n",
    "\n",
    "# for i in a.lstrip(' '):\n",
    "#     result=[]\n",
    "#     d[i]=d.get(i, 0)+1\n",
    "# for k, v in d.items():\n",
    "#     if k=='-'or k=='+':\n",
    "#         result.append(k)\n",
    "#     res=int(k)\n",
    "#     if res.isdigit():\n",
    "#         result.append(k)\n",
    "    \n",
    "# result    \n",
    "\n",
    "\n",
    "import re   \n",
    "re.findall(r'[+-]?\\d+',  \"  with words +4193\")\n",
    "\n",
    "        "
   ]
  },
  {
   "cell_type": "code",
   "execution_count": 15,
   "metadata": {},
   "outputs": [
    {
     "data": {
      "text/plain": [
       "20"
      ]
     },
     "execution_count": 15,
     "metadata": {},
     "output_type": "execute_result"
    }
   ],
   "source": [
    "a=\"    -4193 with words\"\n",
    "\n",
    "len(a)"
   ]
  }
 ],
 "metadata": {
  "kernelspec": {
   "display_name": "Python 3",
   "language": "python",
   "name": "python3"
  },
  "language_info": {
   "codemirror_mode": {
    "name": "ipython",
    "version": 3
   },
   "file_extension": ".py",
   "mimetype": "text/x-python",
   "name": "python",
   "nbconvert_exporter": "python",
   "pygments_lexer": "ipython3",
   "version": "3.6.1"
  }
 },
 "nbformat": 4,
 "nbformat_minor": 2
}
