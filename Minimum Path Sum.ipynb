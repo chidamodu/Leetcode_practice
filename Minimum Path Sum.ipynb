{
 "cells": [
  {
   "cell_type": "code",
   "execution_count": 43,
   "metadata": {},
   "outputs": [],
   "source": [
    "def minPathSum(grid):\n",
    "        \"\"\"\n",
    "        The recurrence relation for this problem\n",
    "        is f(x, y) = grid(x, y) + min(f(x + 1, y), f(x, y + 1))\n",
    "        with the base case being (x, y) == (n-1, m-1)\n",
    "        \"\"\"\n",
    "        m = len(grid) - 1\n",
    "        n = len(grid[0]) - 1\n",
    "        for i in range(m, -1, -1):\n",
    "            for j in range(n, -1, -1):\n",
    "                \n",
    "                if (i, j) == (m, n):\n",
    "                    continue\n",
    "                if i + 1 > m:\n",
    "                    grid[i][j] += grid[i][j + 1]\n",
    "                    print([j, j + 1])\n",
    "                elif j + 1 > n:\n",
    "                    grid[i][j] += grid[i + 1][j]\n",
    "                else:\n",
    "                    grid[i][j] += min(grid[i + 1][j], grid[i][j + 1])\n",
    "        return grid[0][0]"
   ]
  },
  {
   "cell_type": "code",
   "execution_count": 44,
   "metadata": {},
   "outputs": [
    {
     "name": "stdout",
     "output_type": "stream",
     "text": [
      "[1, 2]\n",
      "[0, 1]\n"
     ]
    },
    {
     "data": {
      "text/plain": [
       "7"
      ]
     },
     "execution_count": 44,
     "metadata": {},
     "output_type": "execute_result"
    }
   ],
   "source": [
    "minPathSum([[1,3,1],[1,5,1],[4,2,1]])"
   ]
  },
  {
   "cell_type": "code",
   "execution_count": null,
   "metadata": {},
   "outputs": [],
   "source": [
    "Runtime: 120 ms, faster than 35.65% of Python3 online submissions for Minimum Path Sum.\n",
    "Memory Usage: 15.4 MB, less than 17.54% of Python3 online submissions for Minimum Path Sum."
   ]
  }
 ],
 "metadata": {
  "kernelspec": {
   "display_name": "Python 3",
   "language": "python",
   "name": "python3"
  },
  "language_info": {
   "codemirror_mode": {
    "name": "ipython",
    "version": 3
   },
   "file_extension": ".py",
   "mimetype": "text/x-python",
   "name": "python",
   "nbconvert_exporter": "python",
   "pygments_lexer": "ipython3",
   "version": "3.7.4"
  }
 },
 "nbformat": 4,
 "nbformat_minor": 2
}
