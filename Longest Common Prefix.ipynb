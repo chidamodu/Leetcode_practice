{
 "cells": [
  {
   "cell_type": "code",
   "execution_count": null,
   "metadata": {},
   "outputs": [],
   "source": [
    "l=[\"flower\",\"flow\",\"flight\"]\n"
   ]
  },
  {
   "cell_type": "code",
   "execution_count": 1,
   "metadata": {},
   "outputs": [
    {
     "data": {
      "text/plain": [
       "{'e', 'r'}"
      ]
     },
     "execution_count": 1,
     "metadata": {},
     "output_type": "execute_result"
    }
   ],
   "source": [
    "set(\"flower\")-set(\"flow\")"
   ]
  },
  {
   "cell_type": "code",
   "execution_count": 2,
   "metadata": {},
   "outputs": [
    {
     "data": {
      "text/plain": [
       "{'o', 'w'}"
      ]
     },
     "execution_count": 2,
     "metadata": {},
     "output_type": "execute_result"
    }
   ],
   "source": [
    "set(\"flow\")-set(\"flight\")"
   ]
  },
  {
   "cell_type": "code",
   "execution_count": null,
   "metadata": {},
   "outputs": [],
   "source": [
    "class Solution:\n",
    "    def longestCommonPrefix(self, strs: List[str]) -> str:\n",
    "        d=set()\n",
    "        n=len(strs)\n",
    "        ans=''\n",
    "        if len(strs)==0:\n",
    "            return ans\n",
    "        else:\n",
    "            \n",
    "            s=min(strs)\n",
    "           \n",
    "            for i in range(len(s)):\n",
    "                current=s[i]\n",
    "                if any(strs[j][i]!=current for j in range(n)):\n",
    "                    break\n",
    "                else:\n",
    "                    ans+=current       \n",
    "        return ans\n",
    "    \n",
    "    \n",
    "Runtime: 32 ms, faster than 94.90% of Python3 online submissions for Longest Common Prefix.\n",
    "Memory Usage: 12.8 MB, less than 100.00% of Python3 online submissions for Longest Common Prefix."
   ]
  }
 ],
 "metadata": {
  "kernelspec": {
   "display_name": "Python 3",
   "language": "python",
   "name": "python3"
  },
  "language_info": {
   "codemirror_mode": {
    "name": "ipython",
    "version": 3
   },
   "file_extension": ".py",
   "mimetype": "text/x-python",
   "name": "python",
   "nbconvert_exporter": "python",
   "pygments_lexer": "ipython3",
   "version": "3.7.4"
  }
 },
 "nbformat": 4,
 "nbformat_minor": 2
}
