{
 "cells": [
  {
   "cell_type": "code",
   "execution_count": 49,
   "metadata": {},
   "outputs": [
    {
     "data": {
      "text/plain": [
       "[1, 2, 3]"
      ]
     },
     "execution_count": 49,
     "metadata": {},
     "output_type": "execute_result"
    }
   ],
   "source": [
    "#Median of Two Sorted Arrays\n",
    "\n",
    "def median_val(a1):\n",
    "    len1=len(a1)\n",
    "    if len1%2 !=0:#odd\n",
    "        middle=a1[int(len1/2)]\n",
    "#         print(middle)              \n",
    "    else:#even\n",
    "        m1=int((len1/2)-1)\n",
    "        m2=m1+1\n",
    "        middle=(a1[m1]+a1[m2])/2\n",
    "#         print(middle) \n",
    "    return middle\n",
    "\n",
    "def fn_name(a1, a2):\n",
    "    result=[]\n",
    "    if a2[0]>a1[-1]:\n",
    "        result.append(a1+a2)\n",
    "    return median_val(result)\n",
    "\n",
    "\n",
    "        \n",
    "        \n",
    "fn_name([1,2], [3])       \n"
   ]
  },
  {
   "cell_type": "code",
   "execution_count": null,
   "metadata": {
    "collapsed": true
   },
   "outputs": [],
   "source": [
    "def fn_name(a1, a2):\n",
    "    result=[]\n",
    "    if a2[0]>a1[-1]:\n",
    "        result.append(a1+a2)\n",
    "    return median_val(result)\n",
    "    \n",
    "    else:\n",
    "        for j in a2:\n",
    "            if j>median of a1:\n",
    "                for i in a1[median of a1 +1:]:\n",
    "                    if j>i:\n",
    "                        \n",
    "                    \n",
    "            else:\n",
    "                for e in [median of a1 -1:0]:\n",
    "                    \n",
    "                \n"
   ]
  },
  {
   "cell_type": "code",
   "execution_count": null,
   "metadata": {
    "collapsed": true
   },
   "outputs": [],
   "source": []
  },
  {
   "cell_type": "code",
   "execution_count": 48,
   "metadata": {},
   "outputs": [
    {
     "data": {
      "text/plain": [
       "6"
      ]
     },
     "execution_count": 48,
     "metadata": {},
     "output_type": "execute_result"
    }
   ],
   "source": [
    "13//2"
   ]
  },
  {
   "cell_type": "code",
   "execution_count": 8,
   "metadata": {},
   "outputs": [
    {
     "data": {
      "text/plain": [
       "0"
      ]
     },
     "execution_count": 8,
     "metadata": {},
     "output_type": "execute_result"
    }
   ],
   "source": [
    "10%2"
   ]
  },
  {
   "cell_type": "code",
   "execution_count": 15,
   "metadata": {},
   "outputs": [
    {
     "data": {
      "text/plain": [
       "3"
      ]
     },
     "execution_count": 15,
     "metadata": {},
     "output_type": "execute_result"
    }
   ],
   "source": [
    "from math import floor, ceil\n",
    "ceil(5/2)"
   ]
  },
  {
   "cell_type": "code",
   "execution_count": 16,
   "metadata": {},
   "outputs": [
    {
     "data": {
      "text/plain": [
       "3.0"
      ]
     },
     "execution_count": 16,
     "metadata": {},
     "output_type": "execute_result"
    }
   ],
   "source": [
    "6/2"
   ]
  },
  {
   "cell_type": "code",
   "execution_count": 34,
   "metadata": {},
   "outputs": [
    {
     "data": {
      "text/plain": [
       "3.5"
      ]
     },
     "execution_count": 34,
     "metadata": {},
     "output_type": "execute_result"
    }
   ],
   "source": [
    "def median_val(a1):\n",
    "    len1=len(a1)\n",
    "    if len1%2 !=0:#odd\n",
    "        middle=a1[int(len1/2)]\n",
    "#         print(middle)\n",
    "              \n",
    "    else:#even\n",
    "        m1=int((len1/2)-1)\n",
    "        m2=m1+1\n",
    "        middle=(a1[m1]+a1[m2])/2\n",
    "#         print(middle)\n",
    "   \n",
    "    return middle\n",
    "        \n",
    "median_val([1,3,4,9])"
   ]
  },
  {
   "cell_type": "code",
   "execution_count": 18,
   "metadata": {},
   "outputs": [
    {
     "data": {
      "text/plain": [
       "5"
      ]
     },
     "execution_count": 18,
     "metadata": {},
     "output_type": "execute_result"
    }
   ],
   "source": [
    "len([1,2,3,4,5])"
   ]
  },
  {
   "cell_type": "code",
   "execution_count": 19,
   "metadata": {},
   "outputs": [
    {
     "data": {
      "text/plain": [
       "1"
      ]
     },
     "execution_count": 19,
     "metadata": {},
     "output_type": "execute_result"
    }
   ],
   "source": [
    "a=[1,2,3,4,5]\n",
    "a[0]"
   ]
  },
  {
   "cell_type": "code",
   "execution_count": null,
   "metadata": {
    "collapsed": true
   },
   "outputs": [],
   "source": []
  }
 ],
 "metadata": {
  "kernelspec": {
   "display_name": "Python 3",
   "language": "python",
   "name": "python3"
  },
  "language_info": {
   "codemirror_mode": {
    "name": "ipython",
    "version": 3
   },
   "file_extension": ".py",
   "mimetype": "text/x-python",
   "name": "python",
   "nbconvert_exporter": "python",
   "pygments_lexer": "ipython3",
   "version": "3.6.1"
  }
 },
 "nbformat": 4,
 "nbformat_minor": 2
}
