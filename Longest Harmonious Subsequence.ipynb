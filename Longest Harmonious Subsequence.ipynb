{
 "cells": [
  {
   "cell_type": "code",
   "execution_count": null,
   "metadata": {},
   "outputs": [],
   "source": [
    "class Solution:\n",
    "    def findLHS(self, nums: List[int]) -> int:\n",
    "        d={}\n",
    "        ans=0\n",
    "        for n in nums:\n",
    "            if n in d:\n",
    "                d[n]+=1\n",
    "            else:\n",
    "                d[n]=1\n",
    "        \n",
    "        for n in nums:\n",
    "            if n in d:\n",
    "                if n-1 in d:\n",
    "                    ans=max(ans, d[n]+d[n-1])\n",
    "                    \n",
    "        return ans\n",
    "                    \n",
    "        "
   ]
  }
 ],
 "metadata": {
  "kernelspec": {
   "display_name": "Python 3",
   "language": "python",
   "name": "python3"
  },
  "language_info": {
   "codemirror_mode": {
    "name": "ipython",
    "version": 3
   },
   "file_extension": ".py",
   "mimetype": "text/x-python",
   "name": "python",
   "nbconvert_exporter": "python",
   "pygments_lexer": "ipython3",
   "version": "3.7.4"
  }
 },
 "nbformat": 4,
 "nbformat_minor": 2
}
