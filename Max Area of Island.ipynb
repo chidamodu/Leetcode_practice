{
 "cells": [
  {
   "cell_type": "code",
   "execution_count": 22,
   "metadata": {},
   "outputs": [],
   "source": [
    "def maxAreaOfIsland(grid):\n",
    "        \"\"\"\n",
    "        :type grid: List[List[int]]\n",
    "        :rtype: int\n",
    "        \"\"\"\n",
    "        land = set([(i,j) for i in range(len(grid)) for j in range(len(grid[0])) if grid[i][j] == 1])\n",
    "#         print(land)\n",
    "        max_size = 0\n",
    "        while land:\n",
    "            current_size = 1\n",
    "            stack = [land.pop()]\n",
    "            while stack:\n",
    "                current = stack.pop()\n",
    "                east = (current[0] + 1, current[1])\n",
    "                north = (current[0], current[1] +1)\n",
    "                west = (current[0] -1, current[1])\n",
    "                south = (current[0], current[1] - 1)\n",
    "                directions = [east,north,west,south]\n",
    "                print(directions)\n",
    "                for item in directions:\n",
    "                    if item in land:\n",
    "                        current_size += 1\n",
    "                        stack.append(item)\n",
    "                        land.remove(item)\n",
    "            if current_size > max_size:\n",
    "                max_size = current_size\n",
    "        return max_size "
   ]
  },
  {
   "cell_type": "code",
   "execution_count": 23,
   "metadata": {},
   "outputs": [
    {
     "name": "stdout",
     "output_type": "stream",
     "text": [
      "[(7, 9), (6, 10), (5, 9), (6, 8)]\n",
      "[(7, 8), (6, 9), (5, 8), (6, 7)]\n",
      "[(7, 7), (6, 8), (5, 7), (6, 6)]\n",
      "[(8, 7), (7, 8), (6, 7), (7, 6)]\n",
      "[(8, 8), (7, 9), (6, 8), (7, 7)]\n",
      "[(5, 8), (4, 9), (3, 8), (4, 7)]\n",
      "[(4, 8), (3, 9), (2, 8), (3, 7)]\n",
      "[(5, 9), (4, 10), (3, 9), (4, 8)]\n",
      "[(5, 10), (4, 11), (3, 10), (4, 9)]\n",
      "[(4, 10), (3, 11), (2, 10), (3, 9)]\n",
      "[(6, 10), (5, 11), (4, 10), (5, 9)]\n",
      "[(1, 2), (0, 3), (-1, 2), (0, 1)]\n",
      "[(1, 7), (0, 8), (-1, 7), (0, 6)]\n",
      "[(2, 7), (1, 8), (0, 7), (1, 6)]\n",
      "[(2, 8), (1, 9), (0, 8), (1, 7)]\n",
      "[(2, 9), (1, 10), (0, 9), (1, 8)]\n",
      "[(3, 1), (2, 2), (1, 1), (2, 0)]\n",
      "[(3, 2), (2, 3), (1, 2), (2, 1)]\n",
      "[(4, 1), (3, 2), (2, 1), (3, 0)]\n",
      "[(5, 1), (4, 2), (3, 1), (4, 0)]\n",
      "[(5, 4), (4, 5), (3, 4), (4, 3)]\n",
      "[(4, 4), (3, 5), (2, 4), (3, 3)]\n",
      "[(3, 4), (2, 5), (1, 4), (2, 3)]\n",
      "[(4, 5), (3, 6), (2, 5), (3, 4)]\n",
      "[(5, 5), (4, 6), (3, 5), (4, 4)]\n"
     ]
    },
    {
     "data": {
      "text/plain": [
       "6"
      ]
     },
     "execution_count": 23,
     "metadata": {},
     "output_type": "execute_result"
    }
   ],
   "source": [
    "maxAreaOfIsland([[0,0,1,0,0,0,0,1,0,0,0,0,0],\n",
    " [0,0,0,0,0,0,0,1,1,1,0,0,0],\n",
    " [0,1,1,0,1,0,0,0,0,0,0,0,0],\n",
    " [0,1,0,0,1,1,0,0,1,0,1,0,0],\n",
    " [0,1,0,0,1,1,0,0,1,1,1,0,0],\n",
    " [0,0,0,0,0,0,0,0,0,0,1,0,0],\n",
    " [0,0,0,0,0,0,0,1,1,1,0,0,0],\n",
    " [0,0,0,0,0,0,0,1,1,0,0,0,0]])"
   ]
  }
 ],
 "metadata": {
  "kernelspec": {
   "display_name": "Python 3",
   "language": "python",
   "name": "python3"
  },
  "language_info": {
   "codemirror_mode": {
    "name": "ipython",
    "version": 3
   },
   "file_extension": ".py",
   "mimetype": "text/x-python",
   "name": "python",
   "nbconvert_exporter": "python",
   "pygments_lexer": "ipython3",
   "version": "3.7.4"
  }
 },
 "nbformat": 4,
 "nbformat_minor": 2
}
