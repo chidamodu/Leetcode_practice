{
 "cells": [
  {
   "cell_type": "code",
   "execution_count": 1,
   "metadata": {},
   "outputs": [],
   "source": [
    "#Sort Colors - work in progress!\n",
    "\n",
    "def sortColors(nums):\n",
    "    for i in range(1, len(nums)):\n",
    "        prev=i-1\n",
    "        if nums[i]>nums[prev]:\n",
    "            continue\n",
    "        else:\n",
    "            cache=nums[prev]\n",
    "            nums[prev]=nums[i]\n",
    "            nums[i]=cache\n",
    "            \n",
    "    return nums\n",
    "        \n",
    "    "
   ]
  },
  {
   "cell_type": "code",
   "execution_count": 2,
   "metadata": {},
   "outputs": [
    {
     "data": {
      "text/plain": [
       "[0, 2, 1, 1, 0, 2]"
      ]
     },
     "execution_count": 2,
     "metadata": {},
     "output_type": "execute_result"
    }
   ],
   "source": [
    "sortColors([2,0,2,1,1,0])"
   ]
  },
  {
   "cell_type": "code",
   "execution_count": 5,
   "metadata": {},
   "outputs": [],
   "source": [
    "s=\"/a/./b/../../c/\"\n",
    "\n"
   ]
  },
  {
   "cell_type": "code",
   "execution_count": 90,
   "metadata": {},
   "outputs": [],
   "source": [
    "def simplifyPath(s):\n",
    "    stack, path=[], s.split('/')\n",
    "    \n",
    "    for w in path:\n",
    "        if w == \"..\":\n",
    "            stack and stack.pop()\n",
    "                     \n",
    "        elif w not in ('' or '.'):\n",
    "            stack.append(w)\n",
    "            \n",
    "            \n",
    "    return '/'+'/'.join(stack)\n",
    "        \n",
    "Runtime: 32 ms, faster than 54.83% of Python3 online submissions for Simplify Path.\n",
    "Memory Usage: 13.6 MB, less than 14.29% of Python3 online submissions for Simplify Path.            "
   ]
  },
  {
   "cell_type": "code",
   "execution_count": 87,
   "metadata": {},
   "outputs": [
    {
     "name": "stdout",
     "output_type": "stream",
     "text": [
      "['', 'a', '.', 'b', '..', '..', 'c', '']\n"
     ]
    },
    {
     "data": {
      "text/plain": [
       "'/c'"
      ]
     },
     "execution_count": 87,
     "metadata": {},
     "output_type": "execute_result"
    }
   ],
   "source": [
    "simplifyPath(\"/a/./b/../../c/\")"
   ]
  },
  {
   "cell_type": "code",
   "execution_count": 88,
   "metadata": {},
   "outputs": [
    {
     "name": "stdout",
     "output_type": "stream",
     "text": [
      "['', 'home', '']\n"
     ]
    },
    {
     "data": {
      "text/plain": [
       "'/home'"
      ]
     },
     "execution_count": 88,
     "metadata": {},
     "output_type": "execute_result"
    }
   ],
   "source": [
    "simplifyPath(\"/home/\")"
   ]
  },
  {
   "cell_type": "code",
   "execution_count": 89,
   "metadata": {},
   "outputs": [
    {
     "name": "stdout",
     "output_type": "stream",
     "text": [
      "['', 'a', '..', '..', 'b', '..', 'c', '', '.', '', '']\n"
     ]
    },
    {
     "data": {
      "text/plain": [
       "'/c'"
      ]
     },
     "execution_count": 89,
     "metadata": {},
     "output_type": "execute_result"
    }
   ],
   "source": [
    "simplifyPath(\"/a/../../b/../c//.//\")"
   ]
  },
  {
   "cell_type": "code",
   "execution_count": null,
   "metadata": {},
   "outputs": [],
   "source": [
    "# An alternative solution for the same problem \n",
    "\n",
    "def simplifyPath(s):\n",
    "    stack, path=[], s.split('/')\n",
    "    \n",
    "    for w in path:\n",
    "        if w == \"..\" and stack:\n",
    "            stack.pop()\n",
    "                     \n",
    "        elif w not in ('' or '.' and '..'):\n",
    "            stack.append(w)\n",
    "            \n",
    "            \n",
    "    return '/'+'/'.join(stack)"
   ]
  },
  {
   "cell_type": "code",
   "execution_count": null,
   "metadata": {},
   "outputs": [],
   "source": [
    "Climbing Stairs\n",
    "def climbStairs(self, n: int) -> int:\n",
    "        dp={}\n",
    "        dp[2]=2\n",
    "        dp[1]=1\n",
    "        for i in range(3, n+1):\n",
    "            dp[i]=dp[i-1]+dp[i-2]\n",
    "        \n",
    "        return dp[n]\n",
    "\n",
    "Runtime: 28 ms, faster than 56.85% of Python3 online submissions for Climbing Stairs.\n",
    "Memory Usage: 13.7 MB, less than 5.97% of Python3 online submissions for Climbing Stairs.\n",
    "    \n",
    "    \n",
    "    \n",
    "An alternative solution: Python3 fibonacci solution\n",
    "\n",
    "def climbStairs(self, n: int) -> int:\n",
    "    a = 1\n",
    "    b = 2\n",
    "    if n==1:\n",
    "        return 1\n",
    "    if n==2:\n",
    "        return 2\n",
    "    for i in range(3,n+1):\n",
    "        s = a+b\n",
    "        a = b\n",
    "        b = s\n",
    "    return s"
   ]
  },
  {
   "cell_type": "code",
   "execution_count": 95,
   "metadata": {},
   "outputs": [],
   "source": [
    "# It did not work\n",
    "def canJump(nums):\n",
    "    next_ind=0\n",
    "    while next_ind<len(nums)-1:\n",
    "        next_ind+=nums[next_ind]\n",
    "        \n",
    "        \n",
    "    if next_ind==len(nums)-1:\n",
    "        return True\n",
    "    \n",
    "    else:\n",
    "        return False\n",
    "            \n",
    "            "
   ]
  },
  {
   "cell_type": "code",
   "execution_count": 101,
   "metadata": {},
   "outputs": [],
   "source": [
    "# canJump\n",
    "def canJump(nums):\n",
    "    current_jump=1\n",
    "    for i in nums[:-1]:\n",
    "        current_jump=max(current_jump-1, i)\n",
    "        if not current_jump: return False\n",
    "\n",
    "    return True\n",
    "        \n",
    "Runtime: 100 ms, faster than 23.43% of Python3 online submissions for Jump Game.\n",
    "Memory Usage: 15.9 MB, less than 7.14% of Python3 online submissions for Jump Game.        "
   ]
  },
  {
   "cell_type": "code",
   "execution_count": 102,
   "metadata": {},
   "outputs": [
    {
     "data": {
      "text/plain": [
       "False"
      ]
     },
     "execution_count": 102,
     "metadata": {},
     "output_type": "execute_result"
    }
   ],
   "source": [
    "canJump([3,2,1,0,4])"
   ]
  }
 ],
 "metadata": {
  "kernelspec": {
   "display_name": "Python 3",
   "language": "python",
   "name": "python3"
  },
  "language_info": {
   "codemirror_mode": {
    "name": "ipython",
    "version": 3
   },
   "file_extension": ".py",
   "mimetype": "text/x-python",
   "name": "python",
   "nbconvert_exporter": "python",
   "pygments_lexer": "ipython3",
   "version": "3.7.4"
  }
 },
 "nbformat": 4,
 "nbformat_minor": 2
}
