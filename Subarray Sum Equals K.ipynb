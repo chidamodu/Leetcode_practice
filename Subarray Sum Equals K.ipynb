{
 "cells": [
  {
   "cell_type": "code",
   "execution_count": 34,
   "metadata": {},
   "outputs": [],
   "source": [
    "# Subarray Sum Equals K\n",
    "\n",
    "def subarraySum(nums, k):\n",
    "    s=0\n",
    "    c=0\n",
    "    for i in range(len(nums)):\n",
    "        s+=nums[i]\n",
    "        \n",
    "        if s==k:\n",
    "            c+=1\n",
    "            s=nums[i]\n",
    "            print(s, i)\n",
    "         \n",
    "        else:\n",
    "            continue\n",
    "        \n",
    "            \n",
    "    return c\n",
    "    "
   ]
  },
  {
   "cell_type": "code",
   "execution_count": 35,
   "metadata": {},
   "outputs": [
    {
     "name": "stdout",
     "output_type": "stream",
     "text": [
      "2 3\n",
      "3 4\n"
     ]
    },
    {
     "data": {
      "text/plain": [
       "2"
      ]
     },
     "execution_count": 35,
     "metadata": {},
     "output_type": "execute_result"
    }
   ],
   "source": [
    "subarraySum([0,1,2,2,3,4,5], 5)"
   ]
  },
  {
   "cell_type": "code",
   "execution_count": 55,
   "metadata": {},
   "outputs": [],
   "source": [
    "# Understood!\n",
    "\n",
    "def subarraySum(nums, k):\n",
    "    curr_sum=0\n",
    "    res=0\n",
    "    d={0:1}\n",
    "\n",
    "    for i in range(len(nums)):\n",
    "        curr_sum+=nums[i]\n",
    "        if curr_sum-k in d:\n",
    "            res+=d[curr_sum-k]\n",
    "        if curr_sum not in d:\n",
    "            d[curr_sum]=1\n",
    "        else:\n",
    "            d[curr_sum]+=1\n",
    "            \n",
    "        print(d)\n",
    "            \n",
    "    return res\n",
    "            \n",
    "        \n",
    "        "
   ]
  },
  {
   "cell_type": "code",
   "execution_count": 56,
   "metadata": {},
   "outputs": [
    {
     "name": "stdout",
     "output_type": "stream",
     "text": [
      "{0: 2}\n",
      "{0: 2, 1: 1}\n",
      "{0: 2, 1: 1, 2: 1}\n",
      "{0: 2, 1: 1, 2: 1, 5: 1}\n",
      "{0: 2, 1: 1, 2: 1, 5: 1, 9: 1}\n",
      "{0: 2, 1: 1, 2: 1, 5: 1, 9: 1, 10: 1}\n",
      "{0: 2, 1: 1, 2: 1, 5: 1, 9: 1, 10: 1, 11: 1}\n",
      "{0: 2, 1: 1, 2: 1, 5: 1, 9: 1, 10: 1, 11: 1, 12: 1}\n"
     ]
    },
    {
     "data": {
      "text/plain": [
       "4"
      ]
     },
     "execution_count": 56,
     "metadata": {},
     "output_type": "execute_result"
    }
   ],
   "source": [
    "subarraySum([0,1,1,3,4,1,1,1], 2)"
   ]
  }
 ],
 "metadata": {
  "kernelspec": {
   "display_name": "Python 3",
   "language": "python",
   "name": "python3"
  },
  "language_info": {
   "codemirror_mode": {
    "name": "ipython",
    "version": 3
   },
   "file_extension": ".py",
   "mimetype": "text/x-python",
   "name": "python",
   "nbconvert_exporter": "python",
   "pygments_lexer": "ipython3",
   "version": "3.7.4"
  }
 },
 "nbformat": 4,
 "nbformat_minor": 2
}
