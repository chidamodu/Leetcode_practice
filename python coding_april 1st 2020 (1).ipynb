{
 "cells": [
  {
   "cell_type": "code",
   "execution_count": 8,
   "metadata": {},
   "outputs": [],
   "source": [
    "#Rotate List\n",
    "\n",
    "def rotateRight(ListNode, k):\n",
    "    return ListNode[k+1:]+ListNode[:k+1]"
   ]
  },
  {
   "cell_type": "code",
   "execution_count": 9,
   "metadata": {},
   "outputs": [
    {
     "data": {
      "text/plain": [
       "[0, 1, 2]"
      ]
     },
     "execution_count": 9,
     "metadata": {},
     "output_type": "execute_result"
    }
   ],
   "source": [
    "rotateRight([0,1,2], 4)"
   ]
  },
  {
   "cell_type": "code",
   "execution_count": 37,
   "metadata": {},
   "outputs": [],
   "source": [
    "def sortColors(nums):\n",
    "    if not nums: return []\n",
    "    left=0\n",
    "    right=len(nums)-1\n",
    "    i=0\n",
    "    \n",
    "    while i <= right:\n",
    "        if nums[i]==2:\n",
    "            nums[i], nums[right]=nums[right], nums[i]\n",
    "            right-=1\n",
    "                \n",
    "        elif nums[i]==0:\n",
    "            nums[i], nums[left]=nums[left], nums[i]\n",
    "            left+=1; i+=1\n",
    "               \n",
    "                \n",
    "        else:\n",
    "            i+=1\n",
    "                \n",
    "                \n",
    "    return nums\n",
    "\n",
    "Runtime: 32 ms, faster than 57.14% of Python3 online submissions for Sort Colors.\n",
    "Memory Usage: 14 MB, less than 6.25% of Python3 online submissions for Sort Colors."
   ]
  },
  {
   "cell_type": "code",
   "execution_count": 38,
   "metadata": {},
   "outputs": [
    {
     "data": {
      "text/plain": [
       "[0, 0, 1, 1, 2, 2]"
      ]
     },
     "execution_count": 38,
     "metadata": {},
     "output_type": "execute_result"
    }
   ],
   "source": [
    "sortColors([2,0,2,1,1,0])"
   ]
  },
  {
   "cell_type": "code",
   "execution_count": 50,
   "metadata": {},
   "outputs": [],
   "source": [
    "f=[1,2,3,3,4,4,5]"
   ]
  },
  {
   "cell_type": "code",
   "execution_count": 51,
   "metadata": {},
   "outputs": [],
   "source": [
    "# f.pop(3)"
   ]
  },
  {
   "cell_type": "code",
   "execution_count": 52,
   "metadata": {},
   "outputs": [
    {
     "data": {
      "text/plain": [
       "2"
      ]
     },
     "execution_count": 52,
     "metadata": {},
     "output_type": "execute_result"
    }
   ],
   "source": [
    "f.index(3)"
   ]
  },
  {
   "cell_type": "code",
   "execution_count": 55,
   "metadata": {},
   "outputs": [
    {
     "ename": "TypeError",
     "evalue": "pop() takes at most 1 argument (2 given)",
     "output_type": "error",
     "traceback": [
      "\u001b[0;31m---------------------------------------------------------------------------\u001b[0m",
      "\u001b[0;31mTypeError\u001b[0m                                 Traceback (most recent call last)",
      "\u001b[0;32m<ipython-input-55-fd35d145b85b>\u001b[0m in \u001b[0;36m<module>\u001b[0;34m\u001b[0m\n\u001b[0;32m----> 1\u001b[0;31m \u001b[0mf\u001b[0m\u001b[0;34m.\u001b[0m\u001b[0mpop\u001b[0m\u001b[0;34m(\u001b[0m\u001b[0;36m2\u001b[0m\u001b[0;34m,\u001b[0m\u001b[0;36m3\u001b[0m\u001b[0;34m)\u001b[0m\u001b[0;34m\u001b[0m\u001b[0;34m\u001b[0m\u001b[0m\n\u001b[0m",
      "\u001b[0;31mTypeError\u001b[0m: pop() takes at most 1 argument (2 given)"
     ]
    }
   ],
   "source": [
    "f.pop(2,3)"
   ]
  },
  {
   "cell_type": "code",
   "execution_count": 56,
   "metadata": {},
   "outputs": [
    {
     "data": {
      "text/plain": [
       "{1, 2, 3, 4, 5}"
      ]
     },
     "execution_count": 56,
     "metadata": {},
     "output_type": "execute_result"
    }
   ],
   "source": [
    "set([1,2,3,3,4,4,5])"
   ]
  },
  {
   "cell_type": "code",
   "execution_count": 77,
   "metadata": {},
   "outputs": [],
   "source": [
    "def deleteDuplicates(ListNode):\n",
    "    d={}\n",
    "    result_stack=[]\n",
    "    for i in ListNode:\n",
    "        d[i]=d.get(i, 0)+1\n",
    "        \n",
    "    for k, v in d.items():\n",
    "        if v==1:\n",
    "            result_stack.append(k)\n",
    "            \n",
    "    return result_stack\n",
    "    \n",
    "    "
   ]
  },
  {
   "cell_type": "code",
   "execution_count": 78,
   "metadata": {},
   "outputs": [
    {
     "data": {
      "text/plain": [
       "[2, 3]"
      ]
     },
     "execution_count": 78,
     "metadata": {},
     "output_type": "execute_result"
    }
   ],
   "source": [
    "deleteDuplicates([1,1,1,2,3])"
   ]
  },
  {
   "cell_type": "code",
   "execution_count": 84,
   "metadata": {},
   "outputs": [],
   "source": [
    "a=set()\n",
    "a.add((1,2))"
   ]
  },
  {
   "cell_type": "code",
   "execution_count": 86,
   "metadata": {},
   "outputs": [
    {
     "data": {
      "text/plain": [
       "{(1, 2)}"
      ]
     },
     "execution_count": 86,
     "metadata": {},
     "output_type": "execute_result"
    }
   ],
   "source": [
    "a"
   ]
  },
  {
   "cell_type": "code",
   "execution_count": 131,
   "metadata": {},
   "outputs": [],
   "source": [
    "def subsets(nums):\n",
    "    result=[]\n",
    "    for i in range(len(nums)):\n",
    "        if len(nums[i:])!=0:\n",
    "            result.extend((nums[i:], nums[:i], nums[:i-1], nums[i-1:], nums[i]))\n",
    "            \n",
    "        \n",
    "#             result.extend((nums[i],nums[0]))\n",
    "            \n",
    "        \n",
    "            \n",
    "    return result\n",
    "        "
   ]
  },
  {
   "cell_type": "code",
   "execution_count": 132,
   "metadata": {},
   "outputs": [
    {
     "data": {
      "text/plain": [
       "[[1, 2, 3],\n",
       " [],\n",
       " [1, 2],\n",
       " [3],\n",
       " 1,\n",
       " [2, 3],\n",
       " [1],\n",
       " [],\n",
       " [1, 2, 3],\n",
       " 2,\n",
       " [3],\n",
       " [1, 2],\n",
       " [1],\n",
       " [2, 3],\n",
       " 3]"
      ]
     },
     "execution_count": 132,
     "metadata": {},
     "output_type": "execute_result"
    }
   ],
   "source": [
    "subsets([1,2,3])"
   ]
  },
  {
   "cell_type": "code",
   "execution_count": 223,
   "metadata": {},
   "outputs": [],
   "source": [
    "Not a complete solution but worked for a few examples.\n",
    "\n",
    "def subsets(nums):\n",
    "    result=[]\n",
    "    \n",
    "    if not nums: return []\n",
    "    \n",
    "    elif len(nums)==1: return [[], nums]\n",
    "    \n",
    "    \n",
    "    \n",
    "    else:\n",
    "        for i in range(1, len(nums)):\n",
    "            if i!=len(nums)-1:\n",
    "                result.extend(([nums[i-1], nums[i]], [nums[i]], nums[i:], nums[:i-1], nums[i+1:], nums[:i+1], nums[:i], nums[i-1:]))\n",
    "#             result.extend((nums[i:], nums[:i], nums[:i-1], nums[i-1:], nums[i]))\n",
    "            \n",
    "            else:\n",
    "                result.extend(([nums[0], nums[i]], [nums[0]], [nums[i]]))\n",
    "            \n",
    "        result.append(([]))\n",
    "    \n",
    "        nums_set = set(tuple(x) for x in result)\n",
    "    \n",
    "    return [list(x) for x in nums_set]\n",
    "\n",
    "#     return result\n",
    "            "
   ]
  },
  {
   "cell_type": "code",
   "execution_count": 224,
   "metadata": {},
   "outputs": [
    {
     "data": {
      "text/plain": [
       "[[], [0]]"
      ]
     },
     "execution_count": 224,
     "metadata": {},
     "output_type": "execute_result"
    }
   ],
   "source": [
    "subsets([0])"
   ]
  },
  {
   "cell_type": "code",
   "execution_count": 226,
   "metadata": {},
   "outputs": [
    {
     "data": {
      "text/plain": [
       "[0]"
      ]
     },
     "execution_count": 226,
     "metadata": {},
     "output_type": "execute_result"
    }
   ],
   "source": [
    "[]+[0]"
   ]
  },
  {
   "cell_type": "code",
   "execution_count": 227,
   "metadata": {},
   "outputs": [
    {
     "data": {
      "text/plain": [
       "[2, 3]"
      ]
     },
     "execution_count": 227,
     "metadata": {},
     "output_type": "execute_result"
    }
   ],
   "source": [
    "l=[1,2,3]\n",
    "l[1:]"
   ]
  },
  {
   "cell_type": "code",
   "execution_count": 228,
   "metadata": {},
   "outputs": [
    {
     "data": {
      "text/plain": [
       "[1, 2]"
      ]
     },
     "execution_count": 228,
     "metadata": {},
     "output_type": "execute_result"
    }
   ],
   "source": [
    "[1]+[2]"
   ]
  },
  {
   "cell_type": "code",
   "execution_count": 229,
   "metadata": {},
   "outputs": [
    {
     "name": "stdout",
     "output_type": "stream",
     "text": [
      "2\n"
     ]
    }
   ],
   "source": [
    "for j in range(2, 3):\n",
    "    print(j)"
   ]
  },
  {
   "cell_type": "code",
   "execution_count": null,
   "metadata": {},
   "outputs": [],
   "source": [
    "Subsets\n",
    "\n",
    "class Solution:\n",
    "    def _subsets(self, nums, i, temp, res):        \n",
    "        res.append(temp)  \n",
    "        for j in range(i, len(nums)): self._subsets(nums, j + 1, temp + [nums[j]], res)\n",
    "    \n",
    "    def subsets(self, nums: List[int]) -> List[List[int]]:\n",
    "        res = []\n",
    "        self._subsets(nums, 0, [], res)\n",
    "        return res\n",
    "\n",
    "\n",
    "\n",
    "\n",
    "Runtime: 36 ms, faster than 28.08% of Python3 online submissions for Subsets.\n",
    "Memory Usage: 14.1 MB, less than 5.95% of Python3 online submissions for Subsets.\n"
   ]
  },
  {
   "cell_type": "code",
   "execution_count": null,
   "metadata": {},
   "outputs": [],
   "source": [
    "Will work on linked lists later\n",
    "\n",
    "\"\"\"\n",
    "\n",
    "The idea is to keep two pointers.\n",
    "\n",
    "One points to the current non-duplicate node.\n",
    "\n",
    "The other points to the candidate node.\n",
    "\n",
    "Keep advancing the second pointer to the next non-duplicate node.\n",
    "\n",
    "Connect these two nodes. (In this way we skip the duplicated nodes)\n",
    "\n",
    "The time complexity is O(n).\n",
    "\n",
    "\"\"\"\n",
    "class Solution:\n",
    "    def deleteDuplicates(self, head: ListNode) -> ListNode:\n",
    "        if not head or not head.next:\n",
    "            return head\n",
    "        dummy = ListNode(0)\n",
    "        dummy.next = head\n",
    "        prev = dummy\n",
    "        cur = head\n",
    "        while cur != None:\n",
    "            # while loop to find the last elem of dup\n",
    "            while cur.next != None and cur.val == cur.next.val:\n",
    "                cur = cur.next\n",
    "            \n",
    "            if prev.next == cur:\n",
    "                # means this is no dups \n",
    "                prev = prev.next\n",
    "            else:\n",
    "                # means has dups\n",
    "                prev.next = cur.next\n",
    "            \n",
    "            cur = cur.next\n",
    "        return dummy.next"
   ]
  },
  {
   "cell_type": "code",
   "execution_count": 236,
   "metadata": {},
   "outputs": [
    {
     "data": {
      "text/plain": [
       "'B1b2'"
      ]
     },
     "execution_count": 236,
     "metadata": {},
     "output_type": "execute_result"
    }
   ],
   "source": [
    "S = \"B1b2\"\n",
    "S.replace('b', 'b')"
   ]
  },
  {
   "cell_type": "code",
   "execution_count": 237,
   "metadata": {},
   "outputs": [],
   "source": [
    "import string\n",
    "d = dict.fromkeys(string.ascii_lowercase, '')\n"
   ]
  },
  {
   "cell_type": "code",
   "execution_count": 238,
   "metadata": {},
   "outputs": [
    {
     "data": {
      "text/plain": [
       "{'a': '',\n",
       " 'b': '',\n",
       " 'c': '',\n",
       " 'd': '',\n",
       " 'e': '',\n",
       " 'f': '',\n",
       " 'g': '',\n",
       " 'h': '',\n",
       " 'i': '',\n",
       " 'j': '',\n",
       " 'k': '',\n",
       " 'l': '',\n",
       " 'm': '',\n",
       " 'n': '',\n",
       " 'o': '',\n",
       " 'p': '',\n",
       " 'q': '',\n",
       " 'r': '',\n",
       " 's': '',\n",
       " 't': '',\n",
       " 'u': '',\n",
       " 'v': '',\n",
       " 'w': '',\n",
       " 'x': '',\n",
       " 'y': '',\n",
       " 'z': ''}"
      ]
     },
     "execution_count": 238,
     "metadata": {},
     "output_type": "execute_result"
    }
   ],
   "source": [
    "d"
   ]
  },
  {
   "cell_type": "code",
   "execution_count": 241,
   "metadata": {},
   "outputs": [
    {
     "name": "stdout",
     "output_type": "stream",
     "text": [
      "a\n",
      "b\n",
      "c\n",
      "d\n",
      "e\n",
      "f\n",
      "g\n",
      "h\n",
      "i\n",
      "j\n",
      "k\n",
      "l\n",
      "m\n",
      "n\n",
      "o\n",
      "p\n",
      "q\n",
      "r\n",
      "s\n",
      "t\n",
      "u\n",
      "v\n",
      "w\n",
      "x\n",
      "y\n",
      "z\n"
     ]
    }
   ],
   "source": [
    "list_string=[]\n",
    "list_string.append(i for i in string.ascii_lowercase())\n",
    "\n",
    "for i in string.ascii_lowercase:\n",
    "    print(i)"
   ]
  },
  {
   "cell_type": "code",
   "execution_count": 249,
   "metadata": {},
   "outputs": [],
   "source": [
    "from collections import defaultdict\n",
    "d=defaultdict(list)\n",
    "for ele in string.ascii_lowercase:\n",
    "    d[ele].extend((ele.upper(), ele.lower()))\n",
    "        \n",
    "    \n",
    "#     d[ele].append((d[ele].upper(), d[ele].lower()))"
   ]
  },
  {
   "cell_type": "code",
   "execution_count": 250,
   "metadata": {},
   "outputs": [
    {
     "data": {
      "text/plain": [
       "defaultdict(list,\n",
       "            {'a': ['A', 'a'],\n",
       "             'b': ['B', 'b'],\n",
       "             'c': ['C', 'c'],\n",
       "             'd': ['D', 'd'],\n",
       "             'e': ['E', 'e'],\n",
       "             'f': ['F', 'f'],\n",
       "             'g': ['G', 'g'],\n",
       "             'h': ['H', 'h'],\n",
       "             'i': ['I', 'i'],\n",
       "             'j': ['J', 'j'],\n",
       "             'k': ['K', 'k'],\n",
       "             'l': ['L', 'l'],\n",
       "             'm': ['M', 'm'],\n",
       "             'n': ['N', 'n'],\n",
       "             'o': ['O', 'o'],\n",
       "             'p': ['P', 'p'],\n",
       "             'q': ['Q', 'q'],\n",
       "             'r': ['R', 'r'],\n",
       "             's': ['S', 's'],\n",
       "             't': ['T', 't'],\n",
       "             'u': ['U', 'u'],\n",
       "             'v': ['V', 'v'],\n",
       "             'w': ['W', 'w'],\n",
       "             'x': ['X', 'x'],\n",
       "             'y': ['Y', 'y'],\n",
       "             'z': ['Z', 'z']})"
      ]
     },
     "execution_count": 250,
     "metadata": {},
     "output_type": "execute_result"
    }
   ],
   "source": [
    "d"
   ]
  },
  {
   "cell_type": "code",
   "execution_count": 298,
   "metadata": {},
   "outputs": [],
   "source": [
    "Letter Case Permutation - work in progress!\n",
    "\n",
    "def letterCasePermutation(S):\n",
    "    from collections import defaultdict\n",
    "    S=S.lower()\n",
    "    result=[]\n",
    "    d=defaultdict(list)\n",
    "    for ele in string.ascii_lowercase:\n",
    "        d[ele].extend((ele.upper(), ele.lower()))\n",
    "        \n",
    "    if S.isdigit():\n",
    "        return S\n",
    "    \n",
    "    else:\n",
    "        for c in S:\n",
    "            if c.isalpha():\n",
    "                for i in d[c]:\n",
    "                    result.append(S.replace(c, i))    \n",
    "    return result  \n",
    "            \n",
    "            \n",
    "    "
   ]
  },
  {
   "cell_type": "code",
   "execution_count": 299,
   "metadata": {},
   "outputs": [
    {
     "data": {
      "text/plain": [
       "['3Z4', '3z4']"
      ]
     },
     "execution_count": 299,
     "metadata": {},
     "output_type": "execute_result"
    }
   ],
   "source": [
    "letterCasePermutation(\"3z4\")"
   ]
  },
  {
   "cell_type": "code",
   "execution_count": 275,
   "metadata": {},
   "outputs": [
    {
     "data": {
      "text/plain": [
       "False"
      ]
     },
     "execution_count": 275,
     "metadata": {},
     "output_type": "execute_result"
    }
   ],
   "source": [
    "S=\"12G45\"\n",
    "\n",
    "S.isdigit()"
   ]
  },
  {
   "cell_type": "code",
   "execution_count": null,
   "metadata": {},
   "outputs": [],
   "source": [
    "have to work on this problem\n",
    "\n",
    "input: \"a1b2\"\n",
    "\n",
    "\n",
    "output: [\"A1b2\",\"a1b2\",\"a1B2\",\"a1b2\"]\n",
    "\n",
    "\n",
    "expected: [\"a1b2\",\"a1B2\",\"A1b2\",\"A1B2\"]"
   ]
  }
 ],
 "metadata": {
  "kernelspec": {
   "display_name": "Python 3",
   "language": "python",
   "name": "python3"
  },
  "language_info": {
   "codemirror_mode": {
    "name": "ipython",
    "version": 3
   },
   "file_extension": ".py",
   "mimetype": "text/x-python",
   "name": "python",
   "nbconvert_exporter": "python",
   "pygments_lexer": "ipython3",
   "version": "3.7.4"
  }
 },
 "nbformat": 4,
 "nbformat_minor": 2
}
