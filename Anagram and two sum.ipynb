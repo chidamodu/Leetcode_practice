{
 "cells": [
  {
   "cell_type": "code",
   "execution_count": 11,
   "metadata": {},
   "outputs": [],
   "source": [
    "This has the following error\n",
    "def groupAnagrams(strs):\n",
    "    result=[]\n",
    "    d={}\n",
    "    s=set(strs)\n",
    "    for i in strs:\n",
    "        d[sorted(i)]=i\n",
    "        \n",
    "    return d\n",
    "        \n",
    "    "
   ]
  },
  {
   "cell_type": "code",
   "execution_count": 12,
   "metadata": {},
   "outputs": [
    {
     "ename": "TypeError",
     "evalue": "unhashable type: 'list'",
     "output_type": "error",
     "traceback": [
      "\u001b[0;31m---------------------------------------------------------------------------\u001b[0m",
      "\u001b[0;31mTypeError\u001b[0m                                 Traceback (most recent call last)",
      "\u001b[0;32m<ipython-input-12-037b6dbde115>\u001b[0m in \u001b[0;36m<module>\u001b[0;34m\u001b[0m\n\u001b[0;32m----> 1\u001b[0;31m \u001b[0mgroupAnagrams\u001b[0m\u001b[0;34m(\u001b[0m\u001b[0;34m[\u001b[0m\u001b[0;34m\"eat\"\u001b[0m\u001b[0;34m,\u001b[0m \u001b[0;34m\"tea\"\u001b[0m\u001b[0;34m,\u001b[0m \u001b[0;34m\"tan\"\u001b[0m\u001b[0;34m,\u001b[0m \u001b[0;34m\"ate\"\u001b[0m\u001b[0;34m,\u001b[0m \u001b[0;34m\"nat\"\u001b[0m\u001b[0;34m,\u001b[0m \u001b[0;34m\"bat\"\u001b[0m\u001b[0;34m]\u001b[0m\u001b[0;34m)\u001b[0m\u001b[0;34m\u001b[0m\u001b[0;34m\u001b[0m\u001b[0m\n\u001b[0m",
      "\u001b[0;32m<ipython-input-11-83c869508256>\u001b[0m in \u001b[0;36mgroupAnagrams\u001b[0;34m(strs)\u001b[0m\n\u001b[1;32m      4\u001b[0m     \u001b[0ms\u001b[0m\u001b[0;34m=\u001b[0m\u001b[0mset\u001b[0m\u001b[0;34m(\u001b[0m\u001b[0mstrs\u001b[0m\u001b[0;34m)\u001b[0m\u001b[0;34m\u001b[0m\u001b[0;34m\u001b[0m\u001b[0m\n\u001b[1;32m      5\u001b[0m     \u001b[0;32mfor\u001b[0m \u001b[0mi\u001b[0m \u001b[0;32min\u001b[0m \u001b[0mstrs\u001b[0m\u001b[0;34m:\u001b[0m\u001b[0;34m\u001b[0m\u001b[0;34m\u001b[0m\u001b[0m\n\u001b[0;32m----> 6\u001b[0;31m         \u001b[0md\u001b[0m\u001b[0;34m[\u001b[0m\u001b[0msorted\u001b[0m\u001b[0;34m(\u001b[0m\u001b[0mi\u001b[0m\u001b[0;34m)\u001b[0m\u001b[0;34m]\u001b[0m\u001b[0;34m=\u001b[0m\u001b[0mi\u001b[0m\u001b[0;34m\u001b[0m\u001b[0;34m\u001b[0m\u001b[0m\n\u001b[0m\u001b[1;32m      7\u001b[0m \u001b[0;34m\u001b[0m\u001b[0m\n\u001b[1;32m      8\u001b[0m     \u001b[0;32mreturn\u001b[0m \u001b[0md\u001b[0m\u001b[0;34m\u001b[0m\u001b[0;34m\u001b[0m\u001b[0m\n",
      "\u001b[0;31mTypeError\u001b[0m: unhashable type: 'list'"
     ]
    }
   ],
   "source": [
    "groupAnagrams([\"eat\", \"tea\", \"tan\", \"ate\", \"nat\", \"bat\"])"
   ]
  },
  {
   "cell_type": "code",
   "execution_count": 70,
   "metadata": {},
   "outputs": [],
   "source": [
    "from itertools import groupby\n",
    "def groupAnagrams(strs):\n",
    "    res=[]\n",
    "    for (i, j) in groupby(sorted(strs, key=sorted), key=sorted):\n",
    "        res.append(list(j))\n",
    "    return res"
   ]
  },
  {
   "cell_type": "code",
   "execution_count": 71,
   "metadata": {},
   "outputs": [
    {
     "data": {
      "text/plain": [
       "[['bat'], ['eat', 'tea', 'ate'], ['tan', 'nat']]"
      ]
     },
     "execution_count": 71,
     "metadata": {},
     "output_type": "execute_result"
    }
   ],
   "source": [
    "groupAnagrams([\"eat\", \"tea\", \"tan\", \"ate\", \"nat\", \"bat\"])"
   ]
  },
  {
   "cell_type": "code",
   "execution_count": 52,
   "metadata": {},
   "outputs": [
    {
     "data": {
      "text/plain": [
       "['bat', 'eat', 'tea', 'ate', 'tan', 'nat']"
      ]
     },
     "execution_count": 52,
     "metadata": {},
     "output_type": "execute_result"
    }
   ],
   "source": [
    "d=[\"eat\", \"tea\", \"tan\", \"ate\", \"nat\", \"bat\"]\n",
    "sorted(d, key=sorted)"
   ]
  },
  {
   "cell_type": "code",
   "execution_count": 69,
   "metadata": {},
   "outputs": [
    {
     "name": "stdout",
     "output_type": "stream",
     "text": [
      "['bat']\n",
      "['eat', 'tea', 'ate']\n",
      "['tan', 'nat']\n"
     ]
    }
   ],
   "source": [
    "d=[\"eat\", \"tea\", \"tan\", \"ate\", \"nat\", \"bat\"]\n",
    "for (i, j) in groupby(sorted(d, key=sorted), key=sorted):\n",
    "    print(list(j))"
   ]
  },
  {
   "cell_type": "code",
   "execution_count": 106,
   "metadata": {},
   "outputs": [],
   "source": [
    "Trial versions of anagram question\n",
    "from collections import defaultdict\n",
    "import itertools\n",
    "def anagram_substring(s):\n",
    "    substr = set([])\n",
    "    anagrams = defaultdict(list)\n",
    "\n",
    "    for i in range(len(s)):\n",
    "        for j in range(i + 1, len(s)+ 1):\n",
    "#             print(tuple(s[i:j]))\n",
    "            substr.add(tuple(s[i:j]))\n",
    "# #     print(substr_list)\n",
    "\n",
    "    for sub in substr:\n",
    "        anagrams[''.join(sorted(sub))].append(sub)\n",
    "        \n",
    "    return [values for key, values in anagrams.items()]\n"
   ]
  },
  {
   "cell_type": "code",
   "execution_count": 107,
   "metadata": {},
   "outputs": [
    {
     "data": {
      "text/plain": [
       "[[('tea', 'tan', 'ate', 'nat')],\n",
       " [('eat', 'tea', 'tan')],\n",
       " [('tan', 'ate', 'nat')],\n",
       " [('ate', 'nat')],\n",
       " [('bat',)],\n",
       " [('ate',)],\n",
       " [('eat', 'tea')],\n",
       " [('nat',)],\n",
       " [('ate', 'nat', 'bat')],\n",
       " [('tea', 'tan', 'ate', 'nat', 'bat')],\n",
       " [('tan', 'ate')],\n",
       " [('tea', 'tan')],\n",
       " [('tea', 'tan', 'ate')],\n",
       " [('tan',)],\n",
       " [('tan', 'ate', 'nat', 'bat')],\n",
       " [('eat', 'tea', 'tan', 'ate')],\n",
       " [('tea',)],\n",
       " [('eat',)],\n",
       " [('eat', 'tea', 'tan', 'ate', 'nat')],\n",
       " [('eat', 'tea', 'tan', 'ate', 'nat', 'bat')],\n",
       " [('nat', 'bat')]]"
      ]
     },
     "execution_count": 107,
     "metadata": {},
     "output_type": "execute_result"
    }
   ],
   "source": [
    "anagram_substring([\"eat\", \"tea\", \"tan\", \"ate\", \"nat\", \"bat\"])"
   ]
  },
  {
   "cell_type": "code",
   "execution_count": 149,
   "metadata": {},
   "outputs": [],
   "source": [
    "Leetcode submission\n",
    "def anagram_substring(s):\n",
    "    hash_dict={}\n",
    "    for i in range(len(s)):\n",
    "        sorted_str=\"\".join(sorted(s[i]))\n",
    "        val=hash_dict.get(sorted_str, [])\n",
    "        val.append(s[i])\n",
    "        hash_dict[sorted_str]=val\n",
    "    return hash_dict.values()"
   ]
  },
  {
   "cell_type": "code",
   "execution_count": 150,
   "metadata": {},
   "outputs": [
    {
     "data": {
      "text/plain": [
       "dict_values([['eat', 'tea', 'ate'], ['tan', 'nat'], ['bat']])"
      ]
     },
     "execution_count": 150,
     "metadata": {},
     "output_type": "execute_result"
    }
   ],
   "source": [
    "anagram_substring([\"eat\", \"tea\", \"tan\", \"ate\", \"nat\", \"bat\"])"
   ]
  },
  {
   "cell_type": "code",
   "execution_count": 153,
   "metadata": {},
   "outputs": [],
   "source": [
    "# \n",
    "\n",
    "def twoSum(nums, target):\n",
    "    for i in range(len(nums)-1):\n",
    "        \n",
    "        if i==0:\n",
    "            if nums[i]+nums[i+1]==target:\n",
    "                return [i, i+1]\n",
    "            \n",
    "            elif nums[i]+nums[-1]==target:\n",
    "                return [i, len(nums)-1]\n",
    "            \n",
    "            \n",
    "        elif nums[i]+nums[i+1]==target:\n",
    "            return [i, i+1]\n",
    "       \n",
    "\n",
    "        \n",
    "    "
   ]
  },
  {
   "cell_type": "code",
   "execution_count": 154,
   "metadata": {},
   "outputs": [
    {
     "data": {
      "text/plain": [
       "[0, 1]"
      ]
     },
     "execution_count": 154,
     "metadata": {},
     "output_type": "execute_result"
    }
   ],
   "source": [
    "twoSum([2, 7, 11, 15], 9)"
   ]
  },
  {
   "cell_type": "code",
   "execution_count": 189,
   "metadata": {},
   "outputs": [],
   "source": [
    "the key to the solution is to think that to add nums[i] as keys to the dictionary, otherwise you will run into a problem\n",
    "of never finding the value you looking for\n",
    "\n",
    "def twoSum1(nums, target):\n",
    "    d={}\n",
    "    \n",
    "    for i in range(len(nums)):\n",
    "        \n",
    "        sub_num=target-nums[i]\n",
    "\n",
    "   \n",
    "        if sub_num in d:\n",
    "            return [d[sub_num], i]\n",
    "\n",
    "        else:\n",
    "            d[nums[i]]=i\n",
    "        \n",
    "\n",
    "Runtime: 56 ms, faster than 87.61% of Python3 online submissions for Two Sum.\n",
    "Memory Usage: 14.8 MB, less than 14.18% of Python3 online submissions for Two Sum."
   ]
  },
  {
   "cell_type": "code",
   "execution_count": 190,
   "metadata": {},
   "outputs": [
    {
     "data": {
      "text/plain": [
       "[0, 1]"
      ]
     },
     "execution_count": 190,
     "metadata": {},
     "output_type": "execute_result"
    }
   ],
   "source": [
    "twoSum1([2, 7, 11, 15], 9)"
   ]
  }
 ],
 "metadata": {
  "kernelspec": {
   "display_name": "Python 3",
   "language": "python",
   "name": "python3"
  },
  "language_info": {
   "codemirror_mode": {
    "name": "ipython",
    "version": 3
   },
   "file_extension": ".py",
   "mimetype": "text/x-python",
   "name": "python",
   "nbconvert_exporter": "python",
   "pygments_lexer": "ipython3",
   "version": "3.7.4"
  }
 },
 "nbformat": 4,
 "nbformat_minor": 2
}
