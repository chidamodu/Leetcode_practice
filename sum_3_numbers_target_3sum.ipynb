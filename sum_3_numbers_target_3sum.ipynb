{
 "cells": [
  {
   "cell_type": "code",
   "execution_count": 2,
   "metadata": {
    "collapsed": true
   },
   "outputs": [],
   "source": [
    "Given an array nums of n integers and an integer target, find three integers in nums such that the sum is closest to target. Return the sum of the three integers. You may assume that each input would have exactly one solution.\n",
    "Example:\n",
    "Given array nums = [-1, 2, 1, -4], and target = 1.\n",
    "The sum that is closest to the target is 2. (-1 + 2 + 1 = 2)\n",
    "\n",
    "# pseudo:\n",
    "# get the combination of three numbers from the input array\n",
    "# find the sum\n",
    "# subtract the sum from the num and that gives the number of integers farthest from the target if that combination is chosen\n",
    "# find the minimum of the subtracted values and return the appropriate sum value\n"
   ]
  },
  {
   "cell_type": "code",
   "execution_count": 4,
   "metadata": {},
   "outputs": [],
   "source": [
    "class Solution:\n",
    "    # @return an integer\n",
    "    def threeSumClosest(self, num, target):\n",
    "        num.sort()\n",
    "        mindiff=100000\n",
    "        res=0\n",
    "        for i in range(len(num)):\n",
    "            left=i+1; right=len(num)-1\n",
    "            while left<right:\n",
    "                sum=num[i]+num[left]+num[right]\n",
    "                diff=abs(sum-target)\n",
    "                if diff<mindiff: mindiff=diff; res=sum\n",
    "                if sum==target: return sum\n",
    "                elif sum<target: left+=1\n",
    "                else: right-=1\n",
    "        return res"
   ]
  },
  {
   "cell_type": "code",
   "execution_count": 5,
   "metadata": {
    "collapsed": true
   },
   "outputs": [],
   "source": [
    "noma=Solution()"
   ]
  },
  {
   "cell_type": "code",
   "execution_count": 6,
   "metadata": {},
   "outputs": [
    {
     "data": {
      "text/plain": [
       "2"
      ]
     },
     "execution_count": 6,
     "metadata": {},
     "output_type": "execute_result"
    }
   ],
   "source": [
    "noma.threeSumClosest([1,1,1,0], -100)"
   ]
  }
 ],
 "metadata": {
  "kernelspec": {
   "display_name": "Python [conda root]",
   "language": "python",
   "name": "conda-root-py"
  },
  "language_info": {
   "codemirror_mode": {
    "name": "ipython",
    "version": 3
   },
   "file_extension": ".py",
   "mimetype": "text/x-python",
   "name": "python",
   "nbconvert_exporter": "python",
   "pygments_lexer": "ipython3",
   "version": "3.5.4"
  }
 },
 "nbformat": 4,
 "nbformat_minor": 2
}
