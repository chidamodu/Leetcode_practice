{
 "cells": [
  {
   "cell_type": "code",
   "execution_count": 17,
   "metadata": {},
   "outputs": [],
   "source": [
    "# 6.17 - 33\n",
    "correct solution but the question asks for altering the list in place and therefore no extra array space should be allocated\n",
    "def drop_duplicate(l):\n",
    "    d={}\n",
    "    for item in l:\n",
    "        d[item]=d.get(item, 0)+1    \n",
    "    for k, v in d.items():\n",
    "        while d[k]!=1:\n",
    "            d[k]-=1\n",
    "    return len(d)"
   ]
  },
  {
   "cell_type": "code",
   "execution_count": 18,
   "metadata": {},
   "outputs": [
    {
     "data": {
      "text/plain": [
       "2"
      ]
     },
     "execution_count": 18,
     "metadata": {},
     "output_type": "execute_result"
    }
   ],
   "source": [
    "drop_duplicate([1,1,2])"
   ]
  },
  {
   "cell_type": "code",
   "execution_count": 31,
   "metadata": {},
   "outputs": [
    {
     "name": "stdout",
     "output_type": "stream",
     "text": [
      "[0, 0, 1, 1, 2, 2, 3, 3, 4]\n",
      "[0, 0, 1, 1, 2, 2, 3, 3, 4]\n",
      "[0, 0, 1, 1, 2, 2, 3, 3, 4]\n",
      "[0, 0, 1, 1, 2, 2, 3, 3, 4]\n",
      "[0, 0, 1, 1, 2, 2, 3, 3, 4]\n",
      "[0, 0, 1, 1, 2, 2, 3, 3, 4]\n",
      "[0, 0, 1, 1, 2, 2, 3, 3, 4]\n",
      "[0, 0, 1, 1, 2, 2, 3, 3, 4]\n",
      "[0, 0, 1, 1, 2, 2, 3, 3, 4]\n",
      "[0, 0, 1, 1, 2, 2, 3, 3, 4]\n"
     ]
    }
   ],
   "source": [
    "l=[0,0,1,1,1,2,2,3,3,4]\n",
    "previous=0\n",
    "last=len(l)-1\n",
    "for keg in l[::-1]:\n",
    "    while previous  l.index(keg):\n",
    "        if keg==l[previous]:\n",
    "            l.pop(keg)\n",
    "        else:\n",
    "            previous+=1\n",
    "    \n",
    "    print(l)"
   ]
  },
  {
   "cell_type": "code",
   "execution_count": 41,
   "metadata": {},
   "outputs": [
    {
     "name": "stdout",
     "output_type": "stream",
     "text": [
      "[0, 0, 1, 1, 1, 2, 2, 3, 3, 4]\n",
      "[0, 1, 1, 1, 2, 2, 3, 3, 4]\n"
     ]
    },
    {
     "data": {
      "text/plain": [
       "[0, 1, 1, 1, 2, 2, 3, 3, 4]"
      ]
     },
     "execution_count": 41,
     "metadata": {},
     "output_type": "execute_result"
    }
   ],
   "source": [
    "l=[0,0,1,1,1,2,2,3,3,4]\n",
    "previous=0\n",
    "last=len(l)-1\n",
    "for item in range(len(l)):\n",
    "    while item<last:\n",
    "        if l[item]==l[last]:\n",
    "            print(l)\n",
    "            l.pop(l[last])\n",
    "            print(l)\n",
    "            item+=1\n",
    "        else:\n",
    "            last-=1\n",
    "l"
   ]
  },
  {
   "cell_type": "code",
   "execution_count": 67,
   "metadata": {},
   "outputs": [],
   "source": [
    "Correct solution\n",
    "def remove_duplicate(l):\n",
    "    for item in range(len(l)-1, 0, -1):\n",
    "        if l[item]==l[item-1]:\n",
    "            del l[item]\n",
    "    return len(l)"
   ]
  },
  {
   "cell_type": "code",
   "execution_count": 68,
   "metadata": {},
   "outputs": [
    {
     "data": {
      "text/plain": [
       "5"
      ]
     },
     "execution_count": 68,
     "metadata": {},
     "output_type": "execute_result"
    }
   ],
   "source": [
    "remove_duplicate([0,0,1,1,1,2,2,3,3,4])"
   ]
  },
  {
   "cell_type": "code",
   "execution_count": 64,
   "metadata": {},
   "outputs": [
    {
     "name": "stdout",
     "output_type": "stream",
     "text": [
      "9\n",
      "8\n",
      "7\n",
      "6\n",
      "5\n",
      "4\n",
      "3\n",
      "2\n",
      "1\n"
     ]
    }
   ],
   "source": [
    "l=[0,0,1,1,1,2,2,3,3,4]\n",
    "for item in range(len(l)-1, 0, -1):\n",
    "    print(item)"
   ]
  },
  {
   "cell_type": "code",
   "execution_count": 63,
   "metadata": {},
   "outputs": [
    {
     "name": "stdout",
     "output_type": "stream",
     "text": [
      "9\n",
      "8\n",
      "7\n",
      "6\n",
      "5\n",
      "4\n",
      "3\n",
      "2\n",
      "1\n"
     ]
    }
   ],
   "source": [
    "for i in range(len(l)-1, 0, -1):\n",
    "    print(i)"
   ]
  },
  {
   "cell_type": "code",
   "execution_count": 72,
   "metadata": {},
   "outputs": [],
   "source": [
    "Leetcode submission\n",
    "# class Solution:\n",
    "#     def removeDuplicates(self, nums: List[int]) -> int:\n",
    "#         for item in range(len(nums)-1, 0, -1):\n",
    "#             if nums[item]==nums[item-1]:\n",
    "#                 del nums[item]\n",
    "#         return len(nums)\n",
    "        "
   ]
  }
 ],
 "metadata": {
  "kernelspec": {
   "display_name": "Python 3",
   "language": "python",
   "name": "python3"
  },
  "language_info": {
   "codemirror_mode": {
    "name": "ipython",
    "version": 3
   },
   "file_extension": ".py",
   "mimetype": "text/x-python",
   "name": "python",
   "nbconvert_exporter": "python",
   "pygments_lexer": "ipython3",
   "version": "3.7.4"
  }
 },
 "nbformat": 4,
 "nbformat_minor": 2
}
