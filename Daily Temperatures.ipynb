{
 "cells": [
  {
   "cell_type": "code",
   "execution_count": null,
   "metadata": {},
   "outputs": [],
   "source": [
    "For example, given the list of temperatures T = [73, 74, 75, 71, 69, 72, 76, 73], \n",
    "your output should be [1, 1, 4, 2, 1, 1, 0, 0].\n",
    "\n"
   ]
  },
  {
   "cell_type": "code",
   "execution_count": 5,
   "metadata": {},
   "outputs": [],
   "source": [
    "def dailyTemperatures(T):\n",
    "    current=0\n",
    "    next_elem=current+1\n",
    "    diff=0\n",
    "    result=[]\n",
    "    for i in range(len(T)-1):\n",
    "        while T[next_elem]< T[current]:\n",
    "            next_elem+=1\n",
    "        diff=next_elem-current\n",
    "        result.append(diff)\n",
    "        current+=1\n",
    "        \n",
    "    return result\n",
    "            \n",
    "        \n",
    "\n",
    "            "
   ]
  },
  {
   "cell_type": "code",
   "execution_count": 6,
   "metadata": {},
   "outputs": [
    {
     "data": {
      "text/plain": [
       "[1, 0, 0, -1, -2, -3, 0]"
      ]
     },
     "execution_count": 6,
     "metadata": {},
     "output_type": "execute_result"
    }
   ],
   "source": [
    "dailyTemperatures([73, 74, 75, 71, 69, 72, 76, 73])"
   ]
  },
  {
   "cell_type": "code",
   "execution_count": 19,
   "metadata": {},
   "outputs": [],
   "source": [
    "def dailyTemperatures(T):\n",
    "\n",
    "    \n",
    "    diff=[]\n",
    "    result=[]\n",
    "    for i in range(len(T)-1):\n",
    "        current=i\n",
    "        while (current+1)<len(T) and T[current+1]<T[i]:\n",
    "            current+=1\n",
    "            \n",
    "        \n",
    "        diff.append(current+1-i)\n",
    "        \n",
    "    return diff\n",
    "        "
   ]
  },
  {
   "cell_type": "code",
   "execution_count": 20,
   "metadata": {},
   "outputs": [
    {
     "data": {
      "text/plain": [
       "[1, 1, 4, 2, 1, 1, 2]"
      ]
     },
     "execution_count": 20,
     "metadata": {},
     "output_type": "execute_result"
    }
   ],
   "source": [
    "dailyTemperatures([73, 74, 75, 71, 69, 72, 76, 73])"
   ]
  },
  {
   "cell_type": "code",
   "execution_count": 29,
   "metadata": {},
   "outputs": [],
   "source": [
    "def dailyTemperatures(T):\n",
    "    diff=[]\n",
    "    for i in range(len(T)-1):\n",
    "        current=i\n",
    "        next_elem=current+1\n",
    "        if T[next_elem]>T[current]:\n",
    "            diff.append(next_elem-current)\n",
    "        else:\n",
    "            diff.append(0)\n",
    "            \n",
    "    return diff"
   ]
  },
  {
   "cell_type": "markdown",
   "metadata": {},
   "source": [
    "dailyTemperatures([73, 74, 75, 71, 69, 72, 76, 73])"
   ]
  },
  {
   "cell_type": "code",
   "execution_count": 38,
   "metadata": {},
   "outputs": [],
   "source": [
    "def dailyTemperatures(T):\n",
    "    diff=[]\n",
    "    for i in range(len(T)-1):\n",
    "        current=i\n",
    "        next_elem=current+1\n",
    "        while next_elem<len(T)-1 and T[next_elem]<T[current]:\n",
    "            next_elem+=1\n",
    "        \n",
    "        if T[next_elem]>T[current]:\n",
    "            diff.append(next_elem-current)\n",
    "        else:\n",
    "            diff.append(0)\n",
    "            \n",
    "    diff.append(0)\n",
    "        \n",
    "\n",
    "    return diff"
   ]
  },
  {
   "cell_type": "code",
   "execution_count": 39,
   "metadata": {},
   "outputs": [
    {
     "data": {
      "text/plain": [
       "[8, 1, 5, 4, 0, 2, 1, 1, 0, 0]"
      ]
     },
     "execution_count": 39,
     "metadata": {},
     "output_type": "execute_result"
    }
   ],
   "source": [
    "dailyTemperatures([89,62,70,58,47,47,46,76,100,70])"
   ]
  },
  {
   "cell_type": "code",
   "execution_count": 50,
   "metadata": {},
   "outputs": [],
   "source": [
    "This solution worked and this is what I submitted on Leetcode\n",
    "def dailyTemperatures(T):\n",
    "    result, stack=[0]*len(T), []\n",
    "    \n",
    "    for i in range(len(T)):\n",
    "        while stack and T[stack[-1]]<T[i]:\n",
    "            result[stack.pop()]=i-stack[-1]\n",
    "        stack.append(i)\n",
    "        \n",
    "    return result\n",
    "\n",
    "Runtime: 488 ms, faster than 80.95% of Python3 online submissions for Daily Temperatures.\n",
    "Memory Usage: 16.3 MB, less than 100.00% of Python3 online submissions for Daily Temperatures.\n"
   ]
  },
  {
   "cell_type": "code",
   "execution_count": 51,
   "metadata": {},
   "outputs": [
    {
     "data": {
      "text/plain": [
       "[1, 1, 4, 2, 1, 1, 0, 0]"
      ]
     },
     "execution_count": 51,
     "metadata": {},
     "output_type": "execute_result"
    }
   ],
   "source": [
    "dailyTemperatures([73, 74, 75, 71, 69, 72, 76, 73])"
   ]
  },
  {
   "cell_type": "code",
   "execution_count": 52,
   "metadata": {},
   "outputs": [
    {
     "name": "stdout",
     "output_type": "stream",
     "text": [
      "6\n",
      "5\n",
      "4\n",
      "3\n",
      "2\n",
      "1\n",
      "0\n"
     ]
    }
   ],
   "source": [
    "for i in range(8-2, -1, -1):\n",
    "    print(i)"
   ]
  },
  {
   "cell_type": "code",
   "execution_count": 59,
   "metadata": {},
   "outputs": [],
   "source": [
    "#Now I ought to try the Dynamic Programming way\n",
    "def dailyTemperatures(T):\n",
    "    N=len(T)\n",
    "    result=[0]*N\n",
    "    for i in range(N-2, -1, -1):\n",
    "        if T[i]<T[i+1]:\n",
    "            result[i]=1\n",
    "        else:\n",
    "            j=i+1\n",
    "            nolarger=False\n",
    "            while j<N and T[i]>=T[j]:\n",
    "                if result[j]==0 or j==N-1:\n",
    "                    nolarger=True\n",
    "                    break\n",
    "                \n",
    "                j+=result[j]\n",
    "                    \n",
    "            result[i]=0 if nolarger else j-i\n",
    "            \n",
    "    return result\n",
    "            \n",
    "    \n",
    "Runtime: 488 ms, faster than 80.95% of Python3 online submissions for Daily Temperatures.\n",
    "Memory Usage: 16.4 MB, less than 100.00% of Python3 online submissions for Daily Temperatures."
   ]
  },
  {
   "cell_type": "code",
   "execution_count": 60,
   "metadata": {},
   "outputs": [
    {
     "data": {
      "text/plain": [
       "[1, 1, 4, 2, 1, 1, 0, 0]"
      ]
     },
     "execution_count": 60,
     "metadata": {},
     "output_type": "execute_result"
    }
   ],
   "source": [
    "dailyTemperatures([73, 74, 75, 71, 69, 72, 76, 73])"
   ]
  }
 ],
 "metadata": {
  "kernelspec": {
   "display_name": "Python 3",
   "language": "python",
   "name": "python3"
  },
  "language_info": {
   "codemirror_mode": {
    "name": "ipython",
    "version": 3
   },
   "file_extension": ".py",
   "mimetype": "text/x-python",
   "name": "python",
   "nbconvert_exporter": "python",
   "pygments_lexer": "ipython3",
   "version": "3.7.4"
  }
 },
 "nbformat": 4,
 "nbformat_minor": 2
}
