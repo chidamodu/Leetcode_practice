{
 "cells": [
  {
   "cell_type": "code",
   "execution_count": 13,
   "metadata": {},
   "outputs": [],
   "source": [
    "def sherlockAndAnagrams(s):\n",
    "    d={}\n",
    "    stop=len(s)-1\n",
    "    for i in range(len(s)):\n",
    "        while stop>i:\n",
    "            if s[i]==s[stop]:\n",
    "                d[tuple([s[i], s[stop]])]=d.get(tuple([s[i], s[stop]]), 0)+1\n",
    "                stop-=1\n",
    "            else:\n",
    "                continue\n",
    "            \n",
    "            \n",
    "    return d"
   ]
  },
  {
   "cell_type": "code",
   "execution_count": 14,
   "metadata": {},
   "outputs": [
    {
     "data": {
      "text/plain": [
       "{('k', 'k'): 3}"
      ]
     },
     "execution_count": 14,
     "metadata": {},
     "output_type": "execute_result"
    }
   ],
   "source": [
    "sherlockAndAnagrams('kkkk')"
   ]
  },
  {
   "cell_type": "code",
   "execution_count": 15,
   "metadata": {},
   "outputs": [],
   "source": [
    "def sherlockAndAnagrams(s):\n",
    "    d={}\n",
    "\n",
    "    for i in range(len(s)-1):\n",
    "        next=i+1\n",
    "        while next < len(s)-1:\n",
    "            if s[i]==s[next]:\n",
    "                d[tuple([s[i], s[next]])]=d.get(tuple([s[i], s[next]]), 0)+1\n",
    "                next+=1\n",
    "            \n",
    "            \n",
    "    return d"
   ]
  },
  {
   "cell_type": "code",
   "execution_count": 16,
   "metadata": {},
   "outputs": [
    {
     "data": {
      "text/plain": [
       "{('k', 'k'): 3}"
      ]
     },
     "execution_count": 16,
     "metadata": {},
     "output_type": "execute_result"
    }
   ],
   "source": [
    "sherlockAndAnagrams('kkkk')"
   ]
  },
  {
   "cell_type": "code",
   "execution_count": 29,
   "metadata": {},
   "outputs": [],
   "source": [
    "def sherlockAndAnagrams(s):\n",
    "    for i in range(len(s)):\n",
    "        if s[i] in s[i:]:\n",
    "            print(s[i], s.index(s[i]))"
   ]
  },
  {
   "cell_type": "code",
   "execution_count": 30,
   "metadata": {},
   "outputs": [
    {
     "name": "stdout",
     "output_type": "stream",
     "text": [
      "i 0\n",
      "f 1\n",
      "a 2\n",
      "i 0\n",
      "l 4\n",
      "u 5\n",
      "h 6\n",
      "k 7\n",
      "q 8\n",
      "q 8\n"
     ]
    }
   ],
   "source": [
    "sherlockAndAnagrams('ifailuhkqq')"
   ]
  },
  {
   "cell_type": "code",
   "execution_count": 35,
   "metadata": {},
   "outputs": [],
   "source": [
    "def sherlockAndAnagrams(s):\n",
    "    s = s.strip()\n",
    "    anag = 0\n",
    "    d = {}\n",
    "    for i in range(len(s)):\n",
    "        for j in range(len(s) - i):\n",
    "            s1 = ''.join(sorted(s[j:j + i + 1]))\n",
    "            d[s1] = d.get(s1, 0) + 1\n",
    "            \n",
    "    print(d)\n",
    "    for key in d:\n",
    "        anag += (d[key] - 1) * d[key] // 2\n",
    "    \n",
    "    return anag"
   ]
  },
  {
   "cell_type": "code",
   "execution_count": 36,
   "metadata": {},
   "outputs": [
    {
     "name": "stdout",
     "output_type": "stream",
     "text": [
      "{'k': 4, 'kk': 3, 'kkk': 2, 'kkkk': 1}\n",
      "10\n"
     ]
    }
   ],
   "source": [
    "sherlockAndAnagrams('kkkk')"
   ]
  }
 ],
 "metadata": {
  "kernelspec": {
   "display_name": "Python 3",
   "language": "python",
   "name": "python3"
  },
  "language_info": {
   "codemirror_mode": {
    "name": "ipython",
    "version": 3
   },
   "file_extension": ".py",
   "mimetype": "text/x-python",
   "name": "python",
   "nbconvert_exporter": "python",
   "pygments_lexer": "ipython3",
   "version": "3.7.4"
  }
 },
 "nbformat": 4,
 "nbformat_minor": 2
}
