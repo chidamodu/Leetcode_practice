{
 "cells": [
  {
   "cell_type": "code",
   "execution_count": 11,
   "metadata": {},
   "outputs": [],
   "source": [
    "#4.15\n",
    "def intersection_arrays(nums1, nums2):\n",
    "    d1={}\n",
    "    d2={}\n",
    "    result=[]\n",
    "    for i in range(len(nums1)):\n",
    "        d1[nums1[i]]=d1.get(nums1[i], 0)+1\n",
    "        \n",
    "    for i in range(len(nums2)):\n",
    "        d2[nums2[i]]=d2.get(nums2[i], 0)+1\n",
    "        \n",
    "    for key, value in d1.items():\n",
    "        if key in d2:\n",
    "            for i in range(min(d1[key], d2[key])):\n",
    "                result.append(key)\n",
    "                \n",
    "    return result"
   ]
  },
  {
   "cell_type": "code",
   "execution_count": 12,
   "metadata": {},
   "outputs": [
    {
     "data": {
      "text/plain": [
       "[2, 2]"
      ]
     },
     "execution_count": 12,
     "metadata": {},
     "output_type": "execute_result"
    }
   ],
   "source": [
    "intersection_arrays([1,2,2,1], [2,2])"
   ]
  },
  {
   "cell_type": "code",
   "execution_count": null,
   "metadata": {},
   "outputs": [],
   "source": [
    "Runtime: 60 ms, faster than 43.43% of Python3 online submissions for Intersection of Two Arrays II.\n",
    "Memory Usage: 13.9 MB, less than 5.72% of Python3 online submissions for Intersection of Two Arrays II.\n",
    "\n",
    "    \n",
    "Leetcode submission:\n",
    "\n",
    "class Solution:\n",
    "    def intersect(self, nums1: List[int], nums2: List[int]) -> List[int]:\n",
    "        d1={}\n",
    "        d2={}\n",
    "        result=[]\n",
    "        for i in range(len(nums1)):\n",
    "            d1[nums1[i]]=d1.get(nums1[i], 0)+1\n",
    "        \n",
    "        for i in range(len(nums2)):\n",
    "            d2[nums2[i]]=d2.get(nums2[i], 0)+1\n",
    "        \n",
    "        for key, value in d1.items():\n",
    "            if key in d2:\n",
    "                for i in range(min(d1[key], d2[key])):\n",
    "                    result.append(key)\n",
    "                \n",
    "        return result\n",
    "        "
   ]
  },
  {
   "cell_type": "code",
   "execution_count": null,
   "metadata": {},
   "outputs": [],
   "source": [
    "class Solution:\n",
    "    def intersect(self, nums1: List[int], nums2: List[int]) -> List[int]:\n",
    "        d1={}\n",
    "        d2={}\n",
    "        result=[]\n",
    "        for i in range(len(nums1)):\n",
    "            d1[nums1[i]]=d1.get(nums1[i], 0)+1\n",
    "        \n",
    "        for i in range(len(nums2)):\n",
    "            d2[nums2[i]]=d2.get(nums2[i], 0)+1\n",
    "        \n",
    "        for key, value in d1.items():\n",
    "            if key in d2:\n",
    "                result+=[key] * (min(d1[key], d2[key]))\n",
    "                \n",
    "        return result\n",
    "    \n",
    "    \n",
    "this solution here was faster: what changed in this solution? instead of looping for the min val, appended the key to \n",
    "a list and multiplied that with the min value, because: [4]*2 = [4,4] Voila!\n",
    "\n",
    "Runtime: 52 ms, faster than 91.55% of Python3 online submissions for Intersection of Two Arrays II.\n",
    "Memory Usage: 14.1 MB, less than 5.72% of Python3 online submissions for Intersection of Two Arrays II.\n"
   ]
  },
  {
   "cell_type": "code",
   "execution_count": 13,
   "metadata": {},
   "outputs": [
    {
     "data": {
      "text/plain": [
       "[4, 4]"
      ]
     },
     "execution_count": 13,
     "metadata": {},
     "output_type": "execute_result"
    }
   ],
   "source": [
    "[4]*2"
   ]
  }
 ],
 "metadata": {
  "kernelspec": {
   "display_name": "Python 3",
   "language": "python",
   "name": "python3"
  },
  "language_info": {
   "codemirror_mode": {
    "name": "ipython",
    "version": 3
   },
   "file_extension": ".py",
   "mimetype": "text/x-python",
   "name": "python",
   "nbconvert_exporter": "python",
   "pygments_lexer": "ipython3",
   "version": "3.7.4"
  }
 },
 "nbformat": 4,
 "nbformat_minor": 2
}
