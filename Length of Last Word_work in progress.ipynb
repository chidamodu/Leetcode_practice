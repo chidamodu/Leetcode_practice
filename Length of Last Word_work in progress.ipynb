{
 "cells": [
  {
   "cell_type": "code",
   "execution_count": 6,
   "metadata": {},
   "outputs": [
    {
     "name": "stdout",
     "output_type": "stream",
     "text": [
      "H\n",
      "ello\n",
      "World\n"
     ]
    }
   ],
   "source": [
    "S=\"H ello World\"\n",
    "\n",
    "for i in S.split(' '):\n",
    "    print(i)"
   ]
  },
  {
   "cell_type": "code",
   "execution_count": 24,
   "metadata": {},
   "outputs": [
    {
     "name": "stdout",
     "output_type": "stream",
     "text": [
      "yes\n",
      "1\n",
      "1\n",
      "yes\n",
      "1\n"
     ]
    }
   ],
   "source": [
    "trial with variable but did give error\n",
    "S=\"H ello World\"\n",
    "ind=0\n",
    "for i in range(len(S)):\n",
    "    if S[i]==\" \":\n",
    "        print(\"yes\")\n",
    "        print(S.index(S[i]))\n",
    "        if int(S.index(S[i]))>ind:\n",
    "            \n",
    "            ind=int(S.index(S[i]))\n",
    "            print(ind)\n",
    "            \n",
    "        else:\n",
    "            continue\n",
    "# if S[ind:]:\n",
    "#     print(len(S[ind:]))\n",
    "    \n",
    "# else:\n",
    "#     print(0)\n",
    "        \n",
    "            "
   ]
  },
  {
   "cell_type": "code",
   "execution_count": 28,
   "metadata": {},
   "outputs": [
    {
     "data": {
      "text/plain": [
       "defaultdict(list, {' ': [1, 1]})"
      ]
     },
     "execution_count": 28,
     "metadata": {},
     "output_type": "execute_result"
    }
   ],
   "source": [
    "S=\"H ello World\"\n",
    "from collections import defaultdict\n",
    "ind=defaultdict(list)\n",
    "for i in range(len(S)):\n",
    "    if S[i]==\" \":\n",
    "        ind[S[i]].append(S.index(S[i]))\n",
    "    \n",
    "ind"
   ]
  },
  {
   "cell_type": "code",
   "execution_count": 29,
   "metadata": {},
   "outputs": [
    {
     "data": {
      "text/plain": [
       "[(0, 'H'),\n",
       " (1, ' '),\n",
       " (2, 'e'),\n",
       " (3, 'l'),\n",
       " (4, 'l'),\n",
       " (5, 'o'),\n",
       " (6, ' '),\n",
       " (7, 'W'),\n",
       " (8, 'o'),\n",
       " (9, 'r'),\n",
       " (10, 'l'),\n",
       " (11, 'd')]"
      ]
     },
     "execution_count": 29,
     "metadata": {},
     "output_type": "execute_result"
    }
   ],
   "source": [
    "S=\"H ello World\"\n",
    "list(enumerate(S))"
   ]
  },
  {
   "cell_type": "code",
   "execution_count": 68,
   "metadata": {},
   "outputs": [
    {
     "data": {
      "text/plain": [
       "[[1, 6]]"
      ]
     },
     "execution_count": 68,
     "metadata": {},
     "output_type": "execute_result"
    }
   ],
   "source": [
    "trial with dictionary works great\n",
    "S=\"H ello World\"\n",
    "\n",
    "from collections import defaultdict\n",
    "ind=defaultdict(list)\n",
    "for i, j in enumerate(S):\n",
    "    if j==\" \":\n",
    "        ind[j].append(i)\n",
    "        \n",
    "\n",
    "    \n",
    "val=list(ind.values())\n",
    "val\n"
   ]
  },
  {
   "cell_type": "code",
   "execution_count": null,
   "metadata": {},
   "outputs": [],
   "source": [
    "\n",
    "\n",
    "\n",
    "S=\"H ello World\"\n",
    "ind=0\n",
    "for i in range(len(S)):\n",
    "    if S[i]==\" \":\n",
    "        print(\"yes\")\n",
    "        print(S.index(S[i]))\n",
    "        if int(S.index(S[i]))>ind:\n",
    "            \n",
    "            ind=int(S.index(S[i]))\n",
    "            print(ind)\n",
    "            \n",
    "        else:\n",
    "            continue"
   ]
  },
  {
   "cell_type": "code",
   "execution_count": 81,
   "metadata": {},
   "outputs": [],
   "source": [
    "from collections import defaultdict\n",
    "def lengthOfLastWord(S):\n",
    "    ind=defaultdict(list)\n",
    "    for i, j in enumerate(S):\n",
    "        ind[j].append(i)\n",
    "        \n",
    "    if len(ind)>=1:\n",
    "        for k, v in ind.items():\n",
    "            if \" \" not in ind:\n",
    "                return len(S)\n",
    "                \n",
    "            elif k==\" \" in ind:\n",
    "                \n",
    "                return len(S[max(v)+1:])\n",
    "            \n",
    "    else:\n",
    "        return 0\n",
    "            \n",
    "            \n",
    "\n",
    "                \n",
    "    \n",
    "        \n",
    "        \n",
    "    \n",
    "    "
   ]
  },
  {
   "cell_type": "code",
   "execution_count": 82,
   "metadata": {},
   "outputs": [
    {
     "data": {
      "text/plain": [
       "5"
      ]
     },
     "execution_count": 82,
     "metadata": {},
     "output_type": "execute_result"
    }
   ],
   "source": [
    "lengthOfLastWord(\"H ello World\")"
   ]
  },
  {
   "cell_type": "code",
   "execution_count": 134,
   "metadata": {},
   "outputs": [],
   "source": [
    "from collections import defaultdict\n",
    "def lengthOfLastWord(S):\n",
    "    ind=defaultdict(list)\n",
    "    for i, j in enumerate(S):\n",
    "        ind[j].append(i)\n",
    "        \n",
    "    if len(ind)>=1:\n",
    "        if \" \" not in ind:\n",
    "            return len(S)\n",
    "        \n",
    "        \n",
    "        for k, v in ind.items():    \n",
    "            if k==\" \" in ind:                \n",
    "                return S[v[-1]+1:] if S[v[-1]:]!=\" \" else 0\n",
    "            \n",
    "    else:\n",
    "        return 0\n",
    "            \n",
    "            "
   ]
  },
  {
   "cell_type": "code",
   "execution_count": 135,
   "metadata": {},
   "outputs": [
    {
     "data": {
      "text/plain": [
       "'World'"
      ]
     },
     "execution_count": 135,
     "metadata": {},
     "output_type": "execute_result"
    }
   ],
   "source": [
    "lengthOfLastWord(\"Hello World\")"
   ]
  },
  {
   "cell_type": "code",
   "execution_count": 119,
   "metadata": {},
   "outputs": [
    {
     "data": {
      "text/plain": [
       "3"
      ]
     },
     "execution_count": 119,
     "metadata": {},
     "output_type": "execute_result"
    }
   ],
   "source": [
    "len(\"   \")"
   ]
  },
  {
   "cell_type": "code",
   "execution_count": null,
   "metadata": {},
   "outputs": [],
   "source": [
    "accepted, received, congrats!"
   ]
  },
  {
   "cell_type": "code",
   "execution_count": 138,
   "metadata": {},
   "outputs": [
    {
     "data": {
      "text/plain": [
       "0"
      ]
     },
     "execution_count": 138,
     "metadata": {},
     "output_type": "execute_result"
    }
   ],
   "source": [
    "len(\" \".strip())"
   ]
  },
  {
   "cell_type": "code",
   "execution_count": null,
   "metadata": {},
   "outputs": [],
   "source": [
    "This solution is what I have accomplished so far on leetcode: but not working for a few test cases\n",
    "    \n",
    "from collections import defaultdict\n",
    "class Solution:\n",
    "    def lengthOfLastWord(self, s: str) -> int:\n",
    "        ind=defaultdict(list)\n",
    "        for i, j in enumerate(s):\n",
    "            ind[j].append(i)\n",
    "        \n",
    "        if len(ind)>=1:\n",
    "            if \" \" not in ind:\n",
    "                return len(s)\n",
    "        \n",
    "        \n",
    "            for k, v in ind.items():    \n",
    "                if k==\" \" in ind:                \n",
    "                    return len(s[v[-1]+1:]) if s[v[-1]:]!=\" \" else len(s[:v[-1]+1].strip())\n",
    "            \n",
    "        else:\n",
    "            return 0\n",
    "            \n",
    "            \n",
    "        "
   ]
  }
 ],
 "metadata": {
  "kernelspec": {
   "display_name": "Python 3",
   "language": "python",
   "name": "python3"
  },
  "language_info": {
   "codemirror_mode": {
    "name": "ipython",
    "version": 3
   },
   "file_extension": ".py",
   "mimetype": "text/x-python",
   "name": "python",
   "nbconvert_exporter": "python",
   "pygments_lexer": "ipython3",
   "version": "3.7.4"
  }
 },
 "nbformat": 4,
 "nbformat_minor": 2
}
