{
 "cells": [
  {
   "cell_type": "code",
   "execution_count": 8,
   "metadata": {},
   "outputs": [],
   "source": [
    "def climbStairs(n):\n",
    "    dp={}\n",
    "    dp[2]=2\n",
    "    dp[1]=1\n",
    "    for i in range(3, n+1):\n",
    "        dp[i]=dp[i-1]+dp[i-2]\n",
    "        \n",
    "    return dp[n]"
   ]
  },
  {
   "cell_type": "code",
   "execution_count": 9,
   "metadata": {},
   "outputs": [
    {
     "data": {
      "text/plain": [
       "3"
      ]
     },
     "execution_count": 9,
     "metadata": {},
     "output_type": "execute_result"
    }
   ],
   "source": [
    "climbStairs(3)"
   ]
  },
  {
   "cell_type": "code",
   "execution_count": null,
   "metadata": {},
   "outputs": [],
   "source": [
    "Leetcode submission\n",
    "\n",
    "class Solution:\n",
    "    def climbStairs(self, n: int) -> int:\n",
    "        dp={}\n",
    "        dp[2]=2\n",
    "        dp[1]=1\n",
    "        for i in range(3, n+1):\n",
    "            dp[i]=dp[i-1]+dp[i-2]\n",
    "        \n",
    "        return dp[n]\n",
    "    \n",
    "Runtime: 28 ms, faster than 90.99% of Python3 online submissions for Climbing Stairs.\n",
    "Memory Usage: 12.9 MB, less than 98.51% of Python3 online submissions for Climbing Stairs."
   ]
  }
 ],
 "metadata": {
  "kernelspec": {
   "display_name": "Python 3",
   "language": "python",
   "name": "python3"
  },
  "language_info": {
   "codemirror_mode": {
    "name": "ipython",
    "version": 3
   },
   "file_extension": ".py",
   "mimetype": "text/x-python",
   "name": "python",
   "nbconvert_exporter": "python",
   "pygments_lexer": "ipython3",
   "version": "3.7.4"
  }
 },
 "nbformat": 4,
 "nbformat_minor": 2
}
