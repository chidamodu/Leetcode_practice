{
 "cells": [
  {
   "cell_type": "code",
   "execution_count": 39,
   "metadata": {},
   "outputs": [],
   "source": [
    "def encrypt(s):\n",
    "    ans=''\n",
    "    result=[]\n",
    "    for i in range(len(s)):\n",
    "        if i ==0:\n",
    "            result.append((ord(s[i])+1))\n",
    "        else:\n",
    "            result.append((ord(s[i])+result[i-1]))\n",
    "            \n",
    "    for i in range(1, len(result)):\n",
    "        while result[i]>122:\n",
    "              result[i]-=26\n",
    "    \n",
    "    for j in result:\n",
    "        ans+=chr(j)\n",
    "        \n",
    "    return ans"
   ]
  },
  {
   "cell_type": "code",
   "execution_count": 40,
   "metadata": {},
   "outputs": [
    {
     "data": {
      "text/plain": [
       "'dnotq'"
      ]
     },
     "execution_count": 40,
     "metadata": {},
     "output_type": "execute_result"
    }
   ],
   "source": [
    "encrypt('crime')"
   ]
  },
  {
   "cell_type": "code",
   "execution_count": 144,
   "metadata": {},
   "outputs": [],
   "source": [
    "def decrypt(s):\n",
    "    ans=''\n",
    "    m=4\n",
    "    result=[]\n",
    "    answer=[]\n",
    "    for i in range(len(s)):\n",
    "        if i ==0:\n",
    "            result.append((ord(s[i])-1))\n",
    "        else:\n",
    "            result.append(ord(s[i]))\n",
    "       \n",
    "    for i in range(1, len(result)):\n",
    "        while result[i]<122:\n",
    "            result[i]+=(26*m)\n",
    "            m+=4\n",
    "            \n",
    "    \n",
    "#     for i in range(0, len(result)):\n",
    "#         if i ==0:\n",
    "#             continue\n",
    "#         else:\n",
    "#             answer.append((ord(s[i])+result[i-1]))\n",
    "            \n",
    "#             answer.append(((result[i])-result[i-1]))\n",
    "        \n",
    "            \n",
    "    \n",
    "            \n",
    "    \n",
    "            \n",
    "                \n",
    "    print(result)\n",
    "        \n"
   ]
  },
  {
   "cell_type": "code",
   "execution_count": 145,
   "metadata": {},
   "outputs": [
    {
     "name": "stdout",
     "output_type": "stream",
     "text": [
      "[99, 214, 319, 428, 529]\n"
     ]
    }
   ],
   "source": [
    "decrypt('dnotq')"
   ]
  },
  {
   "cell_type": "code",
   "execution_count": 208,
   "metadata": {},
   "outputs": [],
   "source": [
    "def decrypt(s):\n",
    "    ans=''\n",
    "    m=4\n",
    "    result=[]\n",
    "    chr_prev=[]\n",
    "    \n",
    "    for i in range(len(s)):\n",
    "        chr_prev.append(ord(s[i]))\n",
    "                     \n",
    "    \n",
    "    for i in range(1, len(chr_prev)):\n",
    "        while chr_prev[i]<122:\n",
    "            chr_prev[i]+=(26*m)\n",
    "            m+=4\n",
    "\n",
    "    for i in range(len(chr_prev)):\n",
    "        if i==0:\n",
    "            result.append(chr_prev[i]-1)\n",
    "        else:\n",
    "            result.append(chr_prev[i]-chr_prev[i-1])  \n",
    "\n",
    "    for j in result:\n",
    "        ans+=chr(j)\n",
    "        \n",
    "    return ans\n",
    "       \n",
    "            \n"
   ]
  },
  {
   "cell_type": "code",
   "execution_count": 209,
   "metadata": {},
   "outputs": [
    {
     "data": {
      "text/plain": [
       "'encyclUpedi{'"
      ]
     },
     "execution_count": 209,
     "metadata": {},
     "output_type": "execute_result"
    }
   ],
   "source": [
    "decrypt(\"flgxswdliefy\")"
   ]
  }
 ],
 "metadata": {
  "kernelspec": {
   "display_name": "Python 3",
   "language": "python",
   "name": "python3"
  },
  "language_info": {
   "codemirror_mode": {
    "name": "ipython",
    "version": 3
   },
   "file_extension": ".py",
   "mimetype": "text/x-python",
   "name": "python",
   "nbconvert_exporter": "python",
   "pygments_lexer": "ipython3",
   "version": "3.7.4"
  }
 },
 "nbformat": 4,
 "nbformat_minor": 2
}
