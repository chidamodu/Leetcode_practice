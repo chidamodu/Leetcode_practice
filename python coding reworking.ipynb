{
 "cells": [
  {
   "cell_type": "code",
   "execution_count": null,
   "metadata": {},
   "outputs": [],
   "source": [
    "Sqrt(x)\n",
    "\n",
    "class Solution:\n",
    "    def mySqrt(self, x: int) -> int:\n",
    "        return int(x**(1/2))\n",
    "    \n",
    "    \n",
    "result:\n",
    "Runtime: 24 ms, faster than 97.26% of Python3 online submissions for Sqrt(x).\n",
    "Memory Usage: 13.9 MB, less than 6.45% of Python3 online submissions for Sqrt(x)."
   ]
  },
  {
   "cell_type": "code",
   "execution_count": 18,
   "metadata": {},
   "outputs": [],
   "source": [
    "# Work in progress - Pow(x, n)\n",
    "def myPow(x, n):\n",
    "    result=1\n",
    "        \n",
    "    if (n>-2147483648) or (n < 2147483647):\n",
    "            for i in range(abs(n)):\n",
    "                result*=x\n",
    "                \n",
    "    else:\n",
    "        return 0\n",
    "            \n",
    "        \n",
    "    return result if n>0 else 1/result, 5\n",
    "            "
   ]
  },
  {
   "cell_type": "code",
   "execution_count": 19,
   "metadata": {},
   "outputs": [
    {
     "data": {
      "text/plain": [
       "(1024.0, 5)"
      ]
     },
     "execution_count": 19,
     "metadata": {},
     "output_type": "execute_result"
    }
   ],
   "source": [
    "myPow(2.00000, 10)"
   ]
  }
 ],
 "metadata": {
  "kernelspec": {
   "display_name": "Python 3",
   "language": "python",
   "name": "python3"
  },
  "language_info": {
   "codemirror_mode": {
    "name": "ipython",
    "version": 3
   },
   "file_extension": ".py",
   "mimetype": "text/x-python",
   "name": "python",
   "nbconvert_exporter": "python",
   "pygments_lexer": "ipython3",
   "version": "3.7.4"
  }
 },
 "nbformat": 4,
 "nbformat_minor": 2
}
