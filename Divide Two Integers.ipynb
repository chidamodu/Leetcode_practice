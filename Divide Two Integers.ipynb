{
 "cells": [
  {
   "cell_type": "code",
   "execution_count": 58,
   "metadata": {},
   "outputs": [],
   "source": [
    "def divide(dividend, divisor):\n",
    "    c=0\n",
    "    if (dividend < 0) and (divisor < 0):\n",
    "        sign=+1\n",
    "    elif (dividend < 0) or (divisor < 0):\n",
    "        sign=-1\n",
    "    else:\n",
    "        sign=+1\n",
    "        \n",
    "    if (((-2)**31) < dividend) and (dividend < (2**31)-1):\n",
    "        \n",
    "        result=(abs(dividend)-abs(divisor))\n",
    "\n",
    "        while result>=0:\n",
    "            c+=1\n",
    "            result-=abs(divisor)\n",
    "        \n",
    "        return c*sign\n",
    "    else:\n",
    "        return (2**31)-1 \n",
    "        "
   ]
  },
  {
   "cell_type": "code",
   "execution_count": 59,
   "metadata": {},
   "outputs": [
    {
     "data": {
      "text/plain": [
       "2147483647"
      ]
     },
     "execution_count": 59,
     "metadata": {},
     "output_type": "execute_result"
    }
   ],
   "source": [
    "divide(-2147483648,-1)"
   ]
  },
  {
   "cell_type": "code",
   "execution_count": 60,
   "metadata": {},
   "outputs": [
    {
     "data": {
      "text/plain": [
       "2147483648"
      ]
     },
     "execution_count": 60,
     "metadata": {},
     "output_type": "execute_result"
    }
   ],
   "source": [
    "2**31"
   ]
  },
  {
   "cell_type": "code",
   "execution_count": 67,
   "metadata": {},
   "outputs": [
    {
     "data": {
      "text/plain": [
       "False"
      ]
     },
     "execution_count": 67,
     "metadata": {},
     "output_type": "execute_result"
    }
   ],
   "source": [
    "4^4==1"
   ]
  }
 ],
 "metadata": {
  "kernelspec": {
   "display_name": "Python 3",
   "language": "python",
   "name": "python3"
  },
  "language_info": {
   "codemirror_mode": {
    "name": "ipython",
    "version": 3
   },
   "file_extension": ".py",
   "mimetype": "text/x-python",
   "name": "python",
   "nbconvert_exporter": "python",
   "pygments_lexer": "ipython3",
   "version": "3.7.4"
  }
 },
 "nbformat": 4,
 "nbformat_minor": 2
}
