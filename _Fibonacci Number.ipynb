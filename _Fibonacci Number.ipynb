{
 "cells": [
  {
   "cell_type": "code",
   "execution_count": 5,
   "metadata": {},
   "outputs": [],
   "source": [
    "def fib(N):\n",
    "    d={}\n",
    "    d[1]=1\n",
    "    d[0]=0\n",
    "    for i in range(2, N+1):\n",
    "        d[i]=d[i-1]+d[i-2]\n",
    "    return d[N]\n",
    "\n",
    "Runtime: 24 ms, faster than 97.62% of Python3 online submissions for Fibonacci Number.\n",
    "Memory Usage: 12.7 MB, less than 100.00% of Python3 online submissions for Fibonacci Number."
   ]
  },
  {
   "cell_type": "code",
   "execution_count": 6,
   "metadata": {},
   "outputs": [
    {
     "data": {
      "text/plain": [
       "2"
      ]
     },
     "execution_count": 6,
     "metadata": {},
     "output_type": "execute_result"
    }
   ],
   "source": [
    "fib(3)"
   ]
  }
 ],
 "metadata": {
  "kernelspec": {
   "display_name": "Python 3",
   "language": "python",
   "name": "python3"
  },
  "language_info": {
   "codemirror_mode": {
    "name": "ipython",
    "version": 3
   },
   "file_extension": ".py",
   "mimetype": "text/x-python",
   "name": "python",
   "nbconvert_exporter": "python",
   "pygments_lexer": "ipython3",
   "version": "3.7.4"
  }
 },
 "nbformat": 4,
 "nbformat_minor": 2
}
