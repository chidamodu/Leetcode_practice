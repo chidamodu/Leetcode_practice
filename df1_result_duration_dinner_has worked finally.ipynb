{
 "cells": [
  {
   "cell_type": "code",
   "execution_count": 39,
   "metadata": {},
   "outputs": [],
   "source": [
    "import pandas as pd"
   ]
  },
  {
   "cell_type": "code",
   "execution_count": 48,
   "metadata": {},
   "outputs": [],
   "source": [
    "df1_dinner=pd.read_csv(\"/Users/chidam/Desktop/df1_feature extraction_wetravel/df1_result_duration_night_dinner.csv\")"
   ]
  },
  {
   "cell_type": "code",
   "execution_count": 49,
   "metadata": {},
   "outputs": [
    {
     "data": {
      "text/html": [
       "<div>\n",
       "<style scoped>\n",
       "    .dataframe tbody tr th:only-of-type {\n",
       "        vertical-align: middle;\n",
       "    }\n",
       "\n",
       "    .dataframe tbody tr th {\n",
       "        vertical-align: top;\n",
       "    }\n",
       "\n",
       "    .dataframe thead th {\n",
       "        text-align: right;\n",
       "    }\n",
       "</style>\n",
       "<table border=\"1\" class=\"dataframe\">\n",
       "  <thead>\n",
       "    <tr style=\"text-align: right;\">\n",
       "      <th></th>\n",
       "      <th>Unnamed: 0</th>\n",
       "      <th>0</th>\n",
       "      <th>1</th>\n",
       "    </tr>\n",
       "  </thead>\n",
       "  <tbody>\n",
       "    <tr>\n",
       "      <td>0</td>\n",
       "      <td>0</td>\n",
       "      <td>604614311</td>\n",
       "      <td>\"0\"</td>\n",
       "    </tr>\n",
       "    <tr>\n",
       "      <td>1</td>\n",
       "      <td>1</td>\n",
       "      <td>829831098</td>\n",
       "      <td>\"0\"</td>\n",
       "    </tr>\n",
       "    <tr>\n",
       "      <td>2</td>\n",
       "      <td>2</td>\n",
       "      <td>757408579</td>\n",
       "      <td>\"0\"</td>\n",
       "    </tr>\n",
       "    <tr>\n",
       "      <td>3</td>\n",
       "      <td>3</td>\n",
       "      <td>711936272</td>\n",
       "      <td>\"0\"</td>\n",
       "    </tr>\n",
       "    <tr>\n",
       "      <td>4</td>\n",
       "      <td>4</td>\n",
       "      <td>1030308757</td>\n",
       "      <td>\"0\"</td>\n",
       "    </tr>\n",
       "  </tbody>\n",
       "</table>\n",
       "</div>"
      ],
      "text/plain": [
       "   Unnamed: 0           0    1\n",
       "0           0   604614311  \"0\"\n",
       "1           1   829831098  \"0\"\n",
       "2           2   757408579  \"0\"\n",
       "3           3   711936272  \"0\"\n",
       "4           4  1030308757  \"0\""
      ]
     },
     "execution_count": 49,
     "metadata": {},
     "output_type": "execute_result"
    }
   ],
   "source": [
    "df1_dinner.head()"
   ]
  },
  {
   "cell_type": "code",
   "execution_count": 50,
   "metadata": {},
   "outputs": [],
   "source": [
    "df1_dinner.drop(\"Unnamed: 0\", axis=1, inplace=True)"
   ]
  },
  {
   "cell_type": "code",
   "execution_count": 51,
   "metadata": {},
   "outputs": [],
   "source": [
    "df1_dinner.rename(columns={\"0\": \"company_id\", \"1\": \"dinner\"}, inplace=True)"
   ]
  },
  {
   "cell_type": "code",
   "execution_count": 52,
   "metadata": {},
   "outputs": [],
   "source": [
    "import ast\n",
    "result=[]\n",
    "for i in df1_dinner[\"dinner\"]:\n",
    "    result.append(ast.literal_eval(i))\n"
   ]
  },
  {
   "cell_type": "code",
   "execution_count": 53,
   "metadata": {},
   "outputs": [],
   "source": [
    "df1_dinner.loc[:, \"dinner_int_convert\"]=pd.Series(result)"
   ]
  },
  {
   "cell_type": "code",
   "execution_count": 54,
   "metadata": {},
   "outputs": [],
   "source": [
    "df1_dinner.loc[:, \"mean_dinner\"]=0"
   ]
  },
  {
   "cell_type": "code",
   "execution_count": 55,
   "metadata": {},
   "outputs": [],
   "source": [
    "dinner_convert=[]\n",
    "import numpy as np\n",
    "for item in df1_dinner[\"dinner_int_convert\"]:\n",
    "    if item=='0':\n",
    "        dinner_convert.append(int(item))\n",
    "    else:\n",
    "        dinner_convert.append(item)\n",
    "        \n",
    "    \n",
    "        \n",
    "\n",
    "        "
   ]
  },
  {
   "cell_type": "code",
   "execution_count": 56,
   "metadata": {},
   "outputs": [],
   "source": [
    "from statistics import *\n",
    "from math import *\n",
    "mean_dinner=[]\n",
    "for j in dinner_convert:\n",
    "    if j:\n",
    "        mean_dinner.append(round(sum(j)/len(j), 2))\n",
    "    else:\n",
    "        mean_dinner.append(j)\n",
    "        \n",
    "\n",
    "    "
   ]
  },
  {
   "cell_type": "code",
   "execution_count": 58,
   "metadata": {},
   "outputs": [],
   "source": [
    "df1_dinner.loc[:, \"mean_dinner\"]=pd.Series(mean_dinner)"
   ]
  },
  {
   "cell_type": "code",
   "execution_count": 60,
   "metadata": {},
   "outputs": [],
   "source": [
    "#let's now try the above procedure for median\n",
    "\n",
    "median_dinner=[]\n",
    "for jk in dinner_convert:\n",
    "    if jk!=0:\n",
    "        median_dinner.append(median(sorted(jk)))\n",
    "    else:\n",
    "        median_dinner.append(jk)"
   ]
  },
  {
   "cell_type": "code",
   "execution_count": 62,
   "metadata": {},
   "outputs": [],
   "source": [
    "df1_dinner.loc[:, \"median_dinner\"]=pd.Series(median_dinner)"
   ]
  },
  {
   "cell_type": "code",
   "execution_count": 63,
   "metadata": {},
   "outputs": [],
   "source": [
    "df1_dinner.to_csv('/Users/chidam/Desktop/df1_feature extraction_wetravel/df1_dinner_extracted.csv', index=True)"
   ]
  }
 ],
 "metadata": {
  "kernelspec": {
   "display_name": "Python 3",
   "language": "python",
   "name": "python3"
  },
  "language_info": {
   "codemirror_mode": {
    "name": "ipython",
    "version": 3
   },
   "file_extension": ".py",
   "mimetype": "text/x-python",
   "name": "python",
   "nbconvert_exporter": "python",
   "pygments_lexer": "ipython3",
   "version": "3.7.4"
  }
 },
 "nbformat": 4,
 "nbformat_minor": 2
}
